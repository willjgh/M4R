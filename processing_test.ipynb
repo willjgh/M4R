{
 "cells": [
  {
   "cell_type": "code",
   "execution_count": 1,
   "metadata": {},
   "outputs": [],
   "source": [
    "import math, random\n",
    "import matplotlib.pyplot as plt\n",
    "import numpy as np\n",
    "import cvxpy as cv\n",
    "import pandas as pd"
   ]
  },
  {
   "cell_type": "code",
   "execution_count": 2,
   "metadata": {},
   "outputs": [],
   "source": [
    "def bootstrap_data(x_list, samples, N, plot=False, printing=False):\n",
    "    \"\"\"\n",
    "    Bootstrap sample data to find confidence intervals of\n",
    "    stationary distribution values.\n",
    "\n",
    "    Inputs:\n",
    "    x_list: states to calculate stationary estimates for\n",
    "    samples: list of samples from stationary distribution (counts of transcripts)\n",
    "    N: number of bootstrap samples\n",
    "    plot: whether to plot histograms of bootstrap estimates with CI lines\n",
    "    printing: whether to print CI's\n",
    "\n",
    "    Output:\n",
    "    intervals: list of confidence intervals for stationary distribution values\n",
    "        of states in x_list\n",
    "    \"\"\"\n",
    "\n",
    "    # simulate N bootstrap samples: estimates p(x) for each, and for each x\n",
    "    n = len(samples)\n",
    "    estimates = [[] for x in x_list]\n",
    "    for i in range(N):\n",
    "        sample = random.choices(samples,k = n)\n",
    "        for i, x in enumerate(x_list):\n",
    "            estimates[i].append(sample.count(x) / n)\n",
    "\n",
    "    # create confidence intervals (95%) via 2.5%, 97.5% quantiles for each x\n",
    "    intervals = [np.quantile(est,[0.025,0.975]) for est in estimates]\n",
    "    \n",
    "    # plot histograms and CI\n",
    "    for i, x in enumerate(x_list):\n",
    "        if printing:\n",
    "            print(f\"95% CI for p({x}) is: ({intervals[i][0]}, {intervals[i][1]})\")\n",
    "        if plot:\n",
    "            plt.hist(estimates[i])\n",
    "            plt.title(f\"Hist of p({x})\")\n",
    "            plt.axvline(intervals[i][0], color=\"red\")\n",
    "            plt.axvline(intervals[i][1], color=\"red\")\n",
    "            plt.show()\n",
    "\n",
    "    # return CIs\n",
    "    return intervals"
   ]
  },
  {
   "cell_type": "code",
   "execution_count": 3,
   "metadata": {},
   "outputs": [],
   "source": [
    "def bursty_LP(N, intervals, k0=None, k1=None, M=None):\n",
    "    \"\"\"\n",
    "    Solve bursty LP system to get interval bounds on parameters.\n",
    "\n",
    "    Inputs:\n",
    "    N: number of rows of Q / number of equations used\n",
    "    M: maximum burst size to consider (>= 1)\n",
    "    intervals: confidence intervals for at least N + 1 states\n",
    "\n",
    "    Outputs:\n",
    "    solutions: dict with keys variables, values their solution intervals\n",
    "    \"\"\"\n",
    "    # if max burst not specified: set to the largest burst that appears in Qp = 0 constraint\n",
    "    if not M:\n",
    "        M = N - 1\n",
    "\n",
    "    # create Qr matrices: N rows requires N + 1 columns to include all terms (so (N, N + 1) size)\n",
    "    # Q1: degradation\n",
    "    Q1 = (np.diag([-x for x in range(0,N+1)],0) + np.diag([x for x in range(1,N+1)],1))[:-1, :]\n",
    "    # Q00, Q01, ... : bursting\n",
    "    Q00 = np.diag([-1 for x in range(0, N + 1)])[:-1, :]\n",
    "    def Q0(m):\n",
    "        \"\"\"m = {1, 2, ...}\"\"\"\n",
    "        return np.diag([1 for x in range(0, N + 1 - m)], -m)[:-1, :]\n",
    "\n",
    "    # bounds from CI\n",
    "    pl = [intr[0] for intr in intervals]\n",
    "    pu = [intr[1] for intr in intervals]\n",
    "\n",
    "    # define bounds: truncate to N + 1 values as using up to Nth equation\n",
    "    pl = np.array(pl)[:N + 1]\n",
    "    pu = np.array(pu)[:N + 1]\n",
    "\n",
    "    # Construct the problem\n",
    "\n",
    "    # Variables: specify k1 or k0 manually\n",
    "    if not k0:\n",
    "        k0 = cv.Variable()\n",
    "    if not k1:\n",
    "        k1 = cv.Variable(1)\n",
    "    mu = cv.Variable(M)\n",
    "    z0 = cv.Variable(N + 1)\n",
    "    z1 = cv.Variable(N + 1)\n",
    "    y = cv.Variable((N + 1, M))\n",
    "\n",
    "    # constraints\n",
    "    constraints = [\n",
    "        Q1 @ z1 + Q00 @ z0 + sum([Q0(m + 1) @ y[:, m] for m in range(0, M)]) == 0,\n",
    "        k0 >= 0, k1 >= 0, mu >= 0, z0 >= 0, z1 >= 0, y >= 0,\n",
    "        k0 * pl <= z0, z0 <= k0 * pu,\n",
    "        k1 * pl <= z1, z1 <= k1 * pu,\n",
    "        sum([y[:, m] for m in range(0, M)]) <= z0,\n",
    "        sum([mu[m] for m in range(0, M)]) <= k0\n",
    "    ]\n",
    "    for m in range(0, M):\n",
    "        constraints +=  [\n",
    "            mu[m] * pl <= y[:, m], y[:, m] <= mu[m] * pu\n",
    "        ]\n",
    "\n",
    "    # solution interval dict\n",
    "    solutions = {}\n",
    "\n",
    "    # solver function\n",
    "    def solver(dict_name, var, solutions):\n",
    "        # create inteval\n",
    "        solutions[dict_name] = []\n",
    "        # min and max objectives\n",
    "        objective_min = cv.Minimize(var)\n",
    "        objective_max = cv.Maximize(var)\n",
    "        # min and max problems\n",
    "        prob_min = cv.Problem(objective_min, constraints)\n",
    "        prob_max = cv.Problem(objective_max, constraints)   \n",
    "        # solve min: add to solution\n",
    "        result_min = prob_min.solve()#verbose=True)\n",
    "        try:\n",
    "            solutions[dict_name].append(var.value.item())\n",
    "        except:\n",
    "            solutions[dict_name].append(None)\n",
    "        # solve max: add to solution\n",
    "        results_max = prob_max.solve()#verbose=True)\n",
    "        try:\n",
    "            solutions[dict_name].append(var.value.item())\n",
    "        except:\n",
    "            solutions[dict_name].append(None)\n",
    "        # add statuses\n",
    "        solutions[dict_name].append(prob_min.status)\n",
    "        solutions[dict_name].append(prob_max.status)\n",
    "\n",
    "    # solve for k0\n",
    "    if type(k0) == int:\n",
    "        solutions['k0'] = k0\n",
    "    else:\n",
    "        solver('k0', k0, solutions)\n",
    "\n",
    "    # solve for k1\n",
    "    if type(k1) == int:\n",
    "        solutions['k1'] = k1\n",
    "    else:\n",
    "        solver('k1', k1, solutions)\n",
    "\n",
    "    # solve for mu_1, mu_2, ..., mu_M\n",
    "    for m in range(0, M):\n",
    "        solver(f'mu_{m + 1}', mu[m], solutions)\n",
    "\n",
    "    return solutions"
   ]
  },
  {
   "cell_type": "code",
   "execution_count": 17,
   "metadata": {},
   "outputs": [],
   "source": [
    "def bound_sample_refined(sample, threshold=5, skip=1, n=1000, N=None, \n",
    "                         plot_sample=True, print_bounds=False, \n",
    "                         print_status=True, plot_solution=True):\n",
    "    \"\"\"\n",
    "    Given transcript samples from gene, bootstrap and solve LP to bound parameters\n",
    "\n",
    "    sample: list of up to ~200 counts of transcripts of gene in cells\n",
    "    threshold: minimum number of occurances in sample needed to include state x\n",
    "            set to zero to use up to max state available\n",
    "    skip: number of equations to drop after an infeasible result\n",
    "    n: number of bootstrap samples\n",
    "    N: option to manually specify number of equations used\n",
    "    settings:\n",
    "    plot_sample: toggle histogram of sample\n",
    "    print_bounds: toggle printing CI bounds\n",
    "    print_status: toggle printing feasible/infeasible reports\n",
    "    plot_solution: toggle plotting solution bounds on distribution\n",
    "    \"\"\"\n",
    "\n",
    "    # find max burst size in sample\n",
    "    x_max = int(np.nanmax(sample))\n",
    "\n",
    "    # compute all possible bounds: p(0), ... , p(x_max)\n",
    "    intervals = bootstrap_data([x for x in range(x_max + 1)], sample, n, printing=print_bounds)\n",
    "\n",
    "    # dict of states and occurances in sample\n",
    "    counts = sample.value_counts().to_dict()\n",
    "\n",
    "    # find max state with more than threshold occurances\n",
    "    x_max_thresh = x_max\n",
    "    # look at all states: decreasing from max\n",
    "    for x in range(x_max, -1, -1):\n",
    "        if x in counts:\n",
    "            # check for first state with > threshold occurance\n",
    "            if counts[x] > threshold:\n",
    "                # record state\n",
    "                x_max_thresh = x\n",
    "                break\n",
    "\n",
    "    # edge case: need at least bounds up to p(2) to estimate pi_1\n",
    "    if x_max_thresh < 2:\n",
    "        print(\"Edge case\")\n",
    "        x_max_thresh = 2\n",
    "\n",
    "    # for each state up to x_max_thesh:\n",
    "    # above threshold # observations => use CI\n",
    "    # below => use [0,1] bounds\n",
    "    # track [0,1] bounded states\n",
    "    non_bounds = []\n",
    "    for x in range(x_max_thresh + 1):\n",
    "        if x in counts:\n",
    "            # below\n",
    "            if counts[x] < threshold:\n",
    "                # [0,1] bounds\n",
    "                intervals[x] = np.array([0.0, 1.0])\n",
    "                non_bounds.append(x)\n",
    "        # if not in count: 0 occurances, below threshold (unless = 0)\n",
    "        elif threshold > 0:\n",
    "            intervals[x] = np.array([0.0, 1.0])\n",
    "            non_bounds.append(x)\n",
    "     \n",
    "    # plot sample hist and threshold\n",
    "    if plot_sample:\n",
    "        plt.hist(sample, bins=x_max);\n",
    "        plt.title(\"Histogram of transcript counts for given gene\")\n",
    "        plt.axhline(threshold, 0, 1, color=\"orange\", label=f\"threshold {threshold}\")\n",
    "        plt.axvline(x_max, color=\"red\", label=f\"Max state {x_max}\")\n",
    "        plt.axvline(x_max_thresh, color=\"red\", label=f\"Max threshold state {x_max_thresh}\")\n",
    "        for x in non_bounds:\n",
    "            plt.axvline(x, color=\"green\")\n",
    "        plt.legend()\n",
    "        plt.show()\n",
    "\n",
    "    # get bounds on p(0), ..., p(x_max_thresh)\n",
    "    # can use UP TO equation N = x_max, as involves up to p(x_max_thresh)\n",
    "    # equation N involves pi's up to pi_(N-1), so M = N - 1\n",
    "    if not N:\n",
    "        N = x_max_thresh\n",
    "        M = N - 1\n",
    "    \n",
    "    # solve LP using data\n",
    "    solutions_dist = bursty_LP(N, intervals, k0=1)\n",
    "\n",
    "    \"\"\"\n",
    "    # check if infeasible\n",
    "    while solutions_dist['mu_1'][2] == 'infeasible':\n",
    "        if print_status: print(f\"N = {N} infeasible\")\n",
    "        # try again with smaller N (drop 'skip' # of equations)\n",
    "        N -= skip\n",
    "        M -= skip\n",
    "        solutions_dist = bursty_LP(N, intervals, k0=1)\n",
    "        # stop if too few equations\n",
    "        if N <= skip + 2:\n",
    "            break\n",
    "    \"\"\"\n",
    "    \n",
    "    # check if infeasible\n",
    "    while solutions_dist['mu_1'][2] == 'infeasible':\n",
    "        if print_status: print(f\"N = {N} infeasible\")\n",
    "        # stop if too few equations (cannot reduce any further leads to M = 0)\n",
    "        if N <= skip + 1:\n",
    "            break\n",
    "        # try again with smaller N (drop 'skip' # of equations)\n",
    "        N -= skip\n",
    "        M -= skip\n",
    "        solutions_dist = bursty_LP(N, intervals, k0=1)\n",
    "\n",
    "    if print_status: print(f\"N = {N} feasible:\")\n",
    "\n",
    "    # plot\n",
    "    if plot_solution:\n",
    "        # extract distribution bounds\n",
    "        labels = [f'mu_{m}' for m in range(1, M + 1)]\n",
    "        lower = [solutions_dist[var][0] for var in labels]\n",
    "        upper = [solutions_dist[var][1] for var in labels]\n",
    "        plt.plot(labels, upper, label = \"Upper bound\")\n",
    "        plt.plot(labels, lower, label = \"Lower bound\")\n",
    "        plt.title(\"LP Bounds on birth distribution\")\n",
    "        plt.ylabel(\"Probability\")\n",
    "        plt.xlabel(\"Birth distribution\")\n",
    "        plt.legend()\n",
    "        plt.show()\n",
    "\n",
    "    # return bounds\n",
    "    return solutions_dist"
   ]
  },
  {
   "cell_type": "markdown",
   "metadata": {},
   "source": [
    "# First Dataset"
   ]
  },
  {
   "cell_type": "code",
   "execution_count": 22,
   "metadata": {},
   "outputs": [
    {
     "name": "stdout",
     "output_type": "stream",
     "text": [
      "0th entry analysed\n",
      "100th entry analysed\n"
     ]
    },
    {
     "name": "stderr",
     "output_type": "stream",
     "text": [
      "c:\\Users\\willi\\principles_of_programming\\PoP_venv\\lib\\site-packages\\cvxpy\\problems\\problem.py:1387: UserWarning: Solution may be inaccurate. Try another solver, adjusting the solver settings, or solve with verbose=True for more information.\n",
      "  warnings.warn(\n",
      "c:\\Users\\willi\\principles_of_programming\\PoP_venv\\lib\\site-packages\\cvxpy\\problems\\problem.py:1387: UserWarning: Solution may be inaccurate. Try another solver, adjusting the solver settings, or solve with verbose=True for more information.\n",
      "  warnings.warn(\n"
     ]
    },
    {
     "name": "stdout",
     "output_type": "stream",
     "text": [
      "200th entry analysed\n",
      "Edge case\n"
     ]
    },
    {
     "name": "stderr",
     "output_type": "stream",
     "text": [
      "c:\\Users\\willi\\principles_of_programming\\PoP_venv\\lib\\site-packages\\cvxpy\\problems\\problem.py:1387: UserWarning: Solution may be inaccurate. Try another solver, adjusting the solver settings, or solve with verbose=True for more information.\n",
      "  warnings.warn(\n",
      "c:\\Users\\willi\\principles_of_programming\\PoP_venv\\lib\\site-packages\\cvxpy\\problems\\problem.py:1387: UserWarning: Solution may be inaccurate. Try another solver, adjusting the solver settings, or solve with verbose=True for more information.\n",
      "  warnings.warn(\n"
     ]
    },
    {
     "name": "stdout",
     "output_type": "stream",
     "text": [
      "300th entry analysed\n",
      "400th entry analysed\n",
      "Edge case\n"
     ]
    },
    {
     "name": "stderr",
     "output_type": "stream",
     "text": [
      "c:\\Users\\willi\\principles_of_programming\\PoP_venv\\lib\\site-packages\\cvxpy\\problems\\problem.py:1387: UserWarning: Solution may be inaccurate. Try another solver, adjusting the solver settings, or solve with verbose=True for more information.\n",
      "  warnings.warn(\n",
      "c:\\Users\\willi\\principles_of_programming\\PoP_venv\\lib\\site-packages\\cvxpy\\problems\\problem.py:1387: UserWarning: Solution may be inaccurate. Try another solver, adjusting the solver settings, or solve with verbose=True for more information.\n",
      "  warnings.warn(\n",
      "c:\\Users\\willi\\principles_of_programming\\PoP_venv\\lib\\site-packages\\cvxpy\\problems\\problem.py:1387: UserWarning: Solution may be inaccurate. Try another solver, adjusting the solver settings, or solve with verbose=True for more information.\n",
      "  warnings.warn(\n"
     ]
    },
    {
     "name": "stdout",
     "output_type": "stream",
     "text": [
      "500th entry analysed\n",
      "Edge case\n"
     ]
    },
    {
     "name": "stderr",
     "output_type": "stream",
     "text": [
      "c:\\Users\\willi\\principles_of_programming\\PoP_venv\\lib\\site-packages\\cvxpy\\problems\\problem.py:1387: UserWarning: Solution may be inaccurate. Try another solver, adjusting the solver settings, or solve with verbose=True for more information.\n",
      "  warnings.warn(\n"
     ]
    },
    {
     "name": "stdout",
     "output_type": "stream",
     "text": [
      "600th entry analysed\n",
      "700th entry analysed\n"
     ]
    },
    {
     "name": "stderr",
     "output_type": "stream",
     "text": [
      "c:\\Users\\willi\\principles_of_programming\\PoP_venv\\lib\\site-packages\\cvxpy\\problems\\problem.py:1387: UserWarning: Solution may be inaccurate. Try another solver, adjusting the solver settings, or solve with verbose=True for more information.\n",
      "  warnings.warn(\n",
      "c:\\Users\\willi\\principles_of_programming\\PoP_venv\\lib\\site-packages\\cvxpy\\problems\\problem.py:1387: UserWarning: Solution may be inaccurate. Try another solver, adjusting the solver settings, or solve with verbose=True for more information.\n",
      "  warnings.warn(\n"
     ]
    },
    {
     "name": "stdout",
     "output_type": "stream",
     "text": [
      "800th entry analysed\n",
      "900th entry analysed\n",
      "1000th entry analysed\n",
      "1100th entry analysed\n"
     ]
    },
    {
     "name": "stderr",
     "output_type": "stream",
     "text": [
      "c:\\Users\\willi\\principles_of_programming\\PoP_venv\\lib\\site-packages\\cvxpy\\problems\\problem.py:1387: UserWarning: Solution may be inaccurate. Try another solver, adjusting the solver settings, or solve with verbose=True for more information.\n",
      "  warnings.warn(\n"
     ]
    },
    {
     "name": "stdout",
     "output_type": "stream",
     "text": [
      "1200th entry analysed\n"
     ]
    },
    {
     "name": "stderr",
     "output_type": "stream",
     "text": [
      "c:\\Users\\willi\\principles_of_programming\\PoP_venv\\lib\\site-packages\\cvxpy\\problems\\problem.py:1387: UserWarning: Solution may be inaccurate. Try another solver, adjusting the solver settings, or solve with verbose=True for more information.\n",
      "  warnings.warn(\n"
     ]
    },
    {
     "name": "stdout",
     "output_type": "stream",
     "text": [
      "1300th entry analysed\n",
      "1400th entry analysed\n",
      "1500th entry analysed\n",
      "1600th entry analysed\n",
      "1700th entry analysed\n"
     ]
    },
    {
     "name": "stderr",
     "output_type": "stream",
     "text": [
      "c:\\Users\\willi\\principles_of_programming\\PoP_venv\\lib\\site-packages\\cvxpy\\problems\\problem.py:1387: UserWarning: Solution may be inaccurate. Try another solver, adjusting the solver settings, or solve with verbose=True for more information.\n",
      "  warnings.warn(\n"
     ]
    },
    {
     "name": "stdout",
     "output_type": "stream",
     "text": [
      "1800th entry analysed\n",
      "Edge case\n",
      "1900th entry analysed\n",
      "2000th entry analysed\n",
      "2100th entry analysed\n",
      "2200th entry analysed\n"
     ]
    },
    {
     "name": "stderr",
     "output_type": "stream",
     "text": [
      "c:\\Users\\willi\\principles_of_programming\\PoP_venv\\lib\\site-packages\\cvxpy\\problems\\problem.py:1387: UserWarning: Solution may be inaccurate. Try another solver, adjusting the solver settings, or solve with verbose=True for more information.\n",
      "  warnings.warn(\n"
     ]
    },
    {
     "name": "stdout",
     "output_type": "stream",
     "text": [
      "2300th entry analysed\n"
     ]
    },
    {
     "name": "stderr",
     "output_type": "stream",
     "text": [
      "c:\\Users\\willi\\principles_of_programming\\PoP_venv\\lib\\site-packages\\cvxpy\\problems\\problem.py:1387: UserWarning: Solution may be inaccurate. Try another solver, adjusting the solver settings, or solve with verbose=True for more information.\n",
      "  warnings.warn(\n"
     ]
    },
    {
     "name": "stdout",
     "output_type": "stream",
     "text": [
      "2400th entry analysed\n",
      "Edge case\n",
      "2500th entry analysed\n",
      "2600th entry analysed\n",
      "2700th entry analysed\n",
      "2800th entry analysed\n"
     ]
    },
    {
     "name": "stderr",
     "output_type": "stream",
     "text": [
      "c:\\Users\\willi\\principles_of_programming\\PoP_venv\\lib\\site-packages\\cvxpy\\problems\\problem.py:1387: UserWarning: Solution may be inaccurate. Try another solver, adjusting the solver settings, or solve with verbose=True for more information.\n",
      "  warnings.warn(\n",
      "c:\\Users\\willi\\principles_of_programming\\PoP_venv\\lib\\site-packages\\cvxpy\\problems\\problem.py:1387: UserWarning: Solution may be inaccurate. Try another solver, adjusting the solver settings, or solve with verbose=True for more information.\n",
      "  warnings.warn(\n"
     ]
    },
    {
     "name": "stdout",
     "output_type": "stream",
     "text": [
      "2900th entry analysed\n"
     ]
    },
    {
     "name": "stderr",
     "output_type": "stream",
     "text": [
      "c:\\Users\\willi\\principles_of_programming\\PoP_venv\\lib\\site-packages\\cvxpy\\problems\\problem.py:1387: UserWarning: Solution may be inaccurate. Try another solver, adjusting the solver settings, or solve with verbose=True for more information.\n",
      "  warnings.warn(\n"
     ]
    },
    {
     "name": "stdout",
     "output_type": "stream",
     "text": [
      "3000th entry analysed\n"
     ]
    },
    {
     "name": "stderr",
     "output_type": "stream",
     "text": [
      "c:\\Users\\willi\\principles_of_programming\\PoP_venv\\lib\\site-packages\\cvxpy\\problems\\problem.py:1387: UserWarning: Solution may be inaccurate. Try another solver, adjusting the solver settings, or solve with verbose=True for more information.\n",
      "  warnings.warn(\n"
     ]
    },
    {
     "name": "stdout",
     "output_type": "stream",
     "text": [
      "3100th entry analysed\n",
      "3200th entry analysed\n",
      "3300th entry analysed\n"
     ]
    },
    {
     "name": "stderr",
     "output_type": "stream",
     "text": [
      "c:\\Users\\willi\\principles_of_programming\\PoP_venv\\lib\\site-packages\\cvxpy\\problems\\problem.py:1387: UserWarning: Solution may be inaccurate. Try another solver, adjusting the solver settings, or solve with verbose=True for more information.\n",
      "  warnings.warn(\n",
      "c:\\Users\\willi\\principles_of_programming\\PoP_venv\\lib\\site-packages\\cvxpy\\problems\\problem.py:1387: UserWarning: Solution may be inaccurate. Try another solver, adjusting the solver settings, or solve with verbose=True for more information.\n",
      "  warnings.warn(\n"
     ]
    },
    {
     "name": "stdout",
     "output_type": "stream",
     "text": [
      "3400th entry analysed\n",
      "3500th entry analysed\n"
     ]
    },
    {
     "name": "stderr",
     "output_type": "stream",
     "text": [
      "c:\\Users\\willi\\principles_of_programming\\PoP_venv\\lib\\site-packages\\cvxpy\\problems\\problem.py:1387: UserWarning: Solution may be inaccurate. Try another solver, adjusting the solver settings, or solve with verbose=True for more information.\n",
      "  warnings.warn(\n"
     ]
    },
    {
     "name": "stdout",
     "output_type": "stream",
     "text": [
      "3600th entry analysed\n",
      "3700th entry analysed\n"
     ]
    },
    {
     "name": "stderr",
     "output_type": "stream",
     "text": [
      "c:\\Users\\willi\\principles_of_programming\\PoP_venv\\lib\\site-packages\\cvxpy\\problems\\problem.py:1387: UserWarning: Solution may be inaccurate. Try another solver, adjusting the solver settings, or solve with verbose=True for more information.\n",
      "  warnings.warn(\n"
     ]
    },
    {
     "name": "stdout",
     "output_type": "stream",
     "text": [
      "3800th entry analysed\n"
     ]
    }
   ],
   "source": [
    "# read in data\n",
    "data = pd.read_csv(\"SS3_c57_UMIs_concat_cleaned.csv\", index_col=\"Unnamed: 0\")\n",
    "# record\n",
    "output = pd.DataFrame()\n",
    "# take samples\n",
    "for i in range(data.shape[0]):\n",
    "    sample = data.iloc[i]\n",
    "    # solve\n",
    "    solution_refined = bound_sample_refined(sample, threshold=3, print_bounds=False, plot_sample=False, print_status=False, plot_solution=False)\n",
    "    # record\n",
    "    df_solution_refined = pd.DataFrame([solution_refined])\n",
    "    output = pd.concat([output, df_solution_refined], ignore_index=True)\n",
    "    if (i % 100) == 0:\n",
    "        print(f\"{i}th entry analysed\")"
   ]
  },
  {
   "cell_type": "code",
   "execution_count": 23,
   "metadata": {},
   "outputs": [
    {
     "data": {
      "text/html": [
       "<div>\n",
       "<style scoped>\n",
       "    .dataframe tbody tr th:only-of-type {\n",
       "        vertical-align: middle;\n",
       "    }\n",
       "\n",
       "    .dataframe tbody tr th {\n",
       "        vertical-align: top;\n",
       "    }\n",
       "\n",
       "    .dataframe thead th {\n",
       "        text-align: right;\n",
       "    }\n",
       "</style>\n",
       "<table border=\"1\" class=\"dataframe\">\n",
       "  <thead>\n",
       "    <tr style=\"text-align: right;\">\n",
       "      <th></th>\n",
       "      <th>k0</th>\n",
       "      <th>k1</th>\n",
       "      <th>mu_1</th>\n",
       "      <th>mu_2</th>\n",
       "      <th>mu_3</th>\n",
       "      <th>mu_4</th>\n",
       "      <th>mu_5</th>\n",
       "      <th>mu_6</th>\n",
       "      <th>mu_7</th>\n",
       "      <th>mu_8</th>\n",
       "      <th>...</th>\n",
       "      <th>mu_278</th>\n",
       "      <th>mu_279</th>\n",
       "      <th>mu_280</th>\n",
       "      <th>mu_281</th>\n",
       "      <th>mu_282</th>\n",
       "      <th>mu_283</th>\n",
       "      <th>mu_284</th>\n",
       "      <th>mu_285</th>\n",
       "      <th>mu_286</th>\n",
       "      <th>mu_287</th>\n",
       "    </tr>\n",
       "  </thead>\n",
       "  <tbody>\n",
       "    <tr>\n",
       "      <th>0</th>\n",
       "      <td>1</td>\n",
       "      <td>[0.7931034482720015, 2.0578571428580195, optim...</td>\n",
       "      <td>[-2.8743155645824184e-14, 1.0000000000016618, ...</td>\n",
       "      <td>[-2.653118833851089e-14, 1.000000000002961, op...</td>\n",
       "      <td>[-2.277233585339472e-14, 1.00000000000185, opt...</td>\n",
       "      <td>[-2.0845291320012502e-14, 1.0000000000013007, ...</td>\n",
       "      <td>[-1.78409258333694e-14, 1.000000000000075, opt...</td>\n",
       "      <td>[-1.6684337924484522e-14, 0.6713085690214184, ...</td>\n",
       "      <td>[-1.8331054566664728e-14, 0.6713085690084142, ...</td>\n",
       "      <td>[-2.080683345818881e-14, 0.6713085690264122, o...</td>\n",
       "      <td>...</td>\n",
       "      <td>NaN</td>\n",
       "      <td>NaN</td>\n",
       "      <td>NaN</td>\n",
       "      <td>NaN</td>\n",
       "      <td>NaN</td>\n",
       "      <td>NaN</td>\n",
       "      <td>NaN</td>\n",
       "      <td>NaN</td>\n",
       "      <td>NaN</td>\n",
       "      <td>NaN</td>\n",
       "    </tr>\n",
       "    <tr>\n",
       "      <th>1</th>\n",
       "      <td>1</td>\n",
       "      <td>[0.9687499999987329, 2.175000000027888, optima...</td>\n",
       "      <td>[-4.4302975334047706e-13, 0.7822580645270424, ...</td>\n",
       "      <td>[-5.764389656699711e-13, 1.0000000000025557, o...</td>\n",
       "      <td>[-1.2240675092646862e-14, 1.0000000000007392, ...</td>\n",
       "      <td>[-1.6441858083192303e-14, 1.0000000000003637, ...</td>\n",
       "      <td>[-2.1362929482612252e-14, 1.0000000000002727, ...</td>\n",
       "      <td>[-2.4189833960325182e-14, 1.0000000000006157, ...</td>\n",
       "      <td>[-2.551215532510408e-14, 1.0000000000062719, o...</td>\n",
       "      <td>[-2.642644212632816e-14, 1.000000000002613, op...</td>\n",
       "      <td>...</td>\n",
       "      <td>NaN</td>\n",
       "      <td>NaN</td>\n",
       "      <td>NaN</td>\n",
       "      <td>NaN</td>\n",
       "      <td>NaN</td>\n",
       "      <td>NaN</td>\n",
       "      <td>NaN</td>\n",
       "      <td>NaN</td>\n",
       "      <td>NaN</td>\n",
       "      <td>NaN</td>\n",
       "    </tr>\n",
       "    <tr>\n",
       "      <th>2</th>\n",
       "      <td>1</td>\n",
       "      <td>[0.14285714285622997, 1.9583333333413973, opti...</td>\n",
       "      <td>[-1.5826038110619332e-15, 1.0000000000001716, ...</td>\n",
       "      <td>[-1.28875407477881e-15, 1.0000000000032607, op...</td>\n",
       "      <td>[-1.5144922004226716e-15, 1.0000000000029117, ...</td>\n",
       "      <td>[-1.733783730464011e-15, 1.0000000000029936, o...</td>\n",
       "      <td>[-1.6062043160786174e-15, 1.0000000000024472, ...</td>\n",
       "      <td>[-1.3349158541399215e-15, 1.0000000000019278, ...</td>\n",
       "      <td>[-1.2279648171697277e-15, 1.0000000000017242, ...</td>\n",
       "      <td>[-1.1330565476099194e-15, 1.0000000000019413, ...</td>\n",
       "      <td>...</td>\n",
       "      <td>NaN</td>\n",
       "      <td>NaN</td>\n",
       "      <td>NaN</td>\n",
       "      <td>NaN</td>\n",
       "      <td>NaN</td>\n",
       "      <td>NaN</td>\n",
       "      <td>NaN</td>\n",
       "      <td>NaN</td>\n",
       "      <td>NaN</td>\n",
       "      <td>NaN</td>\n",
       "    </tr>\n",
       "    <tr>\n",
       "      <th>3</th>\n",
       "      <td>1</td>\n",
       "      <td>[None, None, infeasible, infeasible]</td>\n",
       "      <td>[None, None, infeasible, infeasible]</td>\n",
       "      <td>[None, None, infeasible, infeasible]</td>\n",
       "      <td>NaN</td>\n",
       "      <td>NaN</td>\n",
       "      <td>NaN</td>\n",
       "      <td>NaN</td>\n",
       "      <td>NaN</td>\n",
       "      <td>NaN</td>\n",
       "      <td>...</td>\n",
       "      <td>NaN</td>\n",
       "      <td>NaN</td>\n",
       "      <td>NaN</td>\n",
       "      <td>NaN</td>\n",
       "      <td>NaN</td>\n",
       "      <td>NaN</td>\n",
       "      <td>NaN</td>\n",
       "      <td>NaN</td>\n",
       "      <td>NaN</td>\n",
       "      <td>NaN</td>\n",
       "    </tr>\n",
       "    <tr>\n",
       "      <th>4</th>\n",
       "      <td>1</td>\n",
       "      <td>[1.232558139526332, 2.541666666669051, optimal...</td>\n",
       "      <td>[-6.177734572025108e-14, 0.6950416849532361, o...</td>\n",
       "      <td>[-8.260653416551917e-14, 1.0000000000059892, o...</td>\n",
       "      <td>[-1.240861725419763e-13, 1.000000000004966, op...</td>\n",
       "      <td>[-1.2663218123212162e-13, 1.0000000000052542, ...</td>\n",
       "      <td>[-1.1012909576197698e-13, 1.0000000000000797, ...</td>\n",
       "      <td>[-7.009955766795354e-14, 0.9120370370404516, o...</td>\n",
       "      <td>[-7.342345014315811e-14, 0.9120370370448645, o...</td>\n",
       "      <td>[-7.164945570328284e-14, 0.7490842490865798, o...</td>\n",
       "      <td>...</td>\n",
       "      <td>NaN</td>\n",
       "      <td>NaN</td>\n",
       "      <td>NaN</td>\n",
       "      <td>NaN</td>\n",
       "      <td>NaN</td>\n",
       "      <td>NaN</td>\n",
       "      <td>NaN</td>\n",
       "      <td>NaN</td>\n",
       "      <td>NaN</td>\n",
       "      <td>NaN</td>\n",
       "    </tr>\n",
       "  </tbody>\n",
       "</table>\n",
       "<p>5 rows × 289 columns</p>\n",
       "</div>"
      ],
      "text/plain": [
       "   k0                                                 k1  \\\n",
       "0   1  [0.7931034482720015, 2.0578571428580195, optim...   \n",
       "1   1  [0.9687499999987329, 2.175000000027888, optima...   \n",
       "2   1  [0.14285714285622997, 1.9583333333413973, opti...   \n",
       "3   1               [None, None, infeasible, infeasible]   \n",
       "4   1  [1.232558139526332, 2.541666666669051, optimal...   \n",
       "\n",
       "                                                mu_1  \\\n",
       "0  [-2.8743155645824184e-14, 1.0000000000016618, ...   \n",
       "1  [-4.4302975334047706e-13, 0.7822580645270424, ...   \n",
       "2  [-1.5826038110619332e-15, 1.0000000000001716, ...   \n",
       "3               [None, None, infeasible, infeasible]   \n",
       "4  [-6.177734572025108e-14, 0.6950416849532361, o...   \n",
       "\n",
       "                                                mu_2  \\\n",
       "0  [-2.653118833851089e-14, 1.000000000002961, op...   \n",
       "1  [-5.764389656699711e-13, 1.0000000000025557, o...   \n",
       "2  [-1.28875407477881e-15, 1.0000000000032607, op...   \n",
       "3               [None, None, infeasible, infeasible]   \n",
       "4  [-8.260653416551917e-14, 1.0000000000059892, o...   \n",
       "\n",
       "                                                mu_3  \\\n",
       "0  [-2.277233585339472e-14, 1.00000000000185, opt...   \n",
       "1  [-1.2240675092646862e-14, 1.0000000000007392, ...   \n",
       "2  [-1.5144922004226716e-15, 1.0000000000029117, ...   \n",
       "3                                                NaN   \n",
       "4  [-1.240861725419763e-13, 1.000000000004966, op...   \n",
       "\n",
       "                                                mu_4  \\\n",
       "0  [-2.0845291320012502e-14, 1.0000000000013007, ...   \n",
       "1  [-1.6441858083192303e-14, 1.0000000000003637, ...   \n",
       "2  [-1.733783730464011e-15, 1.0000000000029936, o...   \n",
       "3                                                NaN   \n",
       "4  [-1.2663218123212162e-13, 1.0000000000052542, ...   \n",
       "\n",
       "                                                mu_5  \\\n",
       "0  [-1.78409258333694e-14, 1.000000000000075, opt...   \n",
       "1  [-2.1362929482612252e-14, 1.0000000000002727, ...   \n",
       "2  [-1.6062043160786174e-15, 1.0000000000024472, ...   \n",
       "3                                                NaN   \n",
       "4  [-1.1012909576197698e-13, 1.0000000000000797, ...   \n",
       "\n",
       "                                                mu_6  \\\n",
       "0  [-1.6684337924484522e-14, 0.6713085690214184, ...   \n",
       "1  [-2.4189833960325182e-14, 1.0000000000006157, ...   \n",
       "2  [-1.3349158541399215e-15, 1.0000000000019278, ...   \n",
       "3                                                NaN   \n",
       "4  [-7.009955766795354e-14, 0.9120370370404516, o...   \n",
       "\n",
       "                                                mu_7  \\\n",
       "0  [-1.8331054566664728e-14, 0.6713085690084142, ...   \n",
       "1  [-2.551215532510408e-14, 1.0000000000062719, o...   \n",
       "2  [-1.2279648171697277e-15, 1.0000000000017242, ...   \n",
       "3                                                NaN   \n",
       "4  [-7.342345014315811e-14, 0.9120370370448645, o...   \n",
       "\n",
       "                                                mu_8  ... mu_278 mu_279  \\\n",
       "0  [-2.080683345818881e-14, 0.6713085690264122, o...  ...    NaN    NaN   \n",
       "1  [-2.642644212632816e-14, 1.000000000002613, op...  ...    NaN    NaN   \n",
       "2  [-1.1330565476099194e-15, 1.0000000000019413, ...  ...    NaN    NaN   \n",
       "3                                                NaN  ...    NaN    NaN   \n",
       "4  [-7.164945570328284e-14, 0.7490842490865798, o...  ...    NaN    NaN   \n",
       "\n",
       "  mu_280 mu_281 mu_282 mu_283 mu_284 mu_285 mu_286 mu_287  \n",
       "0    NaN    NaN    NaN    NaN    NaN    NaN    NaN    NaN  \n",
       "1    NaN    NaN    NaN    NaN    NaN    NaN    NaN    NaN  \n",
       "2    NaN    NaN    NaN    NaN    NaN    NaN    NaN    NaN  \n",
       "3    NaN    NaN    NaN    NaN    NaN    NaN    NaN    NaN  \n",
       "4    NaN    NaN    NaN    NaN    NaN    NaN    NaN    NaN  \n",
       "\n",
       "[5 rows x 289 columns]"
      ]
     },
     "execution_count": 23,
     "metadata": {},
     "output_type": "execute_result"
    }
   ],
   "source": [
    "output.head()"
   ]
  },
  {
   "cell_type": "code",
   "execution_count": 24,
   "metadata": {},
   "outputs": [],
   "source": [
    "output.to_csv(\"SS3_c57_UMIs_concat_bounds.csv\")"
   ]
  },
  {
   "cell_type": "code",
   "execution_count": 27,
   "metadata": {},
   "outputs": [
    {
     "data": {
      "text/html": [
       "<div>\n",
       "<style scoped>\n",
       "    .dataframe tbody tr th:only-of-type {\n",
       "        vertical-align: middle;\n",
       "    }\n",
       "\n",
       "    .dataframe tbody tr th {\n",
       "        vertical-align: top;\n",
       "    }\n",
       "\n",
       "    .dataframe thead th {\n",
       "        text-align: right;\n",
       "    }\n",
       "</style>\n",
       "<table border=\"1\" class=\"dataframe\">\n",
       "  <thead>\n",
       "    <tr style=\"text-align: right;\">\n",
       "      <th></th>\n",
       "      <th>k0</th>\n",
       "      <th>k1</th>\n",
       "      <th>mu_1</th>\n",
       "      <th>mu_2</th>\n",
       "      <th>mu_3</th>\n",
       "      <th>mu_4</th>\n",
       "      <th>mu_5</th>\n",
       "      <th>mu_6</th>\n",
       "      <th>mu_7</th>\n",
       "      <th>mu_8</th>\n",
       "      <th>...</th>\n",
       "      <th>mu_278</th>\n",
       "      <th>mu_279</th>\n",
       "      <th>mu_280</th>\n",
       "      <th>mu_281</th>\n",
       "      <th>mu_282</th>\n",
       "      <th>mu_283</th>\n",
       "      <th>mu_284</th>\n",
       "      <th>mu_285</th>\n",
       "      <th>mu_286</th>\n",
       "      <th>mu_287</th>\n",
       "    </tr>\n",
       "  </thead>\n",
       "  <tbody>\n",
       "    <tr>\n",
       "      <th>3870</th>\n",
       "      <td>1</td>\n",
       "      <td>[2.6666666666571026, 5.666666666747567, optima...</td>\n",
       "      <td>[-2.884255794402093e-14, 0.6743119266068951, o...</td>\n",
       "      <td>[-2.8831642363849657e-14, 0.7596153846184132, ...</td>\n",
       "      <td>[-2.809850642205567e-14, 0.8977272727442397, o...</td>\n",
       "      <td>[-1.2829940340522955e-12, 1.0000000000011613, ...</td>\n",
       "      <td>[-1.3924803173292863e-12, 1.0000000000013547, ...</td>\n",
       "      <td>[-1.4531920921445519e-12, 1.0000000000028832, ...</td>\n",
       "      <td>NaN</td>\n",
       "      <td>NaN</td>\n",
       "      <td>...</td>\n",
       "      <td>NaN</td>\n",
       "      <td>NaN</td>\n",
       "      <td>NaN</td>\n",
       "      <td>NaN</td>\n",
       "      <td>NaN</td>\n",
       "      <td>NaN</td>\n",
       "      <td>NaN</td>\n",
       "      <td>NaN</td>\n",
       "      <td>NaN</td>\n",
       "      <td>NaN</td>\n",
       "    </tr>\n",
       "    <tr>\n",
       "      <th>3871</th>\n",
       "      <td>1</td>\n",
       "      <td>[0.7599999999968455, 2.1354166666713827, optim...</td>\n",
       "      <td>[-1.480982350440163e-14, 0.9999999999995, opti...</td>\n",
       "      <td>[-7.555682168825384e-15, 0.9999999999996556, o...</td>\n",
       "      <td>[-6.423426234121325e-15, 0.9999999999997636, o...</td>\n",
       "      <td>[-6.450431799737919e-15, 0.9999999999998844, o...</td>\n",
       "      <td>[-2.1783529679504483e-14, 0.9999999999997479, ...</td>\n",
       "      <td>[-2.0060587000566178e-14, 0.9999999999997307, ...</td>\n",
       "      <td>[-1.8404233557144176e-14, 0.9999999999997038, ...</td>\n",
       "      <td>[-1.5573911047251578e-14, 0.9999999999995901, ...</td>\n",
       "      <td>...</td>\n",
       "      <td>NaN</td>\n",
       "      <td>NaN</td>\n",
       "      <td>NaN</td>\n",
       "      <td>NaN</td>\n",
       "      <td>NaN</td>\n",
       "      <td>NaN</td>\n",
       "      <td>NaN</td>\n",
       "      <td>NaN</td>\n",
       "      <td>NaN</td>\n",
       "      <td>NaN</td>\n",
       "    </tr>\n",
       "    <tr>\n",
       "      <th>3872</th>\n",
       "      <td>1</td>\n",
       "      <td>[0.11111111110831104, 2.015151515155253, optim...</td>\n",
       "      <td>[-1.8025471209700867e-14, 1.0000000000000229, ...</td>\n",
       "      <td>[-1.7763937990672647e-14, 1.0000000000000207, ...</td>\n",
       "      <td>[-1.7439093986237613e-14, 1.0000000000000215, ...</td>\n",
       "      <td>[-1.7354553479470782e-14, 1.000000000000018, o...</td>\n",
       "      <td>[-1.6922491395481173e-14, 1.0000000000000164, ...</td>\n",
       "      <td>[-1.670076699005672e-14, 1.0000000000000158, o...</td>\n",
       "      <td>[-1.6636964305135386e-14, 1.0000000000010993, ...</td>\n",
       "      <td>[-1.6422394203002877e-14, 1.0000000000000118, ...</td>\n",
       "      <td>...</td>\n",
       "      <td>NaN</td>\n",
       "      <td>NaN</td>\n",
       "      <td>NaN</td>\n",
       "      <td>NaN</td>\n",
       "      <td>NaN</td>\n",
       "      <td>NaN</td>\n",
       "      <td>NaN</td>\n",
       "      <td>NaN</td>\n",
       "      <td>NaN</td>\n",
       "      <td>NaN</td>\n",
       "    </tr>\n",
       "    <tr>\n",
       "      <th>3873</th>\n",
       "      <td>1</td>\n",
       "      <td>[1.3442622950740508, 2.8947368421080735, optim...</td>\n",
       "      <td>[-4.829363718004907e-12, 1.000000000002107, op...</td>\n",
       "      <td>[-5.184088499537267e-14, 1.0000000000049811, o...</td>\n",
       "      <td>[-3.5975318814833453e-12, 1.0000000000008844, ...</td>\n",
       "      <td>[-3.1494946510791973e-12, 0.7251109701970964, ...</td>\n",
       "      <td>NaN</td>\n",
       "      <td>NaN</td>\n",
       "      <td>NaN</td>\n",
       "      <td>NaN</td>\n",
       "      <td>...</td>\n",
       "      <td>NaN</td>\n",
       "      <td>NaN</td>\n",
       "      <td>NaN</td>\n",
       "      <td>NaN</td>\n",
       "      <td>NaN</td>\n",
       "      <td>NaN</td>\n",
       "      <td>NaN</td>\n",
       "      <td>NaN</td>\n",
       "      <td>NaN</td>\n",
       "      <td>NaN</td>\n",
       "    </tr>\n",
       "    <tr>\n",
       "      <th>3874</th>\n",
       "      <td>1</td>\n",
       "      <td>[0.8832074375354428, 2.6256250000010337, optim...</td>\n",
       "      <td>[-1.8394171695011924e-13, 1.0000000000022413, ...</td>\n",
       "      <td>[-2.679531971029452e-13, 1.0000000000006575, o...</td>\n",
       "      <td>[-2.4692850612544806e-13, 1.0000000000005187, ...</td>\n",
       "      <td>[-2.435036248872093e-13, 1.0000000000005824, o...</td>\n",
       "      <td>[-2.4110713054228143e-13, 1.0000000000005131, ...</td>\n",
       "      <td>[-2.425424394050436e-13, 1.0000000000004758, o...</td>\n",
       "      <td>[-2.7730082923657637e-13, 1.0000000000005977, ...</td>\n",
       "      <td>[-2.7026822282953346e-13, 1.0000000000007745, ...</td>\n",
       "      <td>...</td>\n",
       "      <td>NaN</td>\n",
       "      <td>NaN</td>\n",
       "      <td>NaN</td>\n",
       "      <td>NaN</td>\n",
       "      <td>NaN</td>\n",
       "      <td>NaN</td>\n",
       "      <td>NaN</td>\n",
       "      <td>NaN</td>\n",
       "      <td>NaN</td>\n",
       "      <td>NaN</td>\n",
       "    </tr>\n",
       "  </tbody>\n",
       "</table>\n",
       "<p>5 rows × 289 columns</p>\n",
       "</div>"
      ],
      "text/plain": [
       "      k0                                                 k1  \\\n",
       "3870   1  [2.6666666666571026, 5.666666666747567, optima...   \n",
       "3871   1  [0.7599999999968455, 2.1354166666713827, optim...   \n",
       "3872   1  [0.11111111110831104, 2.015151515155253, optim...   \n",
       "3873   1  [1.3442622950740508, 2.8947368421080735, optim...   \n",
       "3874   1  [0.8832074375354428, 2.6256250000010337, optim...   \n",
       "\n",
       "                                                   mu_1  \\\n",
       "3870  [-2.884255794402093e-14, 0.6743119266068951, o...   \n",
       "3871  [-1.480982350440163e-14, 0.9999999999995, opti...   \n",
       "3872  [-1.8025471209700867e-14, 1.0000000000000229, ...   \n",
       "3873  [-4.829363718004907e-12, 1.000000000002107, op...   \n",
       "3874  [-1.8394171695011924e-13, 1.0000000000022413, ...   \n",
       "\n",
       "                                                   mu_2  \\\n",
       "3870  [-2.8831642363849657e-14, 0.7596153846184132, ...   \n",
       "3871  [-7.555682168825384e-15, 0.9999999999996556, o...   \n",
       "3872  [-1.7763937990672647e-14, 1.0000000000000207, ...   \n",
       "3873  [-5.184088499537267e-14, 1.0000000000049811, o...   \n",
       "3874  [-2.679531971029452e-13, 1.0000000000006575, o...   \n",
       "\n",
       "                                                   mu_3  \\\n",
       "3870  [-2.809850642205567e-14, 0.8977272727442397, o...   \n",
       "3871  [-6.423426234121325e-15, 0.9999999999997636, o...   \n",
       "3872  [-1.7439093986237613e-14, 1.0000000000000215, ...   \n",
       "3873  [-3.5975318814833453e-12, 1.0000000000008844, ...   \n",
       "3874  [-2.4692850612544806e-13, 1.0000000000005187, ...   \n",
       "\n",
       "                                                   mu_4  \\\n",
       "3870  [-1.2829940340522955e-12, 1.0000000000011613, ...   \n",
       "3871  [-6.450431799737919e-15, 0.9999999999998844, o...   \n",
       "3872  [-1.7354553479470782e-14, 1.000000000000018, o...   \n",
       "3873  [-3.1494946510791973e-12, 0.7251109701970964, ...   \n",
       "3874  [-2.435036248872093e-13, 1.0000000000005824, o...   \n",
       "\n",
       "                                                   mu_5  \\\n",
       "3870  [-1.3924803173292863e-12, 1.0000000000013547, ...   \n",
       "3871  [-2.1783529679504483e-14, 0.9999999999997479, ...   \n",
       "3872  [-1.6922491395481173e-14, 1.0000000000000164, ...   \n",
       "3873                                                NaN   \n",
       "3874  [-2.4110713054228143e-13, 1.0000000000005131, ...   \n",
       "\n",
       "                                                   mu_6  \\\n",
       "3870  [-1.4531920921445519e-12, 1.0000000000028832, ...   \n",
       "3871  [-2.0060587000566178e-14, 0.9999999999997307, ...   \n",
       "3872  [-1.670076699005672e-14, 1.0000000000000158, o...   \n",
       "3873                                                NaN   \n",
       "3874  [-2.425424394050436e-13, 1.0000000000004758, o...   \n",
       "\n",
       "                                                   mu_7  \\\n",
       "3870                                                NaN   \n",
       "3871  [-1.8404233557144176e-14, 0.9999999999997038, ...   \n",
       "3872  [-1.6636964305135386e-14, 1.0000000000010993, ...   \n",
       "3873                                                NaN   \n",
       "3874  [-2.7730082923657637e-13, 1.0000000000005977, ...   \n",
       "\n",
       "                                                   mu_8  ... mu_278 mu_279  \\\n",
       "3870                                                NaN  ...    NaN    NaN   \n",
       "3871  [-1.5573911047251578e-14, 0.9999999999995901, ...  ...    NaN    NaN   \n",
       "3872  [-1.6422394203002877e-14, 1.0000000000000118, ...  ...    NaN    NaN   \n",
       "3873                                                NaN  ...    NaN    NaN   \n",
       "3874  [-2.7026822282953346e-13, 1.0000000000007745, ...  ...    NaN    NaN   \n",
       "\n",
       "     mu_280 mu_281 mu_282 mu_283 mu_284 mu_285 mu_286 mu_287  \n",
       "3870    NaN    NaN    NaN    NaN    NaN    NaN    NaN    NaN  \n",
       "3871    NaN    NaN    NaN    NaN    NaN    NaN    NaN    NaN  \n",
       "3872    NaN    NaN    NaN    NaN    NaN    NaN    NaN    NaN  \n",
       "3873    NaN    NaN    NaN    NaN    NaN    NaN    NaN    NaN  \n",
       "3874    NaN    NaN    NaN    NaN    NaN    NaN    NaN    NaN  \n",
       "\n",
       "[5 rows x 289 columns]"
      ]
     },
     "execution_count": 27,
     "metadata": {},
     "output_type": "execute_result"
    }
   ],
   "source": [
    "output.tail()"
   ]
  },
  {
   "cell_type": "markdown",
   "metadata": {},
   "source": [
    "# Second dataset: G1"
   ]
  },
  {
   "cell_type": "code",
   "execution_count": 19,
   "metadata": {},
   "outputs": [
    {
     "name": "stdout",
     "output_type": "stream",
     "text": [
      "0th entry analysed\n",
      "100th entry analysed\n"
     ]
    },
    {
     "name": "stderr",
     "output_type": "stream",
     "text": [
      "c:\\Users\\willi\\principles_of_programming\\PoP_venv\\lib\\site-packages\\cvxpy\\problems\\problem.py:1387: UserWarning: Solution may be inaccurate. Try another solver, adjusting the solver settings, or solve with verbose=True for more information.\n",
      "  warnings.warn(\n",
      "c:\\Users\\willi\\principles_of_programming\\PoP_venv\\lib\\site-packages\\cvxpy\\problems\\problem.py:1387: UserWarning: Solution may be inaccurate. Try another solver, adjusting the solver settings, or solve with verbose=True for more information.\n",
      "  warnings.warn(\n"
     ]
    },
    {
     "name": "stdout",
     "output_type": "stream",
     "text": [
      "200th entry analysed\n",
      "Edge case\n"
     ]
    },
    {
     "name": "stderr",
     "output_type": "stream",
     "text": [
      "c:\\Users\\willi\\principles_of_programming\\PoP_venv\\lib\\site-packages\\cvxpy\\problems\\problem.py:1387: UserWarning: Solution may be inaccurate. Try another solver, adjusting the solver settings, or solve with verbose=True for more information.\n",
      "  warnings.warn(\n",
      "c:\\Users\\willi\\principles_of_programming\\PoP_venv\\lib\\site-packages\\cvxpy\\problems\\problem.py:1387: UserWarning: Solution may be inaccurate. Try another solver, adjusting the solver settings, or solve with verbose=True for more information.\n",
      "  warnings.warn(\n"
     ]
    },
    {
     "name": "stdout",
     "output_type": "stream",
     "text": [
      "300th entry analysed\n",
      "400th entry analysed\n"
     ]
    },
    {
     "name": "stderr",
     "output_type": "stream",
     "text": [
      "c:\\Users\\willi\\principles_of_programming\\PoP_venv\\lib\\site-packages\\cvxpy\\problems\\problem.py:1387: UserWarning: Solution may be inaccurate. Try another solver, adjusting the solver settings, or solve with verbose=True for more information.\n",
      "  warnings.warn(\n",
      "c:\\Users\\willi\\principles_of_programming\\PoP_venv\\lib\\site-packages\\cvxpy\\problems\\problem.py:1387: UserWarning: Solution may be inaccurate. Try another solver, adjusting the solver settings, or solve with verbose=True for more information.\n",
      "  warnings.warn(\n",
      "c:\\Users\\willi\\principles_of_programming\\PoP_venv\\lib\\site-packages\\cvxpy\\problems\\problem.py:1387: UserWarning: Solution may be inaccurate. Try another solver, adjusting the solver settings, or solve with verbose=True for more information.\n",
      "  warnings.warn(\n"
     ]
    },
    {
     "name": "stdout",
     "output_type": "stream",
     "text": [
      "500th entry analysed\n"
     ]
    },
    {
     "name": "stderr",
     "output_type": "stream",
     "text": [
      "c:\\Users\\willi\\principles_of_programming\\PoP_venv\\lib\\site-packages\\cvxpy\\problems\\problem.py:1387: UserWarning: Solution may be inaccurate. Try another solver, adjusting the solver settings, or solve with verbose=True for more information.\n",
      "  warnings.warn(\n"
     ]
    },
    {
     "name": "stdout",
     "output_type": "stream",
     "text": [
      "Edge case\n"
     ]
    },
    {
     "name": "stderr",
     "output_type": "stream",
     "text": [
      "c:\\Users\\willi\\principles_of_programming\\PoP_venv\\lib\\site-packages\\cvxpy\\problems\\problem.py:1387: UserWarning: Solution may be inaccurate. Try another solver, adjusting the solver settings, or solve with verbose=True for more information.\n",
      "  warnings.warn(\n"
     ]
    },
    {
     "name": "stdout",
     "output_type": "stream",
     "text": [
      "600th entry analysed\n",
      "700th entry analysed\n"
     ]
    },
    {
     "name": "stderr",
     "output_type": "stream",
     "text": [
      "c:\\Users\\willi\\principles_of_programming\\PoP_venv\\lib\\site-packages\\cvxpy\\problems\\problem.py:1387: UserWarning: Solution may be inaccurate. Try another solver, adjusting the solver settings, or solve with verbose=True for more information.\n",
      "  warnings.warn(\n",
      "c:\\Users\\willi\\principles_of_programming\\PoP_venv\\lib\\site-packages\\cvxpy\\problems\\problem.py:1387: UserWarning: Solution may be inaccurate. Try another solver, adjusting the solver settings, or solve with verbose=True for more information.\n",
      "  warnings.warn(\n"
     ]
    },
    {
     "name": "stdout",
     "output_type": "stream",
     "text": [
      "800th entry analysed\n"
     ]
    },
    {
     "name": "stderr",
     "output_type": "stream",
     "text": [
      "c:\\Users\\willi\\principles_of_programming\\PoP_venv\\lib\\site-packages\\cvxpy\\problems\\problem.py:1387: UserWarning: Solution may be inaccurate. Try another solver, adjusting the solver settings, or solve with verbose=True for more information.\n",
      "  warnings.warn(\n"
     ]
    },
    {
     "name": "stdout",
     "output_type": "stream",
     "text": [
      "900th entry analysed\n",
      "1000th entry analysed\n"
     ]
    },
    {
     "name": "stderr",
     "output_type": "stream",
     "text": [
      "c:\\Users\\willi\\principles_of_programming\\PoP_venv\\lib\\site-packages\\cvxpy\\problems\\problem.py:1387: UserWarning: Solution may be inaccurate. Try another solver, adjusting the solver settings, or solve with verbose=True for more information.\n",
      "  warnings.warn(\n"
     ]
    },
    {
     "name": "stdout",
     "output_type": "stream",
     "text": [
      "1100th entry analysed\n"
     ]
    },
    {
     "name": "stderr",
     "output_type": "stream",
     "text": [
      "c:\\Users\\willi\\principles_of_programming\\PoP_venv\\lib\\site-packages\\cvxpy\\problems\\problem.py:1387: UserWarning: Solution may be inaccurate. Try another solver, adjusting the solver settings, or solve with verbose=True for more information.\n",
      "  warnings.warn(\n"
     ]
    },
    {
     "name": "stdout",
     "output_type": "stream",
     "text": [
      "1200th entry analysed\n"
     ]
    },
    {
     "name": "stderr",
     "output_type": "stream",
     "text": [
      "c:\\Users\\willi\\principles_of_programming\\PoP_venv\\lib\\site-packages\\cvxpy\\problems\\problem.py:1387: UserWarning: Solution may be inaccurate. Try another solver, adjusting the solver settings, or solve with verbose=True for more information.\n",
      "  warnings.warn(\n"
     ]
    },
    {
     "name": "stdout",
     "output_type": "stream",
     "text": [
      "Edge case\n",
      "1300th entry analysed\n",
      "1400th entry analysed\n",
      "1500th entry analysed\n"
     ]
    },
    {
     "name": "stderr",
     "output_type": "stream",
     "text": [
      "c:\\Users\\willi\\principles_of_programming\\PoP_venv\\lib\\site-packages\\cvxpy\\problems\\problem.py:1387: UserWarning: Solution may be inaccurate. Try another solver, adjusting the solver settings, or solve with verbose=True for more information.\n",
      "  warnings.warn(\n"
     ]
    },
    {
     "name": "stdout",
     "output_type": "stream",
     "text": [
      "1600th entry analysed\n",
      "1700th entry analysed\n"
     ]
    },
    {
     "name": "stderr",
     "output_type": "stream",
     "text": [
      "c:\\Users\\willi\\principles_of_programming\\PoP_venv\\lib\\site-packages\\cvxpy\\problems\\problem.py:1387: UserWarning: Solution may be inaccurate. Try another solver, adjusting the solver settings, or solve with verbose=True for more information.\n",
      "  warnings.warn(\n"
     ]
    },
    {
     "name": "stdout",
     "output_type": "stream",
     "text": [
      "1800th entry analysed\n",
      "Edge case\n",
      "1900th entry analysed\n",
      "2000th entry analysed\n",
      "2100th entry analysed\n",
      "2200th entry analysed\n",
      "2300th entry analysed\n",
      "2400th entry analysed\n",
      "Edge case\n",
      "2500th entry analysed\n",
      "2600th entry analysed\n",
      "2700th entry analysed\n",
      "2800th entry analysed\n"
     ]
    },
    {
     "name": "stderr",
     "output_type": "stream",
     "text": [
      "c:\\Users\\willi\\principles_of_programming\\PoP_venv\\lib\\site-packages\\cvxpy\\problems\\problem.py:1387: UserWarning: Solution may be inaccurate. Try another solver, adjusting the solver settings, or solve with verbose=True for more information.\n",
      "  warnings.warn(\n",
      "c:\\Users\\willi\\principles_of_programming\\PoP_venv\\lib\\site-packages\\cvxpy\\problems\\problem.py:1387: UserWarning: Solution may be inaccurate. Try another solver, adjusting the solver settings, or solve with verbose=True for more information.\n",
      "  warnings.warn(\n"
     ]
    },
    {
     "name": "stdout",
     "output_type": "stream",
     "text": [
      "2900th entry analysed\n"
     ]
    },
    {
     "name": "stderr",
     "output_type": "stream",
     "text": [
      "c:\\Users\\willi\\principles_of_programming\\PoP_venv\\lib\\site-packages\\cvxpy\\problems\\problem.py:1387: UserWarning: Solution may be inaccurate. Try another solver, adjusting the solver settings, or solve with verbose=True for more information.\n",
      "  warnings.warn(\n",
      "c:\\Users\\willi\\principles_of_programming\\PoP_venv\\lib\\site-packages\\cvxpy\\problems\\problem.py:1387: UserWarning: Solution may be inaccurate. Try another solver, adjusting the solver settings, or solve with verbose=True for more information.\n",
      "  warnings.warn(\n"
     ]
    },
    {
     "name": "stdout",
     "output_type": "stream",
     "text": [
      "3000th entry analysed\n",
      "3100th entry analysed\n"
     ]
    },
    {
     "name": "stderr",
     "output_type": "stream",
     "text": [
      "c:\\Users\\willi\\principles_of_programming\\PoP_venv\\lib\\site-packages\\cvxpy\\problems\\problem.py:1387: UserWarning: Solution may be inaccurate. Try another solver, adjusting the solver settings, or solve with verbose=True for more information.\n",
      "  warnings.warn(\n"
     ]
    },
    {
     "name": "stdout",
     "output_type": "stream",
     "text": [
      "3200th entry analysed\n"
     ]
    },
    {
     "name": "stderr",
     "output_type": "stream",
     "text": [
      "c:\\Users\\willi\\principles_of_programming\\PoP_venv\\lib\\site-packages\\cvxpy\\problems\\problem.py:1387: UserWarning: Solution may be inaccurate. Try another solver, adjusting the solver settings, or solve with verbose=True for more information.\n",
      "  warnings.warn(\n"
     ]
    },
    {
     "name": "stdout",
     "output_type": "stream",
     "text": [
      "3300th entry analysed\n"
     ]
    },
    {
     "name": "stderr",
     "output_type": "stream",
     "text": [
      "c:\\Users\\willi\\principles_of_programming\\PoP_venv\\lib\\site-packages\\cvxpy\\problems\\problem.py:1387: UserWarning: Solution may be inaccurate. Try another solver, adjusting the solver settings, or solve with verbose=True for more information.\n",
      "  warnings.warn(\n"
     ]
    },
    {
     "name": "stdout",
     "output_type": "stream",
     "text": [
      "3400th entry analysed\n"
     ]
    },
    {
     "name": "stderr",
     "output_type": "stream",
     "text": [
      "c:\\Users\\willi\\principles_of_programming\\PoP_venv\\lib\\site-packages\\cvxpy\\problems\\problem.py:1387: UserWarning: Solution may be inaccurate. Try another solver, adjusting the solver settings, or solve with verbose=True for more information.\n",
      "  warnings.warn(\n"
     ]
    },
    {
     "name": "stdout",
     "output_type": "stream",
     "text": [
      "3500th entry analysed\n",
      "3600th entry analysed\n"
     ]
    },
    {
     "name": "stderr",
     "output_type": "stream",
     "text": [
      "c:\\Users\\willi\\principles_of_programming\\PoP_venv\\lib\\site-packages\\cvxpy\\problems\\problem.py:1387: UserWarning: Solution may be inaccurate. Try another solver, adjusting the solver settings, or solve with verbose=True for more information.\n",
      "  warnings.warn(\n"
     ]
    },
    {
     "name": "stdout",
     "output_type": "stream",
     "text": [
      "3700th entry analysed\n",
      "3800th entry analysed\n"
     ]
    }
   ],
   "source": [
    "# read in data\n",
    "data = pd.read_csv(\"Data/SS3_c57_UMIs_concat_G1_cleaned.csv\", index_col=\"Unnamed: 0\")\n",
    "# record\n",
    "output = pd.DataFrame()\n",
    "# take samples\n",
    "for i in range(data.shape[0]):\n",
    "    sample = data.iloc[i]\n",
    "    # solve\n",
    "    try:\n",
    "        solution_refined = bound_sample_refined(sample, threshold=2, print_bounds=False, plot_sample=False, print_status=False, plot_solution=False)\n",
    "    except:\n",
    "        print(\"Error\")\n",
    "        solution_refined = None\n",
    "    # record\n",
    "    df_solution_refined = pd.DataFrame([solution_refined])\n",
    "    output = pd.concat([output, df_solution_refined], ignore_index=True)\n",
    "    if (i % 100) == 0:\n",
    "        print(f\"{i}th entry analysed\")"
   ]
  },
  {
   "cell_type": "code",
   "execution_count": 20,
   "metadata": {},
   "outputs": [],
   "source": [
    "output.to_csv(\"Data/SS3_c57_UMIs_concat_G1_bounds_full.csv\")"
   ]
  }
 ],
 "metadata": {
  "kernelspec": {
   "display_name": "PoP_venv",
   "language": "python",
   "name": "python3"
  },
  "language_info": {
   "codemirror_mode": {
    "name": "ipython",
    "version": 3
   },
   "file_extension": ".py",
   "mimetype": "text/x-python",
   "name": "python",
   "nbconvert_exporter": "python",
   "pygments_lexer": "ipython3",
   "version": "3.10.11"
  }
 },
 "nbformat": 4,
 "nbformat_minor": 2
}
