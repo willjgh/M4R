{
 "cells": [
  {
   "cell_type": "code",
   "execution_count": 1,
   "metadata": {},
   "outputs": [],
   "source": [
    "import math, random\n",
    "import matplotlib.pyplot as plt\n",
    "import numpy as np\n",
    "import cvxpy as cv\n",
    "import pandas as pd\n",
    "import scipy\n",
    "import time\n",
    "import gurobipy as gp\n",
    "from gurobipy import GRB\n",
    "from ast import literal_eval\n",
    "import plotly\n",
    "import plotly.graph_objects as go"
   ]
  },
  {
   "cell_type": "markdown",
   "metadata": {},
   "source": [
    "# Results"
   ]
  },
  {
   "cell_type": "markdown",
   "metadata": {},
   "source": [
    "## LP results"
   ]
  },
  {
   "cell_type": "code",
   "execution_count": 2,
   "metadata": {},
   "outputs": [],
   "source": [
    "def convert(x):\n",
    "    \"\"\"Converts strings into list entries when reading dataframe\"\"\"\n",
    "    try:\n",
    "        return literal_eval(x)\n",
    "    except:\n",
    "        return np.NaN\n",
    "\n",
    "# converters\n",
    "labels_cast_concat = ['k1'] + [f'mu_{k}' for k in range(1, 141)]\n",
    "converters_cast_concat = {label: convert for label in labels_cast_concat}\n",
    "\n",
    "labels_cast_mesc = ['k1'] + [f'mu_{k}' for k in range(1, 154)]\n",
    "converters_cast_mesc = {label: convert for label in labels_cast_mesc}\n",
    "\n",
    "labels_c57_concat = ['k1'] + [f'mu_{k}' for k in range(1, 193)]\n",
    "converters_c57_concat = {label: convert for label in labels_c57_concat}\n",
    "\n",
    "labels_c57_mesc = ['k1'] + [f'mu_{k}' for k in range(1, 120)]\n",
    "converters_c57_mesc = {label: convert for label in labels_c57_mesc}\n",
    "\n",
    "# read in datasets\n",
    "LP_cast_concat = pd.read_csv(\"..\\Final_data\\LP_cast_concat.csv\", index_col=\"Unnamed: 0\", converters=converters_cast_concat)\n",
    "LP_cast_mesc = pd.read_csv(\"..\\Final_data\\LP_cast_mesc.csv\", index_col=\"Unnamed: 0\", converters=converters_cast_mesc)\n",
    "LP_c57_concat = pd.read_csv(\"..\\Final_data\\LP_c57_concat.csv\", index_col=\"Unnamed: 0\", converters=converters_c57_concat)\n",
    "LP_c57_mesc = pd.read_csv(\"..\\Final_data\\LP_c57_mesc.csv\", index_col=\"Unnamed: 0\", converters=converters_c57_mesc)"
   ]
  },
  {
   "cell_type": "markdown",
   "metadata": {},
   "source": [
    "## NLP results"
   ]
  },
  {
   "cell_type": "code",
   "execution_count": 3,
   "metadata": {},
   "outputs": [],
   "source": [
    "# read in datasets\n",
    "NLP_cast_concat = pd.read_csv(r\"..\\Final_data\\NLP_cast_concat.csv\", index_col=\"Unnamed: 0\", converters=converters_cast_concat)\n",
    "NLP_cast_mesc = pd.read_csv(r\"..\\Final_data\\NLP_cast_mesc.csv\", index_col=\"Unnamed: 0\", converters=converters_cast_mesc)\n",
    "NLP_c57_concat = pd.read_csv(r\"..\\Final_data\\NLP_c57_concat.csv\", index_col=\"Unnamed: 0\", converters=converters_c57_concat)\n",
    "NLP_c57_mesc = pd.read_csv(r\"..\\Final_data\\NLP_c57_mesc.csv\", index_col=\"Unnamed: 0\", converters=converters_c57_mesc)\n",
    "\n",
    "# remove null values in k1 columns\n",
    "nulls_cast_concat = NLP_cast_concat[NLP_cast_concat['k1'].apply(type) == float].shape[0]\n",
    "NLP_cast_concat.loc[NLP_cast_concat['k1'].apply(type) == float, 'k1'] = [[None, None] for x in range(nulls_cast_concat)]\n",
    "\n",
    "nulls_cast_mesc = NLP_cast_mesc[NLP_cast_mesc['k1'].apply(type) == float].shape[0]\n",
    "NLP_cast_mesc.loc[NLP_cast_mesc['k1'].apply(type) == float, 'k1'] = [[None, None] for x in range(nulls_cast_mesc)]\n",
    "\n",
    "nulls_c57_concat = NLP_c57_concat[NLP_c57_concat['k1'].apply(type) == float].shape[0]\n",
    "NLP_c57_concat.loc[NLP_c57_concat['k1'].apply(type) == float, 'k1'] = [[None, None] for x in range(nulls_c57_concat)]\n",
    "\n",
    "nulls_c57_mesc = NLP_c57_mesc[NLP_c57_mesc['k1'].apply(type) == float].shape[0]\n",
    "NLP_c57_mesc.loc[NLP_c57_mesc['k1'].apply(type) == float, 'k1'] = [[None, None] for x in range(nulls_c57_mesc)]"
   ]
  },
  {
   "cell_type": "markdown",
   "metadata": {},
   "source": [
    "## Combined datasets"
   ]
  },
  {
   "cell_type": "code",
   "execution_count": 4,
   "metadata": {},
   "outputs": [],
   "source": [
    "LP = pd.concat([LP_cast_concat, LP_cast_mesc, LP_c57_concat, LP_c57_mesc])\n",
    "NLP = pd.concat([NLP_cast_concat, NLP_cast_mesc, NLP_c57_concat, NLP_c57_mesc])"
   ]
  },
  {
   "cell_type": "markdown",
   "metadata": {},
   "source": [
    "# Categorization\n",
    "\n",
    "Categorize genes into: \n",
    "- feasible / infeasible\n",
    "- zero / non-zero lower bounds\n",
    "- decreasing / increasing upper bounds\n",
    "- mixture of upper bounds\n",
    "- baynorm agreement"
   ]
  },
  {
   "cell_type": "markdown",
   "metadata": {},
   "source": [
    "## Baynorm estimates\n",
    "\n",
    "Baynorm assumes a negative binomial prior for the true count (stationary) distribution, estimating the parameters from data. Assuming a geometric burst distribution, the stationary distribution of the bursting model is negative binomial and so by comparing parameters we can obtain a point estimate of the geometric parameter / distribution of bursts.\n",
    "\n",
    "Baynorm estimates scale $\\phi_{i}$ and mean $\\mu_{i}$ for each gene i, giving estimates of the relative burst frequency $\\bar{a}$ and mean burst size $\\bar{b}$:\n",
    "\n",
    "$$ \\bar{a} = \\frac{k_0}{k_1} = \\phi_{i} $$\n",
    "\n",
    "$$ \\bar{b} = \\frac{\\mu_{i}}{\\phi_{i}} $$\n",
    "\n",
    "and so burst distribution:\n",
    "\n",
    "$$ B \\sim \\text{Geometric}(\\frac{1}{\\bar{b}}) = \\text{Geometric}(\\frac{\\phi{i}}{\\mu_{i}}) $$"
   ]
  },
  {
   "cell_type": "code",
   "execution_count": 5,
   "metadata": {},
   "outputs": [
    {
     "data": {
      "text/html": [
       "<div>\n",
       "<style scoped>\n",
       "    .dataframe tbody tr th:only-of-type {\n",
       "        vertical-align: middle;\n",
       "    }\n",
       "\n",
       "    .dataframe tbody tr th {\n",
       "        vertical-align: top;\n",
       "    }\n",
       "\n",
       "    .dataframe thead th {\n",
       "        text-align: right;\n",
       "    }\n",
       "</style>\n",
       "<table border=\"1\" class=\"dataframe\">\n",
       "  <thead>\n",
       "    <tr style=\"text-align: right;\">\n",
       "      <th></th>\n",
       "      <th>MME_MU</th>\n",
       "      <th>MME_SIZE</th>\n",
       "      <th>B_EST</th>\n",
       "    </tr>\n",
       "  </thead>\n",
       "  <tbody>\n",
       "    <tr>\n",
       "      <th>0610007P14Rik</th>\n",
       "      <td>43.798180</td>\n",
       "      <td>0.648610</td>\n",
       "      <td>67.526236</td>\n",
       "    </tr>\n",
       "    <tr>\n",
       "      <th>0610009B22Rik</th>\n",
       "      <td>70.083391</td>\n",
       "      <td>0.999097</td>\n",
       "      <td>70.146768</td>\n",
       "    </tr>\n",
       "    <tr>\n",
       "      <th>0610031J06Rik</th>\n",
       "      <td>264.721377</td>\n",
       "      <td>3.455259</td>\n",
       "      <td>76.614040</td>\n",
       "    </tr>\n",
       "    <tr>\n",
       "      <th>1110007C09Rik</th>\n",
       "      <td>68.418706</td>\n",
       "      <td>0.636294</td>\n",
       "      <td>107.526887</td>\n",
       "    </tr>\n",
       "    <tr>\n",
       "      <th>1110012L19Rik</th>\n",
       "      <td>16.987593</td>\n",
       "      <td>0.439295</td>\n",
       "      <td>38.670142</td>\n",
       "    </tr>\n",
       "  </tbody>\n",
       "</table>\n",
       "</div>"
      ],
      "text/plain": [
       "                   MME_MU  MME_SIZE       B_EST\n",
       "0610007P14Rik   43.798180  0.648610   67.526236\n",
       "0610009B22Rik   70.083391  0.999097   70.146768\n",
       "0610031J06Rik  264.721377  3.455259   76.614040\n",
       "1110007C09Rik   68.418706  0.636294  107.526887\n",
       "1110012L19Rik   16.987593  0.439295   38.670142"
      ]
     },
     "execution_count": 5,
     "metadata": {},
     "output_type": "execute_result"
    }
   ],
   "source": [
    "# load prior estimates\n",
    "prior_cast_concat = pd.read_csv(\"..\\Final_data\\prior_cast_concat.csv\", index_col=\"Unnamed: 0\")\n",
    "prior_cast_mesc = pd.read_csv(\"..\\Final_data\\prior_cast_mesc.csv\", index_col=\"Unnamed: 0\")\n",
    "prior_c57_concat = pd.read_csv(\"..\\Final_data\\prior_c57_concat.csv\", index_col=\"Unnamed: 0\")\n",
    "prior_c57_mesc = pd.read_csv(\"..\\Final_data\\prior_c57_mesc.csv\", index_col=\"Unnamed: 0\")\n",
    "\n",
    "# calculate b estimates\n",
    "prior_cast_concat['B_EST'] = prior_cast_concat['MME_MU'] / prior_cast_concat['MME_SIZE']\n",
    "prior_cast_mesc['B_EST'] = prior_cast_mesc['MME_MU'] / prior_cast_mesc['MME_SIZE']\n",
    "prior_c57_concat['B_EST'] = prior_c57_concat['MME_MU'] / prior_c57_concat['MME_SIZE']\n",
    "prior_c57_mesc['B_EST'] = prior_c57_mesc['MME_MU'] / prior_c57_mesc['MME_SIZE']\n",
    "\n",
    "# display\n",
    "prior_cast_concat.head()"
   ]
  },
  {
   "cell_type": "code",
   "execution_count": 6,
   "metadata": {},
   "outputs": [],
   "source": [
    "# combined datsets\n",
    "prior = pd.concat([prior_cast_concat, prior_cast_mesc, prior_c57_concat, prior_c57_mesc])"
   ]
  },
  {
   "cell_type": "code",
   "execution_count": 20,
   "metadata": {},
   "outputs": [],
   "source": [
    "def plot_dist(bounds, b_est=None, color=\"orange\", show=True, label=\"Method\"):\n",
    "    # drop k0 and k1 entries\n",
    "    bounds = bounds[2:]\n",
    "    # extract upper and lower bounds\n",
    "    labels = []\n",
    "    plot_labels = []\n",
    "    lower = []\n",
    "    upper = []\n",
    "    baynorm_est = []\n",
    "    for i, bound in enumerate(bounds):\n",
    "        try:\n",
    "            lower.append(bound[0])\n",
    "            upper.append(bound[1])\n",
    "            labels.append(f'mu_{i + 1}')\n",
    "            plot_labels.append(f'{i + 1}')\n",
    "            if b_est:\n",
    "                baynorm_est.append((1 / b_est) * (1 - (1 / b_est))**i)\n",
    "        except:\n",
    "            break\n",
    "    # plot\n",
    "    if b_est:\n",
    "        plt.plot(plot_labels, baynorm_est, color=\"red\", label=\"BayNorm\")\n",
    "        plt.scatter(plot_labels, baynorm_est, color=\"red\")\n",
    "    plt.plot(plot_labels, upper, color=color, label=label)\n",
    "    plt.plot(plot_labels, lower, color=color)\n",
    "    plt.scatter(plot_labels, upper, color=color)\n",
    "    plt.scatter(plot_labels, lower, color=color)\n",
    "    plt.title(\"Solution Bounds on Burst distribution\")\n",
    "    plt.ylabel(\"Probability\")\n",
    "    plt.xlabel(\"Burst size\")\n",
    "    plt.legend()\n",
    "    if show:\n",
    "        plt.show()"
   ]
  },
  {
   "cell_type": "code",
   "execution_count": 21,
   "metadata": {},
   "outputs": [
    {
     "data": {
      "image/png": "[encoded data removed]",
      "text/plain": [
       "<Figure size 640x480 with 1 Axes>"
      ]
     },
     "metadata": {},
     "output_type": "display_data"
    }
   ],
   "source": [
    "i = 1503\n",
    "result = LP_cast_concat.iloc[i]\n",
    "result_NLP = NLP_cast_concat.iloc[i]\n",
    "b_est = prior_cast_concat.iloc[i]['B_EST']\n",
    "plot_dist(result, b_est=b_est, label=\"LP\", show=False)\n",
    "plot_dist(result_NLP, color=\"blue\", label=\"NLP\", show=True)"
   ]
  },
  {
   "cell_type": "markdown",
   "metadata": {},
   "source": [
    "## Pipeline"
   ]
  },
  {
   "cell_type": "code",
   "execution_count": 25,
   "metadata": {},
   "outputs": [],
   "source": [
    "def categorize(data, priors, zero_tolerance=10**(-2), monotone_tolerance=10**(-2), baynorm_tolerance=10**(-2)):\n",
    "    \n",
    "    def zero_lb(row, tolerance=zero_tolerance):\n",
    "        \"\"\"Boolean indicator: all lower bounds within tolerance of 0\"\"\"\n",
    "        # return nan if infeasible\n",
    "        if row['k1'][0] is None:\n",
    "            return np.nan\n",
    "        # examine mu bounds\n",
    "        for bounds in row[2:]:\n",
    "            try:\n",
    "                lb = bounds[0]\n",
    "                if lb > tolerance:\n",
    "                    # exists a lower bound outside tolerance of zero\n",
    "                    return False\n",
    "            except:\n",
    "                # nan: mu not estimated\n",
    "                break\n",
    "        # no faults found: return True\n",
    "        return True\n",
    "\n",
    "    def monotone_ub(row, decreasing=True, tolerance=monotone_tolerance):\n",
    "        \"\"\"\n",
    "        Boolean indicator if upper bounds of dist. are montone (weakly)\n",
    "\n",
    "        row: row of data containing lists of bounds on parameters + nan values\n",
    "        decreasing:\n",
    "            (True) return bool of whether upper bounds are weakly decreasing\n",
    "            (False) return bool of whether upper bounds are weakly increasing\n",
    "        \"\"\"\n",
    "        if decreasing:\n",
    "            # arbitrary high value\n",
    "            ub_prev = 10\n",
    "        else:\n",
    "            # arbitrarily low value\n",
    "            ub_prev = -10\n",
    "        # return nan if infeasible\n",
    "        if row['k1'][0] is None:\n",
    "            return np.nan\n",
    "        # examine mu bounds\n",
    "        for bounds in row[2:]:\n",
    "            try:\n",
    "                ub = bounds[1]\n",
    "                # if ub increases by more than tolerance => not decreasing\n",
    "                if ub > ub_prev + tolerance and decreasing:\n",
    "                    return False\n",
    "                # if ub decreases by more than tolerance => not increasing\n",
    "                elif ub < ub_prev - tolerance and not decreasing:\n",
    "                    return False\n",
    "                else:\n",
    "                    ub_prev = ub\n",
    "            except:\n",
    "                # nan: mu not estimated\n",
    "                break\n",
    "        # no faults found: return True\n",
    "        return True\n",
    "\n",
    "    def baynorm_agreement(row, tolerance=baynorm_tolerance):\n",
    "        \"\"\"Boolean indicator if baynorm estimated burst dist within bounds\"\"\"\n",
    "        # return nan if infeasible\n",
    "        if row['k1'][0] is None:\n",
    "            return np.nan\n",
    "        # baynorm estimate\n",
    "        idx = row.name\n",
    "        b_est = priors.iloc[idx]['B_EST']\n",
    "        # examine mu bounds\n",
    "        for i, bounds in enumerate(row[2:]):\n",
    "            try:\n",
    "                lb = bounds[0]\n",
    "                ub = bounds[1]\n",
    "                dist = (1 / b_est) * (1 - (1 / b_est))**i\n",
    "                if lb > dist + tolerance or dist > ub + tolerance:\n",
    "                    # dist outside of tolerance of bounds\n",
    "                    return False\n",
    "            except:\n",
    "                # nan: mu not estimated\n",
    "                break\n",
    "        # no faults found: return True\n",
    "        return True\n",
    "\n",
    "    # create dataframe\n",
    "    data_categories = pd.DataFrame()\n",
    "\n",
    "    # boolean: infeasible bounds\n",
    "    mask_infeasible = data['k1'].apply(lambda x: None in x)\n",
    "    data_categories[\"infeasible\"] = mask_infeasible\n",
    "\n",
    "    # boolean: zero lower bounds\n",
    "    mask_zero = data.apply(zero_lb, axis='columns')\n",
    "    data_categories[\"zero_lb\"] = mask_zero\n",
    "\n",
    "    # boolean: monotone (increasing/decreasing) bounds\n",
    "    mask_dec = data.apply(monotone_ub, args=(True,), axis='columns')\n",
    "    mask_inc = data.apply(monotone_ub, args=(False,), axis='columns')\n",
    "    data_categories[\"decreasing_ub\"] = mask_dec\n",
    "    data_categories[\"increasing_ub\"] = mask_inc\n",
    "\n",
    "    # boolean: consistent with baynorm estimate\n",
    "    mask_bay = data.apply(baynorm_agreement, axis='columns')\n",
    "    data_categories[\"baynorm_consistent\"] = mask_bay\n",
    "\n",
    "    return data_categories"
   ]
  },
  {
   "cell_type": "code",
   "execution_count": 26,
   "metadata": {},
   "outputs": [],
   "source": [
    "def summary_statistics(cat, printing=False):\n",
    "    total = cat.shape[0]\n",
    "    infeasible = cat['infeasible'].sum()\n",
    "    feasible = total - infeasible\n",
    "    zero_lb = cat['zero_lb'].sum()\n",
    "    non_zero_lb = feasible - zero_lb\n",
    "    # within tolerance of non-increasing and non-decreasing => flat\n",
    "    flat_ub = (cat['decreasing_ub'] + cat['increasing_ub'] == 2).sum()\n",
    "    # only increasing / decreasing\n",
    "    increasing_ub_only = cat['increasing_ub'].sum() - flat_ub\n",
    "    decreasing_ub_only = cat['decreasing_ub'].sum() - flat_ub\n",
    "    # outside tolerance of non-increasing and non-decreasing => peak / trough\n",
    "    #mixed_ub = feasible - (flat_ub + increasing_ub_only + decreasing_ub_only)\n",
    "    mixed_ub = (cat['decreasing_ub'] + cat['increasing_ub'] == 0).sum()\n",
    "    # agreement with baynorm\n",
    "    baynorm_agree = cat['baynorm_consistent'].sum()\n",
    "    baynorm_not = feasible - baynorm_agree\n",
    "\n",
    "    if printing:\n",
    "        print(f\"Feasible: {round(100 * feasible / total, 2)}\\n\" +\n",
    "            f\"Infeasible: {round(100 * infeasible / total, 2)}\\n\" +\n",
    "            f\"Of feasible:\\n\" +\n",
    "            f\"Zero lower bound: {round(100 * zero_lb / feasible, 2)}\\n\" +\n",
    "            f\"Non-zero lower bound: {round(100 * non_zero_lb / feasible, 2)}\\n\" +\n",
    "            f\"Flat upper bound: {round(100 * flat_ub / feasible, 2)}\\n\" +\n",
    "            f\"Increasing only upper bound: {round(100 * increasing_ub_only / feasible, 2)}\\n\" +\n",
    "            f\"Decreasing only upper bound: {round(100 * decreasing_ub_only / feasible, 2)}\\n\" +\n",
    "            f\"Mixed upper bound: {round(100 * mixed_ub / feasible, 2)}\\n\" +\n",
    "            f\"BayNorm consistent: {round(100 * baynorm_agree / feasible, 2)}\\n\" +\n",
    "            f\"Not BayNorm consistent: {round(100 * baynorm_not / feasible, 2)}\\n\"\n",
    "        )\n",
    "\n",
    "    summary = pd.Series({\n",
    "        'infeasible': round(100 * infeasible / total, 2),\n",
    "        'feasible': round(100 * feasible / total, 2),\n",
    "        'zero lb': round(100 * zero_lb / feasible, 2),\n",
    "        'non-zero lb': round(100 * non_zero_lb / feasible, 2),\n",
    "        'flat ub': round(100 * flat_ub / feasible, 2),\n",
    "        'increasing ub': round(100 * increasing_ub_only / feasible, 2),\n",
    "        'decreasing ub': round(100 * decreasing_ub_only / feasible, 2),\n",
    "        'mixed ub': round(100 * mixed_ub / feasible, 2),\n",
    "        'Baynorm consistent': round(100 * baynorm_agree / feasible, 2),\n",
    "        'not Baynorm consistent': round(100 * baynorm_not / feasible, 2)\n",
    "    })\n",
    "\n",
    "    return summary"
   ]
  },
  {
   "cell_type": "markdown",
   "metadata": {},
   "source": [
    "### Category tables"
   ]
  },
  {
   "cell_type": "code",
   "execution_count": 27,
   "metadata": {},
   "outputs": [],
   "source": [
    "# category datasets\n",
    "CAT_LP_cast_concat = categorize(LP_cast_concat, prior_cast_concat)\n",
    "CAT_LP_cast_mesc = categorize(LP_cast_mesc, prior_cast_mesc)\n",
    "CAT_LP_c57_concat = categorize(LP_c57_concat, prior_c57_concat)\n",
    "CAT_LP_c57_mesc = categorize(LP_c57_mesc, prior_c57_mesc)\n",
    "CAT_NLP_cast_concat = categorize(NLP_cast_concat, prior_cast_concat)\n",
    "CAT_NLP_cast_mesc = categorize(NLP_cast_mesc, prior_cast_mesc)\n",
    "CAT_NLP_c57_concat = categorize(NLP_c57_concat, prior_c57_concat)\n",
    "CAT_NLP_c57_mesc = categorize(NLP_c57_mesc, prior_c57_mesc)"
   ]
  },
  {
   "cell_type": "code",
   "execution_count": 28,
   "metadata": {},
   "outputs": [],
   "source": [
    "# combined datasets\n",
    "CAT_LP = categorize(LP, prior)\n",
    "CAT_NLP = categorize(NLP, prior)"
   ]
  },
  {
   "cell_type": "code",
   "execution_count": 29,
   "metadata": {},
   "outputs": [],
   "source": [
    "# initialise \n",
    "labels = [[\"LP\", \"NLP\"], [\"cast concat\", \"cast mesc\", \"c57 concat\", \"c57 mesc\"]]\n",
    "columns = [\"infeasible\", \"feasible\", \"zero lb\", \"non-zero lb\", \"flat ub\", \"increasing ub\", \"decreasing ub\", \"mixed ub\", \"Baynorm consistent\", \"not Baynorm consistent\"]\n",
    "index = pd.MultiIndex.from_product(labels, names=[\"Method\", \"Dataset\"])\n",
    "CAT_table = pd.DataFrame(columns=columns, index=index).astype('float')\n",
    "\n",
    "# summary statistics: fill rows\n",
    "CAT_table.loc[('LP', 'cast concat')] = summary_statistics(CAT_LP_cast_concat)\n",
    "CAT_table.loc[('LP', 'cast mesc')] = summary_statistics(CAT_LP_cast_mesc)\n",
    "CAT_table.loc[('LP', 'c57 concat')] = summary_statistics(CAT_LP_c57_concat)\n",
    "CAT_table.loc[('LP', 'c57 mesc')] = summary_statistics(CAT_LP_c57_mesc)\n",
    "CAT_table.loc[('NLP', 'cast concat')] = summary_statistics(CAT_NLP_cast_concat)\n",
    "CAT_table.loc[('NLP', 'cast mesc')] = summary_statistics(CAT_NLP_cast_mesc)\n",
    "CAT_table.loc[('NLP', 'c57 concat')] = summary_statistics(CAT_NLP_c57_concat)\n",
    "CAT_table.loc[('NLP', 'c57 mesc')] = summary_statistics(CAT_NLP_c57_mesc)"
   ]
  },
  {
   "cell_type": "code",
   "execution_count": 30,
   "metadata": {},
   "outputs": [
    {
     "data": {
      "text/html": [
       "<style type=\"text/css\">\n",
       "#T_3cbc6_row0_col0 {\n",
       "  background-color: #cddff1;\n",
       "  color: #000000;\n",
       "}\n",
       "#T_3cbc6_row0_col1, #T_3cbc6_row2_col6 {\n",
       "  background-color: #1a68ae;\n",
       "  color: #f1f1f1;\n",
       "}\n",
       "#T_3cbc6_row0_col2, #T_3cbc6_row0_col8 {\n",
       "  background-color: #3d8dc4;\n",
       "  color: #f1f1f1;\n",
       "}\n",
       "#T_3cbc6_row0_col3, #T_3cbc6_row0_col9 {\n",
       "  background-color: #a4cce3;\n",
       "  color: #000000;\n",
       "}\n",
       "#T_3cbc6_row0_col4 {\n",
       "  background-color: #8abfdd;\n",
       "  color: #000000;\n",
       "}\n",
       "#T_3cbc6_row0_col5 {\n",
       "  background-color: #81badb;\n",
       "  color: #000000;\n",
       "}\n",
       "#T_3cbc6_row0_col6 {\n",
       "  background-color: #1f6eb3;\n",
       "  color: #f1f1f1;\n",
       "}\n",
       "#T_3cbc6_row0_col7 {\n",
       "  background-color: #c8dcf0;\n",
       "  color: #000000;\n",
       "}\n",
       "#T_3cbc6_row1_col0 {\n",
       "  background-color: #5ca4d0;\n",
       "  color: #f1f1f1;\n",
       "}\n",
       "#T_3cbc6_row1_col1 {\n",
       "  background-color: #7db8da;\n",
       "  color: #000000;\n",
       "}\n",
       "#T_3cbc6_row1_col2 {\n",
       "  background-color: #e1edf8;\n",
       "  color: #000000;\n",
       "}\n",
       "#T_3cbc6_row1_col3, #T_3cbc6_row6_col7 {\n",
       "  background-color: #084d96;\n",
       "  color: #f1f1f1;\n",
       "}\n",
       "#T_3cbc6_row1_col4 {\n",
       "  background-color: #94c4df;\n",
       "  color: #000000;\n",
       "}\n",
       "#T_3cbc6_row1_col5 {\n",
       "  background-color: #d5e5f4;\n",
       "  color: #000000;\n",
       "}\n",
       "#T_3cbc6_row1_col6, #T_3cbc6_row3_col1, #T_3cbc6_row3_col2, #T_3cbc6_row3_col4, #T_3cbc6_row3_col8, #T_3cbc6_row5_col0, #T_3cbc6_row5_col3, #T_3cbc6_row5_col7, #T_3cbc6_row5_col9, #T_3cbc6_row7_col5 {\n",
       "  background-color: #08306b;\n",
       "  color: #f1f1f1;\n",
       "}\n",
       "#T_3cbc6_row1_col7 {\n",
       "  background-color: #99c7e0;\n",
       "  color: #000000;\n",
       "}\n",
       "#T_3cbc6_row1_col8 {\n",
       "  background-color: #deebf7;\n",
       "  color: #000000;\n",
       "}\n",
       "#T_3cbc6_row1_col9 {\n",
       "  background-color: #08519c;\n",
       "  color: #f1f1f1;\n",
       "}\n",
       "#T_3cbc6_row2_col0, #T_3cbc6_row7_col9 {\n",
       "  background-color: #d9e8f5;\n",
       "  color: #000000;\n",
       "}\n",
       "#T_3cbc6_row2_col1, #T_3cbc6_row7_col8 {\n",
       "  background-color: #0d57a1;\n",
       "  color: #f1f1f1;\n",
       "}\n",
       "#T_3cbc6_row2_col2 {\n",
       "  background-color: #2676b8;\n",
       "  color: #f1f1f1;\n",
       "}\n",
       "#T_3cbc6_row2_col3 {\n",
       "  background-color: #bfd8ed;\n",
       "  color: #000000;\n",
       "}\n",
       "#T_3cbc6_row2_col4 {\n",
       "  background-color: #8dc1dd;\n",
       "  color: #000000;\n",
       "}\n",
       "#T_3cbc6_row2_col5 {\n",
       "  background-color: #89bedc;\n",
       "  color: #000000;\n",
       "}\n",
       "#T_3cbc6_row2_col7 {\n",
       "  background-color: #c6dbef;\n",
       "  color: #000000;\n",
       "}\n",
       "#T_3cbc6_row2_col8 {\n",
       "  background-color: #2b7bba;\n",
       "  color: #f1f1f1;\n",
       "}\n",
       "#T_3cbc6_row2_col9 {\n",
       "  background-color: #bad6eb;\n",
       "  color: #000000;\n",
       "}\n",
       "#T_3cbc6_row3_col0, #T_3cbc6_row3_col3, #T_3cbc6_row3_col5, #T_3cbc6_row3_col7, #T_3cbc6_row3_col9, #T_3cbc6_row4_col4, #T_3cbc6_row4_col6, #T_3cbc6_row5_col1, #T_3cbc6_row5_col2, #T_3cbc6_row5_col8, #T_3cbc6_row6_col4 {\n",
       "  background-color: #f7fbff;\n",
       "  color: #000000;\n",
       "}\n",
       "#T_3cbc6_row3_col6 {\n",
       "  background-color: #a3cce3;\n",
       "  color: #000000;\n",
       "}\n",
       "#T_3cbc6_row4_col0 {\n",
       "  background-color: #84bcdb;\n",
       "  color: #000000;\n",
       "}\n",
       "#T_3cbc6_row4_col1 {\n",
       "  background-color: #57a0ce;\n",
       "  color: #f1f1f1;\n",
       "}\n",
       "#T_3cbc6_row4_col2 {\n",
       "  background-color: #4493c7;\n",
       "  color: #f1f1f1;\n",
       "}\n",
       "#T_3cbc6_row4_col3 {\n",
       "  background-color: #9cc9e1;\n",
       "  color: #000000;\n",
       "}\n",
       "#T_3cbc6_row4_col5 {\n",
       "  background-color: #2a7ab9;\n",
       "  color: #f1f1f1;\n",
       "}\n",
       "#T_3cbc6_row4_col7 {\n",
       "  background-color: #0c56a0;\n",
       "  color: #f1f1f1;\n",
       "}\n",
       "#T_3cbc6_row4_col8, #T_3cbc6_row6_col1 {\n",
       "  background-color: #4594c7;\n",
       "  color: #f1f1f1;\n",
       "}\n",
       "#T_3cbc6_row4_col9, #T_3cbc6_row6_col0 {\n",
       "  background-color: #9ac8e0;\n",
       "  color: #000000;\n",
       "}\n",
       "#T_3cbc6_row5_col4, #T_3cbc6_row6_col6 {\n",
       "  background-color: #f6faff;\n",
       "  color: #000000;\n",
       "}\n",
       "#T_3cbc6_row5_col5 {\n",
       "  background-color: #85bcdc;\n",
       "  color: #000000;\n",
       "}\n",
       "#T_3cbc6_row5_col6 {\n",
       "  background-color: #d3e4f3;\n",
       "  color: #000000;\n",
       "}\n",
       "#T_3cbc6_row6_col2, #T_3cbc6_row6_col5 {\n",
       "  background-color: #3585bf;\n",
       "  color: #f1f1f1;\n",
       "}\n",
       "#T_3cbc6_row6_col3 {\n",
       "  background-color: #aed1e7;\n",
       "  color: #000000;\n",
       "}\n",
       "#T_3cbc6_row6_col8 {\n",
       "  background-color: #3989c1;\n",
       "  color: #f1f1f1;\n",
       "}\n",
       "#T_3cbc6_row6_col9, #T_3cbc6_row7_col7 {\n",
       "  background-color: #a9cfe5;\n",
       "  color: #000000;\n",
       "}\n",
       "#T_3cbc6_row7_col0 {\n",
       "  background-color: #e3eef9;\n",
       "  color: #000000;\n",
       "}\n",
       "#T_3cbc6_row7_col1 {\n",
       "  background-color: #084a91;\n",
       "  color: #f1f1f1;\n",
       "}\n",
       "#T_3cbc6_row7_col2 {\n",
       "  background-color: #0b559f;\n",
       "  color: #f1f1f1;\n",
       "}\n",
       "#T_3cbc6_row7_col3 {\n",
       "  background-color: #dbe9f6;\n",
       "  color: #000000;\n",
       "}\n",
       "#T_3cbc6_row7_col4 {\n",
       "  background-color: #dfecf7;\n",
       "  color: #000000;\n",
       "}\n",
       "#T_3cbc6_row7_col6 {\n",
       "  background-color: #a1cbe2;\n",
       "  color: #000000;\n",
       "}\n",
       "</style>\n",
       "<table id=\"T_3cbc6\">\n",
       "  <thead>\n",
       "    <tr>\n",
       "      <th class=\"blank\" >&nbsp;</th>\n",
       "      <th class=\"blank level0\" >&nbsp;</th>\n",
       "      <th id=\"T_3cbc6_level0_col0\" class=\"col_heading level0 col0\" >infeasible</th>\n",
       "      <th id=\"T_3cbc6_level0_col1\" class=\"col_heading level0 col1\" >feasible</th>\n",
       "      <th id=\"T_3cbc6_level0_col2\" class=\"col_heading level0 col2\" >zero lb</th>\n",
       "      <th id=\"T_3cbc6_level0_col3\" class=\"col_heading level0 col3\" >non-zero lb</th>\n",
       "      <th id=\"T_3cbc6_level0_col4\" class=\"col_heading level0 col4\" >flat ub</th>\n",
       "      <th id=\"T_3cbc6_level0_col5\" class=\"col_heading level0 col5\" >increasing ub</th>\n",
       "      <th id=\"T_3cbc6_level0_col6\" class=\"col_heading level0 col6\" >decreasing ub</th>\n",
       "      <th id=\"T_3cbc6_level0_col7\" class=\"col_heading level0 col7\" >mixed ub</th>\n",
       "      <th id=\"T_3cbc6_level0_col8\" class=\"col_heading level0 col8\" >Baynorm consistent</th>\n",
       "      <th id=\"T_3cbc6_level0_col9\" class=\"col_heading level0 col9\" >not Baynorm consistent</th>\n",
       "    </tr>\n",
       "    <tr>\n",
       "      <th class=\"index_name level0\" >Method</th>\n",
       "      <th class=\"index_name level1\" >Dataset</th>\n",
       "      <th class=\"blank col0\" >&nbsp;</th>\n",
       "      <th class=\"blank col1\" >&nbsp;</th>\n",
       "      <th class=\"blank col2\" >&nbsp;</th>\n",
       "      <th class=\"blank col3\" >&nbsp;</th>\n",
       "      <th class=\"blank col4\" >&nbsp;</th>\n",
       "      <th class=\"blank col5\" >&nbsp;</th>\n",
       "      <th class=\"blank col6\" >&nbsp;</th>\n",
       "      <th class=\"blank col7\" >&nbsp;</th>\n",
       "      <th class=\"blank col8\" >&nbsp;</th>\n",
       "      <th class=\"blank col9\" >&nbsp;</th>\n",
       "    </tr>\n",
       "  </thead>\n",
       "  <tbody>\n",
       "    <tr>\n",
       "      <th id=\"T_3cbc6_level0_row0\" class=\"row_heading level0 row0\" rowspan=\"4\">LP</th>\n",
       "      <th id=\"T_3cbc6_level1_row0\" class=\"row_heading level1 row0\" >cast concat</th>\n",
       "      <td id=\"T_3cbc6_row0_col0\" class=\"data row0 col0\" >8</td>\n",
       "      <td id=\"T_3cbc6_row0_col1\" class=\"data row0 col1\" >92</td>\n",
       "      <td id=\"T_3cbc6_row0_col2\" class=\"data row0 col2\" >89</td>\n",
       "      <td id=\"T_3cbc6_row0_col3\" class=\"data row0 col3\" >11</td>\n",
       "      <td id=\"T_3cbc6_row0_col4\" class=\"data row0 col4\" >32</td>\n",
       "      <td id=\"T_3cbc6_row0_col5\" class=\"data row0 col5\" >28</td>\n",
       "      <td id=\"T_3cbc6_row0_col6\" class=\"data row0 col6\" >23</td>\n",
       "      <td id=\"T_3cbc6_row0_col7\" class=\"data row0 col7\" >18</td>\n",
       "      <td id=\"T_3cbc6_row0_col8\" class=\"data row0 col8\" >90</td>\n",
       "      <td id=\"T_3cbc6_row0_col9\" class=\"data row0 col9\" >10</td>\n",
       "    </tr>\n",
       "    <tr>\n",
       "      <th id=\"T_3cbc6_level1_row1\" class=\"row_heading level1 row1\" >cast mesc</th>\n",
       "      <td id=\"T_3cbc6_row1_col0\" class=\"data row1 col0\" >14</td>\n",
       "      <td id=\"T_3cbc6_row1_col1\" class=\"data row1 col1\" >86</td>\n",
       "      <td id=\"T_3cbc6_row1_col2\" class=\"data row1 col2\" >85</td>\n",
       "      <td id=\"T_3cbc6_row1_col3\" class=\"data row1 col3\" >15</td>\n",
       "      <td id=\"T_3cbc6_row1_col4\" class=\"data row1 col4\" >30</td>\n",
       "      <td id=\"T_3cbc6_row1_col5\" class=\"data row1 col5\" >16</td>\n",
       "      <td id=\"T_3cbc6_row1_col6\" class=\"data row1 col6\" >28</td>\n",
       "      <td id=\"T_3cbc6_row1_col7\" class=\"data row1 col7\" >26</td>\n",
       "      <td id=\"T_3cbc6_row1_col8\" class=\"data row1 col8\" >85</td>\n",
       "      <td id=\"T_3cbc6_row1_col9\" class=\"data row1 col9\" >15</td>\n",
       "    </tr>\n",
       "    <tr>\n",
       "      <th id=\"T_3cbc6_level1_row2\" class=\"row_heading level1 row2\" >c57 concat</th>\n",
       "      <td id=\"T_3cbc6_row2_col0\" class=\"data row2 col0\" >7</td>\n",
       "      <td id=\"T_3cbc6_row2_col1\" class=\"data row2 col1\" >93</td>\n",
       "      <td id=\"T_3cbc6_row2_col2\" class=\"data row2 col2\" >90</td>\n",
       "      <td id=\"T_3cbc6_row2_col3\" class=\"data row2 col3\" >10</td>\n",
       "      <td id=\"T_3cbc6_row2_col4\" class=\"data row2 col4\" >32</td>\n",
       "      <td id=\"T_3cbc6_row2_col5\" class=\"data row2 col5\" >27</td>\n",
       "      <td id=\"T_3cbc6_row2_col6\" class=\"data row2 col6\" >23</td>\n",
       "      <td id=\"T_3cbc6_row2_col7\" class=\"data row2 col7\" >18</td>\n",
       "      <td id=\"T_3cbc6_row2_col8\" class=\"data row2 col8\" >91</td>\n",
       "      <td id=\"T_3cbc6_row2_col9\" class=\"data row2 col9\" >9</td>\n",
       "    </tr>\n",
       "    <tr>\n",
       "      <th id=\"T_3cbc6_level1_row3\" class=\"row_heading level1 row3\" >c57 mesc</th>\n",
       "      <td id=\"T_3cbc6_row3_col0\" class=\"data row3 col0\" >4</td>\n",
       "      <td id=\"T_3cbc6_row3_col1\" class=\"data row3 col1\" >96</td>\n",
       "      <td id=\"T_3cbc6_row3_col2\" class=\"data row3 col2\" >93</td>\n",
       "      <td id=\"T_3cbc6_row3_col3\" class=\"data row3 col3\" >7</td>\n",
       "      <td id=\"T_3cbc6_row3_col4\" class=\"data row3 col4\" >75</td>\n",
       "      <td id=\"T_3cbc6_row3_col5\" class=\"data row3 col5\" >8</td>\n",
       "      <td id=\"T_3cbc6_row3_col6\" class=\"data row3 col6\" >14</td>\n",
       "      <td id=\"T_3cbc6_row3_col7\" class=\"data row3 col7\" >4</td>\n",
       "      <td id=\"T_3cbc6_row3_col8\" class=\"data row3 col8\" >93</td>\n",
       "      <td id=\"T_3cbc6_row3_col9\" class=\"data row3 col9\" >7</td>\n",
       "    </tr>\n",
       "    <tr>\n",
       "      <th id=\"T_3cbc6_level0_row4\" class=\"row_heading level0 row4\" rowspan=\"4\">NLP</th>\n",
       "      <th id=\"T_3cbc6_level1_row4\" class=\"row_heading level1 row4\" >cast concat</th>\n",
       "      <td id=\"T_3cbc6_row4_col0\" class=\"data row4 col0\" >12</td>\n",
       "      <td id=\"T_3cbc6_row4_col1\" class=\"data row4 col1\" >88</td>\n",
       "      <td id=\"T_3cbc6_row4_col2\" class=\"data row4 col2\" >89</td>\n",
       "      <td id=\"T_3cbc6_row4_col3\" class=\"data row4 col3\" >11</td>\n",
       "      <td id=\"T_3cbc6_row4_col4\" class=\"data row4 col4\" >1</td>\n",
       "      <td id=\"T_3cbc6_row4_col5\" class=\"data row4 col5\" >40</td>\n",
       "      <td id=\"T_3cbc6_row4_col6\" class=\"data row4 col6\" >6</td>\n",
       "      <td id=\"T_3cbc6_row4_col7\" class=\"data row4 col7\" >53</td>\n",
       "      <td id=\"T_3cbc6_row4_col8\" class=\"data row4 col8\" >90</td>\n",
       "      <td id=\"T_3cbc6_row4_col9\" class=\"data row4 col9\" >10</td>\n",
       "    </tr>\n",
       "    <tr>\n",
       "      <th id=\"T_3cbc6_level1_row5\" class=\"row_heading level1 row5\" >cast mesc</th>\n",
       "      <td id=\"T_3cbc6_row5_col0\" class=\"data row5 col0\" >22</td>\n",
       "      <td id=\"T_3cbc6_row5_col1\" class=\"data row5 col1\" >78</td>\n",
       "      <td id=\"T_3cbc6_row5_col2\" class=\"data row5 col2\" >84</td>\n",
       "      <td id=\"T_3cbc6_row5_col3\" class=\"data row5 col3\" >16</td>\n",
       "      <td id=\"T_3cbc6_row5_col4\" class=\"data row5 col4\" >1</td>\n",
       "      <td id=\"T_3cbc6_row5_col5\" class=\"data row5 col5\" >28</td>\n",
       "      <td id=\"T_3cbc6_row5_col6\" class=\"data row5 col6\" >10</td>\n",
       "      <td id=\"T_3cbc6_row5_col7\" class=\"data row5 col7\" >61</td>\n",
       "      <td id=\"T_3cbc6_row5_col8\" class=\"data row5 col8\" >84</td>\n",
       "      <td id=\"T_3cbc6_row5_col9\" class=\"data row5 col9\" >16</td>\n",
       "    </tr>\n",
       "    <tr>\n",
       "      <th id=\"T_3cbc6_level1_row6\" class=\"row_heading level1 row6\" >c57 concat</th>\n",
       "      <td id=\"T_3cbc6_row6_col0\" class=\"data row6 col0\" >11</td>\n",
       "      <td id=\"T_3cbc6_row6_col1\" class=\"data row6 col1\" >89</td>\n",
       "      <td id=\"T_3cbc6_row6_col2\" class=\"data row6 col2\" >90</td>\n",
       "      <td id=\"T_3cbc6_row6_col3\" class=\"data row6 col3\" >10</td>\n",
       "      <td id=\"T_3cbc6_row6_col4\" class=\"data row6 col4\" >1</td>\n",
       "      <td id=\"T_3cbc6_row6_col5\" class=\"data row6 col5\" >38</td>\n",
       "      <td id=\"T_3cbc6_row6_col6\" class=\"data row6 col6\" >6</td>\n",
       "      <td id=\"T_3cbc6_row6_col7\" class=\"data row6 col7\" >55</td>\n",
       "      <td id=\"T_3cbc6_row6_col8\" class=\"data row6 col8\" >90</td>\n",
       "      <td id=\"T_3cbc6_row6_col9\" class=\"data row6 col9\" >10</td>\n",
       "    </tr>\n",
       "    <tr>\n",
       "      <th id=\"T_3cbc6_level1_row7\" class=\"row_heading level1 row7\" >c57 mesc</th>\n",
       "      <td id=\"T_3cbc6_row7_col0\" class=\"data row7 col0\" >6</td>\n",
       "      <td id=\"T_3cbc6_row7_col1\" class=\"data row7 col1\" >94</td>\n",
       "      <td id=\"T_3cbc6_row7_col2\" class=\"data row7 col2\" >91</td>\n",
       "      <td id=\"T_3cbc6_row7_col3\" class=\"data row7 col3\" >9</td>\n",
       "      <td id=\"T_3cbc6_row7_col4\" class=\"data row7 col4\" >9</td>\n",
       "      <td id=\"T_3cbc6_row7_col5\" class=\"data row7 col5\" >53</td>\n",
       "      <td id=\"T_3cbc6_row7_col6\" class=\"data row7 col6\" >14</td>\n",
       "      <td id=\"T_3cbc6_row7_col7\" class=\"data row7 col7\" >23</td>\n",
       "      <td id=\"T_3cbc6_row7_col8\" class=\"data row7 col8\" >92</td>\n",
       "      <td id=\"T_3cbc6_row7_col9\" class=\"data row7 col9\" >8</td>\n",
       "    </tr>\n",
       "  </tbody>\n",
       "</table>\n"
      ],
      "text/plain": [
       "<pandas.io.formats.style.Styler at 0x1c0feabd150>"
      ]
     },
     "execution_count": 30,
     "metadata": {},
     "output_type": "execute_result"
    }
   ],
   "source": [
    "CAT_table.style.format(precision=0).background_gradient(cmap='Blues', axis='rows')"
   ]
  },
  {
   "cell_type": "code",
   "execution_count": 31,
   "metadata": {},
   "outputs": [],
   "source": [
    "# initialise\n",
    "columns = [\"infeasible\", \"feasible\", \"zero lb\", \"non-zero lb\", \"flat ub\", \"increasing ub\", \"decreasing ub\", \"mixed ub\", \"Baynorm consistent\", \"not Baynorm consistent\"]\n",
    "CAT_table_combined = pd.DataFrame(columns=columns, index=[\"LP\", \"NLP\"]).astype('float')\n",
    "\n",
    "# summary statistics: fill rows\n",
    "CAT_table_combined.loc['LP'] = summary_statistics(CAT_LP)\n",
    "CAT_table_combined.loc['NLP'] = summary_statistics(CAT_NLP)"
   ]
  },
  {
   "cell_type": "code",
   "execution_count": 32,
   "metadata": {},
   "outputs": [
    {
     "data": {
      "text/html": [
       "<style type=\"text/css\">\n",
       "#T_d2444_row0_col0, #T_d2444_row0_col3, #T_d2444_row0_col5, #T_d2444_row0_col7, #T_d2444_row0_col9, #T_d2444_row1_col1, #T_d2444_row1_col2, #T_d2444_row1_col4, #T_d2444_row1_col6, #T_d2444_row1_col8 {\n",
       "  background-color: #f7fbff;\n",
       "  color: #000000;\n",
       "}\n",
       "#T_d2444_row0_col1, #T_d2444_row0_col2, #T_d2444_row0_col4, #T_d2444_row0_col6, #T_d2444_row0_col8, #T_d2444_row1_col0, #T_d2444_row1_col3, #T_d2444_row1_col5, #T_d2444_row1_col7, #T_d2444_row1_col9 {\n",
       "  background-color: #08306b;\n",
       "  color: #f1f1f1;\n",
       "}\n",
       "</style>\n",
       "<table id=\"T_d2444\">\n",
       "  <thead>\n",
       "    <tr>\n",
       "      <th class=\"blank level0\" >&nbsp;</th>\n",
       "      <th id=\"T_d2444_level0_col0\" class=\"col_heading level0 col0\" >infeasible</th>\n",
       "      <th id=\"T_d2444_level0_col1\" class=\"col_heading level0 col1\" >feasible</th>\n",
       "      <th id=\"T_d2444_level0_col2\" class=\"col_heading level0 col2\" >zero lb</th>\n",
       "      <th id=\"T_d2444_level0_col3\" class=\"col_heading level0 col3\" >non-zero lb</th>\n",
       "      <th id=\"T_d2444_level0_col4\" class=\"col_heading level0 col4\" >flat ub</th>\n",
       "      <th id=\"T_d2444_level0_col5\" class=\"col_heading level0 col5\" >increasing ub</th>\n",
       "      <th id=\"T_d2444_level0_col6\" class=\"col_heading level0 col6\" >decreasing ub</th>\n",
       "      <th id=\"T_d2444_level0_col7\" class=\"col_heading level0 col7\" >mixed ub</th>\n",
       "      <th id=\"T_d2444_level0_col8\" class=\"col_heading level0 col8\" >Baynorm consistent</th>\n",
       "      <th id=\"T_d2444_level0_col9\" class=\"col_heading level0 col9\" >not Baynorm consistent</th>\n",
       "    </tr>\n",
       "  </thead>\n",
       "  <tbody>\n",
       "    <tr>\n",
       "      <th id=\"T_d2444_level0_row0\" class=\"row_heading level0 row0\" >LP</th>\n",
       "      <td id=\"T_d2444_row0_col0\" class=\"data row0 col0\" >8</td>\n",
       "      <td id=\"T_d2444_row0_col1\" class=\"data row0 col1\" >92</td>\n",
       "      <td id=\"T_d2444_row0_col2\" class=\"data row0 col2\" >89</td>\n",
       "      <td id=\"T_d2444_row0_col3\" class=\"data row0 col3\" >11</td>\n",
       "      <td id=\"T_d2444_row0_col4\" class=\"data row0 col4\" >42</td>\n",
       "      <td id=\"T_d2444_row0_col5\" class=\"data row0 col5\" >20</td>\n",
       "      <td id=\"T_d2444_row0_col6\" class=\"data row0 col6\" >22</td>\n",
       "      <td id=\"T_d2444_row0_col7\" class=\"data row0 col7\" >16</td>\n",
       "      <td id=\"T_d2444_row0_col8\" class=\"data row0 col8\" >90</td>\n",
       "      <td id=\"T_d2444_row0_col9\" class=\"data row0 col9\" >10</td>\n",
       "    </tr>\n",
       "    <tr>\n",
       "      <th id=\"T_d2444_level0_row1\" class=\"row_heading level0 row1\" >NLP</th>\n",
       "      <td id=\"T_d2444_row1_col0\" class=\"data row1 col0\" >13</td>\n",
       "      <td id=\"T_d2444_row1_col1\" class=\"data row1 col1\" >87</td>\n",
       "      <td id=\"T_d2444_row1_col2\" class=\"data row1 col2\" >89</td>\n",
       "      <td id=\"T_d2444_row1_col3\" class=\"data row1 col3\" >11</td>\n",
       "      <td id=\"T_d2444_row1_col4\" class=\"data row1 col4\" >3</td>\n",
       "      <td id=\"T_d2444_row1_col5\" class=\"data row1 col5\" >40</td>\n",
       "      <td id=\"T_d2444_row1_col6\" class=\"data row1 col6\" >9</td>\n",
       "      <td id=\"T_d2444_row1_col7\" class=\"data row1 col7\" >47</td>\n",
       "      <td id=\"T_d2444_row1_col8\" class=\"data row1 col8\" >89</td>\n",
       "      <td id=\"T_d2444_row1_col9\" class=\"data row1 col9\" >11</td>\n",
       "    </tr>\n",
       "  </tbody>\n",
       "</table>\n"
      ],
      "text/plain": [
       "<pandas.io.formats.style.Styler at 0x1c08a6598d0>"
      ]
     },
     "execution_count": 32,
     "metadata": {},
     "output_type": "execute_result"
    }
   ],
   "source": [
    "CAT_table_combined.style.format(precision=0).background_gradient(cmap='Blues', axis='rows')"
   ]
  },
  {
   "cell_type": "markdown",
   "metadata": {},
   "source": [
    "### Sankey plots"
   ]
  },
  {
   "cell_type": "code",
   "execution_count": 137,
   "metadata": {},
   "outputs": [],
   "source": [
    "def sankey_plot(data_categories):\n",
    "    data_categories_feasible = data_categories[data_categories['infeasible'] == False]\n",
    "    upper_bound_list = []\n",
    "    upper_bound_color = []\n",
    "    for i in range(data_categories_feasible.shape[0]):\n",
    "        if data_categories_feasible['decreasing_ub'].iloc[i] == True and data_categories_feasible['increasing_ub'].iloc[i] == True:\n",
    "            upper_bound_list.append(5)\n",
    "            upper_bound_color.append('#19D3F3')\n",
    "        elif data_categories_feasible['increasing_ub'].iloc[i] == True:\n",
    "            upper_bound_list.append(6)\n",
    "            upper_bound_color.append('#FF6692')\n",
    "        elif data_categories_feasible['decreasing_ub'].iloc[i] == True:\n",
    "            upper_bound_list.append(7)\n",
    "            upper_bound_color.append('#B6E880')\n",
    "        else:\n",
    "            upper_bound_list.append(8)\n",
    "            upper_bound_color.append('#FF97FF')\n",
    "\n",
    "    label_list = ['genes', 'feasible', 'infeasible', 'zero lb', 'non-zero lb', 'flat ub', 'increasing ub', 'decreasing ub', 'mixture ub', 'Baynorm<br>consistent', 'inconsistent']\n",
    "    # all start at 0: 'genes'\n",
    "    source = [0 for i in range(data_categories.shape[0])] + \\\n",
    "            [1 for i in range(data_categories_feasible.shape[0])] + \\\n",
    "            [3 if flag else 4 for flag in data_categories_feasible['zero_lb']] + \\\n",
    "            upper_bound_list + \\\n",
    "            [2]\n",
    "    # color of links\n",
    "    color = ['#636EFA' for i in range(data_categories.shape[0])] + \\\n",
    "            ['#EF553B' for i in range(data_categories_feasible.shape[0])] + \\\n",
    "            ['#AB63FA' if flag else '#FFA15A' for flag in data_categories_feasible['zero_lb']] + \\\n",
    "            upper_bound_color + \\\n",
    "            ['rgba(0,0,0,0)']\n",
    "    # True / False of category decides target\n",
    "    target = [2 if flag else 1 for flag in data_categories['infeasible']] + \\\n",
    "            [3 if flag else 4 for flag in data_categories_feasible['zero_lb']] + \\\n",
    "            upper_bound_list + \\\n",
    "            [9 if flag else 10 for flag in data_categories_feasible['baynorm_consistent']] + \\\n",
    "            [10]\n",
    "    # all have equal weight\n",
    "    count = [1 for i in source]\n",
    "\n",
    "    config = {\n",
    "        'toImageButtonOptions': {\n",
    "            'format': 'png', # one of png, svg, jpeg, webp\n",
    "            'filename': 'custom_image',\n",
    "            'height': 500,\n",
    "            'width': 1000,\n",
    "            'scale':6 # Multiply title/legend/axis/canvas sizes by this factor\n",
    "            }\n",
    "        }   \n",
    "    \n",
    "    fig = go.Figure(data=[go.Sankey(\n",
    "        node = {\"label\": label_list},\n",
    "        link = {\"source\": source, \"target\": target, \"value\": count, \"color\": color}\n",
    "        )])\n",
    "    fig.update_layout(font_size=15)\n",
    "    fig.show(config=config)"
   ]
  },
  {
   "cell_type": "code",
   "execution_count": null,
   "metadata": {},
   "outputs": [],
   "source": [
    "sankey_plot(CAT_NLP)"
   ]
  },
  {
   "cell_type": "markdown",
   "metadata": {},
   "source": [
    "## Selected genes\n",
    "\n",
    "For each intersection of categories we identify the genes that fall into this set and select some to run using all methods. This allows comparison between methods without having to run more computationally expensive methods on whole datasets.\n",
    "\n",
    "- infeasible genes: see if they can be estimated using other methods\n",
    "- flat ub: see if both zero lb and non zero lb can improve (either way)\n",
    "- increasing ub (automatically non zero lb (for most datasets))\n",
    "- decreasing ub: both zero and non zero lb\n",
    "- mixed ub: both\n",
    "\n",
    "Also plot against baynorm estimates to see how they compare to a variety of examples and methods"
   ]
  },
  {
   "cell_type": "markdown",
   "metadata": {},
   "source": [
    "## Infeasible"
   ]
  },
  {
   "cell_type": "code",
   "execution_count": 33,
   "metadata": {},
   "outputs": [
    {
     "data": {
      "text/plain": [
       "Index([   1,   27,   29,   50,   56,   71,   73,   82,  124,  133,\n",
       "       ...\n",
       "       3872, 3878, 3885, 3894, 3900, 3905, 3943, 3947, 3951, 3955],\n",
       "      dtype='int64', length=315)"
      ]
     },
     "execution_count": 33,
     "metadata": {},
     "output_type": "execute_result"
    }
   ],
   "source": [
    "# infeasible genes\n",
    "CAT_LP_cast_concat[CAT_LP_cast_concat[\"infeasible\"]].index"
   ]
  },
  {
   "cell_type": "markdown",
   "metadata": {},
   "source": [
    "## flat ub, zero lb"
   ]
  },
  {
   "cell_type": "code",
   "execution_count": 33,
   "metadata": {},
   "outputs": [
    {
     "name": "stderr",
     "output_type": "stream",
     "text": [
      "C:\\Users\\willi\\AppData\\Local\\Temp\\ipykernel_30264\\3776394555.py:2: UserWarning: Boolean Series key will be reindexed to match DataFrame index.\n",
      "  CAT_LP_cast_concat[CAT_LP_cast_concat['increasing_ub'] == True][CAT_LP_cast_concat['decreasing_ub'] == True][CAT_LP_cast_concat['zero_lb'] == True].index\n",
      "C:\\Users\\willi\\AppData\\Local\\Temp\\ipykernel_30264\\3776394555.py:2: UserWarning: Boolean Series key will be reindexed to match DataFrame index.\n",
      "  CAT_LP_cast_concat[CAT_LP_cast_concat['increasing_ub'] == True][CAT_LP_cast_concat['decreasing_ub'] == True][CAT_LP_cast_concat['zero_lb'] == True].index\n"
     ]
    },
    {
     "data": {
      "text/plain": [
       "Index([   0,    2,    5,    9,   15,   17,   18,   20,   23,   25,\n",
       "       ...\n",
       "       3920, 3926, 3929, 3931, 3940, 3941, 3948, 3949, 3959, 3961],\n",
       "      dtype='int64', length=1165)"
      ]
     },
     "execution_count": 33,
     "metadata": {},
     "output_type": "execute_result"
    }
   ],
   "source": [
    "# flat ub, zero lb\n",
    "CAT_LP_cast_concat[CAT_LP_cast_concat['increasing_ub'] == True][CAT_LP_cast_concat['decreasing_ub'] == True][CAT_LP_cast_concat['zero_lb'] == True].index"
   ]
  },
  {
   "cell_type": "code",
   "execution_count": 36,
   "metadata": {},
   "outputs": [
    {
     "data": {
      "image/png": "[encoded data removed]",
      "text/plain": [
       "<Figure size 640x480 with 1 Axes>"
      ]
     },
     "metadata": {},
     "output_type": "display_data"
    }
   ],
   "source": [
    "i = 0\n",
    "result = LP_cast_concat.iloc[i]\n",
    "plot_dist(result, label=\"LP\")"
   ]
  },
  {
   "cell_type": "markdown",
   "metadata": {},
   "source": [
    "## flat ub, non-zero lb"
   ]
  },
  {
   "cell_type": "code",
   "execution_count": 32,
   "metadata": {},
   "outputs": [
    {
     "name": "stderr",
     "output_type": "stream",
     "text": [
      "C:\\Users\\willi\\AppData\\Local\\Temp\\ipykernel_30264\\520295508.py:2: UserWarning: Boolean Series key will be reindexed to match DataFrame index.\n",
      "  CAT_LP_cast_concat[CAT_LP_cast_concat['increasing_ub'] == True][CAT_LP_cast_concat['decreasing_ub'] == True][CAT_LP_cast_concat['zero_lb'] == False].index\n",
      "C:\\Users\\willi\\AppData\\Local\\Temp\\ipykernel_30264\\520295508.py:2: UserWarning: Boolean Series key will be reindexed to match DataFrame index.\n",
      "  CAT_LP_cast_concat[CAT_LP_cast_concat['increasing_ub'] == True][CAT_LP_cast_concat['decreasing_ub'] == True][CAT_LP_cast_concat['zero_lb'] == False].index\n"
     ]
    },
    {
     "data": {
      "text/plain": [
       "Index([1630, 3707], dtype='int64')"
      ]
     },
     "execution_count": 32,
     "metadata": {},
     "output_type": "execute_result"
    }
   ],
   "source": [
    "# flat ub, non-zero lb\n",
    "CAT_LP_cast_concat[CAT_LP_cast_concat['increasing_ub'] == True][CAT_LP_cast_concat['decreasing_ub'] == True][CAT_LP_cast_concat['zero_lb'] == False].index"
   ]
  },
  {
   "cell_type": "code",
   "execution_count": 46,
   "metadata": {},
   "outputs": [
    {
     "name": "stderr",
     "output_type": "stream",
     "text": [
      "C:\\Users\\willi\\AppData\\Local\\Temp\\ipykernel_10664\\2200530117.py:2: UserWarning: Boolean Series key will be reindexed to match DataFrame index.\n",
      "  CAT_LP_cast_mesc[CAT_LP_cast_mesc['increasing_ub'] == True][CAT_LP_cast_mesc['decreasing_ub'] == True][CAT_LP_cast_mesc['zero_lb'] == False].index\n",
      "C:\\Users\\willi\\AppData\\Local\\Temp\\ipykernel_10664\\2200530117.py:2: UserWarning: Boolean Series key will be reindexed to match DataFrame index.\n",
      "  CAT_LP_cast_mesc[CAT_LP_cast_mesc['increasing_ub'] == True][CAT_LP_cast_mesc['decreasing_ub'] == True][CAT_LP_cast_mesc['zero_lb'] == False].index\n"
     ]
    },
    {
     "data": {
      "text/plain": [
       "Index([], dtype='int64')"
      ]
     },
     "execution_count": 46,
     "metadata": {},
     "output_type": "execute_result"
    }
   ],
   "source": [
    "# flat ub, non-zero lb\n",
    "CAT_LP_cast_mesc[CAT_LP_cast_mesc['increasing_ub'] == True][CAT_LP_cast_mesc['decreasing_ub'] == True][CAT_LP_cast_mesc['zero_lb'] == False].index"
   ]
  },
  {
   "cell_type": "code",
   "execution_count": 43,
   "metadata": {},
   "outputs": [
    {
     "data": {
      "image/png": "[encoded data removed]",
      "text/plain": [
       "<Figure size 640x480 with 1 Axes>"
      ]
     },
     "metadata": {},
     "output_type": "display_data"
    }
   ],
   "source": [
    "i = 608\n",
    "result = LP_c57_mesc.iloc[i]\n",
    "plot_dist(result, label=\"LP\")"
   ]
  },
  {
   "cell_type": "markdown",
   "metadata": {},
   "source": [
    "## inc ub, zero lb"
   ]
  },
  {
   "cell_type": "code",
   "execution_count": 36,
   "metadata": {},
   "outputs": [
    {
     "name": "stderr",
     "output_type": "stream",
     "text": [
      "C:\\Users\\willi\\AppData\\Local\\Temp\\ipykernel_30264\\2828419015.py:2: UserWarning: Boolean Series key will be reindexed to match DataFrame index.\n",
      "  CAT_LP_cast_concat[CAT_LP_cast_concat['increasing_ub'] == True][CAT_LP_cast_concat['decreasing_ub'] == False][CAT_LP_cast_concat['zero_lb'] == True].index\n",
      "C:\\Users\\willi\\AppData\\Local\\Temp\\ipykernel_30264\\2828419015.py:2: UserWarning: Boolean Series key will be reindexed to match DataFrame index.\n",
      "  CAT_LP_cast_concat[CAT_LP_cast_concat['increasing_ub'] == True][CAT_LP_cast_concat['decreasing_ub'] == False][CAT_LP_cast_concat['zero_lb'] == True].index\n"
     ]
    },
    {
     "data": {
      "text/plain": [
       "Index([   3,    8,   11,   12,   14,   16,   19,   28,   32,   34,\n",
       "       ...\n",
       "       3939, 3942, 3950, 3952, 3953, 3954, 3956, 3957, 3958, 3962],\n",
       "      dtype='int64', length=1018)"
      ]
     },
     "execution_count": 36,
     "metadata": {},
     "output_type": "execute_result"
    }
   ],
   "source": [
    "# (only) increasing ub, zero lb\n",
    "CAT_LP_cast_concat[CAT_LP_cast_concat['increasing_ub'] == True][CAT_LP_cast_concat['decreasing_ub'] == False][CAT_LP_cast_concat['zero_lb'] == True].index"
   ]
  },
  {
   "cell_type": "code",
   "execution_count": 52,
   "metadata": {},
   "outputs": [
    {
     "data": {
      "image/png": "[encoded data removed]",
      "text/plain": [
       "<Figure size 640x480 with 1 Axes>"
      ]
     },
     "metadata": {},
     "output_type": "display_data"
    }
   ],
   "source": [
    "i = 14\n",
    "result = LP_cast_concat.iloc[i]\n",
    "plot_dist(result, label=\"LP\")"
   ]
  },
  {
   "cell_type": "markdown",
   "metadata": {},
   "source": [
    "## inc ub, non-zero lb"
   ]
  },
  {
   "cell_type": "code",
   "execution_count": 55,
   "metadata": {},
   "outputs": [
    {
     "name": "stderr",
     "output_type": "stream",
     "text": [
      "C:\\Users\\willi\\AppData\\Local\\Temp\\ipykernel_10664\\2093820031.py:2: UserWarning: Boolean Series key will be reindexed to match DataFrame index.\n",
      "  CAT_LP_cast_mesc[CAT_LP_cast_mesc['increasing_ub'] == True][CAT_LP_cast_mesc['decreasing_ub'] == False][CAT_LP_cast_mesc['zero_lb'] == False].index\n",
      "C:\\Users\\willi\\AppData\\Local\\Temp\\ipykernel_10664\\2093820031.py:2: UserWarning: Boolean Series key will be reindexed to match DataFrame index.\n",
      "  CAT_LP_cast_mesc[CAT_LP_cast_mesc['increasing_ub'] == True][CAT_LP_cast_mesc['decreasing_ub'] == False][CAT_LP_cast_mesc['zero_lb'] == False].index\n"
     ]
    },
    {
     "data": {
      "text/plain": [
       "Index([770, 1061, 3044, 3430], dtype='int64')"
      ]
     },
     "execution_count": 55,
     "metadata": {},
     "output_type": "execute_result"
    }
   ],
   "source": [
    "# (only) increasing ub, non-zero lb\n",
    "CAT_LP_cast_mesc[CAT_LP_cast_mesc['increasing_ub'] == True][CAT_LP_cast_mesc['decreasing_ub'] == False][CAT_LP_cast_mesc['zero_lb'] == False].index"
   ]
  },
  {
   "cell_type": "code",
   "execution_count": 60,
   "metadata": {},
   "outputs": [
    {
     "data": {
      "image/png": "[encoded data removed]",
      "text/plain": [
       "<Figure size 640x480 with 1 Axes>"
      ]
     },
     "metadata": {},
     "output_type": "display_data"
    }
   ],
   "source": [
    "i = 3044\n",
    "result = LP_cast_mesc.iloc[i]\n",
    "plot_dist(result, label=\"LP\")"
   ]
  },
  {
   "cell_type": "markdown",
   "metadata": {},
   "source": [
    "## dec ub, zero lb"
   ]
  },
  {
   "cell_type": "code",
   "execution_count": 81,
   "metadata": {},
   "outputs": [
    {
     "name": "stderr",
     "output_type": "stream",
     "text": [
      "C:\\Users\\willi\\AppData\\Local\\Temp\\ipykernel_10664\\2801838222.py:2: UserWarning: Boolean Series key will be reindexed to match DataFrame index.\n",
      "  idx = CAT_LP_cast_concat[CAT_LP_cast_concat['increasing_ub'] == False][CAT_LP_cast_concat['decreasing_ub'] == True][CAT_LP_cast_concat['zero_lb'] == True].index\n",
      "C:\\Users\\willi\\AppData\\Local\\Temp\\ipykernel_10664\\2801838222.py:2: UserWarning: Boolean Series key will be reindexed to match DataFrame index.\n",
      "  idx = CAT_LP_cast_concat[CAT_LP_cast_concat['increasing_ub'] == False][CAT_LP_cast_concat['decreasing_ub'] == True][CAT_LP_cast_concat['zero_lb'] == True].index\n"
     ]
    }
   ],
   "source": [
    "# (only) decreasing ub, zero lb\n",
    "idx = CAT_LP_cast_concat[CAT_LP_cast_concat['increasing_ub'] == False][CAT_LP_cast_concat['decreasing_ub'] == True][CAT_LP_cast_concat['zero_lb'] == True].index"
   ]
  },
  {
   "cell_type": "code",
   "execution_count": 85,
   "metadata": {},
   "outputs": [
    {
     "data": {
      "text/plain": [
       "Index([13, 21, 22, 37, 39, 41, 51, 54, 60, 70, 80, 90, 92, 99, 104, 105, 114,\n",
       "       126, 130],\n",
       "      dtype='int64')"
      ]
     },
     "execution_count": 85,
     "metadata": {},
     "output_type": "execute_result"
    }
   ],
   "source": [
    "idx[1:20]"
   ]
  },
  {
   "cell_type": "code",
   "execution_count": 90,
   "metadata": {},
   "outputs": [
    {
     "data": {
      "image/png": "[encoded data removed]",
      "text/plain": [
       "<Figure size 640x480 with 1 Axes>"
      ]
     },
     "metadata": {},
     "output_type": "display_data"
    }
   ],
   "source": [
    "i = 70 #3918\n",
    "result = LP_cast_concat.iloc[i]\n",
    "plot_dist(result, label=\"LP\")"
   ]
  },
  {
   "cell_type": "markdown",
   "metadata": {},
   "source": [
    "# dec ub, non-zero lb"
   ]
  },
  {
   "cell_type": "code",
   "execution_count": 39,
   "metadata": {},
   "outputs": [
    {
     "name": "stderr",
     "output_type": "stream",
     "text": [
      "C:\\Users\\willi\\AppData\\Local\\Temp\\ipykernel_30264\\3997009307.py:2: UserWarning: Boolean Series key will be reindexed to match DataFrame index.\n",
      "  CAT_LP_cast_concat[CAT_LP_cast_concat['increasing_ub'] == False][CAT_LP_cast_concat['decreasing_ub'] == True][CAT_LP_cast_concat['zero_lb'] == False].index\n",
      "C:\\Users\\willi\\AppData\\Local\\Temp\\ipykernel_30264\\3997009307.py:2: UserWarning: Boolean Series key will be reindexed to match DataFrame index.\n",
      "  CAT_LP_cast_concat[CAT_LP_cast_concat['increasing_ub'] == False][CAT_LP_cast_concat['decreasing_ub'] == True][CAT_LP_cast_concat['zero_lb'] == False].index\n"
     ]
    },
    {
     "data": {
      "text/plain": [
       "Index([   4,   10,   24,   26,   42,   44,   47,   91,   98,  107,\n",
       "       ...\n",
       "       3818, 3842, 3843, 3849, 3855, 3904, 3907, 3912, 3924, 3933],\n",
       "      dtype='int64', length=305)"
      ]
     },
     "execution_count": 39,
     "metadata": {},
     "output_type": "execute_result"
    }
   ],
   "source": [
    "# (only) decreasing ub, non-zero lb\n",
    "CAT_LP_cast_concat[CAT_LP_cast_concat['increasing_ub'] == False][CAT_LP_cast_concat['decreasing_ub'] == True][CAT_LP_cast_concat['zero_lb'] == False].index"
   ]
  },
  {
   "cell_type": "code",
   "execution_count": 102,
   "metadata": {},
   "outputs": [
    {
     "data": {
      "image/png": "[encoded data removed]",
      "text/plain": [
       "<Figure size 640x480 with 1 Axes>"
      ]
     },
     "metadata": {},
     "output_type": "display_data"
    }
   ],
   "source": [
    "i = 3818\n",
    "result = LP_cast_concat.iloc[i]\n",
    "plot_dist(result, label=\"LP\")"
   ]
  },
  {
   "cell_type": "markdown",
   "metadata": {},
   "source": [
    "## mixed ub, zero lb"
   ]
  },
  {
   "cell_type": "code",
   "execution_count": 147,
   "metadata": {},
   "outputs": [
    {
     "name": "stderr",
     "output_type": "stream",
     "text": [
      "C:\\Users\\willi\\AppData\\Local\\Temp\\ipykernel_10664\\2475602900.py:2: UserWarning: Boolean Series key will be reindexed to match DataFrame index.\n",
      "  idx = CAT_LP_cast_concat[CAT_LP_cast_concat['increasing_ub'] == False][CAT_LP_cast_concat['decreasing_ub'] == False][CAT_LP_cast_concat['zero_lb'] == True].index\n",
      "C:\\Users\\willi\\AppData\\Local\\Temp\\ipykernel_10664\\2475602900.py:2: UserWarning: Boolean Series key will be reindexed to match DataFrame index.\n",
      "  idx = CAT_LP_cast_concat[CAT_LP_cast_concat['increasing_ub'] == False][CAT_LP_cast_concat['decreasing_ub'] == False][CAT_LP_cast_concat['zero_lb'] == True].index\n"
     ]
    }
   ],
   "source": [
    "# mixed ub, non-zero lb\n",
    "idx = CAT_LP_cast_concat[CAT_LP_cast_concat['increasing_ub'] == False][CAT_LP_cast_concat['decreasing_ub'] == False][CAT_LP_cast_concat['zero_lb'] == True].index"
   ]
  },
  {
   "cell_type": "code",
   "execution_count": 171,
   "metadata": {},
   "outputs": [
    {
     "data": {
      "text/plain": [
       "Index([ 254,  258,  265,  293,  294,  296,  305,  313,  314,  322,\n",
       "       ...\n",
       "       3866, 3874, 3881, 3886, 3915, 3921, 3935, 3944, 3946, 3960],\n",
       "      dtype='int64', length=523)"
      ]
     },
     "execution_count": 171,
     "metadata": {},
     "output_type": "execute_result"
    }
   ],
   "source": [
    "idx[40:]"
   ]
  },
  {
   "cell_type": "code",
   "execution_count": 173,
   "metadata": {},
   "outputs": [
    {
     "data": {
      "image/png": "[encoded data removed]",
      "text/plain": [
       "<Figure size 640x480 with 1 Axes>"
      ]
     },
     "metadata": {},
     "output_type": "display_data"
    }
   ],
   "source": [
    "i = 258\n",
    "result = LP_cast_concat.iloc[i]\n",
    "plot_dist(result, label=\"LP\")"
   ]
  },
  {
   "cell_type": "markdown",
   "metadata": {},
   "source": [
    "## mixed ub, non-zero lb"
   ]
  },
  {
   "cell_type": "code",
   "execution_count": 41,
   "metadata": {},
   "outputs": [
    {
     "name": "stderr",
     "output_type": "stream",
     "text": [
      "C:\\Users\\willi\\AppData\\Local\\Temp\\ipykernel_30264\\985589618.py:2: UserWarning: Boolean Series key will be reindexed to match DataFrame index.\n",
      "  CAT_LP_cast_concat[CAT_LP_cast_concat['increasing_ub'] == False][CAT_LP_cast_concat['decreasing_ub'] == False][CAT_LP_cast_concat['zero_lb'] == False].index\n",
      "C:\\Users\\willi\\AppData\\Local\\Temp\\ipykernel_30264\\985589618.py:2: UserWarning: Boolean Series key will be reindexed to match DataFrame index.\n",
      "  CAT_LP_cast_concat[CAT_LP_cast_concat['increasing_ub'] == False][CAT_LP_cast_concat['decreasing_ub'] == False][CAT_LP_cast_concat['zero_lb'] == False].index\n"
     ]
    },
    {
     "data": {
      "text/plain": [
       "Index([  59,  145,  248,  284,  297,  331,  401,  458,  459,  474,  487,  615,\n",
       "        628,  629,  632,  674,  751,  777,  827, 1179, 1186, 1268, 1398, 1453,\n",
       "       1462, 1520, 1521, 1576, 1624, 1656, 1681, 1713, 1873, 1912, 1925, 1938,\n",
       "       1995, 2010, 2077, 2111, 2201, 2231, 2269, 2280, 2328, 2398, 2403, 2414,\n",
       "       2464, 2472, 2484, 2535, 2686, 2768, 2785, 2809, 2812, 2849, 2851, 2977,\n",
       "       3005, 3038, 3071, 3103, 3113, 3139, 3184, 3273, 3335, 3438, 3441, 3472,\n",
       "       3474, 3584, 3675, 3709, 3767, 3884, 3895, 3906, 3919],\n",
       "      dtype='int64')"
      ]
     },
     "execution_count": 41,
     "metadata": {},
     "output_type": "execute_result"
    }
   ],
   "source": [
    "# mixed ub, non-zero lb\n",
    "CAT_LP_cast_concat[CAT_LP_cast_concat['increasing_ub'] == False][CAT_LP_cast_concat['decreasing_ub'] == False][CAT_LP_cast_concat['zero_lb'] == False].index"
   ]
  },
  {
   "cell_type": "code",
   "execution_count": 207,
   "metadata": {},
   "outputs": [
    {
     "data": {
      "image/png": "[encoded data removed]",
      "text/plain": [
       "<Figure size 640x480 with 1 Axes>"
      ]
     },
     "metadata": {},
     "output_type": "display_data"
    }
   ],
   "source": [
    "i = 1912\n",
    "result = LP_cast_concat.iloc[i]\n",
    "plot_dist(result, label=\"LP\")"
   ]
  },
  {
   "cell_type": "markdown",
   "metadata": {},
   "source": [
    "### Results"
   ]
  },
  {
   "cell_type": "code",
   "execution_count": 139,
   "metadata": {},
   "outputs": [
    {
     "data": {
      "image/png": "[encoded data removed]",
      "text/plain": [
       "<Figure size 640x480 with 1 Axes>"
      ]
     },
     "metadata": {},
     "output_type": "display_data"
    }
   ],
   "source": [
    "i = 46\n",
    "result = LP_cast_concat.iloc[i]\n",
    "b_est = prior_cast_concat.iloc[i]['B_EST']\n",
    "plot_dist(result, b_est=b_est)"
   ]
  }
 ],
 "metadata": {
  "kernelspec": {
   "display_name": "Proj_venv",
   "language": "python",
   "name": "python3"
  },
  "language_info": {
   "codemirror_mode": {
    "name": "ipython",
    "version": 3
   },
   "file_extension": ".py",
   "mimetype": "text/x-python",
   "name": "python",
   "nbconvert_exporter": "python",
   "pygments_lexer": "ipython3",
   "version": "3.10.11"
  }
 },
 "nbformat": 4,
 "nbformat_minor": 2
}
