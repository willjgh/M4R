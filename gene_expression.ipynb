{
 "cells": [
  {
   "cell_type": "code",
   "execution_count": 1,
   "metadata": {},
   "outputs": [],
   "source": [
    "import math, random\n",
    "import matplotlib.pyplot as plt\n",
    "import matplotlib.colors as mcolors\n",
    "import numpy as np\n",
    "import cvxpy as cv"
   ]
  },
  {
   "cell_type": "markdown",
   "metadata": {},
   "source": [
    "# Gene Expression model\n",
    "\n",
    "A gene can either be on or off, in the on state a molecule M can be created, M degrades regardless of the gene state:\n",
    "\n",
    "$ G_{off} \\underset{k_{off}}{\\stackrel{k_{on}}{\\rightleftharpoons}} G_{on} $\n",
    "\n",
    "$ G_{on} \\stackrel{k_{tx}}\\longrightarrow G_{on} + M $\n",
    "\n",
    "$ M \\stackrel{k_{deg}}\\longrightarrow \\varnothing $\n",
    "\n",
    "However, in practice we can only observe the state/number of molecules M, not the state of gene expression:\n",
    "\n",
    "We observe the marginal $\\bar{p}(m)$ and not $p(m,0)$ or $p(m,1)$\n",
    "\n",
    "State space:\n",
    "\n",
    "$ (m,g) \\in \\mathbb{N} \\times \\{0,1\\} $ where g = 0 corresponds to $ G_{off} $ and g = 1 to $ G_{on} $"
   ]
  },
  {
   "cell_type": "markdown",
   "metadata": {},
   "source": [
    "# Simulation\n",
    "\n",
    "First we need to simulate paths of the model, so long term averages to approximate the stationary distribution can be found\n",
    "\n",
    "Use Gillespie to simulate exponential holding times, and transition probabilities given reaction rates:"
   ]
  },
  {
   "cell_type": "code",
   "execution_count": 2,
   "metadata": {},
   "outputs": [],
   "source": [
    "def sample_path_gene(initial_state, params, tmax, plot=False):\n",
    "    \"\"\"\n",
    "    Simulate a sample path of gene expression\n",
    "    start at initial state, run until time tmax, rates in params\n",
    "    return visited states and jump times\n",
    "    \"\"\"\n",
    "\n",
    "    # initialise time and state (also store jump times)\n",
    "    t = 0\n",
    "    path = [(initial_state[0],initial_state[1])]\n",
    "    jump_times = [0]\n",
    "    k_on, k_off, k_tx, k_deg = params[0], params[1], params[2], params[3]\n",
    "\n",
    "    # simulate until stopping time\n",
    "    while t < tmax:\n",
    "        # simulate holding time of current state (m,g)\n",
    "        m, g = path[-1][0], path[-1][1]\n",
    "\n",
    "        # define rates\n",
    "        # q(x,x+(0,1)): gene turns on if off\n",
    "        q_on = (1 - g) * k_on\n",
    "        # q(x,x+(0,-1)): gene turns off if on\n",
    "        q_off = g * k_off\n",
    "        # q(x,x+(1,0)): transscription if gene on\n",
    "        q_tx = g * k_tx\n",
    "        # q(x,x+(-1,0)): degradation if  there are molecules\n",
    "        q_deg = m * k_deg\n",
    "        # -q(x,x): holding rate = sum q(x,y) over y\n",
    "        q_hold = q_on + q_off + q_tx + q_deg\n",
    "\n",
    "        # exponential holding time of state\n",
    "        t_hold = -math.log(random.random()) / q_hold\n",
    "        t += t_hold\n",
    "        jump_times.append(t)\n",
    "\n",
    "        # jump probability\n",
    "        # P(x -> y) = q_xy / q_hold\n",
    "        outcome = [1,2,3,4]\n",
    "        prob = [q_on / q_hold, q_off / q_hold, q_tx / q_hold, q_deg / q_hold]\n",
    "        jump = np.random.choice(outcome,p=prob)\n",
    "        # jump to new state\n",
    "        if jump == 1:\n",
    "            path.append((m,g + 1))\n",
    "        elif jump == 2:\n",
    "            path.append((m,g - 1))\n",
    "        elif jump == 3:\n",
    "            path.append((m + 1,g))\n",
    "        elif jump == 4:\n",
    "            path.append((m - 1,g))\n",
    "\n",
    "    if plot:\n",
    "        # separate paths\n",
    "        m_path = [state[0] for state in path]\n",
    "        g_path = [state[1] for state in path]\n",
    "        plt.scatter(jump_times, m_path, c=g_path, ec='k')\n",
    "\n",
    "        # defined colour plotting\n",
    "        #cmap, norm = mcolors.from_levels_and_colors([0, 1, 2], ['orange','blue'])\n",
    "        #plt.scatter(jump_times, m_list, c=g_list, cmap=cmap, norm=norm)\n",
    "\n",
    "    return path, jump_times"
   ]
  },
  {
   "cell_type": "markdown",
   "metadata": {},
   "source": [
    "Short example path to check:\n",
    "- yellow <=> gene on\n",
    "- purple <=> gene off\n",
    "- only increases m when gene on, constant decrease regardless of gene"
   ]
  },
  {
   "cell_type": "code",
   "execution_count": 3,
   "metadata": {},
   "outputs": [
    {
     "data": {
      "image/png": "[encoded data removed]",
      "text/plain": [
       "<Figure size 640x480 with 1 Axes>"
      ]
     },
     "metadata": {},
     "output_type": "display_data"
    }
   ],
   "source": [
    "path, jump = sample_path_gene([0,0],[1,1,1,1],10,plot=True)"
   ]
  },
  {
   "cell_type": "markdown",
   "metadata": {},
   "source": [
    "# Bootstrapping\n",
    "\n",
    "Method:\n",
    "- simulate path up to time t (sufficiently large for stationarity behaviour)\n",
    "- record final state (a sample from the stationary distribution)\n",
    "- repeat for n samples\n",
    "\n",
    "bootstrapping:\n",
    "- sample with replacement to obtain N bootstrap samples from the n values\n",
    "- calculate the proportion of states x for each sample (estimate of p(x))\n",
    "- find Confidence Intervals for each estimate\n"
   ]
  },
  {
   "cell_type": "markdown",
   "metadata": {},
   "source": [
    "We first consider CIs for all states (m,g)"
   ]
  },
  {
   "cell_type": "code",
   "execution_count": 10,
   "metadata": {},
   "outputs": [],
   "source": [
    "def bootstrap(x_list, initial_state, params, tmax, n, N, plot=False, printing=False):\n",
    "    \"\"\"\n",
    "    x_list: states to calculate probabilities for\n",
    "    initial state\n",
    "    parameters\n",
    "    tmax: time of path before sample\n",
    "    n = number of simulated samples\n",
    "    N = number of bootstrap samples\n",
    "    \"\"\"\n",
    "\n",
    "    # simulate n samples\n",
    "    states = []\n",
    "    for i in range(n):\n",
    "        path, jumps = sample_path_gene(initial_state, params, tmax, plot=plot)\n",
    "        states.append(path[-2]) # last state before tmax\n",
    "    plt.show()\n",
    "\n",
    "    # simulate N bootstrap samples: estimates p(x) for each, and for each x\n",
    "    estimates = [[] for x in x_list]\n",
    "    for i in range(N):\n",
    "        sample = random.choices(states,k = n)\n",
    "        for i, x in enumerate(x_list):\n",
    "            estimates[i].append(sample.count(x) / n)\n",
    "\n",
    "    # create confidence intervals (95%) via 2.5%, 97.5% quantiles for each x\n",
    "    intervals = [np.quantile(est,[0.025,0.975]) for est in estimates]\n",
    "    \n",
    "    # plot histograms and CI\n",
    "    for i, x in enumerate(x_list):\n",
    "        if printing:\n",
    "            print(f\"95% CI for p({x}) is: ({intervals[i][0]}, {intervals[i][1]})\")\n",
    "        if plot:\n",
    "            plt.hist(estimates[i])\n",
    "            plt.title(f\"Hist of p({x})\")\n",
    "            plt.axvline(intervals[i][0], color=\"red\")\n",
    "            plt.axvline(intervals[i][1], color=\"red\")\n",
    "            plt.show()\n",
    "\n",
    "    # return CIs\n",
    "    return estimates, intervals"
   ]
  },
  {
   "cell_type": "code",
   "execution_count": 5,
   "metadata": {},
   "outputs": [
    {
     "data": {
      "image/png": "[encoded data removed]",
      "text/plain": [
       "<Figure size 640x480 with 1 Axes>"
      ]
     },
     "metadata": {},
     "output_type": "display_data"
    },
    {
     "name": "stdout",
     "output_type": "stream",
     "text": [
      "95% CI for p((0, 0)) is: (0.353975, 0.414025)\n"
     ]
    },
    {
     "data": {
      "image/png": "[encoded data removed]",
      "text/plain": [
       "<Figure size 640x480 with 1 Axes>"
      ]
     },
     "metadata": {},
     "output_type": "display_data"
    },
    {
     "name": "stdout",
     "output_type": "stream",
     "text": [
      "95% CI for p((0, 1)) is: (0.235, 0.289)\n"
     ]
    },
    {
     "data": {
      "image/png": "[encoded data removed]",
      "text/plain": [
       "<Figure size 640x480 with 1 Axes>"
      ]
     },
     "metadata": {},
     "output_type": "display_data"
    },
    {
     "name": "stdout",
     "output_type": "stream",
     "text": [
      "95% CI for p((1, 0)) is: (0.076, 0.11302499999999999)\n"
     ]
    },
    {
     "data": {
      "image/png": "[encoded data removed]",
      "text/plain": [
       "<Figure size 640x480 with 1 Axes>"
      ]
     },
     "metadata": {},
     "output_type": "display_data"
    },
    {
     "name": "stdout",
     "output_type": "stream",
     "text": [
      "95% CI for p((1, 1)) is: (0.146, 0.191)\n"
     ]
    },
    {
     "data": {
      "image/png": "[encoded data removed]",
      "text/plain": [
       "<Figure size 640x480 with 1 Axes>"
      ]
     },
     "metadata": {},
     "output_type": "display_data"
    }
   ],
   "source": [
    "estimates, intervals = bootstrap([(0,0),(0,1),(1,0),(1,1)],[0,0],[1,1,1,1],100,1000,1000,plot=True,printing=True)"
   ]
  },
  {
   "cell_type": "markdown",
   "metadata": {},
   "source": [
    "# Marginal\n",
    "\n",
    "Now consider forming confidence intervals for the marginal stationary distribution of the chain, when no information on g is available.\n",
    "\n",
    "Marginal: $ \\bar{p}(m) = p(m,0) + p(m,1) $\n",
    "\n",
    "#### Method:\n",
    "- perform simuation as before, but compute estimates and CI's only over m values\n",
    "- directly gives CI on marginal"
   ]
  },
  {
   "cell_type": "code",
   "execution_count": 4,
   "metadata": {},
   "outputs": [],
   "source": [
    "def bootstrap_marginal(m_list, initial_state, params, tmax, n, N, plot=False, printing=False):\n",
    "    \"\"\"\n",
    "    m_list: marginal states of m to calculate probabilities for\n",
    "    initial state\n",
    "    parameters\n",
    "    tmax: time of path before sample\n",
    "    n = number of simulated samples\n",
    "    N = number of bootstrap samples\n",
    "    \"\"\"\n",
    "\n",
    "    # simulate n samples: (m,g)\n",
    "    states = []\n",
    "    for i in range(n):\n",
    "        path, jumps = sample_path_gene(initial_state, params, tmax, plot=plot)\n",
    "        states.append(path[-2]) # last state before tmax\n",
    "    plt.show()\n",
    "\n",
    "    # simulate N bootstrap samples: estimates p(m) for each, and for each m\n",
    "    estimates = [[] for x in m_list]\n",
    "    for i in range(N):\n",
    "        # sample with replacement from (m,g) samples\n",
    "        sample = random.choices(states,k = n)\n",
    "        # take just marginal m information\n",
    "        m_sample = [state[0] for state in sample]\n",
    "        # estimate p(m) from marginal info\n",
    "        for i, x in enumerate(m_list):\n",
    "            estimates[i].append(m_sample.count(x) / n)\n",
    "\n",
    "    # create confidence intervals (95%) via 2.5%, 97.5% quantiles for each x\n",
    "    intervals = [np.quantile(est,[0.025,0.975]) for est in estimates]\n",
    "    \n",
    "    # plot histograms and CI\n",
    "    for i, x in enumerate(m_list):\n",
    "        if printing:\n",
    "            print(f\"95% CI for p({x}) is: ({intervals[i][0]}, {intervals[i][1]})\")\n",
    "        if plot:\n",
    "            plt.hist(estimates[i])\n",
    "            plt.title(f\"Hist of p({x})\")\n",
    "            plt.axvline(intervals[i][0], color=\"red\")\n",
    "            plt.axvline(intervals[i][1], color=\"red\")\n",
    "            plt.show()\n",
    "\n",
    "    # return CIs\n",
    "    return estimates, intervals"
   ]
  },
  {
   "cell_type": "code",
   "execution_count": 7,
   "metadata": {},
   "outputs": [
    {
     "data": {
      "image/png": "[encoded data removed]",
      "text/plain": [
       "<Figure size 640x480 with 1 Axes>"
      ]
     },
     "metadata": {},
     "output_type": "display_data"
    },
    {
     "name": "stdout",
     "output_type": "stream",
     "text": [
      "95% CI for p(0) is: (0.604, 0.665)\n"
     ]
    },
    {
     "data": {
      "image/png": "[encoded data removed]",
      "text/plain": [
       "<Figure size 640x480 with 1 Axes>"
      ]
     },
     "metadata": {},
     "output_type": "display_data"
    },
    {
     "name": "stdout",
     "output_type": "stream",
     "text": [
      "95% CI for p(1) is: (0.231, 0.287)\n"
     ]
    },
    {
     "data": {
      "image/png": "[encoded data removed]",
      "text/plain": [
       "<Figure size 640x480 with 1 Axes>"
      ]
     },
     "metadata": {},
     "output_type": "display_data"
    }
   ],
   "source": [
    "estimates_marginal, intervals_marginal = bootstrap_marginal([0,1],[0,0],[1,1,1,1],100,1000,1000,plot=True,printing=True)"
   ]
  },
  {
   "cell_type": "markdown",
   "metadata": {},
   "source": [
    "# Linear Program\n",
    "\n",
    "Using bootstrap confidence intervals as bounds on the stationary distribution form LPs to bound parameters\n",
    "\n",
    "## (1) All states\n",
    "- initially find bounds for each state (m,g), use all information to solve LP"
   ]
  },
  {
   "cell_type": "code",
   "execution_count": 9,
   "metadata": {},
   "outputs": [
    {
     "name": "stdout",
     "output_type": "stream",
     "text": [
      "95% CI for p((0, 0)) is: (0.409975, 0.472025)\n",
      "95% CI for p((0, 1)) is: (0.317975, 0.383)\n",
      "95% CI for p((1, 0)) is: (0.05, 0.081)\n",
      "95% CI for p((1, 1)) is: (0.093, 0.13402499999999998)\n",
      "95% CI for p((2, 0)) is: (0.006, 0.019)\n",
      "95% CI for p((2, 1)) is: (0.007, 0.022)\n",
      "95% CI for p((3, 0)) is: (0.0, 0.007)\n",
      "95% CI for p((3, 1)) is: (0.0, 0.003)\n",
      "95% CI for p((4, 0)) is: (0.0, 0.0)\n",
      "95% CI for p((4, 1)) is: (0.0, 0.005)\n",
      "95% CI for p((5, 0)) is: (0.0, 0.0)\n",
      "95% CI for p((5, 1)) is: (0.0, 0.0)\n",
      "95% CI for p((6, 0)) is: (0.0, 0.0)\n",
      "95% CI for p((6, 1)) is: (0.0, 0.0)\n"
     ]
    }
   ],
   "source": [
    "states = [(0,0),(0,1),(1,0),(1,1),(2,0),(2,1),(3,0),(3,1),(4,0),(4,1),(5,0),(5,1),(6,0),(6,1)]\n",
    "estimates_test, intervals_test = bootstrap(states,[0,0],[1,1,0.5,1],100,1000,1000,plot=False,printing=True)"
   ]
  },
  {
   "cell_type": "code",
   "execution_count": 10,
   "metadata": {},
   "outputs": [
    {
     "name": "stdout",
     "output_type": "stream",
     "text": [
      "optimal\n",
      "\n",
      "The upper bound is 0.6762324083545114\n",
      "k_tx: [0.67623241]\n",
      "optimal\n",
      "\n",
      "The lower bound is 0.3733681461889978\n",
      "k_tx: [0.37336815]\n"
     ]
    },
    {
     "name": "stderr",
     "output_type": "stream",
     "text": [
      "c:\\Users\\willi\\Documents\\Year 4 Project Work\\Proj_venv\\lib\\site-packages\\cvxpy\\reductions\\solvers\\solving_chain.py:336: FutureWarning: \n",
      "    Your problem is being solved with the ECOS solver by default. Starting in \n",
      "    CVXPY 1.5.0, Clarabel will be used as the default solver instead. To continue \n",
      "    using ECOS, specify the ECOS solver explicitly using the ``solver=cp.ECOS`` \n",
      "    argument to the ``problem.solve`` method.\n",
      "    \n",
      "  warnings.warn(ECOS_DEPRECATION_MSG, FutureWarning)\n"
     ]
    }
   ],
   "source": [
    "# number of equations used (rows of Q)\n",
    "N = 3\n",
    "\n",
    "# create Qr matrices:\n",
    "# create N + 2 x N + 2 square and drop last 2 rows, as have 2 upper diagonals\n",
    "Q_on = (np.diag([-1 if not x % 2 else 0 for x in range(0,N+2)],0) +\n",
    "        np.diag([1 if not x % 2 else 0 for x in range(0,N+1)],-1))[:-2, :]\n",
    "Q_off = (np.diag([-1 if x % 2 else 0 for x in range(0,N+2)],0) +\n",
    "         np.diag([1 if not x % 2 else 0 for x in range(0,N+1)],1))[:-2, :]\n",
    "Q_tx = (np.diag([-1 if x % 2 else 0 for x in range(0,N+2)],0) +\n",
    "        np.diag([1 if x % 2 else 0 for x in range(0,N)],-2))[:-2, :]\n",
    "Q_deg = (np.diag([-1 if x > 1 else 0 for x in range(0,N+2)],0) +\n",
    "         np.diag([1 for x in range(0,N)],2))[:-2, :]\n",
    "\n",
    "# bounds from CI\n",
    "pl = [intr[0] for intr in intervals_test]\n",
    "pu = [intr[1] for intr in intervals_test]\n",
    "\n",
    "# define bounds\n",
    "pl = np.array(pl)[:N + 2]\n",
    "pu = np.array(pu)[:N + 2]\n",
    "\n",
    "# NOTE: truncate to N + 2, as 2 rows above diag, so Nth equation has N + 2 p's\n",
    "\n",
    "# Construct the problem.\n",
    "#k_on = cv.Variable(1)\n",
    "k_on = 1\n",
    "#k_off = cv.Variable(1)\n",
    "k_off = 1\n",
    "k_tx = cv.Variable(1)\n",
    "#k_tx = 0.5\n",
    "#k_deg = cv.Variable(1)\n",
    "k_deg = 1\n",
    "z_on = cv.Variable(N + 2)\n",
    "z_off = cv.Variable(N + 2)\n",
    "z_tx = cv.Variable(N + 2)\n",
    "z_deg = cv.Variable(N + 2)\n",
    "objective_max = cv.Maximize(k_tx)\n",
    "objective_min = cv.Minimize(k_tx)\n",
    "constraints = [Q_on @ z_on + Q_off @ z_off + Q_tx @ z_tx + Q_deg @ z_deg == 0,\n",
    "               k_on >= 0, k_off >= 0, k_tx >= 0, k_deg >= 0,\n",
    "               k_on * pl <= z_on, z_on <= k_on * pu,\n",
    "               k_off * pl <= z_off, z_off <= k_off * pu,\n",
    "               k_tx * pl <= z_tx, z_tx <= k_tx * pu,\n",
    "               k_deg * pl <= z_deg, z_deg <= k_deg * pu,\n",
    "               ]\n",
    "prob_max = cv.Problem(objective_max, constraints)\n",
    "prob_min = cv.Problem(objective_min, constraints)   \n",
    "\n",
    "# Print result.\n",
    "result_max = prob_max.solve()\n",
    "print(prob_max.status)\n",
    "print(\"\\nThe upper bound is\", prob_max.value)\n",
    "print(f\"k_tx: {k_tx.value}\")\n",
    "result_min = prob_min.solve()\n",
    "print(prob_min.status)\n",
    "print(\"\\nThe lower bound is\", prob_min.value)\n",
    "print(f\"k_tx: {k_tx.value}\")"
   ]
  },
  {
   "cell_type": "markdown",
   "metadata": {},
   "source": [
    "## Results:\n",
    "\n",
    "Using k_tx = 0.5, all others fixed to 1\n",
    "\n",
    "- Using N equations uses N + 2 p's, so after N = 3 bounds happen to be infeasible e.g. 5th p bounds may be wrong\n",
    "- However, good bounds on k_tx = 0.5 after only a few equations:\n",
    "\n",
    "N = 1: no bounds (no k_tx in first equations) \\\n",
    "N = 2: [0.44, 0.53] \\\n",
    "N = 3: [0.44, 0.51]\n"
   ]
  },
  {
   "cell_type": "markdown",
   "metadata": {},
   "source": [
    "## (2) Marginal states\n",
    "\n",
    "- use only bounds on states of m: $ \\bar{p}(m) = p(m,0) + p(m,1) $"
   ]
  },
  {
   "cell_type": "code",
   "execution_count": 5,
   "metadata": {},
   "outputs": [],
   "source": [
    "def gene_expression_LP(params, N, bounds, printing=False):\n",
    "\t# N = number of equations used (rows of Q)\n",
    "\t# NOTE: restrict to even atm (as p's enter as pairs)\n",
    "\n",
    "\t# number of marginals used\n",
    "\tM = int(N/2 + 1)\n",
    "\n",
    "\t# create Qr matrices:\n",
    "\t# create N + 2 x N + 2 square and drop last 2 rows, as have 2 upper diagonals\n",
    "\tQ_on = (np.diag([-1 if not x % 2 else 0 for x in range(0,N+2)],0) +\n",
    "\t\t\tnp.diag([1 if not x % 2 else 0 for x in range(0,N+1)],-1))[:-2, :]\n",
    "\tQ_off = (np.diag([-1 if x % 2 else 0 for x in range(0,N+2)],0) +\n",
    "\t\t\tnp.diag([1 if not x % 2 else 0 for x in range(0,N+1)],1))[:-2, :]\n",
    "\tQ_tx = (np.diag([-1 if x % 2 else 0 for x in range(0,N+2)],0) +\n",
    "\t\t\tnp.diag([1 if x % 2 else 0 for x in range(0,N)],-2))[:-2, :]\n",
    "\tQ_deg = (np.diag([-1 if x > 1 else 0 for x in range(0,N+2)],0) +\n",
    "\t\t\tnp.diag([1 for x in range(0,N)],2))[:-2, :]\n",
    "\n",
    "\t# bounds from CI, on marginal\n",
    "\tpl = [intr[0] for intr in bounds]\n",
    "\tpu = [intr[1] for intr in bounds]\n",
    "\n",
    "\t# define bounds\n",
    "\tpl = np.array(pl)[:M]\n",
    "\tpu = np.array(pu)[:M]\n",
    "\n",
    "\t# NOTE: need different cutoff: n p's <=> n/2 marginals\n",
    "\n",
    "\t# marginal = A @ p\n",
    "\tA = np.repeat(np.eye(M, dtype=int), repeats=2, axis=1)\n",
    "\n",
    "\t# Construct the problem.\n",
    "\n",
    "\t# Variables\n",
    "\tk1, k2, k3, k4 = params[0], params[1], params[2], params[3]\n",
    "\tif k1 == \"v\":\n",
    "\t\tk_on = cv.Variable(1)\n",
    "\telse:\n",
    "\t\tk_on = k1\n",
    "\tif k2 == \"v\":\n",
    "\t\tk_off = cv.Variable(1)\n",
    "\telse:\n",
    "\t\tk_off = k2\n",
    "\tif k3 == \"v\":\n",
    "\t\tk_tx = cv.Variable(1)\n",
    "\telse:\n",
    "\t\tk_tx = k3\n",
    "\tif k4 == \"v\":\n",
    "\t\tk_deg = cv.Variable(1)\n",
    "\telse:\n",
    "\t\tk_deg = k4\n",
    "\tz_on = cv.Variable(N + 2)\n",
    "\tz_off = cv.Variable(N + 2)\n",
    "\tz_tx = cv.Variable(N + 2)\n",
    "\tz_deg = cv.Variable(N + 2)\n",
    "\n",
    "\t# Objective\n",
    "\tvar = \"k_tx\"\n",
    "\tobjective_max = cv.Maximize(k_tx)\n",
    "\tobjective_min = cv.Minimize(k_tx)\n",
    "\n",
    "\t# Constraints: Qp = 0, kr > 0, marginal bounds, joint prob in [0,1]\n",
    "\tconstraints = [Q_on @ z_on + Q_off @ z_off + Q_tx @ z_tx + Q_deg @ z_deg == 0,\n",
    "\t\t\tz_on <= k_on, z_off <= k_off, z_tx <= k_tx, z_deg <= k_deg,\n",
    "\t\t\t#z_on >= 0.001 * k_on, z_off >= 0.001 * k_off, z_tx >= 0.001 * k_tx, z_deg >= 0.001 * k_deg,\n",
    "\t\t\tz_on >= 0, z_off >= 0, z_tx >= 0, z_deg >= 0,\n",
    "\t\t\tk_on >= 0, k_off >= 0, k_tx >= 0, k_deg >= 0,\n",
    "\t\t\tk_on * pl <= A @ z_on, A @ z_on <= k_on * pu,\n",
    "\t\t\tk_off * pl <= A @ z_off, A @ z_off <= k_off * pu,\n",
    "\t\t\tk_tx * pl <= A @ z_tx, A @ z_tx <= k_tx * pu,\n",
    "\t\t\tk_deg * pl <= A @ z_deg, A @ z_deg <= k_deg * pu,\n",
    "\t\t\t]\n",
    "\n",
    "\t# define\n",
    "\tprob_max = cv.Problem(objective_max, constraints)\n",
    "\tprob_min = cv.Problem(objective_min, constraints)   \n",
    "\n",
    "\t# Print results\n",
    "\tresult_max = prob_max.solve()\n",
    "\tif printing:\n",
    "\t\tprint(f\"Upper bound status: {prob_max.status}\")\n",
    "\t\tprint(f\"\\nUpper bound on {var}: {prob_max.value}\")\n",
    "\t\tprint(f\"\\nz_on: {z_on.value}\")\n",
    "\t\tprint(f\"z_off: {z_off.value}\")\n",
    "\t\tprint(f\"z_tx: {z_tx.value}\")\n",
    "\t\tprint(f\"z_deg: {z_deg.value}\")\n",
    "\n",
    "\tresult_min = prob_min.solve()\n",
    "\tif printing:\n",
    "\t\tprint(f\"\\nLower bound status: {prob_min.status}\")\n",
    "\t\tprint(f\"\\nLower bound on {var}: {prob_min.value}\")\n",
    "\t\tprint(f\"\\nz_on: {z_on.value}\")\n",
    "\t\tprint(f\"z_off: {z_off.value}\")\n",
    "\t\tprint(f\"z_tx: {z_tx.value}\")\n",
    "\t\tprint(f\"z_deg: {z_deg.value}\")\n",
    "\n",
    "\treturn prob_max.value, prob_min.value"
   ]
  },
  {
   "cell_type": "code",
   "execution_count": 12,
   "metadata": {},
   "outputs": [
    {
     "name": "stdout",
     "output_type": "stream",
     "text": [
      "95% CI for p(0) is: (0.6575, 0.6975)\n",
      "95% CI for p(1) is: (0.2335, 0.27)\n",
      "95% CI for p(2) is: (0.0505, 0.0715)\n",
      "95% CI for p(3) is: (0.0045, 0.0125)\n",
      "95% CI for p(4) is: (0.0005, 0.004)\n",
      "95% CI for p(5) is: (0.0, 0.0)\n",
      "95% CI for p(6) is: (0.0, 0.0)\n",
      "95% CI for p(7) is: (0.0, 0.0)\n",
      "95% CI for p(8) is: (0.0, 0.0)\n",
      "95% CI for p(9) is: (0.0, 0.0)\n"
     ]
    }
   ],
   "source": [
    "# attempt different parameters\n",
    "states = [x for x in range(10)]\n",
    "estimates_marginal, intervals_marginal = bootstrap_marginal(states,[0,0],[0.8,0.2,0.5,1],100,2000,2000,plot=False,printing=True)"
   ]
  },
  {
   "cell_type": "code",
   "execution_count": 13,
   "metadata": {},
   "outputs": [
    {
     "name": "stdout",
     "output_type": "stream",
     "text": [
      "Upper bound status: unbounded\n",
      "\n",
      "Upper bound on k_tx: inf\n",
      "\n",
      "z_on: None\n",
      "z_off: None\n",
      "z_tx: None\n",
      "z_deg: None\n",
      "\n",
      "Lower bound status: optimal\n",
      "\n",
      "Lower bound on k_tx: 0.3347670250504522\n",
      "\n",
      "z_on: [0.32508909 0.22986937 0.07765502 0.12562605 0.01640892 0.03121763\n",
      " 0.0025796  0.00414401 0.00102519 0.00102519]\n",
      "z_off: [0.35201445 0.24400111 0.08191372 0.13684464 0.01745509 0.03468806\n",
      " 0.00290471 0.00487401 0.00110613 0.00110613]\n",
      "z_tx: [-9.16372369e-12  2.33500000e-01  2.27903799e-02  5.97234845e-02\n",
      "  9.94912886e-03  9.31413807e-03  7.41879363e-04  2.35863168e-03\n",
      "  4.22598139e-04  4.22598139e-04]\n",
      "z_deg: [0.338508   0.338508   0.08108798 0.15241202 0.02189836 0.03782512\n",
      " 0.00361921 0.00569493 0.0013248  0.00103383]\n"
     ]
    },
    {
     "data": {
      "text/plain": [
       "(inf, 0.3347670250504522)"
      ]
     },
     "execution_count": 13,
     "metadata": {},
     "output_type": "execute_result"
    }
   ],
   "source": [
    "gene_expression_LP([\"v\",\"v\",\"v\",1],8,intervals_marginal,printing=True)"
   ]
  },
  {
   "cell_type": "markdown",
   "metadata": {},
   "source": [
    "# Results\n",
    "\n",
    "The joint probabilities (multipied be rates to get z's) only occur as sums of pairs, so had problem of taking negative values, seen by negative z's. So, enforce bounds of [0,1] on p's => bounds of [0, kr] on z's (as well as all rates kr > 0)\n",
    "\n",
    "- These constraints allow a lower bound to be found, possibly converging to true value? (or true range of possible values given data)\n",
    "\n",
    "However, a non-zero lower bound on p's/z's is needed for an upper bound on the LP:\n",
    "- using e.g. 0.01 as a bound on p is enough, but reducing in magnitude increaes upper bound, and not rigorous (may not always be true)"
   ]
  },
  {
   "cell_type": "markdown",
   "metadata": {},
   "source": [
    "# Test solution lower bound\n",
    "- simulate many marginal bounds e.g. 10+\n",
    "- solve LP using increasing numbers of equations/bounds\n",
    "- test if lower bound of solution converges to true value of parameter (or true range given input bounds)"
   ]
  },
  {
   "cell_type": "code",
   "execution_count": 63,
   "metadata": {},
   "outputs": [
    {
     "name": "stdout",
     "output_type": "stream",
     "text": [
      "95% CI for p(0) is: (0.7793, 0.7907)\n",
      "95% CI for p(1) is: (0.1752, 0.1858)\n",
      "95% CI for p(2) is: (0.0286, 0.03345)\n",
      "95% CI for p(3) is: (0.00245, 0.004)\n",
      "95% CI for p(4) is: (0.0001, 0.00055)\n",
      "95% CI for p(5) is: (0.0, 0.00015)\n",
      "95% CI for p(6) is: (0.0, 0.0)\n",
      "95% CI for p(7) is: (0.0, 0.0)\n",
      "95% CI for p(8) is: (0.0, 0.0)\n",
      "95% CI for p(9) is: (0.0, 0.0)\n",
      "95% CI for p(10) is: (0.0, 0.0)\n",
      "95% CI for p(11) is: (0.0, 0.0)\n"
     ]
    }
   ],
   "source": [
    "# simulate marginal bounds\n",
    "states = [x for x in range(12)]\n",
    "estimates_test, intervals_test = bootstrap_marginal(states,[0,0],[1,1,0.5,1],1000,20000,20000,plot=False,printing=True)"
   ]
  },
  {
   "cell_type": "code",
   "execution_count": 76,
   "metadata": {},
   "outputs": [
    {
     "data": {
      "text/plain": [
       "[<matplotlib.lines.Line2D at 0x17f3baad0c0>]"
      ]
     },
     "execution_count": 76,
     "metadata": {},
     "output_type": "execute_result"
    },
    {
     "data": {
      "image/png": "[encoded data removed]",
      "text/plain": [
       "<Figure size 432x288 with 1 Axes>"
      ]
     },
     "metadata": {
      "needs_background": "light"
     },
     "output_type": "display_data"
    }
   ],
   "source": [
    "# increase number of equations/marginals used\n",
    "equations_used = []\n",
    "solution_lower = []\n",
    "for N in range(2,24,2):\n",
    "    # solve LP\n",
    "    upper_bound, lower_bound = gene_expression_LP([\"v\",\"v\",\"v\",1],N,intervals_test)\n",
    "    equations_used.append(N)\n",
    "    solution_lower.append(lower_bound)\n",
    "plt.ticklabel_format(useOffset=False)\n",
    "plt.plot(equations_used,solution_lower)"
   ]
  },
  {
   "cell_type": "markdown",
   "metadata": {},
   "source": [
    "Lower bound on k_tx doesn't seem to improve as more equations added"
   ]
  },
  {
   "cell_type": "markdown",
   "metadata": {},
   "source": [
    "# Additional Constraints\n",
    "\n",
    "Bounding joint probabilities by [0,1] allowed a lower bound on the LP, but a non-zero lower bound on p is needed for an upper bound on the LP. Using e.g. 0.01 is just an approximation, and may not be true.\n",
    "\n",
    "### Frechet bounds:\n",
    "\n",
    "max{0, P(X) + P(Y) - 1} < P(X n Y) < min{P(X), P(Y)}\n",
    "\n",
    "Applying to marginals of M and G, where P(G = 1) = k_on / k_on + k_off, can bound joint probabilities:"
   ]
  },
  {
   "cell_type": "code",
   "execution_count": 14,
   "metadata": {},
   "outputs": [
    {
     "name": "stdout",
     "output_type": "stream",
     "text": [
      "z1 lb: \n",
      " [-0.3218    0.2782   -0.615005 -0.015005 -0.758225 -0.158225 -0.799425\n",
      " -0.199425 -0.8008   -0.2008  ]\n",
      "\n",
      "z2 lb: \n",
      " [-0.7262   -0.1262   -0.79502  -0.19502  -0.812825 -0.212825 -0.806625\n",
      " -0.206625 -0.8032   -0.2032  ]\n",
      "\n",
      "z1 + z2 lb: \n",
      " [-0.187     0.413    -0.555     0.045    -0.740025 -0.140025 -0.797025\n",
      " -0.197025 -0.8      -0.2     ]\n"
     ]
    }
   ],
   "source": [
    "# simulate marginal bounds\n",
    "estimates_test, intervals_test = bootstrap_marginal([x for x in range(5)],[0,0],[0.8,0.2,0.5,1],100,1000,1000,plot=False,printing=False)\n",
    "# form bound vectors (on marginal)\n",
    "pl = np.array([intr[0] for intr in intervals_test])\n",
    "pu = np.array([intr[1] for intr in intervals_test])\n",
    "# form doubled bound vectors\n",
    "pdl = np.repeat(pl,2)\n",
    "pdu = np.repeat(pu,2)\n",
    "# form bounds on joint probs\n",
    "k1 = 0.8\n",
    "k2 = 0.2\n",
    "kv = [k2 if x % 2 else k1 for x in range(10)]\n",
    "z1_lb = k1 * pdl + k2 * pdl - k2 * pdu - kv\n",
    "z2_lb = k1 * pdl + k2 * pdl - k1 * pdu - kv\n",
    "print(f\"z1 lb: \\n {z1_lb}\")\n",
    "print(f\"\\nz2 lb: \\n {z2_lb}\")\n",
    "zsum_lb = (k1 + k2) * pdl - kv\n",
    "print(f\"\\nz1 + z2 lb: \\n {zsum_lb}\")"
   ]
  },
  {
   "cell_type": "markdown",
   "metadata": {},
   "source": [
    "See above that only a few of the lower bounds on z1 and z2 are non-negative, can cover this by still using [0,kr] bounds, but means that only a few variables will now have tighter bounds\n",
    "\n",
    "Can also bound the sum of z1 and z2 terms"
   ]
  },
  {
   "cell_type": "code",
   "execution_count": 6,
   "metadata": {},
   "outputs": [],
   "source": [
    "def gene_expression_LP_2(params, N, bounds, printing=False):\n",
    "\t# N = number of equations used (rows of Q)\n",
    "\t# NOTE: restrict to even atm (as p's enter as pairs)\n",
    "\n",
    "\t# number of marginals used\n",
    "\tM = int(N/2 + 1)\n",
    "\n",
    "\t# create Qr matrices:\n",
    "\t# create N + 2 x N + 2 square and drop last 2 rows, as have 2 upper diagonals\n",
    "\tQ_on = (np.diag([-1 if not x % 2 else 0 for x in range(0,N+2)],0) +\n",
    "\t\t\tnp.diag([1 if not x % 2 else 0 for x in range(0,N+1)],-1))[:-2, :]\n",
    "\tQ_off = (np.diag([-1 if x % 2 else 0 for x in range(0,N+2)],0) +\n",
    "\t\t\tnp.diag([1 if not x % 2 else 0 for x in range(0,N+1)],1))[:-2, :]\n",
    "\tQ_tx = (np.diag([-1 if x % 2 else 0 for x in range(0,N+2)],0) +\n",
    "\t\t\tnp.diag([1 if x % 2 else 0 for x in range(0,N)],-2))[:-2, :]\n",
    "\tQ_deg = (np.diag([-1 if x > 1 else 0 for x in range(0,N+2)],0) +\n",
    "\t\t\tnp.diag([1 for x in range(0,N)],2))[:-2, :]\n",
    "\n",
    "\t# bounds from CI, on marginal\n",
    "\tpl = [intr[0] for intr in bounds]\n",
    "\tpu = [intr[1] for intr in bounds]\n",
    "\n",
    "\t# define bounds\n",
    "\tpl = np.array(pl)[:M]\n",
    "\tpu = np.array(pu)[:M]\n",
    "\n",
    "\t# form doubled bounds\n",
    "\tpdl = np.repeat(pl,2)\n",
    "\tpdu = np.repeat(pu,2)\n",
    "\n",
    "\t# NOTE: need different cutoff: n p's <=> n/2 marginals\n",
    "\n",
    "\t# marginal = A @ p\n",
    "\tA = np.repeat(np.eye(M, dtype=int), repeats=2, axis=1)\n",
    "\n",
    "\t# Construct the problem.\n",
    "\n",
    "\t# Variables\n",
    "\tk1, k2, k3, k4 = params[0], params[1], params[2], params[3]\n",
    "\tif k1 == \"v\":\n",
    "\t\tk_on = cv.Variable(1)\n",
    "\telse:\n",
    "\t\tk_on = k1\n",
    "\tif k2 == \"v\":\n",
    "\t\tk_off = cv.Variable(1)\n",
    "\telse:\n",
    "\t\tk_off = k2\n",
    "\tif k3 == \"v\":\n",
    "\t\tk_tx = cv.Variable(1)\n",
    "\telse:\n",
    "\t\tk_tx = k3\n",
    "\tif k4 == \"v\":\n",
    "\t\tk_deg = cv.Variable(1)\n",
    "\telse:\n",
    "\t\tk_deg = k4\n",
    "\tz_on = cv.Variable(N + 2)\n",
    "\tz_off = cv.Variable(N + 2)\n",
    "\tz_tx = cv.Variable(N + 2)\n",
    "\tz_deg = cv.Variable(N + 2)\n",
    "\n",
    "\t# form bounds\n",
    "\tkv = np.array([k_off if x % 2 else k_on for x in range(N + 2)])\n",
    "\tz1_lb = k_on * pdl + k_off * pdl - k_off * pdu - kv\n",
    "\tz2_lb = k_on * pdl + k_off * pdl - k_on * pdu - kv\n",
    "\tzsum_lb = (k1 + k2) * pdl - kv\n",
    "\n",
    "\tprint(z1_lb)\n",
    "\tprint(z2_lb)\n",
    "\tprint(zsum_lb)\n",
    "\n",
    "\t# Objective\n",
    "\tvar = \"k_tx\"\n",
    "\tobjective_max = cv.Maximize(k_tx)\n",
    "\tobjective_min = cv.Minimize(k_tx)\n",
    "\n",
    "\t# Constraints\n",
    "\tconstraints = [Q_on @ z_on + Q_off @ z_off + Q_tx @ z_tx + Q_deg @ z_deg == 0,\n",
    "\t\t\tz_on <= k_on * pdu, z_off <= k_off * pdu, z_tx <= k_tx * pdu, z_deg <= k_deg * pdu,\n",
    "\t\t\tz_on >= z1_lb, z_off >= z2_lb, z_on + z_off >= zsum_lb,\n",
    "\t\t\tz_on >= 0, z_off >= 0, z_tx >= 0, z_deg >= 0,\n",
    "\t\t\tk_on >= 0, k_off >= 0, k_tx >= 0, k_deg >= 0,\n",
    "\t\t\tk_on * pl <= A @ z_on, A @ z_on <= k_on * pu,\n",
    "\t\t\tk_off * pl <= A @ z_off, A @ z_off <= k_off * pu,\n",
    "\t\t\tk_tx * pl <= A @ z_tx, A @ z_tx <= k_tx * pu,\n",
    "\t\t\tk_deg * pl <= A @ z_deg, A @ z_deg <= k_deg * pu,\n",
    "\t\t\t]\n",
    "\n",
    "\t# define\n",
    "\tprob_max = cv.Problem(objective_max, constraints)\n",
    "\tprob_min = cv.Problem(objective_min, constraints)   \n",
    "\n",
    "\t# Print results\n",
    "\tresult_max = prob_max.solve()\n",
    "\tif printing:\n",
    "\t\tprint(f\"Upper bound status: {prob_max.status}\")\n",
    "\t\tprint(f\"\\nUpper bound on {var}: {prob_max.value}\")\n",
    "\t\tprint(f\"\\nz_on: {z_on.value}\")\n",
    "\t\tprint(f\"z_off: {z_off.value}\")\n",
    "\t\tprint(f\"z_tx: {z_tx.value}\")\n",
    "\t\tprint(f\"z_deg: {z_deg.value}\")\n",
    "\n",
    "\tresult_min = prob_min.solve()\n",
    "\tif printing:\n",
    "\t\tprint(f\"\\nLower bound status: {prob_min.status}\")\n",
    "\t\tprint(f\"\\nLower bound on {var}: {prob_min.value}\")\n",
    "\t\tprint(f\"\\nz_on: {z_on.value}\")\n",
    "\t\tprint(f\"z_off: {z_off.value}\")\n",
    "\t\tprint(f\"z_tx: {z_tx.value}\")\n",
    "\t\tprint(f\"z_deg: {z_deg.value}\")\n",
    "\n",
    "\treturn prob_max.value, prob_min.value"
   ]
  },
  {
   "cell_type": "code",
   "execution_count": 16,
   "metadata": {},
   "outputs": [
    {
     "name": "stdout",
     "output_type": "stream",
     "text": [
      "95% CI for p(0) is: (0.649975, 0.703)\n",
      "95% CI for p(1) is: (0.242, 0.293)\n",
      "95% CI for p(2) is: (0.034, 0.061)\n",
      "95% CI for p(3) is: (0.002, 0.012024999999999977)\n",
      "95% CI for p(4) is: (0.0, 0.005)\n",
      "95% CI for p(5) is: (0.0, 0.0)\n",
      "95% CI for p(6) is: (0.0, 0.0)\n",
      "95% CI for p(7) is: (0.0, 0.0)\n",
      "95% CI for p(8) is: (0.0, 0.0)\n",
      "95% CI for p(9) is: (0.0, 0.0)\n"
     ]
    }
   ],
   "source": [
    "# simulate marginal bounds\n",
    "states = [x for x in range(10)]\n",
    "estimates_test, intervals_test = bootstrap_marginal(states,[0,0],[0.8,0.2,0.5,1],100,1000,1000,plot=False,printing=True)"
   ]
  },
  {
   "cell_type": "code",
   "execution_count": 17,
   "metadata": {},
   "outputs": [
    {
     "name": "stdout",
     "output_type": "stream",
     "text": [
      "[-0.290625  0.309375 -0.6166   -0.0166   -0.7782   -0.1782   -0.800405\n",
      " -0.200405 -0.801    -0.201   ]\n",
      "[-0.712425 -0.112425 -0.7924   -0.1924   -0.8148   -0.2148   -0.80762\n",
      " -0.20762  -0.804    -0.204   ]\n",
      "[-0.150025  0.449975 -0.558     0.042    -0.766    -0.166    -0.798\n",
      " -0.198    -0.8      -0.2     ]\n",
      "Upper bound status: unbounded\n",
      "\n",
      "Upper bound on k_tx: inf\n",
      "\n",
      "z_on: None\n",
      "z_off: None\n",
      "z_tx: None\n",
      "z_deg: None\n",
      "\n",
      "Lower bound status: optimal\n",
      "\n",
      "Lower bound on k_tx: 0.34423897581350976\n",
      "\n",
      "z_on: [0.09940441 0.43470349 0.02049262 0.18414509 0.00366979 0.02933214\n",
      " 0.00090167 0.00371664 0.00117036 0.00101145]\n",
      "z_off: [0.05511915 0.07870904 0.01710453 0.03553552 0.00288463 0.00702778\n",
      " 0.00057007 0.00113993 0.00029446 0.00025649]\n",
      "z_tx: [-1.02053945e-12  2.42000000e-01  4.61761468e-02  4.57527512e-02\n",
      "  8.98938522e-03  7.79017671e-03  7.94487736e-04  2.63344145e-03\n",
      "  5.73731626e-04  5.73731626e-04]\n",
      "z_deg: [0.33824343 0.33824343 0.02069537 0.22130463 0.00565248 0.04010028\n",
      " 0.00229449 0.00549569 0.00205622 0.00057722]\n"
     ]
    },
    {
     "data": {
      "text/plain": [
       "(inf, 0.34423897581350976)"
      ]
     },
     "execution_count": 17,
     "metadata": {},
     "output_type": "execute_result"
    }
   ],
   "source": [
    "gene_expression_LP_2([0.8,0.2,\"v\",1],8,intervals_test,printing=True)"
   ]
  },
  {
   "cell_type": "markdown",
   "metadata": {},
   "source": [
    "However, not able to obtain upper bounds even when k1 and k2 are known/fixed."
   ]
  },
  {
   "cell_type": "markdown",
   "metadata": {},
   "source": [
    "# Assuming k1 (k_on) and k2 (k_off) known, to get (linear) bounds on all z's:"
   ]
  },
  {
   "cell_type": "code",
   "execution_count": 18,
   "metadata": {},
   "outputs": [
    {
     "name": "stdout",
     "output_type": "stream",
     "text": [
      "z1 lb: \n",
      "[-0.297     0.303    -0.628825 -0.028825 -0.7682   -0.1682   -0.8\n",
      " -0.2      -0.8006   -0.2006  ]\n",
      "z2 lb: \n",
      "[-0.717    -0.117    -0.799225 -0.199225 -0.8138   -0.2138   -0.809\n",
      " -0.209    -0.8054   -0.2054  ]\n",
      "z3 lb: \n",
      "[-0.185625    0.189375   -0.39301562 -0.01801562 -0.480125   -0.105125\n",
      " -0.5        -0.125      -0.500375   -0.125375  ]\n",
      "z4 lb: \n",
      "[-0.37125     0.37875    -0.78603125 -0.03603125 -0.96025    -0.21025\n",
      " -1.         -0.25       -1.00075    -0.25075   ]\n",
      "zsum lb: \n",
      "[-0.157     0.443    -0.572025  0.027975 -0.753    -0.153    -0.797\n",
      " -0.197    -0.799    -0.199   ]\n"
     ]
    }
   ],
   "source": [
    "# simulate marginal bounds\n",
    "estimates_test, intervals_test = bootstrap_marginal([x for x in range(5)],[0,0],[0.8,0.2,0.5,1],100,1000,1000,plot=False,printing=False)\n",
    "# form bound vectors (on marginal)\n",
    "pl = np.array([intr[0] for intr in intervals_test])\n",
    "pu = np.array([intr[1] for intr in intervals_test])\n",
    "# form doubled bounds\n",
    "pdl = np.repeat(pl,2)\n",
    "pdu = np.repeat(pu,2)\n",
    "# form bounds on joint probs\n",
    "k1 = 0.8\n",
    "k2 = 0.2\n",
    "k3 = 0.5\n",
    "k4 = 1\n",
    "kv = [k2 if x % 2 else k1 for x in range(10)]\n",
    "z1_lb = k1 * pdl + k2 * pdl - k2 * pdu - kv\n",
    "z2_lb = k1 * pdl + k2 * pdl - k1 * pdu - kv\n",
    "z3_lb = (k1 * pdl + k2 * pdl - k2 * pdu - kv) * k3/k1\n",
    "z4_lb = (k1 * pdl + k2 * pdl - k2 * pdu - kv) * k4/k1\n",
    "zsum_lb = (k1 + k2) * pdl - kv\n",
    "print(f\"z1 lb: \\n{z1_lb}\")\n",
    "print(f\"z2 lb: \\n{z2_lb}\")\n",
    "print(f\"z3 lb: \\n{z3_lb}\")\n",
    "print(f\"z4 lb: \\n{z4_lb}\")\n",
    "print(f\"zsum lb: \\n{zsum_lb}\")"
   ]
  },
  {
   "cell_type": "code",
   "execution_count": 7,
   "metadata": {},
   "outputs": [],
   "source": [
    "def gene_expression_LP_3(params, N, bounds, printing=False):\n",
    "\t# N = number of equations used (rows of Q)\n",
    "\t# NOTE: restrict to even atm (as p's enter as pairs)\n",
    "\n",
    "\t# number of marginals used\n",
    "\tM = int(N/2 + 1)\n",
    "\n",
    "\t# create Qr matrices:\n",
    "\t# create N + 2 x N + 2 square and drop last 2 rows, as have 2 upper diagonals\n",
    "\tQ_on = (np.diag([-1 if not x % 2 else 0 for x in range(0,N+2)],0) +\n",
    "\t\t\tnp.diag([1 if not x % 2 else 0 for x in range(0,N+1)],-1))[:-2, :]\n",
    "\tQ_off = (np.diag([-1 if x % 2 else 0 for x in range(0,N+2)],0) +\n",
    "\t\t\tnp.diag([1 if not x % 2 else 0 for x in range(0,N+1)],1))[:-2, :]\n",
    "\tQ_tx = (np.diag([-1 if x % 2 else 0 for x in range(0,N+2)],0) +\n",
    "\t\t\tnp.diag([1 if x % 2 else 0 for x in range(0,N)],-2))[:-2, :]\n",
    "\tQ_deg = (np.diag([-1 if x > 1 else 0 for x in range(0,N+2)],0) +\n",
    "\t\t\tnp.diag([1 for x in range(0,N)],2))[:-2, :]\n",
    "\n",
    "\t# bounds from CI, on marginal\n",
    "\tpl = [intr[0] for intr in bounds]\n",
    "\tpu = [intr[1] for intr in bounds]\n",
    "\n",
    "\t# define bounds\n",
    "\tpl = np.array(pl)[:M]\n",
    "\tpu = np.array(pu)[:M]\n",
    "\n",
    "\t# form doubled bounds\n",
    "\tpdl = np.repeat(pl,2)\n",
    "\tpdu = np.repeat(pu,2)\n",
    "\n",
    "\t# NOTE: need different cutoff: n p's <=> n/2 marginals\n",
    "\n",
    "\t# marginal = A @ p\n",
    "\tA = np.repeat(np.eye(M, dtype=int), repeats=2, axis=1)\n",
    "\n",
    "\t# Construct the problem.\n",
    "\n",
    "\t# Variables\n",
    "\tk1, k2, k3, k4 = params[0], params[1], params[2], params[3]\n",
    "\tif k1 == \"v\":\n",
    "\t\tk_on = cv.Variable(1)\n",
    "\telse:\n",
    "\t\tk_on = k1\n",
    "\tif k2 == \"v\":\n",
    "\t\tk_off = cv.Variable(1)\n",
    "\telse:\n",
    "\t\tk_off = k2\n",
    "\tif k3 == \"v\":\n",
    "\t\tk_tx = cv.Variable(1)\n",
    "\telse:\n",
    "\t\tk_tx = k3\n",
    "\tif k4 == \"v\":\n",
    "\t\tk_deg = cv.Variable(1)\n",
    "\telse:\n",
    "\t\tk_deg = k4\n",
    "\tz_on = cv.Variable(N + 2)\n",
    "\tz_off = cv.Variable(N + 2)\n",
    "\tz_tx = cv.Variable(N + 2)\n",
    "\tz_deg = cv.Variable(N + 2)\n",
    "\n",
    "\t# form bounds\n",
    "\tkv = np.array([k_off if x % 2 else k_on for x in range(N + 2)])\n",
    "\tz1_lb = k_on * pdl + k_off * pdl - k_off * pdu - kv\n",
    "\tz2_lb = k_on * pdl + k_off * pdl - k_on * pdu - kv\n",
    "\tz3_lb = (k_on * pdl + k_off * pdl - k_off * pdu - kv) * k_tx/k_on\n",
    "\tz4_lb = (k_on * pdl + k_off * pdl - k_off * pdu - kv) * k_deg/k_on\n",
    "\t#zsum_lb = (k1 + k2) * pdl - kv\n",
    "\t\n",
    "\n",
    "\tif printing:\n",
    "\t\tprint(z1_lb)\n",
    "\t\tprint(z2_lb)\n",
    "\t\tprint(z3_lb)\n",
    "\t\tprint(z4_lb)\n",
    "\t\tprint(zsum_lb)\n",
    "\n",
    "\t# Objective\n",
    "\tvar = \"k_tx\"\n",
    "\tobjective_max = cv.Maximize(k_tx)\n",
    "\tobjective_min = cv.Minimize(k_tx)\n",
    "\n",
    "\t# Constraints\n",
    "\tconstraints = [Q_on @ z_on + Q_off @ z_off + Q_tx @ z_tx + Q_deg @ z_deg == 0,\n",
    "\t\t\tz_on <= k_on * pdu, z_off <= k_off * pdu, z_tx <= k_tx * pdu, z_deg <= k_deg * pdu,\n",
    "\t\t\tz_on >= z1_lb, z_off >= z2_lb, z_tx >= z3_lb, z_deg >= z4_lb, #z_on + z_off >= zsum_lb,\n",
    "\t\t\tz_on >= 0, z_off >= 0, z_tx >= 0, z_deg >= 0,\n",
    "\t\t\tk_on >= 0, k_off >= 0, k_tx >= 0, k_deg >= 0,\n",
    "\t\t\tk_on * pl <= A @ z_on, A @ z_on <= k_on * pu,\n",
    "\t\t\tk_off * pl <= A @ z_off, A @ z_off <= k_off * pu,\n",
    "\t\t\tk_tx * pl <= A @ z_tx, A @ z_tx <= k_tx * pu,\n",
    "\t\t\tk_deg * pl <= A @ z_deg, A @ z_deg <= k_deg * pu,\n",
    "\t\t\t]\n",
    "\n",
    "\t# define\n",
    "\tprob_max = cv.Problem(objective_max, constraints)\n",
    "\tprob_min = cv.Problem(objective_min, constraints)   \n",
    "\n",
    "\t# Print results\n",
    "\tresult_max = prob_max.solve()\n",
    "\tif printing:\n",
    "\t\tprint(f\"Upper bound status: {prob_max.status}\")\n",
    "\t\tprint(f\"\\nUpper bound on {var}: {prob_max.value}\")\n",
    "\t\tprint(f\"\\nz_on: {z_on.value}\")\n",
    "\t\tprint(f\"z_off: {z_off.value}\")\n",
    "\t\tprint(f\"z_tx: {z_tx.value}\")\n",
    "\t\tprint(f\"z_deg: {z_deg.value}\")\n",
    "\n",
    "\tresult_min = prob_min.solve()\n",
    "\tif printing:\n",
    "\t\tprint(f\"\\nLower bound status: {prob_min.status}\")\n",
    "\t\tprint(f\"\\nLower bound on {var}: {prob_min.value}\")\n",
    "\t\tprint(f\"\\nz_on: {z_on.value}\")\n",
    "\t\tprint(f\"z_off: {z_off.value}\")\n",
    "\t\tprint(f\"z_tx: {z_tx.value}\")\n",
    "\t\tprint(f\"z_deg: {z_deg.value}\")\n",
    "\n",
    "\treturn prob_max.value, prob_min.value"
   ]
  },
  {
   "cell_type": "code",
   "execution_count": 20,
   "metadata": {},
   "outputs": [
    {
     "name": "stdout",
     "output_type": "stream",
     "text": [
      "95% CI for p(0) is: (0.661975, 0.72)\n",
      "95% CI for p(1) is: (0.218, 0.271)\n",
      "95% CI for p(2) is: (0.042, 0.07)\n",
      "95% CI for p(3) is: (0.004, 0.015)\n",
      "95% CI for p(4) is: (0.0, 0.0)\n",
      "95% CI for p(5) is: (0.0, 0.0)\n",
      "95% CI for p(6) is: (0.0, 0.0)\n",
      "95% CI for p(7) is: (0.0, 0.0)\n",
      "95% CI for p(8) is: (0.0, 0.0)\n",
      "95% CI for p(9) is: (0.0, 0.0)\n"
     ]
    }
   ],
   "source": [
    "# simulate marginal bounds\n",
    "states = [x for x in range(10)]\n",
    "estimates_test, intervals_test = bootstrap_marginal(states,[0,0],[0.8,0.2,0.5,1],100,1000,1000,plot=False,printing=True)"
   ]
  },
  {
   "cell_type": "code",
   "execution_count": 21,
   "metadata": {},
   "outputs": [
    {
     "name": "stdout",
     "output_type": "stream",
     "text": [
      "[-0.282025  0.317975 -0.6362   -0.0362   -0.772    -0.172    -0.799\n",
      " -0.199    -0.8      -0.2      -0.8      -0.2     ]\n",
      "[-0.714025 -0.114025 -0.7988   -0.1988   -0.814    -0.214    -0.808\n",
      " -0.208    -0.8      -0.2      -0.8      -0.2     ]\n",
      "[-0.282025  0.317975 -0.6362   -0.0362   -0.772    -0.172    -0.799\n",
      " -0.199    -0.8      -0.2      -0.8      -0.2     ] @ Promote(var1229, (12,)) / Promote(0.8, (12,))\n",
      "[-0.35253125  0.39746875 -0.79525    -0.04525    -0.965      -0.215\n",
      " -0.99875    -0.24875    -1.         -0.25       -1.         -0.25      ]\n",
      "[-0.157     0.443    -0.572025  0.027975 -0.753    -0.153    -0.797\n",
      " -0.197    -0.799    -0.199   ]\n",
      "Upper bound status: optimal\n",
      "\n",
      "Upper bound on k_tx: 0.6818146080713045\n",
      "\n",
      "z_on: [ 1.06604622e-01  4.39810837e-01  1.48174918e-02  1.73066511e-01\n",
      "  3.67777666e-03  3.66282408e-02  5.71414631e-04  5.79251966e-03\n",
      "  1.03649456e-13 -1.79760321e-13  4.30387713e-15 -1.25316577e-13]\n",
      "z_off: [ 5.78000865e-02  7.97742117e-02  1.37639110e-02  3.51170753e-02\n",
      "  3.05560298e-03  8.88694973e-03  5.59397416e-04  1.89306846e-03\n",
      "  5.87215946e-14 -2.21159549e-13  4.30387713e-15 -1.25316577e-13]\n",
      "z_tx: [ 2.01182629e-01  2.71000000e-01  1.15047948e-01  5.08621163e-02\n",
      "  2.86673125e-02  9.14604277e-03  6.19978987e-03 -2.99615837e-15\n",
      "  1.05279031e-13 -1.28105521e-13  5.99020954e-14 -9.45745418e-14]\n",
      "z_deg: [ 1.77509238e-01  5.09092659e-01  2.68304103e-02  2.44169590e-01\n",
      "  6.53082690e-03  4.43312894e-02  1.32165383e-03  7.82438894e-03\n",
      " -3.85980606e-13  3.78903718e-13 -5.71163838e-14 -7.32419013e-14]\n",
      "\n",
      "Lower bound status: optimal\n",
      "\n",
      "Lower bound on k_tx: 0.3027777777775457\n",
      "\n",
      "z_on: [ 1.00864431e-01  4.47007706e-01  1.85688171e-02  1.70374134e-01\n",
      "  3.99824286e-03  3.70458056e-02  6.92080743e-04  5.83333928e-03\n",
      "  1.75592311e-14 -2.22533544e-14 -4.59564988e-15 -1.02236259e-14]\n",
      "z_off: [ 5.56028534e-02  8.18832696e-02  1.59637573e-02  3.24492252e-02\n",
      "  3.62836884e-03  7.97243082e-03  5.94206690e-04  1.81864644e-03\n",
      "  7.48439691e-15 -3.10192225e-14 -4.59564988e-15 -1.02236259e-14]\n",
      "z_tx: [-5.64911173e-14  2.18000000e-01  2.46441393e-02  4.95183594e-02\n",
      "  9.23379836e-03  8.08215333e-03  2.72324049e-03 -6.31198084e-16\n",
      "  1.53642165e-14 -1.98657436e-14  1.29478972e-14 -1.75524083e-14]\n",
      "z_deg: [ 1.77400740e-01  5.09842673e-01  1.89811617e-02  1.99018838e-01\n",
      "  5.10075366e-03  4.44176057e-02  1.12656570e-03  6.95558763e-03\n",
      " -6.57534853e-14  6.59714812e-14 -1.68042311e-14 -1.96898430e-15]\n"
     ]
    },
    {
     "data": {
      "text/plain": [
       "(0.6818146080713045, 0.3027777777775457)"
      ]
     },
     "execution_count": 21,
     "metadata": {},
     "output_type": "execute_result"
    }
   ],
   "source": [
    "gene_expression_LP_3([0.8,0.2,\"v\",1],10,intervals_test,printing=True)"
   ]
  },
  {
   "cell_type": "markdown",
   "metadata": {},
   "source": [
    "# Results\n",
    "\n",
    "The frechet bounds require p(x) + p(g) >= 1 to be active i.e. give a non-zero lower bound on p(x,g). For this reason gnerally need one of k1 / k1 + k2 and k2 / k1 + k2 to be large (k1, k2 very different) and x to be a state with a large p(x). Even with this, usually only get one positive lower bound for the joint probabilities.\n",
    "\n",
    "These are enough to give upper and lower bounds on k_tx BUT, only when all other variables are specified (currently need k1 and k2 to be specified for linearity of constraints)"
   ]
  },
  {
   "cell_type": "markdown",
   "metadata": {},
   "source": [
    "# Width\n",
    "\n",
    "Using parameters that give positive bounds (and so upper and lower solution bounds) investigate how the width of solution bounds varies with sample size (and bootstrap size)"
   ]
  },
  {
   "cell_type": "code",
   "execution_count": 42,
   "metadata": {},
   "outputs": [
    {
     "name": "stdout",
     "output_type": "stream",
     "text": [
      "(0.23121387283085282,1.251263206247995)\n",
      "(0.32197439807071004,0.7346525270026223)\n",
      "(0.3630271902209296,0.7557971194343183)\n",
      "(0.34834633158741984,0.6461988304168378)\n",
      "(0.38625204582628897,0.695472251178416)\n"
     ]
    },
    {
     "data": {
      "text/plain": [
       "[<matplotlib.lines.Line2D at 0x2b6deca6b90>]"
      ]
     },
     "execution_count": 42,
     "metadata": {},
     "output_type": "execute_result"
    },
    {
     "data": {
      "image/png": "[encoded data removed]",
      "text/plain": [
       "<Figure size 432x288 with 1 Axes>"
      ]
     },
     "metadata": {
      "needs_background": "light"
     },
     "output_type": "display_data"
    }
   ],
   "source": [
    "width = []\n",
    "lbs = []\n",
    "ubs = []\n",
    "for N in [100,1000,2000,5000,10000]:\n",
    "    states = [x for x in range(10)]\n",
    "    estimates_test, intervals_test = bootstrap_marginal(states,[0,0],[0.8,0.2,0.5,1],100,N,N,plot=False,printing=False)\n",
    "    ub, lb = gene_expression_LP_3([0.8,0.2,\"v\",1],10,intervals_test,printing=False)\n",
    "    ubs.append(ub)\n",
    "    lbs.append(lb)\n",
    "    print(f\"({lb},{ub})\")\n",
    "    width.append(ub - lb)\n",
    "plt.plot(width)    "
   ]
  },
  {
   "cell_type": "code",
   "execution_count": 49,
   "metadata": {},
   "outputs": [
    {
     "data": {
      "text/plain": [
       "<matplotlib.lines.Line2D at 0x2b6e0d88520>"
      ]
     },
     "execution_count": 49,
     "metadata": {},
     "output_type": "execute_result"
    },
    {
     "data": {
      "image/png": "[encoded data removed]",
      "text/plain": [
       "<Figure size 432x288 with 1 Axes>"
      ]
     },
     "metadata": {
      "needs_background": "light"
     },
     "output_type": "display_data"
    }
   ],
   "source": [
    "fig, ax = plt.subplots()\n",
    "ax.plot(lbs)\n",
    "ax.plot(ubs)\n",
    "ax.fill_between([x for x in range(5)],lbs, ubs)\n",
    "ax.axhline(0.5, color=\"red\")"
   ]
  },
  {
   "cell_type": "markdown",
   "metadata": {},
   "source": [
    "See that width does indeed decrease as the sample size increases: the outer approximation of the parameter becomes closer to the true value (as possible range given by data becomes smaller)"
   ]
  },
  {
   "cell_type": "markdown",
   "metadata": {},
   "source": [
    "# Parameter Influence:\n",
    "\n",
    "With the frechet bounds, and even [0,1] bounds, the ratio of k1 to k2 i.e. how \"birth-death like\" the process is, affects the quality of the bounds (bounds on solution in [0,1] case) (bounds on p's / z's in frechet case, and so also on solution). When k1 ~ k2 the frechet bounds do not give non-zero lower bounds, and so like [0,1] bounds give no upper bound on the solution, and poor lower bounds. When k1 >> k2, some (usually only 1) frechet lower bounds are non-zero and so give good solution bounds."
   ]
  },
  {
   "cell_type": "markdown",
   "metadata": {},
   "source": [
    "Plot the solution width/bounds for different k1,k2 values"
   ]
  },
  {
   "cell_type": "code",
   "execution_count": 50,
   "metadata": {},
   "outputs": [
    {
     "name": "stdout",
     "output_type": "stream",
     "text": [
      "(0.024665981499291813,inf)\n",
      "(0.12773302646571594,inf)\n",
      "(0.20595533497623478,inf)\n",
      "(0.245161290312133,10.984615385223892)\n",
      "(0.24415584415209257,1.254100529101815)\n",
      "(0.29918032786738,0.8326530612255879)\n",
      "(0.31559652246604897,0.7045565744414256)\n",
      "(0.3319088319058679,0.6646734130648336)\n",
      "(0.3771680041414802,0.4957376610507218)\n"
     ]
    },
    {
     "data": {
      "text/plain": [
       "[<matplotlib.lines.Line2D at 0x2b6e0ee7a60>]"
      ]
     },
     "execution_count": 50,
     "metadata": {},
     "output_type": "execute_result"
    },
    {
     "data": {
      "image/png": "[encoded data removed]",
      "text/plain": [
       "<Figure size 432x288 with 1 Axes>"
      ]
     },
     "metadata": {
      "needs_background": "light"
     },
     "output_type": "display_data"
    }
   ],
   "source": [
    "width = []\n",
    "lbs = []\n",
    "ubs = []\n",
    "N = 1000\n",
    "for k1 in [0.1,0.5,1,1.5,2,3,4,5,10]:\n",
    "    states = [x for x in range(10)]\n",
    "    estimates_test, intervals_test = bootstrap_marginal(states,[0,0],[k1,1,0.5,1],100,N,N,plot=False,printing=False)\n",
    "    ub, lb = gene_expression_LP_3([k1,1,\"v\",1],10,intervals_test,printing=False)\n",
    "    ubs.append(ub)\n",
    "    lbs.append(lb)\n",
    "    print(f\"({lb},{ub})\")\n",
    "    width.append(ub - lb)\n",
    "plt.plot(width)    "
   ]
  },
  {
   "cell_type": "code",
   "execution_count": 71,
   "metadata": {},
   "outputs": [
    {
     "data": {
      "text/plain": [
       "<matplotlib.lines.Line2D at 0x2b6e2e184c0>"
      ]
     },
     "execution_count": 71,
     "metadata": {},
     "output_type": "execute_result"
    },
    {
     "data": {
      "image/png": "[encoded data removed]",
      "text/plain": [
       "<Figure size 432x288 with 1 Axes>"
      ]
     },
     "metadata": {
      "needs_background": "light"
     },
     "output_type": "display_data"
    }
   ],
   "source": [
    "ubs_adj = [x if x < 15 else 15 for x in ubs]\n",
    "fig, ax = plt.subplots()\n",
    "ax.plot(lbs)\n",
    "ax.plot(ubs_adj)\n",
    "ax.fill_between([x for x in range(9)],lbs, ubs_adj)\n",
    "ax.axhline(0.5, color=\"red\")"
   ]
  },
  {
   "cell_type": "code",
   "execution_count": 103,
   "metadata": {},
   "outputs": [
    {
     "name": "stdout",
     "output_type": "stream",
     "text": [
      "(0.24641460234072,1.2905827787873498)\n",
      "(0.3286713286645071,0.9446254071831008)\n",
      "(0.3649270072899038,0.8471321048554316)\n",
      "(0.3574529667135161,0.7032208589114051)\n",
      "(0.3441049961378057,0.6451510895793505)\n",
      "(0.3898437499974423,0.6307929969842875)\n",
      "(0.3183619087677741,0.5390508276849675)\n",
      "(0.39059613136644916,0.6283708251920853)\n",
      "(0.36453147876812886,0.4815997487339583)\n",
      "(0.3604826545991146,0.5761002716306527)\n",
      "(0.46829268292564896,0.495619524417855)\n",
      "(0.39484134488085615,0.4835399743743456)\n",
      "(inf,-inf)\n"
     ]
    },
    {
     "data": {
      "text/plain": [
       "[<matplotlib.lines.Line2D at 0x2b6e3b40b20>]"
      ]
     },
     "execution_count": 103,
     "metadata": {},
     "output_type": "execute_result"
    },
    {
     "data": {
      "image/png": "[encoded data removed]",
      "text/plain": [
       "<Figure size 432x288 with 1 Axes>"
      ]
     },
     "metadata": {
      "needs_background": "light"
     },
     "output_type": "display_data"
    }
   ],
   "source": [
    "width = []\n",
    "lbs = []\n",
    "ubs = []\n",
    "N = 1000\n",
    "for k1 in [x for x in range(2,15)]:\n",
    "    states = [x for x in range(10)]\n",
    "    estimates_test, intervals_test = bootstrap_marginal(states,[0,0],[k1,1,0.5,1],100,N,N,plot=False,printing=False)\n",
    "    ub, lb = gene_expression_LP_3([k1,1,\"v\",1],10,intervals_test,printing=False)\n",
    "    ubs.append(ub)\n",
    "    lbs.append(lb)\n",
    "    print(f\"({lb},{ub})\")\n",
    "    width.append(ub - lb)\n",
    "plt.plot(width)"
   ]
  },
  {
   "cell_type": "code",
   "execution_count": 105,
   "metadata": {},
   "outputs": [
    {
     "data": {
      "text/plain": [
       "<matplotlib.lines.Line2D at 0x2b6e3e05630>"
      ]
     },
     "execution_count": 105,
     "metadata": {},
     "output_type": "execute_result"
    },
    {
     "data": {
      "image/png": "[encoded data removed]",
      "text/plain": [
       "<Figure size 432x288 with 1 Axes>"
      ]
     },
     "metadata": {
      "needs_background": "light"
     },
     "output_type": "display_data"
    }
   ],
   "source": [
    "ubs_adj = [x if x < 2 else 2 for x in ubs]\n",
    "lbs_adj = [x if x > 0 else 0 for x in lbs]\n",
    "fig, ax = plt.subplots()\n",
    "ax.plot(lbs_adj)\n",
    "ax.plot(ubs_adj)\n",
    "ax.fill_between([x for x in range(13)],lbs_adj, ubs_adj)\n",
    "ax.axhline(0.5, color=\"red\")"
   ]
  },
  {
   "cell_type": "markdown",
   "metadata": {},
   "source": [
    "# Gene Expression\n",
    "\n",
    "Following the exploratory work done above we produce updated code, implementing faster sampling, optimizated bootstrap and combining the different LP constraint forms into one function with options as arguments."
   ]
  },
  {
   "cell_type": "code",
   "execution_count": 14,
   "metadata": {},
   "outputs": [],
   "source": [
    "import math, random\n",
    "import matplotlib.pyplot as plt\n",
    "import numpy as np\n",
    "import cvxpy as cv\n",
    "import time\n",
    "import scipy"
   ]
  },
  {
   "cell_type": "markdown",
   "metadata": {},
   "source": [
    "## Sample Path Simulation\n",
    "\n",
    "Optimize sample path simulation: instead of running n chains up to t_max and taking a single sample each, we now run a single chain up to t_max and then take samples at t_s << t_max intervals. This massively increases efficiency as we do not have a run long burn-in for each sample, but t_s must be large enough to avoid high dependence of samples. (the old method can be considered t_max = t_s)"
   ]
  },
  {
   "cell_type": "code",
   "execution_count": 3,
   "metadata": {},
   "outputs": [],
   "source": [
    "def sample_path_gene(initial_state, params, tmax, plot=False):\n",
    "    \"\"\"\n",
    "    Simulate a sample path of gene expression\n",
    "    start at initial state, run until time tmax, rates in params\n",
    "    return visited states and jump times\n",
    "    \"\"\"\n",
    "\n",
    "    # initialise time and state (also store jump times)\n",
    "    t = 0\n",
    "    path = [(initial_state[0],initial_state[1])]\n",
    "    jump_times = [0]\n",
    "    k_on, k_off, k_tx, k_deg = params[0], params[1], params[2], params[3]\n",
    "\n",
    "    # simulate until stopping time\n",
    "    while t < tmax:\n",
    "        # simulate holding time of current state (m,g)\n",
    "        m, g = path[-1][0], path[-1][1]\n",
    "\n",
    "        # define rates\n",
    "        # q(x,x+(0,1)): gene turns on if off\n",
    "        q_on = (1 - g) * k_on\n",
    "        # q(x,x+(0,-1)): gene turns off if on\n",
    "        q_off = g * k_off\n",
    "        # q(x,x+(1,0)): transcription if gene on\n",
    "        q_tx = g * k_tx\n",
    "        # q(x,x+(-1,0)): degradation if  there are molecules\n",
    "        q_deg = m * k_deg\n",
    "        # -q(x,x): holding rate = sum q(x,y) over y\n",
    "        q_hold = q_on + q_off + q_tx + q_deg\n",
    "\n",
    "        # exponential holding time of state\n",
    "        t_hold = -math.log(random.random()) / q_hold\n",
    "        t += t_hold\n",
    "        jump_times.append(t)\n",
    "\n",
    "        # jump probability\n",
    "        # P(x -> y) = q_xy / q_hold\n",
    "        outcome = [1,2,3,4]\n",
    "        prob = [q_on / q_hold, q_off / q_hold, q_tx / q_hold, q_deg / q_hold]\n",
    "        jump = np.random.choice(outcome,p=prob)\n",
    "        # jump to new state\n",
    "        if jump == 1:\n",
    "            path.append((m,g + 1))\n",
    "        elif jump == 2:\n",
    "            path.append((m,g - 1))\n",
    "        elif jump == 3:\n",
    "            path.append((m + 1,g))\n",
    "        elif jump == 4:\n",
    "            path.append((m - 1,g))\n",
    "\n",
    "    if plot:\n",
    "        # separate paths\n",
    "        m_path = [state[0] for state in path]\n",
    "        g_path = [state[1] for state in path]\n",
    "        plt.scatter(jump_times, m_path, c=g_path, ec='k')\n",
    "\n",
    "        # defined colour plotting\n",
    "        #cmap, norm = mcolors.from_levels_and_colors([0, 1, 2], ['orange','blue'])\n",
    "        #plt.scatter(jump_times, m_list, c=g_list, cmap=cmap, norm=norm)\n",
    "\n",
    "    return path, jump_times"
   ]
  },
  {
   "cell_type": "code",
   "execution_count": 24,
   "metadata": {},
   "outputs": [],
   "source": [
    "def sample_path_approximate(initial_state, params, n, tmax, ts, plot=False):\n",
    "    \"\"\"\n",
    "    Simulate a single sample path of gene expression\n",
    "    Sample values at intervals ts after a burn-in time of tmax to give n values\n",
    "\n",
    "    initial state\n",
    "    params = [k_on, k_off, k_tx, k_deg]\n",
    "    n = total number of samples\n",
    "    tmax = burn-in simulation time\n",
    "    ts = time between successive samples\n",
    "\n",
    "    return samples of m\n",
    "    \"\"\"\n",
    "\n",
    "    # parameters\n",
    "    k_on = params[0]\n",
    "    k_off = params[1]\n",
    "    k_tx = params[2]\n",
    "    k_deg = params[3]\n",
    "\n",
    "    # initialise time and state (also store jump times)\n",
    "    t = 0\n",
    "    path = [(initial_state[0], initial_state[1])]\n",
    "    jump_times = [0]\n",
    "\n",
    "    # simulate for: burn-in time + (n-1) times between n samples\n",
    "    while t < tmax + (n - 1) * ts:\n",
    "\n",
    "        # simulate holding time of current state (m,g)\n",
    "        m, g = path[-1][0], path[-1][1]\n",
    "\n",
    "        # define rates\n",
    "        # q(x,x+(0,1)): gene turns on if off\n",
    "        q_on = (1 - g) * k_on\n",
    "        # q(x,x+(0,-1)): gene turns off if on\n",
    "        q_off = g * k_off\n",
    "        # q(x,x+(1,0)): transcription if gene on\n",
    "        q_tx = g * k_tx\n",
    "        # q(x,x+(-1,0)): degradation if  there are molecules\n",
    "        q_deg = m * k_deg\n",
    "        # -q(x,x): holding rate = sum q(x,y) over y\n",
    "        q_hold = q_on + q_off + q_tx + q_deg\n",
    "\n",
    "        # exponential holding time of state\n",
    "        t_hold = -math.log(random.random()) / q_hold\n",
    "        t += t_hold\n",
    "        jump_times.append(t)\n",
    "\n",
    "        # jump probability\n",
    "        # P(x -> y) = q_xy / q_hold\n",
    "        outcome = [1,2,3,4]\n",
    "        prob = [q_on / q_hold, q_off / q_hold, q_tx / q_hold, q_deg / q_hold]\n",
    "        jump = np.random.choice(outcome,p=prob)\n",
    "        # jump to new state\n",
    "        if jump == 1:\n",
    "            path.append((m,g + 1))\n",
    "        elif jump == 2:\n",
    "            path.append((m,g - 1))\n",
    "        elif jump == 3:\n",
    "            path.append((m + 1,g))\n",
    "        elif jump == 4:\n",
    "            path.append((m - 1,g))\n",
    "\n",
    "    # take the m marginal states\n",
    "    m_path = [state[0] for state in path]\n",
    "\n",
    "    # create step function of sample path from jump times and jump values\n",
    "    path_function = scipy.interpolate.interp1d(jump_times, m_path, kind='previous')\n",
    "    \n",
    "    # take values at sampling times as samples\n",
    "    sample_times = [tmax + i * ts for i in range(n)]\n",
    "    samples = path_function(sample_times)\n",
    "    samples = [int(x) for x in samples]\n",
    "\n",
    "    # plot sample path with burn-in and sampled values\n",
    "    if plot:\n",
    "        x = np.linspace(0, tmax + (n - 1) * ts, 10000)\n",
    "        plt.plot(x, path_function(x), label=\"Sample path\")\n",
    "        plt.axvline(tmax, label=\"Burn-in time: t_max\", color=\"orange\")\n",
    "        plt.scatter(sample_times, path_function(sample_times), color=\"red\", label=\"Samples\")\n",
    "        plt.legend()\n",
    "        plt.show()\n",
    "\n",
    "    return samples"
   ]
  },
  {
   "cell_type": "markdown",
   "metadata": {},
   "source": [
    "### Bootstrap\n",
    "\n",
    "Using the new vectorized method allows for a significant optimization in confidence interval computation time. However, we are still slowed down by inefficient simulation of n individual sample paths (one full burn-in path for each sampled value).\n",
    "\n",
    "So can use new optimized approx sampling to speed up.\n"
   ]
  },
  {
   "cell_type": "code",
   "execution_count": 18,
   "metadata": {},
   "outputs": [],
   "source": [
    "def bootstrap_marginal(m_list, initial_state, params, tmax, n, N, plot=False, printing=False):\n",
    "    \"\"\"\n",
    "    m_list: marginal states of m to calculate probabilities for\n",
    "    initial state\n",
    "    parameters\n",
    "    tmax: time of path before sample\n",
    "    n = number of simulated samples\n",
    "    N = number of bootstrap samples\n",
    "    \"\"\"\n",
    "\n",
    "    s1 = time.time()\n",
    "    # simulate n samples: (m,g)\n",
    "    states = []\n",
    "    for i in range(n):\n",
    "        path, jumps = sample_path_gene(initial_state, params, tmax, plot=plot)\n",
    "        states.append(path[-2]) # last state before tmax\n",
    "    plt.show()\n",
    "    e1 = time.time()\n",
    "    print(f\"Simulation time: {e1 - s1}\")\n",
    "\n",
    "    s2 = time.time()\n",
    "    # simulate N bootstrap samples: estimates p(m) for each, and for each m\n",
    "    estimates = [[] for x in m_list]\n",
    "    for i in range(N):\n",
    "        # sample with replacement from (m,g) samples\n",
    "        sample = random.choices(states,k = n)\n",
    "        # take just marginal m information\n",
    "        m_sample = [state[0] for state in sample]\n",
    "        # estimate p(m) from marginal info\n",
    "        for i, x in enumerate(m_list):\n",
    "            estimates[i].append(m_sample.count(x) / n)\n",
    "\n",
    "    # create confidence intervals (95%) via 2.5%, 97.5% quantiles for each x\n",
    "    intervals = [np.quantile(est,[0.025,0.975]) for est in estimates]\n",
    "    e2 = time.time()\n",
    "    print(f\"Computation time: {e2 - s2}\")\n",
    "\n",
    "    # plot histograms and CI\n",
    "    for i, x in enumerate(m_list):\n",
    "        if printing:\n",
    "            print(f\"95% CI for p({x}) is: ({intervals[i][0]}, {intervals[i][1]})\")\n",
    "        if plot:\n",
    "            plt.hist(estimates[i])\n",
    "            plt.title(f\"Hist of p({x})\")\n",
    "            plt.axvline(intervals[i][0], color=\"red\")\n",
    "            plt.axvline(intervals[i][1], color=\"red\")\n",
    "            plt.show()\n",
    "\n",
    "    # return CIs\n",
    "    return estimates, intervals"
   ]
  },
  {
   "cell_type": "code",
   "execution_count": 19,
   "metadata": {},
   "outputs": [],
   "source": [
    "def bootstrap_marginal_optim(initial_state, params, n, N, tmax=100, plot=False, printing=False):\n",
    "    \"\"\"\n",
    "    Simulate sample paths of reaction system, bootstrap to produce confidence\n",
    "    intervals on the m marginals of the stationary distributin.\n",
    "\n",
    "    Arguments:\n",
    "    initial_state: start of each simulated sample path (m, g)\n",
    "    params: parameters of chain for simulation [k_on, k_off, k_tx, k_deg]\n",
    "    n: number of simulated sample paths\n",
    "    N: number of bootstrap samples\n",
    "    tmax: time of each sample path\n",
    "    plot: plot the computed bounds\n",
    "    print: print the computed bounds\n",
    "\n",
    "    Returns:\n",
    "    intervals: list of confidence intervals for m marginals p(0), ..., p(M - 1)\n",
    "        of the stationary distribution of the chain\n",
    "    \"\"\"\n",
    "\n",
    "    s1 = time.time()\n",
    "    # simulate n stationary samples: (m,g) (joint state not just marginal)\n",
    "    states = []\n",
    "    for i in range(n):\n",
    "        path, jumps = sample_path_gene(initial_state, params, tmax)\n",
    "        # last state before tmax\n",
    "        states.append(path[-2])\n",
    "    e1 = time.time()\n",
    "    print(f\"Simulation time: {e1 - s1}\")\n",
    "\n",
    "    s2 = time.time()\n",
    "    # take the m marginal states\n",
    "    m_sample = [state[0] for state in states]\n",
    "\n",
    "    # find the largest state (+ 1)\n",
    "    M = np.max(m_sample) + 1\n",
    "\n",
    "    # N boostrap samples as N x n array\n",
    "    bootstrap = np.random.choice(m_sample, size=(N, n))\n",
    "    # produce N x M array of counts of states:\n",
    "    # offset each row by multiple of M for efficient bincount\n",
    "    bootstrap_offs = bootstrap + np.arange(N)[:,None]*M\n",
    "    counts = np.bincount(bootstrap_offs.ravel(), minlength=N * M).reshape(-1, M)\n",
    "    # dividing by n gives columns of estimates\n",
    "    # take 2.5%, 97.5% percentiles of each column (i.e each p(x))\n",
    "    quantiles = np.quantile(counts / n, [0.025, 0.975], axis=0)\n",
    "    # form intervals: list of [2.5%, 97.5%] values for each p(x)\n",
    "    intervals = [quantiles[:,i] for i in range(M)]\n",
    "    e2 = time.time()\n",
    "    print(f\"Computation time: {e2 - s2}\")\n",
    "\n",
    "    # plot histograms and CI\n",
    "    for x in range(M):\n",
    "        if printing:\n",
    "            print(f\"95% CI for m marginal p({x}) is: ({intervals[x][0]}, {intervals[x][1]})\")\n",
    "        if plot:\n",
    "            plt.hist(counts[:, x] / n)\n",
    "            plt.title(f\"Hist of m marginal p({x})\")\n",
    "            plt.axvline(intervals[x][0], color=\"red\")\n",
    "            plt.axvline(intervals[x][1], color=\"red\")\n",
    "            plt.show()\n",
    "\n",
    "    # return CIs\n",
    "    return intervals"
   ]
  },
  {
   "cell_type": "code",
   "execution_count": 25,
   "metadata": {},
   "outputs": [],
   "source": [
    "def bootstrap_approx(initial_state, params, n, N, tmax=100, ts=10, plot=False, printing=False):\n",
    "    \"\"\"\n",
    "    Simulate sample paths of reaction system, bootstrap to produce confidence\n",
    "    intervals on the m marginals of the stationary distributin.\n",
    "\n",
    "    Arguments:\n",
    "    initial_state: start of each simulated sample path (m, g)\n",
    "    params: parameters of chain for simulation [k_on, k_off, k_tx, k_deg]\n",
    "    n: number of simulated sample paths\n",
    "    N: number of bootstrap samples\n",
    "    tmax: burn-in time of sample path\n",
    "    ts: time between each sample\n",
    "    plot: plot the computed bounds\n",
    "    print: print the computed bounds\n",
    "\n",
    "    Returns:\n",
    "    intervals: list of confidence intervals for m marginals p(0), ..., p(M - 1)\n",
    "        of the stationary distribution of the chain\n",
    "    \"\"\"\n",
    "\n",
    "    # simulate n stationary samples (of m marginal)\n",
    "    m_sample = sample_path_approximate(initial_state, params, n, tmax, ts, plot=plot)\n",
    "\n",
    "    # find the largest state (+ 1)\n",
    "    M = np.max(m_sample) + 1\n",
    "\n",
    "    # N boostrap samples as N x n array\n",
    "    bootstrap = np.random.choice(m_sample, size=(N, n))\n",
    "    # produce N x M array of counts of states:\n",
    "    # offset each row by multiple of M for efficient bincount\n",
    "    bootstrap_offs = bootstrap + np.arange(N)[:,None]*M\n",
    "    counts = np.bincount(bootstrap_offs.ravel(), minlength=N * M).reshape(-1, M)\n",
    "    # dividing by n gives columns of estimates\n",
    "    # take 2.5%, 97.5% percentiles of each column (i.e each p(x))\n",
    "    quantiles = np.quantile(counts / n, [0.025, 0.975], axis=0)\n",
    "    # form intervals: list of [2.5%, 97.5%] values for each p(x)\n",
    "    intervals = [quantiles[:,i] for i in range(M)]\n",
    "\n",
    "    # plot histograms and CI\n",
    "    for x in range(M):\n",
    "        if printing:\n",
    "            print(f\"95% CI for m marginal p({x}) is: ({intervals[x][0]}, {intervals[x][1]})\")\n",
    "        if plot:\n",
    "            plt.hist(counts[:, x] / n)\n",
    "            plt.title(f\"Hist of m marginal p({x})\")\n",
    "            plt.axvline(intervals[x][0], color=\"red\")\n",
    "            plt.axvline(intervals[x][1], color=\"red\")\n",
    "            plt.show()\n",
    "\n",
    "    # return CIs\n",
    "    return intervals"
   ]
  },
  {
   "cell_type": "code",
   "execution_count": 21,
   "metadata": {},
   "outputs": [
    {
     "name": "stdout",
     "output_type": "stream",
     "text": [
      "Simulation time: 38.49851965904236\n",
      "Computation time: 7.167936325073242\n",
      "95% CI for p(0) is: (0.2894, 0.3148)\n",
      "95% CI for p(1) is: (0.2988, 0.3246)\n",
      "95% CI for p(2) is: (0.2064, 0.2292)\n",
      "95% CI for p(3) is: (0.0964, 0.1132)\n",
      "95% CI for p(4) is: (0.0376, 0.0488)\n",
      "95% CI for p(5) is: (0.010995000000000001, 0.0176)\n",
      "95% CI for p(6) is: (0.003, 0.0068)\n",
      "95% CI for p(7) is: (0.0004, 0.0022)\n"
     ]
    }
   ],
   "source": [
    "estimates, intervals = bootstrap_marginal([m for m in range(8)], (0, 0), [2, 1, 2, 1], 100, 5000, 5000, plot=False, printing=True)"
   ]
  },
  {
   "cell_type": "code",
   "execution_count": 22,
   "metadata": {},
   "outputs": [
    {
     "name": "stdout",
     "output_type": "stream",
     "text": [
      "Simulation time: 40.93224549293518\n",
      "Computation time: 0.8310861587524414\n",
      "95% CI for m marginal p(0) is: (0.2894, 0.3148)\n",
      "95% CI for m marginal p(1) is: (0.303, 0.3292)\n",
      "95% CI for m marginal p(2) is: (0.209, 0.2326)\n",
      "95% CI for m marginal p(3) is: (0.0932, 0.1096)\n",
      "95% CI for m marginal p(4) is: (0.034, 0.0448)\n",
      "95% CI for m marginal p(5) is: (0.0114, 0.018)\n",
      "95% CI for m marginal p(6) is: (0.003, 0.0068)\n",
      "95% CI for m marginal p(7) is: (0.0, 0.001)\n",
      "95% CI for m marginal p(8) is: (0.0, 0.0014)\n",
      "95% CI for m marginal p(9) is: (0.0, 0.0006)\n",
      "95% CI for m marginal p(10) is: (0.0, 0.0006)\n"
     ]
    }
   ],
   "source": [
    "intervals_optim = bootstrap_marginal_optim((0, 0), [2, 1, 2, 1], 5000, 5000, tmax=100, plot=False, printing=True)"
   ]
  },
  {
   "cell_type": "code",
   "execution_count": 27,
   "metadata": {},
   "outputs": [
    {
     "name": "stdout",
     "output_type": "stream",
     "text": [
      "95% CI for m marginal p(0) is: (0.2858, 0.3114)\n",
      "95% CI for m marginal p(1) is: (0.311, 0.3368)\n",
      "95% CI for m marginal p(2) is: (0.196, 0.2184)\n",
      "95% CI for m marginal p(3) is: (0.0936, 0.1102)\n",
      "95% CI for m marginal p(4) is: (0.0426, 0.0546)\n",
      "95% CI for m marginal p(5) is: (0.0116, 0.0182)\n",
      "95% CI for m marginal p(6) is: (0.0026, 0.006)\n",
      "95% CI for m marginal p(7) is: (0.0002, 0.002)\n"
     ]
    }
   ],
   "source": [
    "intervals_approx = bootstrap_approx((0, 0), [2, 1, 2, 1], 5000, 5000, tmax=100, ts=10, plot=False, printing=True)"
   ]
  },
  {
   "cell_type": "markdown",
   "metadata": {},
   "source": [
    "See \"approx\" sampling is much faster, and optimized bootstrap adds a speedup. There is a risk of dependent samples leading to poor CI's, but the better efficiency means that we can easily use a larger sample size as long as ts is reasonable."
   ]
  },
  {
   "cell_type": "markdown",
   "metadata": {},
   "source": [
    "## Fix wrong Q_deg matrix\n",
    "\n",
    "q((m,g),(m-1,g)) = k_deg * m, but the factor of m was not there."
   ]
  },
  {
   "cell_type": "code",
   "execution_count": 127,
   "metadata": {},
   "outputs": [
    {
     "data": {
      "text/plain": [
       "array([[ 0,  0,  1,  0,  0,  0,  0,  0,  0,  0],\n",
       "       [ 0,  0,  0,  1,  0,  0,  0,  0,  0,  0],\n",
       "       [ 0,  0, -1,  0,  2,  0,  0,  0,  0,  0],\n",
       "       [ 0,  0,  0, -1,  0,  2,  0,  0,  0,  0],\n",
       "       [ 0,  0,  0,  0, -2,  0,  3,  0,  0,  0],\n",
       "       [ 0,  0,  0,  0,  0, -2,  0,  3,  0,  0],\n",
       "       [ 0,  0,  0,  0,  0,  0, -3,  0,  4,  0],\n",
       "       [ 0,  0,  0,  0,  0,  0,  0, -3,  0,  4]])"
      ]
     },
     "execution_count": 127,
     "metadata": {},
     "output_type": "execute_result"
    }
   ],
   "source": [
    "# wrong implementation\n",
    "Q_deg_wrong = (np.diag([-1 if x > 1 else 0 for x in range(0,N+2)],0) +\n",
    "    \t\tnp.diag([1 for x in range(0,N)],2))[:-2, :]\n",
    "\n",
    "diag = []\n",
    "off_diag = []\n",
    "m = 0\n",
    "for x in range(0, N + 2):\n",
    "    diag.append(-m)\n",
    "    if x > 1:\n",
    "        off_diag.append(m)\n",
    "    # every 2 entries, increase m by 1\n",
    "    if x % 2:\n",
    "        m += 1\n",
    "\n",
    "# correct implementation\n",
    "Q_deg = (np.diag(diag,0) + np.diag(off_diag,2))[:-2, :]\n",
    "Q_deg"
   ]
  },
  {
   "cell_type": "markdown",
   "metadata": {},
   "source": [
    "## LP\n",
    "\n",
    "Now add arguments for constraint settings:\n",
    "- frechet_bounds: toggle standard frechet bound constraints\n",
    "- frechet_bounds_further: toggle further bounds (only linear when $ k_{on} $ and $ k_{off} $ are fixed)\n",
    "\n",
    "NOTE: the missing distributional constraint on the joint p, sum of entries $ \\le $ 1 (due to truncation), is also added. Although, does not appear to have significant impact."
   ]
  },
  {
   "cell_type": "code",
   "execution_count": 128,
   "metadata": {},
   "outputs": [],
   "source": [
    "def gene_expression_LP_optim(params, N, intervals, frechet_bounds=True, frechet_bounds_further=False, print_solution=True):\n",
    "    \"\"\"\n",
    "    Solve gene expression LP to bound parameters\n",
    "\n",
    "    Inputs:\n",
    "    params: [k_on, k_off, k_tx, k_deg] either values that will be fixed, or \"v\"\n",
    "        for variable to be bounded\n",
    "    N: number of rows/equations of Qp = 0 to use in constraints\n",
    "        must be even\n",
    "    intervals: list of confidence intervals for at least N/2 + 1 marginal states\n",
    "    \"\"\"\n",
    "\t\n",
    "\t# number of marginals used\n",
    "    M = int(N/2 + 1)\n",
    "\n",
    "\t# create Qr matrices:\n",
    "\t# create N + 2 x N + 2 square and drop last 2 rows, as have 2 upper diagonals\n",
    "    Q_on = (np.diag([-1 if not x % 2 else 0 for x in range(0,N+2)],0) +\n",
    "    \t\tnp.diag([1 if not x % 2 else 0 for x in range(0,N+1)],-1))[:-2, :]\n",
    "    Q_off = (np.diag([-1 if x % 2 else 0 for x in range(0,N+2)],0) +\n",
    "    \t\tnp.diag([1 if not x % 2 else 0 for x in range(0,N+1)],1))[:-2, :]\n",
    "    Q_tx = (np.diag([-1 if x % 2 else 0 for x in range(0,N+2)],0) +\n",
    "    \t\tnp.diag([1 if x % 2 else 0 for x in range(0,N)],-2))[:-2, :]\n",
    "    diag = []\n",
    "    off_diag = []\n",
    "    m = 0\n",
    "    for x in range(0, N + 2):\n",
    "        diag.append(-m)\n",
    "        if x > 1:\n",
    "            off_diag.append(m)\n",
    "        # every 2 entries, increase m by 1\n",
    "        if x % 2:\n",
    "            m += 1\n",
    "    Q_deg = (np.diag(diag,0) + np.diag(off_diag,2))[:-2, :]\n",
    "\n",
    "    # bounds from CI, on marginal\n",
    "    pl = [intr[0] for intr in intervals]\n",
    "    pu = [intr[1] for intr in intervals]\n",
    "\n",
    "    # define bounds\n",
    "    pl = np.array(pl)[:M]\n",
    "    pu = np.array(pu)[:M]\n",
    "\n",
    "    # form doubled bounds\n",
    "    pdl = np.repeat(pl,2)\n",
    "    pdu = np.repeat(pu,2)\n",
    "\n",
    "    # NOTE: need different cutoff: n p's <=> n/2 marginals\n",
    "\t\n",
    "    # marginal = A @ p\n",
    "    A = np.repeat(np.eye(M, dtype=int), repeats=2, axis=1)\n",
    "\n",
    "\t# Construct the problem.\n",
    "    # Variables\n",
    "    k1, k2, k3, k4 = params[0], params[1], params[2], params[3]\n",
    "    if k1 == \"v\":\n",
    "        k_on = cv.Variable()\n",
    "    else:\n",
    "        k_on = k1\n",
    "    if k2 == \"v\":\n",
    "        k_off = cv.Variable()\n",
    "    else:\n",
    "        k_off = k2\n",
    "    if k3 == \"v\":\n",
    "        k_tx = cv.Variable()\n",
    "    else:\n",
    "        k_tx = k3\n",
    "    if k4 == \"v\":\n",
    "        k_deg = cv.Variable()\n",
    "    else:\n",
    "        k_deg = k4\n",
    "    z_on = cv.Variable(N + 2)\n",
    "    z_off = cv.Variable(N + 2)\n",
    "    z_tx = cv.Variable(N + 2)\n",
    "    z_deg = cv.Variable(N + 2)\n",
    "\n",
    "    # frechet bound vector\n",
    "    kv1 = np.array([0 if x % 2 else 1 for x in range(N + 2)])\n",
    "    kv2 = np.array([1 if x % 2 else 0 for x in range(N + 2)])\n",
    "    kv = k_on * kv1 + k_off + kv2\n",
    "    #kv = np.array([k_off if x % 2 else k_on for x in range(N + 2)])\n",
    "\n",
    "\t# Constraints\n",
    "    constraints = [\n",
    "        # Qp = 0\n",
    "        Q_on @ z_on + Q_off @ z_off + Q_tx @ z_tx + Q_deg @ z_deg == 0,\n",
    "        # k_r * p_L <= A @ z_r <= k_r * p_U\n",
    "        k_on * pl <= A @ z_on, A @ z_on <= k_on * pu,\n",
    "\t\tk_off * pl <= A @ z_off, A @ z_off <= k_off * pu,\n",
    "\t\tk_tx * pl <= A @ z_tx, A @ z_tx <= k_tx * pu,\n",
    "\t\tk_deg * pl <= A @ z_deg, A @ z_deg <= k_deg * pu,\n",
    "        # 0 <= z_r <= k_r , k_r >= 0\n",
    "        0 <= z_on, z_on <= k_on, k_on >= 0,\n",
    "        0 <= z_off, z_off <= k_off, k_off >= 0,\n",
    "        0 <= z_tx, z_tx <= k_tx, k_tx >= 0,\n",
    "        0 <= z_deg, z_deg <= k_deg, k_deg >= 0,\n",
    "        # sum( z_r entries ) <= k_r\n",
    "        sum([z_on[x] for x in range(N + 2)]) <= k_on,\n",
    "        sum([z_off[x] for x in range(N + 2)]) <= k_off,\n",
    "        sum([z_tx[x] for x in range(N + 2)]) <= k_tx,\n",
    "        sum([z_deg[x] for x in range(N + 2)]) <= k_deg,\n",
    "        # joint upper bounds: z_r <= k_r * p_DU\n",
    "    \tz_on <= k_on * pdu, z_off <= k_off * pdu, z_tx <= k_tx * pdu, z_deg <= k_deg * pdu\n",
    "    ]\n",
    "    if frechet_bounds:\n",
    "        constraints += [\n",
    "            # frechet lower bounds (individuals may be redundant)\n",
    "            z_on >= k_on * pdl + k_off * pdl - kv - k_off * pdu,\n",
    "            z_off >= k_on * pdl + k_off * pdl - kv - k_on * pdu,\n",
    "            z_on + z_off >= k_on * pdl + k_off * pdl - kv\n",
    "        ]\n",
    "\n",
    "    if frechet_bounds_further:\n",
    "        constraints += [\n",
    "            # further frechet bounds (need k_on and k_off fixed)\n",
    "            z_tx >= (k_on * pdl + k_off * pdl - kv - k_off * pdu) * (k_tx / k_on),\n",
    "            z_deg >= (k_on * pdl + k_off * pdl - kv - k_off * pdu) * (k_deg / k_on),\n",
    "            z_tx >= (k_on * pdl + k_off * pdl - kv - k_on * pdu) * (k_tx / k_off),\n",
    "            z_deg >= (k_on * pdl + k_off * pdl - kv - k_on * pdu) * (k_deg / k_off)\n",
    "        ]\n",
    "    \n",
    "    # solutions\n",
    "    solutions = {}\n",
    "\n",
    "    # optimize for each variable\n",
    "    if k1 == \"v\":\n",
    "        prob_min = cv.Problem(cv.Minimize(k_on), constraints)\n",
    "        prob_max = cv.Problem(cv.Maximize(k_on), constraints)\n",
    "        prob_min.solve(solver=cv.GUROBI)\n",
    "        prob_max.solve(solver=cv.GUROBI)\n",
    "        solutions[\"k_on\"] = [prob_min.value, prob_max.value, prob_min.status, prob_max.status]\n",
    "    else:\n",
    "        solutions[\"k_on\"] = [k1]\n",
    "    if k2 == \"v\":\n",
    "        prob_min = cv.Problem(cv.Minimize(k_off), constraints)\n",
    "        prob_max = cv.Problem(cv.Maximize(k_off), constraints)\n",
    "        prob_min.solve(solver=cv.GUROBI)\n",
    "        prob_max.solve(solver=cv.GUROBI)\n",
    "        solutions[\"k_off\"] = [prob_min.value, prob_max.value, prob_min.status, prob_max.status]\n",
    "    else:\n",
    "        solutions[\"k_off\"] = [k2]\n",
    "    if k3 == \"v\":\n",
    "        prob_min = cv.Problem(cv.Minimize(k_tx), constraints)\n",
    "        prob_max = cv.Problem(cv.Maximize(k_tx), constraints)\n",
    "        prob_min.solve(solver=cv.GUROBI)\n",
    "        prob_max.solve(solver=cv.GUROBI)\n",
    "        solutions[\"k_tx\"] = [prob_min.value, prob_max.value, prob_min.status, prob_max.status]\n",
    "    else:\n",
    "        solutions[\"k_tx\"] = [k3]\n",
    "    if k4 == \"v\":\n",
    "        prob_min = cv.Problem(cv.Minimize(k_deg), constraints)\n",
    "        prob_max = cv.Problem(cv.Maximize(k_deg), constraints)\n",
    "        prob_min.solve(solver=cv.GUROBI)\n",
    "        prob_max.solve(solver=cv.GUROBI)\n",
    "        solutions[\"k_deg\"] = [prob_min.value, prob_max.value, prob_min.status, prob_max.status]\n",
    "    else:\n",
    "        solutions[\"k_deg\"] = [k4]\n",
    "\n",
    "    if print_solution:\n",
    "        for var in [\"k_on\", \"k_off\", \"k_tx\", \"k_deg\"]:\n",
    "            try:\n",
    "                print(f\"\\n{var} in ({solutions[var][0]}, {solutions[var][1]}) , status: {solutions[var][2]} , {solutions[var][3]}\")\n",
    "            except:\n",
    "                print(f\"\\n{var} = {solutions[var][0]}\")\n",
    "\n",
    "    return solutions"
   ]
  },
  {
   "cell_type": "markdown",
   "metadata": {},
   "source": [
    "## Tests"
   ]
  },
  {
   "cell_type": "code",
   "execution_count": 129,
   "metadata": {},
   "outputs": [
    {
     "name": "stdout",
     "output_type": "stream",
     "text": [
      "Simulation time: 3.2895474433898926\n",
      "Computation time: 0.04911160469055176\n",
      "95% CI for m marginal p(0) is: (0.59, 0.652)\n",
      "95% CI for m marginal p(1) is: (0.229975, 0.289)\n",
      "95% CI for m marginal p(2) is: (0.08, 0.116)\n",
      "95% CI for m marginal p(3) is: (0.012, 0.029)\n",
      "95% CI for m marginal p(4) is: (0.0, 0.007)\n"
     ]
    }
   ],
   "source": [
    "intervals_optim = bootstrap_marginal_optim(initial_state=(0, 0), params=[1, 1, 1, 1], n=1000, N=1000, tmax=100, plot=False, printing=True)"
   ]
  },
  {
   "cell_type": "code",
   "execution_count": 131,
   "metadata": {},
   "outputs": [
    {
     "name": "stdout",
     "output_type": "stream",
     "text": [
      "\n",
      "k_on = 1\n",
      "\n",
      "k_off = 1\n",
      "\n",
      "k_tx in (0.5536332179930796, None) , status: optimal , infeasible_or_unbounded\n",
      "\n",
      "k_deg = 1\n"
     ]
    }
   ],
   "source": [
    "solutions = gene_expression_LP_optim(params=[1, 1, \"v\", 1], N=8, frechet_bounds=True, frechet_bounds_further=False, intervals=intervals_optim)"
   ]
  },
  {
   "cell_type": "code",
   "execution_count": 132,
   "metadata": {},
   "outputs": [
    {
     "name": "stdout",
     "output_type": "stream",
     "text": [
      "Simulation time: 24.54723358154297\n",
      "Computation time: 0.7666223049163818\n",
      "95% CI for m marginal p(0) is: (0.623995, 0.6518)\n",
      "95% CI for m marginal p(1) is: (0.272795, 0.2984)\n",
      "95% CI for m marginal p(2) is: (0.061, 0.0754)\n",
      "95% CI for m marginal p(3) is: (0.0052, 0.0098)\n",
      "95% CI for m marginal p(4) is: (0.0006, 0.0028)\n"
     ]
    }
   ],
   "source": [
    "intervals_optim = bootstrap_marginal_optim(initial_state=(0, 0), params=[10, 1, 0.5, 1], n=5000, N=5000, tmax=100, plot=False, printing=True)"
   ]
  },
  {
   "cell_type": "code",
   "execution_count": 133,
   "metadata": {},
   "outputs": [
    {
     "name": "stdout",
     "output_type": "stream",
     "text": [
      "\n",
      "k_on = 10\n",
      "\n",
      "k_off = 1\n",
      "\n",
      "k_tx in (0.4232683290707588, 0.7084276538438254) , status: optimal , optimal\n",
      "\n",
      "k_deg = 1\n"
     ]
    }
   ],
   "source": [
    "solutions = gene_expression_LP_optim(params=[10, 1, \"v\", 1], N=8, frechet_bounds=True, frechet_bounds_further=True, intervals=intervals_optim)"
   ]
  },
  {
   "cell_type": "markdown",
   "metadata": {},
   "source": [
    "## Results\n",
    "\n",
    "The bounds produced on $ k_{tx} $ depend on several factors: quality/number of CI bounds, parameter values, frechet/further constraints used, which variables are specified, ...\n",
    "\n",
    "### Standard\n",
    "\n",
    "With only $ k_{deg} $ fixed to e.g. 1, only a lower bound is produced on $ k_{tx} $ which does not change with more bounds, but better quality CI's (higher n and N) do give an improvement. There is no upper bound, and frechet bounds do not give any change.\n",
    "\n",
    "### Fixed variables\n",
    "\n",
    "With $ k_{on} $ and $ k_{off} $ fixed (as well as $ k_{deg} $), only a lower bound is produced again, and it does not seem to improve on the standard case, even with frechet bounds. Slight improvement with better CI's.\n",
    "\n",
    "(see 1st test above)\n",
    "\n",
    "### Further frechet bounds\n",
    "\n",
    "With all variables fixed, further frechet bounds (multiplying frechet bounds by e.g. $ k_{tx} / k_{on} $) are now linear and can be used. Lower bounds are roughly the same as before.\n",
    "\n",
    "However, when $ k_{on} $ >> $ k_{off} $ e.g. 10 and 1, these new bounds give an upper bound on $ k_{tx} $, and in general the bounds are quite good (comparable to the lower bound in distance the true value). It improves slightly with better bounds (larger n and N), but not using more CI bounds (more equations).\n",
    "\n",
    "(see 2nd test above)"
   ]
  },
  {
   "cell_type": "markdown",
   "metadata": {},
   "source": [
    "# Rank of Linear approximation"
   ]
  },
  {
   "cell_type": "code",
   "execution_count": 134,
   "metadata": {},
   "outputs": [],
   "source": [
    "def gene_expression_LP_optim_rank(params, N, intervals, frechet_bounds=True, frechet_bounds_further=False, print_solution=True):\n",
    "    \"\"\"\n",
    "    Solve gene expression LP to bound parameters, return Z at each optimum for\n",
    "    rank testing of approximation\n",
    "\n",
    "    Inputs:\n",
    "    params: [k_on, k_off, k_tx, k_deg] either values that will be fixed, or \"v\"\n",
    "        for variable to be bounded\n",
    "    N: number of rows/equations of Qp = 0 to use in constraints\n",
    "        must be even\n",
    "    intervals: list of confidence intervals for at least N/2 + 1 marginal states\n",
    "    \"\"\"\n",
    "\t\n",
    "\t# number of marginals used\n",
    "    M = int(N/2 + 1)\n",
    "\n",
    "\t# create Qr matrices:\n",
    "\t# create N + 2 x N + 2 square and drop last 2 rows, as have 2 upper diagonals\n",
    "    Q_on = (np.diag([-1 if not x % 2 else 0 for x in range(0,N+2)],0) +\n",
    "    \t\tnp.diag([1 if not x % 2 else 0 for x in range(0,N+1)],-1))[:-2, :]\n",
    "    Q_off = (np.diag([-1 if x % 2 else 0 for x in range(0,N+2)],0) +\n",
    "    \t\tnp.diag([1 if not x % 2 else 0 for x in range(0,N+1)],1))[:-2, :]\n",
    "    Q_tx = (np.diag([-1 if x % 2 else 0 for x in range(0,N+2)],0) +\n",
    "    \t\tnp.diag([1 if x % 2 else 0 for x in range(0,N)],-2))[:-2, :]\n",
    "    diag = []\n",
    "    off_diag = []\n",
    "    m = 0\n",
    "    for x in range(0, N + 2):\n",
    "        diag.append(-m)\n",
    "        if x > 1:\n",
    "            off_diag.append(m)\n",
    "        # every 2 entries, increase m by 1\n",
    "        if x % 2:\n",
    "            m += 1\n",
    "\n",
    "    # correct implementation\n",
    "    Q_deg = (np.diag(diag,0) + np.diag(off_diag,2))[:-2, :]\n",
    "\n",
    "    # bounds from CI, on marginal\n",
    "    pl = [intr[0] for intr in intervals]\n",
    "    pu = [intr[1] for intr in intervals]\n",
    "\n",
    "    # define bounds\n",
    "    pl = np.array(pl)[:M]\n",
    "    pu = np.array(pu)[:M]\n",
    "\n",
    "    # form doubled bounds\n",
    "    pdl = np.repeat(pl,2)\n",
    "    pdu = np.repeat(pu,2)\n",
    "\n",
    "    # NOTE: need different cutoff: n p's <=> n/2 marginals\n",
    "\t\n",
    "    # marginal = A @ p\n",
    "    A = np.repeat(np.eye(M, dtype=int), repeats=2, axis=1)\n",
    "\n",
    "\t# Construct the problem.\n",
    "    # Variables\n",
    "    k1, k2, k3, k4 = params[0], params[1], params[2], params[3]\n",
    "    if k1 == \"v\":\n",
    "        k_on = cv.Variable()\n",
    "    else:\n",
    "        k_on = k1\n",
    "    if k2 == \"v\":\n",
    "        k_off = cv.Variable()\n",
    "    else:\n",
    "        k_off = k2\n",
    "    if k3 == \"v\":\n",
    "        k_tx = cv.Variable()\n",
    "    else:\n",
    "        k_tx = k3\n",
    "    if k4 == \"v\":\n",
    "        k_deg = cv.Variable()\n",
    "    else:\n",
    "        k_deg = k4\n",
    "    z_on = cv.Variable(N + 2)\n",
    "    z_off = cv.Variable(N + 2)\n",
    "    z_tx = cv.Variable(N + 2)\n",
    "    z_deg = cv.Variable(N + 2)\n",
    "\n",
    "    # frechet bound vector\n",
    "    kv1 = np.array([0 if x % 2 else 1 for x in range(N + 2)])\n",
    "    kv2 = np.array([1 if x % 2 else 0 for x in range(N + 2)])\n",
    "    kv = k_on * kv1 + k_off + kv2\n",
    "    #kv = np.array([k_off if x % 2 else k_on for x in range(N + 2)])\n",
    "\n",
    "\t# Constraints\n",
    "    constraints = [\n",
    "        # Qp = 0\n",
    "        Q_on @ z_on + Q_off @ z_off + Q_tx @ z_tx + Q_deg @ z_deg == 0,\n",
    "        # k_r * p_L <= A @ z_r <= k_r * p_U\n",
    "        k_on * pl <= A @ z_on, A @ z_on <= k_on * pu,\n",
    "\t\tk_off * pl <= A @ z_off, A @ z_off <= k_off * pu,\n",
    "\t\tk_tx * pl <= A @ z_tx, A @ z_tx <= k_tx * pu,\n",
    "\t\tk_deg * pl <= A @ z_deg, A @ z_deg <= k_deg * pu,\n",
    "        # 0 <= z_r <= k_r , k_r >= 0\n",
    "        0 <= z_on, z_on <= k_on, k_on >= 0,\n",
    "        0 <= z_off, z_off <= k_off, k_off >= 0,\n",
    "        0 <= z_tx, z_tx <= k_tx, k_tx >= 0,\n",
    "        0 <= z_deg, z_deg <= k_deg, k_deg >= 0,\n",
    "        # sum( z_r entries ) <= k_r\n",
    "        sum([z_on[x] for x in range(N + 2)]) <= k_on,\n",
    "        sum([z_off[x] for x in range(N + 2)]) <= k_off,\n",
    "        sum([z_tx[x] for x in range(N + 2)]) <= k_tx,\n",
    "        sum([z_deg[x] for x in range(N + 2)]) <= k_deg,\n",
    "        # joint upper bounds: z_r <= k_r * p_DU\n",
    "    \tz_on <= k_on * pdu, z_off <= k_off * pdu, z_tx <= k_tx * pdu, z_deg <= k_deg * pdu\n",
    "    ]\n",
    "    if frechet_bounds:\n",
    "        constraints += [\n",
    "            # frechet lower bounds (individuals may be redundant)\n",
    "            z_on >= k_on * pdl + k_off * pdl - kv - k_off * pdu,\n",
    "            z_off >= k_on * pdl + k_off * pdl - kv - k_on * pdu,\n",
    "            z_on + z_off >= k_on * pdl + k_off * pdl - kv\n",
    "        ]\n",
    "\n",
    "    if frechet_bounds_further:\n",
    "        constraints += [\n",
    "            # further frechet bounds (need k_on and k_off fixed)\n",
    "            z_tx >= (k_on * pdl + k_off * pdl - kv - k_off * pdu) * (k_tx / k_on),\n",
    "            z_deg >= (k_on * pdl + k_off * pdl - kv - k_off * pdu) * (k_deg / k_on),\n",
    "            z_tx >= (k_on * pdl + k_off * pdl - kv - k_on * pdu) * (k_tx / k_off),\n",
    "            z_deg >= (k_on * pdl + k_off * pdl - kv - k_on * pdu) * (k_deg / k_off)\n",
    "        ]\n",
    "    \n",
    "    # solutions\n",
    "    solutions = {}\n",
    "    # z values\n",
    "    z_values = {\"k_on\": {}, \"k_off\": {}, \"k_tx\": {}, \"k_deg\": {}}\n",
    "\n",
    "    # optimize for each variable\n",
    "    if k1 == \"v\":\n",
    "        prob_min = cv.Problem(cv.Minimize(k_on), constraints)\n",
    "        prob_max = cv.Problem(cv.Maximize(k_on), constraints)\n",
    "        # solve min: store z values at optima\n",
    "        prob_min.solve(solver=cv.GUROBI)\n",
    "        z_values[\"k_on\"][\"z_on_lb\"] = z_on.value\n",
    "        z_values[\"k_on\"][\"z_off_lb\"] = z_off.value\n",
    "        z_values[\"k_on\"][\"z_tx_lb\"] = z_tx.value\n",
    "        z_values[\"k_on\"][\"z_deg_lb\"] = z_deg.value\n",
    "        # solve max: store z values at optima\n",
    "        prob_max.solve(solver=cv.GUROBI)\n",
    "        z_values[\"k_on\"][\"z_on_ub\"] = z_on.value\n",
    "        z_values[\"k_on\"][\"z_off_ub\"] = z_off.value\n",
    "        z_values[\"k_on\"][\"z_tx_ub\"] = z_tx.value\n",
    "        z_values[\"k_on\"][\"z_deg_ub\"] = z_deg.value\n",
    "        solutions[\"k_on\"] = [prob_min.value, prob_max.value, prob_min.status, prob_max.status]\n",
    "    else:\n",
    "        solutions[\"k_on\"] = [k1]\n",
    "    if k2 == \"v\":\n",
    "        prob_min = cv.Problem(cv.Minimize(k_off), constraints)\n",
    "        prob_max = cv.Problem(cv.Maximize(k_off), constraints)\n",
    "        prob_min.solve(solver=cv.GUROBI)\n",
    "        z_values[\"k_off\"][\"z_on_lb\"] = z_on.value\n",
    "        z_values[\"k_off\"][\"z_off_lb\"] = z_off.value\n",
    "        z_values[\"k_off\"][\"z_tx_lb\"] = z_tx.value\n",
    "        z_values[\"k_off\"][\"z_deg_lb\"] = z_deg.value\n",
    "        prob_max.solve(solver=cv.GUROBI)\n",
    "        z_values[\"k_off\"][\"z_on_ub\"] = z_on.value\n",
    "        z_values[\"k_off\"][\"z_off_ub\"] = z_off.value\n",
    "        z_values[\"k_off\"][\"z_tx_ub\"] = z_tx.value\n",
    "        z_values[\"k_off\"][\"z_deg_ub\"] = z_deg.value\n",
    "        solutions[\"k_off\"] = [prob_min.value, prob_max.value, prob_min.status, prob_max.status]\n",
    "    else:\n",
    "        solutions[\"k_off\"] = [k2]\n",
    "    if k3 == \"v\":\n",
    "        prob_min = cv.Problem(cv.Minimize(k_tx), constraints)\n",
    "        prob_max = cv.Problem(cv.Maximize(k_tx), constraints)\n",
    "        prob_min.solve(solver=cv.GUROBI)\n",
    "        z_values[\"k_tx\"][\"z_on_lb\"] = z_on.value\n",
    "        z_values[\"k_tx\"][\"z_off_lb\"] = z_off.value\n",
    "        z_values[\"k_tx\"][\"z_tx_lb\"] = z_tx.value\n",
    "        z_values[\"k_tx\"][\"z_deg_lb\"] = z_deg.value\n",
    "        prob_max.solve(solver=cv.GUROBI)\n",
    "        z_values[\"k_tx\"][\"z_on_ub\"] = z_on.value\n",
    "        z_values[\"k_tx\"][\"z_off_ub\"] = z_off.value\n",
    "        z_values[\"k_tx\"][\"z_tx_ub\"] = z_tx.value\n",
    "        z_values[\"k_tx\"][\"z_deg_ub\"] = z_deg.value\n",
    "        solutions[\"k_tx\"] = [prob_min.value, prob_max.value, prob_min.status, prob_max.status]\n",
    "    else:\n",
    "        solutions[\"k_tx\"] = [k3]\n",
    "    if k4 == \"v\":\n",
    "        prob_min = cv.Problem(cv.Minimize(k_deg), constraints)\n",
    "        prob_max = cv.Problem(cv.Maximize(k_deg), constraints)\n",
    "        prob_min.solve(solver=cv.GUROBI)\n",
    "        z_values[\"k_deg\"][\"z_on_lb\"] = z_on.value\n",
    "        z_values[\"k_deg\"][\"z_off_lb\"] = z_off.value\n",
    "        z_values[\"k_deg\"][\"z_tx_lb\"] = z_tx.value\n",
    "        z_values[\"k_deg\"][\"z_deg_lb\"] = z_deg.value\n",
    "        prob_max.solve(solver=cv.GUROBI)\n",
    "        z_values[\"k_deg\"][\"z_on_ub\"] = z_on.value\n",
    "        z_values[\"k_deg\"][\"z_off_ub\"] = z_off.value\n",
    "        z_values[\"k_deg\"][\"z_tx_ub\"] = z_tx.value\n",
    "        z_values[\"k_deg\"][\"z_deg_ub\"] = z_deg.value\n",
    "        solutions[\"k_deg\"] = [prob_min.value, prob_max.value, prob_min.status, prob_max.status]\n",
    "    else:\n",
    "        solutions[\"k_deg\"] = [k4]\n",
    "\n",
    "    if print_solution:\n",
    "        for var in [\"k_on\", \"k_off\", \"k_tx\", \"k_deg\"]:\n",
    "            try:\n",
    "                print(f\"\\n{var} in ({solutions[var][0]}, {solutions[var][1]}) , status: {solutions[var][2]} , {solutions[var][3]}\")\n",
    "            except:\n",
    "                print(f\"\\n{var} = {solutions[var][0]}\")\n",
    "\n",
    "    return solutions, z_values"
   ]
  },
  {
   "cell_type": "code",
   "execution_count": 135,
   "metadata": {},
   "outputs": [
    {
     "name": "stdout",
     "output_type": "stream",
     "text": [
      "Simulation time: 6.792742013931274\n",
      "Computation time: 0.015625476837158203\n",
      "True value of m marginal p(0) is: 0.1353352832366127 , CI (0.115, 0.158) is True\n",
      "True value of m marginal p(1) is: 0.2706705664732254 , CI (0.231, 0.288) is True\n",
      "True value of m marginal p(2) is: 0.2706705664732254 , CI (0.247, 0.303025) is True\n",
      "True value of m marginal p(3) is: 0.1804470443154836 , CI (0.161, 0.21) is True\n",
      "True value of m marginal p(4) is: 0.0902235221577418 , CI (0.075, 0.111) is True\n",
      "True value of m marginal p(5) is: 0.03608940886309672 , CI (0.02, 0.04102499999999998) is True\n",
      "True value of m marginal p(6) is: 0.012029802954365574 , CI (0.010975, 0.026) is True\n",
      "True value of m marginal p(7) is: 0.0034370865583901638 , CI (0.0, 0.007) is True\n"
     ]
    }
   ],
   "source": [
    "# parameters\n",
    "k_tx = 2\n",
    "k_deg = 1\n",
    "\n",
    "# sample and bootstrap for k_on = 1, k_off = 0 (starting point of simulations M = 0, Gene on state)\n",
    "intervals_rank = bootstrap_marginal_optim(initial_state=(0, 1), params=[1, 0, k_tx, k_deg], n=1000, N=1000, tmax=100, plot=False, printing=False)\n",
    "\n",
    "M = len(intervals_rank)\n",
    "# true stationary distribution\n",
    "true_p = [(k_tx / k_deg)**k * math.exp(-k_tx / k_deg) / math.factorial(k) for k in range(M + 1)]\n",
    "for i in range(M):\n",
    "    valid = False\n",
    "    if intervals_rank[i][0] <= true_p[i] and intervals_rank[i][1] >= true_p[i]:\n",
    "        valid = True\n",
    "    print(f\"True value of m marginal p({i}) is: {true_p[i]} , CI ({intervals_rank[i][0]}, {intervals_rank[i][1]}) is {valid}\")"
   ]
  },
  {
   "cell_type": "code",
   "execution_count": 136,
   "metadata": {},
   "outputs": [
    {
     "name": "stdout",
     "output_type": "stream",
     "text": [
      "Simulation time: 37.685835123062134\n",
      "Computation time: 1.435453176498413\n",
      "95% CI for m marginal p(0) is: (0.6256, 0.652)\n",
      "95% CI for m marginal p(1) is: (0.271, 0.2956)\n",
      "95% CI for m marginal p(2) is: (0.059, 0.0726)\n",
      "95% CI for m marginal p(3) is: (0.008595000000000002, 0.0142)\n",
      "95% CI for m marginal p(4) is: (0.0002, 0.0016)\n"
     ]
    }
   ],
   "source": [
    "# sample and bootstrap\n",
    "k_on, k_off, k_tx, k_deg = 10, 1, 0.5, 1\n",
    "intervals_rank = bootstrap_marginal_optim(initial_state=(0, 1), params=[k_on, k_off, k_tx, k_deg], n=5000, N=5000, tmax=100, plot=False, printing=True)"
   ]
  },
  {
   "cell_type": "code",
   "execution_count": 137,
   "metadata": {},
   "outputs": [
    {
     "name": "stdout",
     "output_type": "stream",
     "text": [
      "\n",
      "k_on = 10\n",
      "\n",
      "k_off = 1\n",
      "\n",
      "k_tx in (0.41846540322133163, 0.6988840552298088) , status: optimal , optimal\n",
      "\n",
      "k_deg = 1\n"
     ]
    }
   ],
   "source": [
    "solutions, z_values = gene_expression_LP_optim_rank(params=[k_on, k_off, \"v\", k_deg], N=8, frechet_bounds=True, frechet_bounds_further=True, intervals=intervals_rank)"
   ]
  },
  {
   "cell_type": "code",
   "execution_count": 140,
   "metadata": {},
   "outputs": [
    {
     "name": "stdout",
     "output_type": "stream",
     "text": [
      "Z = \n",
      "[[0.00000000e+00 6.25600000e-01 0.00000000e+00 2.02640000e-01]\n",
      " [6.25600000e+00 0.00000000e+00 2.71000000e-01 4.22960000e-01]\n",
      " [0.00000000e+00 2.71000000e-01 0.00000000e+00 0.00000000e+00]\n",
      " [2.71000000e+00 0.00000000e+00 1.18000000e-01 2.71000000e-01]\n",
      " [0.00000000e+00 5.90000000e-02 0.00000000e+00 0.00000000e+00]\n",
      " [5.90000000e-01 0.00000000e+00 2.57850000e-02 5.90000000e-02]\n",
      " [0.00000000e+00 8.59500000e-03 2.79671014e-03 0.00000000e+00]\n",
      " [8.59500000e-02 0.00000000e+00 8.00000000e-04 8.59500000e-03]\n",
      " [2.00000000e-03 2.00000000e-04 8.36930806e-05 0.00000000e+00]\n",
      " [0.00000000e+00 0.00000000e+00 0.00000000e+00 2.00000000e-04]]\n",
      "Rank = 4\n",
      "Z = \n",
      "[[2.27060000e-01 6.25600000e-01 1.41621865e-01 2.02640000e-01]\n",
      " [6.02894000e+00 0.00000000e+00 2.95600000e-01 4.22960000e-01]\n",
      " [0.00000000e+00 4.47400000e-02 5.96870185e-02 2.27060000e-01]\n",
      " [2.71000000e+00 2.26260000e-01 1.29710560e-01 6.85400000e-02]\n",
      " [0.00000000e+00 5.90000000e-02 0.00000000e+00 4.00000000e-04]\n",
      " [5.90000000e-01 0.00000000e+00 4.12341593e-02 6.44552802e-02]\n",
      " [0.00000000e+00 8.59500000e-03 5.20690845e-03 2.66666667e-04]\n",
      " [8.59500000e-02 0.00000000e+00 8.00000000e-04 1.34780531e-02]\n",
      " [2.00000000e-03 2.00000000e-04 1.39776811e-04 2.00000000e-04]\n",
      " [0.00000000e+00 0.00000000e+00 0.00000000e+00 0.00000000e+00]]\n",
      "Rank = 4\n"
     ]
    },
    {
     "data": {
      "image/png": "[encoded data removed]",
      "text/plain": [
       "<Figure size 640x480 with 1 Axes>"
      ]
     },
     "metadata": {},
     "output_type": "display_data"
    },
    {
     "data": {
      "image/png": "[encoded data removed]",
      "text/plain": [
       "<Figure size 640x480 with 1 Axes>"
      ]
     },
     "metadata": {},
     "output_type": "display_data"
    }
   ],
   "source": [
    "# only have optimization over k_tx, and only lower bound is bounded, so just compare z's in this optima\n",
    "eps = 1e-5\n",
    "\n",
    "z_on_lb = z_values[\"k_tx\"][\"z_on_lb\"].reshape(-1, 1)\n",
    "z_off_lb = z_values[\"k_tx\"][\"z_off_lb\"].reshape(-1, 1)\n",
    "z_tx_lb = z_values[\"k_tx\"][\"z_tx_lb\"].reshape(-1, 1)\n",
    "z_deg_lb = z_values[\"k_tx\"][\"z_deg_lb\"].reshape(-1, 1)\n",
    "\n",
    "# Z matrix\n",
    "Z_lb = np.concatenate([z_on_lb, z_off_lb, z_tx_lb, z_deg_lb], axis=1)\n",
    "print(f\"Z = \\n{Z_lb}\")\n",
    "print(f\"Rank = {np.linalg.matrix_rank(Z_lb)}\")\n",
    "\n",
    "z_on_ub = z_values[\"k_tx\"][\"z_on_ub\"].reshape(-1, 1)\n",
    "z_off_ub = z_values[\"k_tx\"][\"z_off_ub\"].reshape(-1, 1)\n",
    "z_tx_ub = z_values[\"k_tx\"][\"z_tx_ub\"].reshape(-1, 1)\n",
    "z_deg_ub = z_values[\"k_tx\"][\"z_deg_ub\"].reshape(-1, 1)\n",
    "\n",
    "# Z matrix\n",
    "Z_ub = np.concatenate([z_on_ub, z_off_ub, z_tx_ub, z_deg_ub], axis=1)\n",
    "print(f\"Z = \\n{Z_ub}\")\n",
    "print(f\"Rank = {np.linalg.matrix_rank(Z_ub)}\")\n",
    "\n",
    "def plotter(z_list):\n",
    "    '''Plot elementwise ratios'''\n",
    "    x = range(z_list[0].shape[0])\n",
    "    plt.plot(x, z_list[1] / z_list[0], label=\"z_off / z_on\", color=\"red\")\n",
    "    plt.plot(x, z_list[2] / z_list[0], label=\"z_tx / z_on\", color=\"green\")\n",
    "    plt.plot(x, z_list[3] / z_list[0], label=\"z_deg / z_on\", color=\"blue\")\n",
    "    plt.axhline(k_off / k_on, color=\"red\")\n",
    "    plt.axhline(k_tx / k_on, color=\"green\")\n",
    "    plt.axhline(k_deg / k_on, color=\"red\")\n",
    "    plt.legend()\n",
    "    plt.show()\n",
    "\n",
    "plotter([z_on_lb + eps, z_off_lb + eps, z_tx_lb + eps, z_deg_lb + eps])\n",
    "plotter([z_on_ub + eps, z_off_ub + eps, z_tx_ub + eps, z_deg_ub + eps])"
   ]
  },
  {
   "cell_type": "markdown",
   "metadata": {},
   "source": [
    "We see that the Z values at optima are not Rank 1, in fact are full rank, even with 3 fixed rates and further frechet bounds. \n",
    "\n",
    "There are many zero values so we add a small epsilon to consider the ratio between Z vectors (to see how 'far' from rank 1 we are) and see that while some elements are close, in general they are far from linearly dependent.\n",
    "\n",
    "This is good motivation for non-linear programming, where we can work directly with p and k's, avoiding the z transformation which is likely causing problems."
   ]
  },
  {
   "cell_type": "markdown",
   "metadata": {},
   "source": [
    "# Non-Linear programming\n",
    "\n",
    "So far have we have worked with linear programs, using the transformation $z_{r} = k_{r}p$ and writing everything in the z domain to ensure linear constraints (and objective). However, this leads to potentially weaker bounds as everything must be multiplied and simplified to ensure linearity.\n",
    "\n",
    "Instead, we can work directly with the quadratic constraints, which involve $k_{r}p$ cross terms and ratios of parameters in frechet bounds. Using the Gurobi optimizer should still give a global minima / maxima solution for parameter bounds.\n",
    "\n",
    "However, cvxpy only works with convex optimization problems, so we have to switch to directly using the Gurobi python API to form and solve these non-linear problems:"
   ]
  },
  {
   "cell_type": "code",
   "execution_count": 13,
   "metadata": {},
   "outputs": [],
   "source": [
    "def gene_expression_NLP(params, N, intervals, print_solution=True):\n",
    "    \"\"\"\n",
    "    Solve Non-Linear Programming problem to bound parameters\n",
    "\n",
    "    Inputs:\n",
    "    params: [k_on, k_off, k_tx, k_deg] either values that will be fixed, or \"v\"\n",
    "        for variable to be bounded\n",
    "    N: number of rows/equations of Qp = 0 to use in constraints\n",
    "        must be even\n",
    "    intervals: list of confidence intervals for at least N/2 + 1 marginal states\n",
    "    \"\"\"\n",
    "\t\n",
    "\t# number of marginals used\n",
    "    M = int(N/2 + 1)\n",
    "\n",
    "\t# create Qr matrices:\n",
    "\t# create N + 2 x N + 2 square and drop last 2 rows, as have 2 upper diagonals\n",
    "    Q_on = (np.diag([-1 if not x % 2 else 0 for x in range(0,N+2)],0) +\n",
    "    \t\tnp.diag([1 if not x % 2 else 0 for x in range(0,N+1)],-1))[:-2, :]\n",
    "    Q_off = (np.diag([-1 if x % 2 else 0 for x in range(0,N+2)],0) +\n",
    "    \t\tnp.diag([1 if not x % 2 else 0 for x in range(0,N+1)],1))[:-2, :]\n",
    "    Q_tx = (np.diag([-1 if x % 2 else 0 for x in range(0,N+2)],0) +\n",
    "    \t\tnp.diag([1 if x % 2 else 0 for x in range(0,N)],-2))[:-2, :]\n",
    "    Q_deg = (np.diag([-1 if x > 1 else 0 for x in range(0,N+2)],0) +\n",
    "    \t\tnp.diag([1 for x in range(0,N)],2))[:-2, :]\n",
    "\n",
    "    # bounds from CI, on marginal\n",
    "    pl = [intr[0] for intr in intervals]\n",
    "    pu = [intr[1] for intr in intervals]\n",
    "\n",
    "    # define bounds\n",
    "    pl = np.array(pl)[:M]\n",
    "    pu = np.array(pu)[:M]\n",
    "\n",
    "    # form doubled bounds\n",
    "    pdl = np.repeat(pl,2)\n",
    "    pdu = np.repeat(pu,2)\n",
    "\n",
    "    # NOTE: need different cutoff: n p's <=> n/2 marginals\n",
    "\t\n",
    "    # marginal = A @ p\n",
    "    A = np.repeat(np.eye(M, dtype=int), repeats=2, axis=1)\n",
    "\n",
    "\t# Construct the problem.\n",
    "    # Variables\n",
    "    k1, k2, k3, k4 = params[0], params[1], params[2], params[3]\n",
    "    if k1 == \"v\":\n",
    "        k_on = cv.Variable()\n",
    "    else:\n",
    "        k_on = k1\n",
    "    if k2 == \"v\":\n",
    "        k_off = cv.Variable()\n",
    "    else:\n",
    "        k_off = k2\n",
    "    if k3 == \"v\":\n",
    "        k_tx = cv.Variable()\n",
    "    else:\n",
    "        k_tx = k3\n",
    "    if k4 == \"v\":\n",
    "        k_deg = cv.Variable()\n",
    "    else:\n",
    "        k_deg = k4\n",
    "    # joint (full) stationary distribution\n",
    "    p = cv.Variable(N + 2)\n",
    "\n",
    "    # [k_on, k_off, k_on, k_off, ...]\n",
    "    kv1 = np.array([0 if x % 2 else 1 for x in range(N + 2)])\n",
    "    kv2 = np.array([1 if x % 2 else 0 for x in range(N + 2)])\n",
    "    kv = k_on * kv1 + k_off * kv2\n",
    "\n",
    "\t# Constraints\n",
    "    constraints = [\n",
    "        # Qp = 0\n",
    "        k_on * Q_on @ p + k_off * Q_off @ p + k_tx * Q_tx @ p + k_deg * Q_deg @ p == 0,\n",
    "        # p_L <= A @ p <= p_U\n",
    "        pl <= A @ p, A @ p <= pu,\n",
    "        # 0 <= p <= 1\n",
    "        0 <= p, p <= 1,\n",
    "        # k_r >= 0\n",
    "        k_on >= 0, k_off >= 0, k_tx >= 0, k_deg >= 0,\n",
    "        # sum( p ) <= 1\n",
    "        sum([p[x] for x in range(N + 2)]) <= 1,\n",
    "        # frechet lower bounds (assume upper redundant)\n",
    "        p <= np.ones(N + 2) - (1 / (k_on + k_off)) * kv,\n",
    "        p >= pdl - (1 / (k_on + k_off)) * kv\n",
    "\t\t]\n",
    "    \n",
    "    # solutions\n",
    "    solutions = {}\n",
    "\n",
    "    # optimize for each variable\n",
    "    if k1 == \"v\":\n",
    "        prob_min = cv.Problem(cv.Minimize(k_on), constraints)\n",
    "        prob_max = cv.Problem(cv.Maximize(k_on), constraints)\n",
    "        prob_min.solve(solver=cv.GUROBI)\n",
    "        prob_max.solve(solver=cv.GUROBI)\n",
    "        solutions[\"k_on\"] = [prob_min.value, prob_max.value, prob_min.status, prob_max.status]\n",
    "    else:\n",
    "        solutions[\"k_on\"] = [k1]\n",
    "    if k2 == \"v\":\n",
    "        prob_min = cv.Problem(cv.Minimize(k_off), constraints)\n",
    "        prob_max = cv.Problem(cv.Maximize(k_off), constraints)\n",
    "        prob_min.solve(solver=cv.GUROBI)\n",
    "        prob_max.solve(solver=cv.GUROBI)\n",
    "        solutions[\"k_off\"] = [prob_min.value, prob_max.value, prob_min.status, prob_max.status]\n",
    "    else:\n",
    "        solutions[\"k_off\"] = [k2]\n",
    "    if k3 == \"v\":\n",
    "        prob_min = cv.Problem(cv.Minimize(k_tx), constraints)\n",
    "        prob_max = cv.Problem(cv.Maximize(k_tx), constraints)\n",
    "        prob_min.solve(solver=cv.GUROBI)\n",
    "        prob_max.solve(solver=cv.GUROBI)\n",
    "        solutions[\"k_tx\"] = [prob_min.value, prob_max.value, prob_min.status, prob_max.status]\n",
    "    else:\n",
    "        solutions[\"k_tx\"] = [k3]\n",
    "    if k4 == \"v\":\n",
    "        prob_min = cv.Problem(cv.Minimize(k_deg), constraints)\n",
    "        prob_max = cv.Problem(cv.Maximize(k_deg), constraints)\n",
    "        prob_min.solve(solver=cv.GUROBI)\n",
    "        prob_max.solve(solver=cv.GUROBI)\n",
    "        solutions[\"k_deg\"] = [prob_min.value, prob_max.value, prob_min.status, prob_max.status]\n",
    "    else:\n",
    "        solutions[\"k_deg\"] = [k4]\n",
    "\n",
    "    if print_solution:\n",
    "        for var in [\"k_on\", \"k_off\", \"k_tx\", \"k_deg\"]:\n",
    "            try:\n",
    "                print(f\"\\n{var} in ({solutions[var][0]}, {solutions[var][1]}) , status: {solutions[var][2]} , {solutions[var][3]}\")\n",
    "            except:\n",
    "                print(f\"\\n{var} = {solutions[var][0]}\")\n",
    "\n",
    "    return solutions"
   ]
  },
  {
   "cell_type": "code",
   "execution_count": 12,
   "metadata": {},
   "outputs": [
    {
     "name": "stdout",
     "output_type": "stream",
     "text": [
      "Simulation time: 5.173358678817749\n",
      "Computation time: 0.014561653137207031\n",
      "95% CI for m marginal p(0) is: (0.386, 0.446)\n",
      "95% CI for m marginal p(1) is: (0.311, 0.367025)\n",
      "95% CI for m marginal p(2) is: (0.151, 0.199)\n",
      "95% CI for m marginal p(3) is: (0.043, 0.072)\n",
      "95% CI for m marginal p(4) is: (0.006, 0.019)\n",
      "95% CI for m marginal p(5) is: (0.0, 0.007)\n"
     ]
    }
   ],
   "source": [
    "intervals_NLP = bootstrap_marginal_optim(initial_state=(0, 0), params=[0.9, 0.1, 1, 1], n=1000, N=1000, tmax=100, plot=False, printing=True)"
   ]
  },
  {
   "cell_type": "code",
   "execution_count": 13,
   "metadata": {},
   "outputs": [
    {
     "ename": "DCPError",
     "evalue": "Problem does not follow DCP rules. Specifically:\nThe following constraints are not DCP:\n[[-0.90 0.00 0.00 0.00]\n [0.90 0.00 0.00 0.00]] @ var2 + [[0.00 0.10 0.00 0.00]\n [0.00 -0.10 0.00 0.00]] @ var2 + Promote(var1, (2, 4)) @ [[0.00 0.00 0.00 0.00]\n [0.00 -1.00 0.00 0.00]] @ var2 + [[0.00 0.00 1.00 0.00]\n [0.00 0.00 0.00 1.00]] @ var2 == 0.0 , because the following subexpressions are not:\n|--  Promote(var1, (2, 4)) @ [[0.00 0.00 0.00 0.00]\n [0.00 -1.00 0.00 0.00]] @ var2",
     "output_type": "error",
     "traceback": [
      "\u001b[1;31m---------------------------------------------------------------------------\u001b[0m",
      "\u001b[1;31mDCPError\u001b[0m                                  Traceback (most recent call last)",
      "Cell \u001b[1;32mIn[13], line 1\u001b[0m\n\u001b[1;32m----> 1\u001b[0m solutions \u001b[38;5;241m=\u001b[39m \u001b[43mgene_expression_NLP\u001b[49m\u001b[43m(\u001b[49m\u001b[43mparams\u001b[49m\u001b[38;5;241;43m=\u001b[39;49m\u001b[43m[\u001b[49m\u001b[38;5;241;43m0.9\u001b[39;49m\u001b[43m,\u001b[49m\u001b[43m \u001b[49m\u001b[38;5;241;43m0.1\u001b[39;49m\u001b[43m,\u001b[49m\u001b[43m \u001b[49m\u001b[38;5;124;43m\"\u001b[39;49m\u001b[38;5;124;43mv\u001b[39;49m\u001b[38;5;124;43m\"\u001b[39;49m\u001b[43m,\u001b[49m\u001b[43m \u001b[49m\u001b[38;5;241;43m1\u001b[39;49m\u001b[43m]\u001b[49m\u001b[43m,\u001b[49m\u001b[43m \u001b[49m\u001b[43mN\u001b[49m\u001b[38;5;241;43m=\u001b[39;49m\u001b[38;5;241;43m2\u001b[39;49m\u001b[43m,\u001b[49m\u001b[43m \u001b[49m\u001b[43mintervals\u001b[49m\u001b[38;5;241;43m=\u001b[39;49m\u001b[43mintervals_NLP\u001b[49m\u001b[43m)\u001b[49m\n",
      "Cell \u001b[1;32mIn[11], line 111\u001b[0m, in \u001b[0;36mgene_expression_NLP\u001b[1;34m(params, N, intervals, print_solution)\u001b[0m\n\u001b[0;32m    109\u001b[0m prob_min \u001b[38;5;241m=\u001b[39m cv\u001b[38;5;241m.\u001b[39mProblem(cv\u001b[38;5;241m.\u001b[39mMinimize(k_tx), constraints)\n\u001b[0;32m    110\u001b[0m prob_max \u001b[38;5;241m=\u001b[39m cv\u001b[38;5;241m.\u001b[39mProblem(cv\u001b[38;5;241m.\u001b[39mMaximize(k_tx), constraints)\n\u001b[1;32m--> 111\u001b[0m \u001b[43mprob_min\u001b[49m\u001b[38;5;241;43m.\u001b[39;49m\u001b[43msolve\u001b[49m\u001b[43m(\u001b[49m\u001b[43msolver\u001b[49m\u001b[38;5;241;43m=\u001b[39;49m\u001b[43mcv\u001b[49m\u001b[38;5;241;43m.\u001b[39;49m\u001b[43mGUROBI\u001b[49m\u001b[43m)\u001b[49m\n\u001b[0;32m    112\u001b[0m prob_max\u001b[38;5;241m.\u001b[39msolve(solver\u001b[38;5;241m=\u001b[39mcv\u001b[38;5;241m.\u001b[39mGUROBI)\n\u001b[0;32m    113\u001b[0m solutions[\u001b[38;5;124m\"\u001b[39m\u001b[38;5;124mk_tx\u001b[39m\u001b[38;5;124m\"\u001b[39m] \u001b[38;5;241m=\u001b[39m [prob_min\u001b[38;5;241m.\u001b[39mvalue, prob_max\u001b[38;5;241m.\u001b[39mvalue, prob_min\u001b[38;5;241m.\u001b[39mstatus, prob_max\u001b[38;5;241m.\u001b[39mstatus]\n",
      "File \u001b[1;32mc:\\Users\\willi\\Documents\\Year 4 Project Work\\Proj_venv\\lib\\site-packages\\cvxpy\\problems\\problem.py:503\u001b[0m, in \u001b[0;36mProblem.solve\u001b[1;34m(self, *args, **kwargs)\u001b[0m\n\u001b[0;32m    501\u001b[0m \u001b[38;5;28;01melse\u001b[39;00m:\n\u001b[0;32m    502\u001b[0m     solve_func \u001b[38;5;241m=\u001b[39m Problem\u001b[38;5;241m.\u001b[39m_solve\n\u001b[1;32m--> 503\u001b[0m \u001b[38;5;28;01mreturn\u001b[39;00m solve_func(\u001b[38;5;28mself\u001b[39m, \u001b[38;5;241m*\u001b[39margs, \u001b[38;5;241m*\u001b[39m\u001b[38;5;241m*\u001b[39mkwargs)\n",
      "File \u001b[1;32mc:\\Users\\willi\\Documents\\Year 4 Project Work\\Proj_venv\\lib\\site-packages\\cvxpy\\problems\\problem.py:1072\u001b[0m, in \u001b[0;36mProblem._solve\u001b[1;34m(self, solver, warm_start, verbose, gp, qcp, requires_grad, enforce_dpp, ignore_dpp, canon_backend, **kwargs)\u001b[0m\n\u001b[0;32m   1069\u001b[0m         \u001b[38;5;28mself\u001b[39m\u001b[38;5;241m.\u001b[39munpack(chain\u001b[38;5;241m.\u001b[39mretrieve(soln))\n\u001b[0;32m   1070\u001b[0m         \u001b[38;5;28;01mreturn\u001b[39;00m \u001b[38;5;28mself\u001b[39m\u001b[38;5;241m.\u001b[39mvalue\n\u001b[1;32m-> 1072\u001b[0m data, solving_chain, inverse_data \u001b[38;5;241m=\u001b[39m \u001b[38;5;28;43mself\u001b[39;49m\u001b[38;5;241;43m.\u001b[39;49m\u001b[43mget_problem_data\u001b[49m\u001b[43m(\u001b[49m\n\u001b[0;32m   1073\u001b[0m \u001b[43m    \u001b[49m\u001b[43msolver\u001b[49m\u001b[43m,\u001b[49m\u001b[43m \u001b[49m\u001b[43mgp\u001b[49m\u001b[43m,\u001b[49m\u001b[43m \u001b[49m\u001b[43menforce_dpp\u001b[49m\u001b[43m,\u001b[49m\u001b[43m \u001b[49m\u001b[43mignore_dpp\u001b[49m\u001b[43m,\u001b[49m\u001b[43m \u001b[49m\u001b[43mverbose\u001b[49m\u001b[43m,\u001b[49m\u001b[43m \u001b[49m\u001b[43mcanon_backend\u001b[49m\u001b[43m,\u001b[49m\u001b[43m \u001b[49m\u001b[43mkwargs\u001b[49m\n\u001b[0;32m   1074\u001b[0m \u001b[43m\u001b[49m\u001b[43m)\u001b[49m\n\u001b[0;32m   1076\u001b[0m \u001b[38;5;28;01mif\u001b[39;00m verbose:\n\u001b[0;32m   1077\u001b[0m     \u001b[38;5;28mprint\u001b[39m(_NUM_SOLVER_STR)\n",
      "File \u001b[1;32mc:\\Users\\willi\\Documents\\Year 4 Project Work\\Proj_venv\\lib\\site-packages\\cvxpy\\problems\\problem.py:646\u001b[0m, in \u001b[0;36mProblem.get_problem_data\u001b[1;34m(self, solver, gp, enforce_dpp, ignore_dpp, verbose, canon_backend, solver_opts)\u001b[0m\n\u001b[0;32m    644\u001b[0m \u001b[38;5;28;01mif\u001b[39;00m key \u001b[38;5;241m!=\u001b[39m \u001b[38;5;28mself\u001b[39m\u001b[38;5;241m.\u001b[39m_cache\u001b[38;5;241m.\u001b[39mkey:\n\u001b[0;32m    645\u001b[0m     \u001b[38;5;28mself\u001b[39m\u001b[38;5;241m.\u001b[39m_cache\u001b[38;5;241m.\u001b[39minvalidate()\n\u001b[1;32m--> 646\u001b[0m     solving_chain \u001b[38;5;241m=\u001b[39m \u001b[38;5;28;43mself\u001b[39;49m\u001b[38;5;241;43m.\u001b[39;49m\u001b[43m_construct_chain\u001b[49m\u001b[43m(\u001b[49m\n\u001b[0;32m    647\u001b[0m \u001b[43m        \u001b[49m\u001b[43msolver\u001b[49m\u001b[38;5;241;43m=\u001b[39;49m\u001b[43msolver\u001b[49m\u001b[43m,\u001b[49m\u001b[43m \u001b[49m\u001b[43mgp\u001b[49m\u001b[38;5;241;43m=\u001b[39;49m\u001b[43mgp\u001b[49m\u001b[43m,\u001b[49m\n\u001b[0;32m    648\u001b[0m \u001b[43m        \u001b[49m\u001b[43menforce_dpp\u001b[49m\u001b[38;5;241;43m=\u001b[39;49m\u001b[43menforce_dpp\u001b[49m\u001b[43m,\u001b[49m\n\u001b[0;32m    649\u001b[0m \u001b[43m        \u001b[49m\u001b[43mignore_dpp\u001b[49m\u001b[38;5;241;43m=\u001b[39;49m\u001b[43mignore_dpp\u001b[49m\u001b[43m,\u001b[49m\n\u001b[0;32m    650\u001b[0m \u001b[43m        \u001b[49m\u001b[43mcanon_backend\u001b[49m\u001b[38;5;241;43m=\u001b[39;49m\u001b[43mcanon_backend\u001b[49m\u001b[43m,\u001b[49m\n\u001b[0;32m    651\u001b[0m \u001b[43m        \u001b[49m\u001b[43msolver_opts\u001b[49m\u001b[38;5;241;43m=\u001b[39;49m\u001b[43msolver_opts\u001b[49m\u001b[43m)\u001b[49m\n\u001b[0;32m    652\u001b[0m     \u001b[38;5;28mself\u001b[39m\u001b[38;5;241m.\u001b[39m_cache\u001b[38;5;241m.\u001b[39mkey \u001b[38;5;241m=\u001b[39m key\n\u001b[0;32m    653\u001b[0m     \u001b[38;5;28mself\u001b[39m\u001b[38;5;241m.\u001b[39m_cache\u001b[38;5;241m.\u001b[39msolving_chain \u001b[38;5;241m=\u001b[39m solving_chain\n",
      "File \u001b[1;32mc:\\Users\\willi\\Documents\\Year 4 Project Work\\Proj_venv\\lib\\site-packages\\cvxpy\\problems\\problem.py:898\u001b[0m, in \u001b[0;36mProblem._construct_chain\u001b[1;34m(self, solver, gp, enforce_dpp, ignore_dpp, canon_backend, solver_opts)\u001b[0m\n\u001b[0;32m    896\u001b[0m candidate_solvers \u001b[38;5;241m=\u001b[39m \u001b[38;5;28mself\u001b[39m\u001b[38;5;241m.\u001b[39m_find_candidate_solvers(solver\u001b[38;5;241m=\u001b[39msolver, gp\u001b[38;5;241m=\u001b[39mgp)\n\u001b[0;32m    897\u001b[0m \u001b[38;5;28mself\u001b[39m\u001b[38;5;241m.\u001b[39m_sort_candidate_solvers(candidate_solvers)\n\u001b[1;32m--> 898\u001b[0m \u001b[38;5;28;01mreturn\u001b[39;00m \u001b[43mconstruct_solving_chain\u001b[49m\u001b[43m(\u001b[49m\u001b[38;5;28;43mself\u001b[39;49m\u001b[43m,\u001b[49m\u001b[43m \u001b[49m\u001b[43mcandidate_solvers\u001b[49m\u001b[43m,\u001b[49m\u001b[43m \u001b[49m\u001b[43mgp\u001b[49m\u001b[38;5;241;43m=\u001b[39;49m\u001b[43mgp\u001b[49m\u001b[43m,\u001b[49m\n\u001b[0;32m    899\u001b[0m \u001b[43m                               \u001b[49m\u001b[43menforce_dpp\u001b[49m\u001b[38;5;241;43m=\u001b[39;49m\u001b[43menforce_dpp\u001b[49m\u001b[43m,\u001b[49m\n\u001b[0;32m    900\u001b[0m \u001b[43m                               \u001b[49m\u001b[43mignore_dpp\u001b[49m\u001b[38;5;241;43m=\u001b[39;49m\u001b[43mignore_dpp\u001b[49m\u001b[43m,\u001b[49m\n\u001b[0;32m    901\u001b[0m \u001b[43m                               \u001b[49m\u001b[43mcanon_backend\u001b[49m\u001b[38;5;241;43m=\u001b[39;49m\u001b[43mcanon_backend\u001b[49m\u001b[43m,\u001b[49m\n\u001b[0;32m    902\u001b[0m \u001b[43m                               \u001b[49m\u001b[43msolver_opts\u001b[49m\u001b[38;5;241;43m=\u001b[39;49m\u001b[43msolver_opts\u001b[49m\u001b[43m,\u001b[49m\n\u001b[0;32m    903\u001b[0m \u001b[43m                               \u001b[49m\u001b[43mspecified_solver\u001b[49m\u001b[38;5;241;43m=\u001b[39;49m\u001b[43msolver\u001b[49m\u001b[43m)\u001b[49m\n",
      "File \u001b[1;32mc:\\Users\\willi\\Documents\\Year 4 Project Work\\Proj_venv\\lib\\site-packages\\cvxpy\\reductions\\solvers\\solving_chain.py:217\u001b[0m, in \u001b[0;36mconstruct_solving_chain\u001b[1;34m(problem, candidates, gp, enforce_dpp, ignore_dpp, canon_backend, solver_opts, specified_solver)\u001b[0m\n\u001b[0;32m    215\u001b[0m \u001b[38;5;28;01mif\u001b[39;00m \u001b[38;5;28mlen\u001b[39m(problem\u001b[38;5;241m.\u001b[39mvariables()) \u001b[38;5;241m==\u001b[39m \u001b[38;5;241m0\u001b[39m:\n\u001b[0;32m    216\u001b[0m     \u001b[38;5;28;01mreturn\u001b[39;00m SolvingChain(reductions\u001b[38;5;241m=\u001b[39m[ConstantSolver()])\n\u001b[1;32m--> 217\u001b[0m reductions \u001b[38;5;241m=\u001b[39m \u001b[43m_reductions_for_problem_class\u001b[49m\u001b[43m(\u001b[49m\u001b[43mproblem\u001b[49m\u001b[43m,\u001b[49m\u001b[43m \u001b[49m\u001b[43mcandidates\u001b[49m\u001b[43m,\u001b[49m\u001b[43m \u001b[49m\u001b[43mgp\u001b[49m\u001b[43m,\u001b[49m\u001b[43m \u001b[49m\u001b[43msolver_opts\u001b[49m\u001b[43m)\u001b[49m\n\u001b[0;32m    219\u001b[0m \u001b[38;5;66;03m# Process DPP status of the problem.\u001b[39;00m\n\u001b[0;32m    220\u001b[0m dpp_context \u001b[38;5;241m=\u001b[39m \u001b[38;5;124m'\u001b[39m\u001b[38;5;124mdcp\u001b[39m\u001b[38;5;124m'\u001b[39m \u001b[38;5;28;01mif\u001b[39;00m \u001b[38;5;129;01mnot\u001b[39;00m gp \u001b[38;5;28;01melse\u001b[39;00m \u001b[38;5;124m'\u001b[39m\u001b[38;5;124mdgp\u001b[39m\u001b[38;5;124m'\u001b[39m\n",
      "File \u001b[1;32mc:\\Users\\willi\\Documents\\Year 4 Project Work\\Proj_venv\\lib\\site-packages\\cvxpy\\reductions\\solvers\\solving_chain.py:132\u001b[0m, in \u001b[0;36m_reductions_for_problem_class\u001b[1;34m(problem, candidates, gp, solver_opts)\u001b[0m\n\u001b[0;32m    129\u001b[0m     \u001b[38;5;28;01melif\u001b[39;00m problem\u001b[38;5;241m.\u001b[39mis_dqcp():\n\u001b[0;32m    130\u001b[0m         append \u001b[38;5;241m+\u001b[39m\u001b[38;5;241m=\u001b[39m (\u001b[38;5;124m\"\u001b[39m\u001b[38;5;130;01m\\n\u001b[39;00m\u001b[38;5;124mHowever, the problem does follow DQCP rules. \u001b[39m\u001b[38;5;124m\"\u001b[39m\n\u001b[0;32m    131\u001b[0m                    \u001b[38;5;124m\"\u001b[39m\u001b[38;5;124mConsider calling solve() with `qcp=True`.\u001b[39m\u001b[38;5;124m\"\u001b[39m)\n\u001b[1;32m--> 132\u001b[0m     \u001b[38;5;28;01mraise\u001b[39;00m DCPError(\n\u001b[0;32m    133\u001b[0m         \u001b[38;5;124m\"\u001b[39m\u001b[38;5;124mProblem does not follow DCP rules. Specifically:\u001b[39m\u001b[38;5;130;01m\\n\u001b[39;00m\u001b[38;5;124m\"\u001b[39m \u001b[38;5;241m+\u001b[39m append)\n\u001b[0;32m    134\u001b[0m \u001b[38;5;28;01melif\u001b[39;00m gp \u001b[38;5;129;01mand\u001b[39;00m \u001b[38;5;129;01mnot\u001b[39;00m problem\u001b[38;5;241m.\u001b[39mis_dgp():\n\u001b[0;32m    135\u001b[0m     append \u001b[38;5;241m=\u001b[39m build_non_disciplined_error_msg(problem, \u001b[38;5;124m'\u001b[39m\u001b[38;5;124mDGP\u001b[39m\u001b[38;5;124m'\u001b[39m)\n",
      "\u001b[1;31mDCPError\u001b[0m: Problem does not follow DCP rules. Specifically:\nThe following constraints are not DCP:\n[[-0.90 0.00 0.00 0.00]\n [0.90 0.00 0.00 0.00]] @ var2 + [[0.00 0.10 0.00 0.00]\n [0.00 -0.10 0.00 0.00]] @ var2 + Promote(var1, (2, 4)) @ [[0.00 0.00 0.00 0.00]\n [0.00 -1.00 0.00 0.00]] @ var2 + [[0.00 0.00 1.00 0.00]\n [0.00 0.00 0.00 1.00]] @ var2 == 0.0 , because the following subexpressions are not:\n|--  Promote(var1, (2, 4)) @ [[0.00 0.00 0.00 0.00]\n [0.00 -1.00 0.00 0.00]] @ var2"
     ]
    }
   ],
   "source": [
    "solutions = gene_expression_NLP(params=[0.9, 0.1, \"v\", 1], N=2, intervals=intervals_NLP)"
   ]
  },
  {
   "cell_type": "markdown",
   "metadata": {},
   "source": [
    "# Gurobi API\n",
    "\n",
    "Implement the gene expression model using the Gurobi python API.\n",
    "\n",
    "This is a non-convex model because of the $\\sum_{r} k_{r} Q_{r} p = 0 $ constraint, but gurobi still aims for global optimality. This also allows the use of more complicated frechet bounds that could not be used before due to the linearity restriction."
   ]
  },
  {
   "cell_type": "code",
   "execution_count": 29,
   "metadata": {},
   "outputs": [],
   "source": [
    "import math, random\n",
    "import matplotlib.pyplot as plt\n",
    "import matplotlib.colors as mcolors\n",
    "import numpy as np\n",
    "import cvxpy as cv\n",
    "import time\n",
    "import gurobipy as gp\n",
    "from gurobipy import GRB"
   ]
  },
  {
   "cell_type": "code",
   "execution_count": 174,
   "metadata": {},
   "outputs": [],
   "source": [
    "def gene_expression_NLP(params, N, intervals, K=100, frechet_bounds=False, print_solution=True, printing=True):\n",
    "    \"\"\"\n",
    "    Solve Non-Linear Programming problem to bound parameters\n",
    "\n",
    "    Inputs:\n",
    "    params: [k_on, k_off, k_tx, k_deg] either values that will be fixed, or \"v\"\n",
    "        for variable to be bounded\n",
    "    N: number of rows/equations of Qp = 0 to use in constraints\n",
    "        must be even\n",
    "    intervals: list of confidence intervals for at least N/2 + 1 marginal states\n",
    "    \"\"\"\n",
    "\t\n",
    "\t# number of marginals used\n",
    "    M = int(N/2 + 1)\n",
    "\n",
    "\t# create Qr matrices:\n",
    "\t# create N + 2 x N + 2 square and drop last 2 rows, as have 2 upper diagonals\n",
    "    Q_on = (np.diag([-1 if not x % 2 else 0 for x in range(0,N+2)],0) +\n",
    "    \t\tnp.diag([1 if not x % 2 else 0 for x in range(0,N+1)],-1))[:-2, :]\n",
    "    Q_off = (np.diag([-1 if x % 2 else 0 for x in range(0,N+2)],0) +\n",
    "    \t\tnp.diag([1 if not x % 2 else 0 for x in range(0,N+1)],1))[:-2, :]\n",
    "    Q_tx = (np.diag([-1 if x % 2 else 0 for x in range(0,N+2)],0) +\n",
    "    \t\tnp.diag([1 if x % 2 else 0 for x in range(0,N)],-2))[:-2, :]\n",
    "    diag = []\n",
    "    off_diag = []\n",
    "    m = 0\n",
    "    for x in range(0, N + 2):\n",
    "        diag.append(-m)\n",
    "        if x > 1:\n",
    "            off_diag.append(m)\n",
    "        # every 2 entries, increase m by 1\n",
    "        if x % 2:\n",
    "            m += 1\n",
    "    Q_deg = (np.diag(diag,0) + np.diag(off_diag,2))[:-2, :]\n",
    "\n",
    "    # bounds from CI, on marginal\n",
    "    pl = [intr[0] for intr in intervals]\n",
    "    pu = [intr[1] for intr in intervals]\n",
    "\n",
    "    # define bounds\n",
    "    pl = np.array(pl)[:M]\n",
    "    pu = np.array(pu)[:M]\n",
    "\n",
    "    # form doubled bounds\n",
    "    pdl = np.repeat(pl,2)\n",
    "    pdu = np.repeat(pu,2)\n",
    "\t\n",
    "    # marginal = A @ p\n",
    "    A = np.repeat(np.eye(M, dtype=int), repeats=2, axis=1)\n",
    "\n",
    "    # create model\n",
    "    m = gp.Model(\"gene_exp\")\n",
    "\n",
    "    # set options\n",
    "    # m.setParam('MIPGap', 0.0)\n",
    "    if not printing:\n",
    "        m.Params.LogToConsole = 0\n",
    "\n",
    "    # add variable p in [0, 1]\n",
    "    p = m.addMVar(shape=N + 2, vtype=GRB.CONTINUOUS, name=\"p\", lb=0, ub=1)\n",
    "\n",
    "    # initialize fixed / variable rates, constrain to [0, K] for computational reasons\n",
    "    if params[0] == \"v\":\n",
    "        k_on = m.addVar(vtype=GRB.CONTINUOUS, name=\"k_on\", lb=0, ub=K)\n",
    "    else:\n",
    "        k_on = params[0]\n",
    "    if params[1] == \"v\":\n",
    "        k_off = m.addVar(vtype=GRB.CONTINUOUS, name=\"k_off\", lb=0, ub=K)\n",
    "    else:\n",
    "        k_off = params[1]\n",
    "    if params[2] == \"v\":\n",
    "        k_tx = m.addVar(vtype=GRB.CONTINUOUS, name=\"k_tx\", lb=0, ub=K)\n",
    "    else:\n",
    "        k_tx = params[2]\n",
    "    if params[3] == \"v\":\n",
    "        k_deg = m.addVar(vtype=GRB.CONTINUOUS, name=\"k_deg\", lb=0, ub=K)\n",
    "    else:\n",
    "        k_deg = params[3]\n",
    "\n",
    "    # Constraints:\n",
    "    # Stationary condition: Qp = 0\n",
    "    m.addConstr(k_on*(Q_on @ p) + k_off*(Q_off @ p) + k_tx*(Q_tx @ p) + k_deg*(Q_deg @ p) == 0, name=\"Qp=0\")\n",
    "    # marginal bounds: p_L <= A @ p <= p_U\n",
    "    m.addConstr(pl <= A @ p, name=\"Marginal lb\")\n",
    "    m.addConstr(A @ p <= pu, name=\"Marginal ub\" )\n",
    "    # truncated joint dist: sum(p) <= 1\n",
    "    m.addConstr(p.sum() <= 1, name=\"Joint dist\")\n",
    "\n",
    "    if frechet_bounds:\n",
    "        # frechet lower bounds (assume upper redundant)\n",
    "        # [k_on, k_off, k_on, k_off, ...]\n",
    "        kv1 = np.array([0 if x % 2 else 1 for x in range(N + 2)])\n",
    "        kv2 = np.array([1 if x % 2 else 0 for x in range(N + 2)])\n",
    "        kv = k_on * kv1 + k_off * kv2\n",
    "        # m.addConstr(p <= np.ones(N + 2) - (1 / (k_on + k_off)) * kv)\n",
    "        # m.addConstr(p >= pdl - (1 / (k_on + k_off)) * kv)\n",
    "        m.addConstr((k_on + k_off) * p <= (k_on + k_off) * np.ones(N + 2) - kv)\n",
    "        m.addConstr((k_on + k_off) * p >= (k_on + k_off) * pdl - kv)\n",
    "\n",
    "    # objective\n",
    "    m.setObjective(k_tx, GRB.MINIMIZE)\n",
    "\n",
    "    try:\n",
    "        # optimize (solve)\n",
    "        m.optimize()\n",
    "        # record\n",
    "        min_val = m.ObjVal\n",
    "    except:\n",
    "        # record as infeasible/unbounded\n",
    "        min_val = None\n",
    "\n",
    "    # reset\n",
    "    m.reset()\n",
    "\n",
    "    # change objective\n",
    "    m.setObjective(k_tx, GRB.MAXIMIZE)\n",
    "\n",
    "    try:\n",
    "        # re-optimize (re-solve)\n",
    "        m.optimize()\n",
    "        # record\n",
    "        max_val = m.ObjVal\n",
    "    except:\n",
    "        # record as infeasible/unbounded\n",
    "        max_val = None\n",
    "    \n",
    "    # print\n",
    "    if print_solution: print(f\"k_tx in ({min_val}, {max_val}\")\n",
    "\n",
    "    return min_val, max_val"
   ]
  },
  {
   "cell_type": "markdown",
   "metadata": {},
   "source": [
    "## Test"
   ]
  },
  {
   "cell_type": "code",
   "execution_count": 142,
   "metadata": {},
   "outputs": [
    {
     "name": "stdout",
     "output_type": "stream",
     "text": [
      "95% CI for m marginal p(0) is: (0.4054, 0.433)\n",
      "95% CI for m marginal p(1) is: (0.3322, 0.3586)\n",
      "95% CI for m marginal p(2) is: (0.1524, 0.1726)\n",
      "95% CI for m marginal p(3) is: (0.05, 0.06280499999999992)\n",
      "95% CI for m marginal p(4) is: (0.0104, 0.0166)\n",
      "95% CI for m marginal p(5) is: (0.0014, 0.004)\n",
      "95% CI for m marginal p(6) is: (0.0, 0.0006)\n"
     ]
    }
   ],
   "source": [
    "intervals_NLP = bootstrap_approx(initial_state=(0, 0), params=[0.9, 0.1, 1, 1], n=5000, N=5000, tmax=100, ts=10, plot=False, printing=True)"
   ]
  },
  {
   "cell_type": "code",
   "execution_count": 166,
   "metadata": {},
   "outputs": [
    {
     "name": "stdout",
     "output_type": "stream",
     "text": [
      "Gurobi Optimizer version 11.0.0 build v11.0.0rc2 (win64 - Windows 11+.0 (22631.2))\n",
      "\n",
      "CPU model: Intel(R) Core(TM) i5-1035G1 CPU @ 1.00GHz, instruction set [SSE2|AVX|AVX2|AVX512]\n",
      "Thread count: 4 physical cores, 8 logical processors, using up to 8 threads\n",
      "\n",
      "Optimize a model with 5 rows, 7 columns and 12 nonzeros\n",
      "Model fingerprint: 0x6f919510\n",
      "Model has 10 quadratic constraints\n",
      "Coefficient statistics:\n",
      "  Matrix range     [1e+00, 1e+00]\n",
      "  QMatrix range    [1e+00, 1e+00]\n",
      "  QLMatrix range   [3e-01, 1e+00]\n",
      "  Objective range  [1e+00, 1e+00]\n",
      "  Bounds range     [1e+00, 1e+02]\n",
      "  RHS range        [3e-01, 1e+00]\n",
      "Presolve removed 2 rows and 0 columns\n",
      "\n",
      "Continuous model is non-convex -- solving as a MIP\n",
      "\n",
      "Presolve removed 1 rows and 0 columns\n",
      "Presolve time: 0.00s\n",
      "Presolved: 50 rows, 16 columns, 115 nonzeros\n",
      "Presolved model has 9 bilinear constraint(s)\n",
      "Variable types: 16 continuous, 0 integer (0 binary)\n",
      "Found heuristic solution: objective 0.7672056\n",
      "\n",
      "Root relaxation: interrupted, 6 iterations, 0.00 seconds (0.00 work units)\n",
      "\n",
      "    Nodes    |    Current Node    |     Objective Bounds      |     Work\n",
      " Expl Unexpl |  Obj  Depth IntInf | Incumbent    BestBd   Gap | It/Node Time\n",
      "\n",
      "     0     0          -    0         0.76721    0.76721  0.00%     -    0s\n",
      "\n",
      "Explored 1 nodes (6 simplex iterations) in 0.03 seconds (0.00 work units)\n",
      "Thread count was 8 (of 8 available processors)\n",
      "\n",
      "Solution count 1: 0.767206 \n",
      "\n",
      "Optimal solution found (tolerance 1.00e-04)\n",
      "Best objective 7.672055575973e-01, best bound 7.672055427252e-01, gap 0.0000%\n",
      "Discarded solution information\n",
      "Gurobi Optimizer version 11.0.0 build v11.0.0rc2 (win64 - Windows 11+.0 (22631.2))\n",
      "\n",
      "CPU model: Intel(R) Core(TM) i5-1035G1 CPU @ 1.00GHz, instruction set [SSE2|AVX|AVX2|AVX512]\n",
      "Thread count: 4 physical cores, 8 logical processors, using up to 8 threads\n",
      "\n",
      "Optimize a model with 5 rows, 7 columns and 12 nonzeros\n",
      "Model fingerprint: 0xee7ea68d\n",
      "Model has 10 quadratic constraints\n",
      "Coefficient statistics:\n",
      "  Matrix range     [1e+00, 1e+00]\n",
      "  QMatrix range    [1e+00, 1e+00]\n",
      "  QLMatrix range   [3e-01, 1e+00]\n",
      "  Objective range  [1e+00, 1e+00]\n",
      "  Bounds range     [1e+00, 1e+02]\n",
      "  RHS range        [3e-01, 1e+00]\n",
      "Presolve removed 2 rows and 0 columns\n",
      "\n",
      "Continuous model is non-convex -- solving as a MIP\n",
      "\n",
      "Presolve removed 1 rows and 0 columns\n",
      "Presolve time: 0.00s\n",
      "Presolved: 50 rows, 16 columns, 115 nonzeros\n",
      "Presolved model has 9 bilinear constraint(s)\n",
      "Variable types: 16 continuous, 0 integer (0 binary)\n",
      "Found heuristic solution: objective 100.0000000\n",
      "\n",
      "Explored 0 nodes (0 simplex iterations) in 0.02 seconds (0.00 work units)\n",
      "Thread count was 8 (of 8 available processors)\n",
      "\n",
      "Solution count 1: 100 \n",
      "\n",
      "Optimal solution found (tolerance 1.00e-04)\n",
      "Best objective 1.000000000000e+02, best bound 1.000000000000e+02, gap 0.0000%\n",
      "k_tx in (0.7672055575972935, 100.0\n"
     ]
    },
    {
     "data": {
      "text/plain": [
       "(0.7672055575972935, 100.0)"
      ]
     },
     "execution_count": 166,
     "metadata": {},
     "output_type": "execute_result"
    }
   ],
   "source": [
    "lb, ub = gene_expression_NLP(params=[\"v\", \"v\", \"v\", 1], N=2, intervals=intervals_NLP, frechet_bounds=True)\n",
    "lb, ub"
   ]
  },
  {
   "cell_type": "code",
   "execution_count": 155,
   "metadata": {},
   "outputs": [
    {
     "name": "stdout",
     "output_type": "stream",
     "text": [
      "\n",
      "k_on = 0.9\n",
      "\n",
      "k_off = 0.1\n",
      "\n",
      "k_tx in (0.8690614136732329, None) , status: optimal , infeasible_or_unbounded\n",
      "\n",
      "k_deg = 1\n"
     ]
    }
   ],
   "source": [
    "solutions = gene_expression_LP_optim(params=[0.9, 0.1, \"v\", 1], N=12, intervals=intervals_NLP, frechet_bounds=True)"
   ]
  },
  {
   "cell_type": "markdown",
   "metadata": {},
   "source": [
    "## Results\n",
    "\n",
    "See that with even just N = 2 equations of Qp = 0 the NLP produces very good lower and **upper** bounds on $ k_{tx} $ when $ k_{on} $ and $ k_{off} $ are specified, and good lower bounds but a trivial (pre-set maximum) upper bound when they are variables.\n",
    "\n",
    "Compared to the LP: the NLP lower bound is better, and even with $ k_{on} $ and $ k_{off} $ specified we cannot obtain an upper bound (using basic frechet bounds)\n",
    "\n",
    "### Plot against N"
   ]
  },
  {
   "cell_type": "code",
   "execution_count": 186,
   "metadata": {},
   "outputs": [
    {
     "name": "stdout",
     "output_type": "stream",
     "text": [
      "95% CI for m marginal p(0) is: (0.2826, 0.30740499999999993)\n",
      "95% CI for m marginal p(1) is: (0.315, 0.3408)\n",
      "95% CI for m marginal p(2) is: (0.1896, 0.212)\n",
      "95% CI for m marginal p(3) is: (0.101, 0.1184)\n",
      "95% CI for m marginal p(4) is: (0.0424, 0.054404999999999926)\n",
      "95% CI for m marginal p(5) is: (0.0122, 0.0188)\n",
      "95% CI for m marginal p(6) is: (0.0018, 0.005)\n",
      "95% CI for m marginal p(7) is: (0.0, 0.0)\n",
      "95% CI for m marginal p(8) is: (0.0, 0.0006)\n",
      "k_tx in (1.0247068348545014, 10.0\n",
      "k_tx in (1.1126760746769482, 9.77219806511928\n"
     ]
    },
    {
     "name": "stderr",
     "output_type": "stream",
     "text": [
      "c:\\Users\\willi\\Documents\\Year 4 Project Work\\Proj_venv\\lib\\site-packages\\cvxpy\\problems\\problem.py:1409: UserWarning: \n",
      "    The problem is either infeasible or unbounded, but the solver\n",
      "    cannot tell which. Disable any solver-specific presolve methods\n",
      "    and re-solve to determine the precise problem status.\n",
      "\n",
      "    For GUROBI and CPLEX you can automatically perform this re-solve\n",
      "    with the keyword argument prob.solve(reoptimize=True, ...).\n",
      "    \n",
      "  warnings.warn(INF_OR_UNB_MESSAGE)\n"
     ]
    },
    {
     "name": "stdout",
     "output_type": "stream",
     "text": [
      "k_tx in (1.4876920696082159, 7.017211407411209\n",
      "k_tx in (1.751872466086085, 6.815273827546761\n",
      "k_tx in (1.8331055231836706, 5.93402448029586\n",
      "k_tx in (1.8652600246306978, 5.24740869850243\n",
      "k_tx in (None, None\n",
      "k_tx in (None, None\n"
     ]
    },
    {
     "data": {
      "image/png": "[encoded data removed]",
      "text/plain": [
       "<Figure size 640x480 with 1 Axes>"
      ]
     },
     "metadata": {},
     "output_type": "display_data"
    }
   ],
   "source": [
    "# parameters\n",
    "k_on = 2\n",
    "k_off = 1\n",
    "k_tx = 2\n",
    "k_deg = 1\n",
    "\n",
    "# simulate\n",
    "intervals_plot = bootstrap_approx(initial_state=(0, 0), params=[k_on, k_off, k_tx, k_deg], n=5000, N=5000, tmax=100, ts=10, plot=False, printing=True)\n",
    "lbs_NLP, ubs_NLP = [], []\n",
    "lbs_LP, ubs_LP = [], []\n",
    "Ns = [n for n in range(2, 18, 2)]\n",
    "for N in Ns:\n",
    "    lb, ub = gene_expression_NLP(params=[\"v\", \"v\", \"v\", k_deg], N=N, K=10, intervals=intervals_plot, frechet_bounds=True, printing=False)\n",
    "    solution = gene_expression_LP_optim(params=[\"v\", \"v\", \"v\", k_deg], N=N, intervals=intervals_plot, frechet_bounds=True, print_solution=False)\n",
    "    lbs_LP.append(solution['k_tx'][0])\n",
    "    ubs_LP.append(solution['k_tx'][1])\n",
    "    lbs_NLP.append(lb)\n",
    "    ubs_NLP.append(ub)\n",
    "plt.plot(Ns, lbs_NLP, color=\"blue\", label=\"NLP lb\")\n",
    "plt.plot(Ns, ubs_NLP, color=\"blue\", label=\"NLP ub\")\n",
    "plt.plot(Ns, lbs_LP, color=\"orange\", label=\"LP lb\")\n",
    "plt.plot(Ns, ubs_LP, color=\"orange\", label=\"LP ub\")\n",
    "plt.axhline(k_tx, color=\"red\", label=f\"k_tx = {k_tx}\")\n",
    "plt.title(\"Equations used ~ bounds on k_tx\")\n",
    "plt.xlabel(\"N (number of equations used)\")\n",
    "plt.ylabel(\"k_tx\")\n",
    "plt.legend()\n",
    "plt.show()"
   ]
  },
  {
   "cell_type": "code",
   "execution_count": 187,
   "metadata": {},
   "outputs": [
    {
     "name": "stdout",
     "output_type": "stream",
     "text": [
      "95% CI for m marginal p(0) is: (0.2884, 0.3148)\n",
      "95% CI for m marginal p(1) is: (0.2986, 0.3244)\n",
      "95% CI for m marginal p(2) is: (0.2024, 0.2256)\n",
      "95% CI for m marginal p(3) is: (0.102, 0.1188)\n",
      "95% CI for m marginal p(4) is: (0.0366, 0.0476)\n",
      "95% CI for m marginal p(5) is: (0.011, 0.0178)\n",
      "95% CI for m marginal p(6) is: (0.0034, 0.0074)\n",
      "95% CI for m marginal p(7) is: (0.0004, 0.0022)\n",
      "95% CI for m marginal p(8) is: (0.0, 0.0006)\n",
      "95% CI for m marginal p(9) is: (0.0, 0.0006)\n",
      "k_tx in (1.422808137132735, 3.855784462510605\n",
      "k_tx in (1.7144147970229775, 2.251980977615839\n",
      "k_tx in (1.8535560555283792, 2.122913432646601\n",
      "k_tx in (1.9364712946246798, 2.1059763070402493\n"
     ]
    },
    {
     "name": "stderr",
     "output_type": "stream",
     "text": [
      "c:\\Users\\willi\\Documents\\Year 4 Project Work\\Proj_venv\\lib\\site-packages\\cvxpy\\problems\\problem.py:1409: UserWarning: \n",
      "    The problem is either infeasible or unbounded, but the solver\n",
      "    cannot tell which. Disable any solver-specific presolve methods\n",
      "    and re-solve to determine the precise problem status.\n",
      "\n",
      "    For GUROBI and CPLEX you can automatically perform this re-solve\n",
      "    with the keyword argument prob.solve(reoptimize=True, ...).\n",
      "    \n",
      "  warnings.warn(INF_OR_UNB_MESSAGE)\n"
     ]
    },
    {
     "name": "stdout",
     "output_type": "stream",
     "text": [
      "k_tx in (1.9557149226210588, 2.0871093506202563\n",
      "k_tx in (1.9594882693237357, 2.063148474309727\n",
      "k_tx in (1.9601573426504413, 2.056374835114662\n",
      "k_tx in (1.9602670685254908, 2.054639030564815\n"
     ]
    },
    {
     "data": {
      "image/png": "[encoded data removed]",
      "text/plain": [
       "<Figure size 640x480 with 1 Axes>"
      ]
     },
     "metadata": {},
     "output_type": "display_data"
    }
   ],
   "source": [
    "# parameters\n",
    "k_on = 2\n",
    "k_off = 1\n",
    "k_tx = 2\n",
    "k_deg = 1\n",
    "\n",
    "# simulate\n",
    "intervals_plot = bootstrap_approx(initial_state=(0, 0), params=[k_on, k_off, k_tx, k_deg], n=5000, N=5000, tmax=100, ts=10, plot=False, printing=True)\n",
    "lbs_NLP, ubs_NLP = [], []\n",
    "lbs_LP, ubs_LP = [], []\n",
    "Ns = [n for n in range(2, 18, 2)]\n",
    "for N in Ns:\n",
    "    lb, ub = gene_expression_NLP(params=[k_on, k_off, \"v\", k_deg], N=N, K=10, intervals=intervals_plot, frechet_bounds=True, printing=False)\n",
    "    solution = gene_expression_LP_optim(params=[k_on, k_off, \"v\", k_deg], N=N, intervals=intervals_plot, frechet_bounds=True, print_solution=False)\n",
    "    lbs_LP.append(solution['k_tx'][0])\n",
    "    ubs_LP.append(solution['k_tx'][1])\n",
    "    lbs_NLP.append(lb)\n",
    "    ubs_NLP.append(ub)\n",
    "plt.plot(Ns, lbs_NLP, color=\"blue\", label=\"NLP lb\")\n",
    "plt.plot(Ns, ubs_NLP, color=\"blue\", label=\"NLP ub\")\n",
    "plt.plot(Ns, lbs_LP, color=\"orange\", label=\"LP lb\")\n",
    "plt.plot(Ns, ubs_LP, color=\"orange\", label=\"LP ub\")\n",
    "plt.axhline(k_tx, color=\"red\", label=f\"k_tx = {k_tx}\")\n",
    "plt.title(\"Equations used ~ bounds on k_tx\")\n",
    "plt.xlabel(\"N (number of equations used)\")\n",
    "plt.ylabel(\"k_tx\")\n",
    "plt.legend()\n",
    "plt.show()"
   ]
  },
  {
   "cell_type": "markdown",
   "metadata": {},
   "source": [
    "## Test Birth-Death case\n",
    "\n",
    "Using $ k_{on} = 1 $ and $ k_{off} = 0 $ ensures the gene is always on and so the number of molecules of M follows a simple birth death reaction. The m marginal of the stationary distribution is then Poi($ k_{tx} / k_{deg}$) (and p(m, 0) = 0, p(m) = p(m, 1)).\n",
    "\n",
    "Simulating sample paths and bootstrapping we can compare against the true marginal values to verify the CI accuracy, before seeing if infeasibility occurs in this case:"
   ]
  },
  {
   "cell_type": "code",
   "execution_count": 179,
   "metadata": {},
   "outputs": [
    {
     "name": "stdout",
     "output_type": "stream",
     "text": [
      "95% CI for m marginal p(0) is: (0.1297, 0.1431)\n",
      "95% CI for m marginal p(1) is: (0.2635, 0.281)\n",
      "95% CI for m marginal p(2) is: (0.268, 0.2856)\n",
      "95% CI for m marginal p(3) is: (0.1689, 0.1836)\n",
      "95% CI for m marginal p(4) is: (0.0815, 0.0925)\n",
      "95% CI for m marginal p(5) is: (0.0305, 0.0376)\n",
      "95% CI for m marginal p(6) is: (0.0111, 0.0155)\n",
      "95% CI for m marginal p(7) is: (0.0025, 0.0048)\n",
      "95% CI for m marginal p(8) is: (0.0002, 0.0013)\n",
      "95% CI for m marginal p(9) is: (0.0, 0.0007)\n"
     ]
    }
   ],
   "source": [
    "intervals = bootstrap_approx((0,0), [1, 0, 2, 1], n=10000, N=10000, tmax=100, ts=10, plot=False, printing=True)"
   ]
  },
  {
   "cell_type": "code",
   "execution_count": 78,
   "metadata": {},
   "outputs": [
    {
     "name": "stdout",
     "output_type": "stream",
     "text": [
      "Gurobi Optimizer version 11.0.0 build v11.0.0rc2 (win64 - Windows 11+.0 (22631.2))\n",
      "\n",
      "CPU model: Intel(R) Core(TM) i5-1035G1 CPU @ 1.00GHz, instruction set [SSE2|AVX|AVX2|AVX512]\n",
      "Thread count: 4 physical cores, 8 logical processors, using up to 8 threads\n",
      "\n",
      "Optimize a model with 5 rows, 7 columns and 12 nonzeros\n",
      "Model fingerprint: 0xd43a1df7\n",
      "Model has 2 quadratic constraints\n",
      "Coefficient statistics:\n",
      "  Matrix range     [1e+00, 1e+00]\n",
      "  QMatrix range    [1e+00, 1e+00]\n",
      "  QLMatrix range   [1e+00, 1e+00]\n",
      "  Objective range  [1e+00, 1e+00]\n",
      "  Bounds range     [1e+00, 1e+02]\n",
      "  RHS range        [1e-01, 1e+00]\n",
      "Presolve removed 3 rows and 0 columns\n",
      "\n",
      "Continuous model is non-convex -- solving as a MIP\n",
      "\n",
      "Presolve removed 1 rows and 0 columns\n",
      "Presolve time: 0.00s\n",
      "Presolved: 18 rows, 10 columns, 39 nonzeros\n",
      "Presolved model has 3 bilinear constraint(s)\n",
      "Variable types: 10 continuous, 0 integer (0 binary)\n",
      "Found heuristic solution: objective 1.9439655\n",
      "\n",
      "Root relaxation: interrupted, 3 iterations, 0.00 seconds (0.00 work units)\n",
      "\n",
      "    Nodes    |    Current Node    |     Objective Bounds      |     Work\n",
      " Expl Unexpl |  Obj  Depth IntInf | Incumbent    BestBd   Gap | It/Node Time\n",
      "\n",
      "     0     0          -    0         1.94397    1.94397  0.00%     -    0s\n",
      "\n",
      "Explored 1 nodes (3 simplex iterations) in 0.03 seconds (0.00 work units)\n",
      "Thread count was 8 (of 8 available processors)\n",
      "\n",
      "Solution count 1: 1.94397 \n",
      "\n",
      "Optimal solution found (tolerance 1.00e-04)\n",
      "Best objective 1.943965527201e+00, best bound 1.943965517241e+00, gap 0.0000%\n",
      "Discarded solution information\n",
      "Gurobi Optimizer version 11.0.0 build v11.0.0rc2 (win64 - Windows 11+.0 (22631.2))\n",
      "\n",
      "CPU model: Intel(R) Core(TM) i5-1035G1 CPU @ 1.00GHz, instruction set [SSE2|AVX|AVX2|AVX512]\n",
      "Thread count: 4 physical cores, 8 logical processors, using up to 8 threads\n",
      "\n",
      "Optimize a model with 5 rows, 7 columns and 12 nonzeros\n",
      "Model fingerprint: 0xbe38c0d0\n",
      "Model has 2 quadratic constraints\n",
      "Coefficient statistics:\n",
      "  Matrix range     [1e+00, 1e+00]\n",
      "  QMatrix range    [1e+00, 1e+00]\n",
      "  QLMatrix range   [1e+00, 1e+00]\n",
      "  Objective range  [1e+00, 1e+00]\n",
      "  Bounds range     [1e+00, 1e+02]\n",
      "  RHS range        [1e-01, 1e+00]\n",
      "Presolve removed 3 rows and 0 columns\n",
      "\n",
      "Continuous model is non-convex -- solving as a MIP\n",
      "\n",
      "Presolve removed 1 rows and 0 columns\n",
      "Presolve time: 0.00s\n",
      "Presolved: 18 rows, 10 columns, 39 nonzeros\n",
      "Presolved model has 3 bilinear constraint(s)\n",
      "Variable types: 10 continuous, 0 integer (0 binary)\n",
      "Found heuristic solution: objective 100.0000000\n",
      "\n",
      "Explored 0 nodes (0 simplex iterations) in 0.03 seconds (0.00 work units)\n",
      "Thread count was 8 (of 8 available processors)\n",
      "\n",
      "Solution count 1: 100 \n",
      "\n",
      "Optimal solution found (tolerance 1.00e-04)\n",
      "Best objective 1.000000000000e+02, best bound 1.000000000000e+02, gap 0.0000%\n",
      "k_tx in (1.943965527200626, 100.0\n"
     ]
    },
    {
     "data": {
      "text/plain": [
       "(1.943965527200626, 100.0)"
      ]
     },
     "execution_count": 78,
     "metadata": {},
     "output_type": "execute_result"
    }
   ],
   "source": [
    "lb, ub = gene_expression_NLP(params=[\"v\", \"v\", \"v\", 1], N=2, intervals=intervals, frechet_bounds=False)\n",
    "lb, ub"
   ]
  },
  {
   "cell_type": "code",
   "execution_count": 75,
   "metadata": {},
   "outputs": [
    {
     "name": "stdout",
     "output_type": "stream",
     "text": [
      "True value of m marginal p(0) is: 0.1353352832366127 , CI is True\n",
      "True value of m marginal p(1) is: 0.2706705664732254 , CI is True\n",
      "True value of m marginal p(2) is: 0.2706705664732254 , CI is True\n",
      "True value of m marginal p(3) is: 0.1804470443154836 , CI is True\n",
      "True value of m marginal p(4) is: 0.0902235221577418 , CI is True\n",
      "True value of m marginal p(5) is: 0.03608940886309672 , CI is True\n",
      "True value of m marginal p(6) is: 0.012029802954365574 , CI is True\n",
      "True value of m marginal p(7) is: 0.0034370865583901638 , CI is True\n",
      "True value of m marginal p(8) is: 0.0008592716395975409 , CI is True\n",
      "True value of m marginal p(9) is: 0.00019094925324389798 , CI is True\n"
     ]
    }
   ],
   "source": [
    "M = len(intervals)\n",
    "k_tx = 2\n",
    "k_deg = 1\n",
    "# true stationary distribution\n",
    "true_p = [(k_tx / k_deg)**k * math.exp(-k_tx / k_deg) / math.factorial(k) for k in range(M + 1)]\n",
    "for i in range(M):\n",
    "    valid = False\n",
    "    if intervals[i][0] <= true_p[i] and intervals[i][1] >= true_p[i]:\n",
    "        valid = True\n",
    "    print(f\"True value of m marginal p({i}) is: {true_p[i]} , CI is {valid}\")"
   ]
  },
  {
   "cell_type": "code",
   "execution_count": 79,
   "metadata": {},
   "outputs": [
    {
     "data": {
      "text/plain": [
       "[<matplotlib.lines.Line2D at 0x1773b5c0af0>]"
      ]
     },
     "execution_count": 79,
     "metadata": {},
     "output_type": "execute_result"
    },
    {
     "data": {
      "image/png": "[encoded data removed]",
      "text/plain": [
       "<Figure size 640x480 with 1 Axes>"
      ]
     },
     "metadata": {},
     "output_type": "display_data"
    }
   ],
   "source": [
    "lb = [intr[0] for intr in intervals]\n",
    "ub = [intr[1] for intr in intervals]\n",
    "plt.plot(lb, color=\"blue\")\n",
    "plt.plot(ub, color=\"blue\")\n",
    "plt.plot(true_p, color=\"orange\")"
   ]
  },
  {
   "cell_type": "markdown",
   "metadata": {},
   "source": [
    "For N = 6 we use M = 4 marginal bounds on p(0), p(1), p(2), p(3) which as seen above are verified to be accurate, containing the true stationary distribution value. However, while N = 2 and 4 problems are feasible (and for N = 4 gives good bounds) the N = 6 case is infeasible.\n",
    "\n",
    "Also see that using the same bounds in the LP is still feasible even for much larger N e.g. N = 16 (note maxima is unbounded but minima is optimal):"
   ]
  },
  {
   "cell_type": "code",
   "execution_count": 66,
   "metadata": {},
   "outputs": [
    {
     "name": "stdout",
     "output_type": "stream",
     "text": [
      "\n",
      "k_on in (0.0, None) , status: optimal , infeasible_or_unbounded\n",
      "\n",
      "k_off in (0.0, None) , status: optimal , infeasible_or_unbounded\n",
      "\n",
      "k_tx in (1.7897260273972602, None) , status: optimal , infeasible_or_unbounded\n",
      "\n",
      "k_deg = 1\n"
     ]
    }
   ],
   "source": [
    "solutions = gene_expression_LP_optim(params=[\"v\", \"v\", \"v\", 1], N=20, intervals=intervals, frechet_bounds=True)"
   ]
  },
  {
   "cell_type": "code",
   "execution_count": 67,
   "metadata": {},
   "outputs": [],
   "source": [
    "eps = 0\n",
    "intervals_true = [np.array([p - eps, p + eps]) for p in true_p]"
   ]
  },
  {
   "cell_type": "code",
   "execution_count": 71,
   "metadata": {},
   "outputs": [
    {
     "name": "stdout",
     "output_type": "stream",
     "text": [
      "Gurobi Optimizer version 11.0.0 build v11.0.0rc2 (win64 - Windows 11+.0 (22631.2))\n",
      "\n",
      "CPU model: Intel(R) Core(TM) i5-1035G1 CPU @ 1.00GHz, instruction set [SSE2|AVX|AVX2|AVX512]\n",
      "Thread count: 4 physical cores, 8 logical processors, using up to 8 threads\n",
      "\n",
      "Optimize a model with 5 rows, 7 columns and 12 nonzeros\n",
      "Model fingerprint: 0x8c66e023\n",
      "Model has 2 quadratic constraints\n",
      "Coefficient statistics:\n",
      "  Matrix range     [1e+00, 1e+00]\n",
      "  QMatrix range    [1e+00, 1e+00]\n",
      "  QLMatrix range   [1e+00, 1e+00]\n",
      "  Objective range  [1e+00, 1e+00]\n",
      "  Bounds range     [1e+00, 1e+02]\n",
      "  RHS range        [1e-01, 1e+00]\n",
      "Presolve removed 3 rows and 0 columns\n",
      "\n",
      "Continuous model is non-convex -- solving as a MIP\n",
      "\n",
      "Presolve removed 3 rows and 0 columns\n",
      "Presolve time: 0.00s\n",
      "Presolved: 16 rows, 10 columns, 35 nonzeros\n",
      "Presolved model has 3 bilinear constraint(s)\n",
      "Variable types: 10 continuous, 0 integer (0 binary)\n",
      "Found heuristic solution: objective 2.0000000\n",
      "\n",
      "Root relaxation: cutoff, 2 iterations, 0.00 seconds (0.00 work units)\n",
      "\n",
      "    Nodes    |    Current Node    |     Objective Bounds      |     Work\n",
      " Expl Unexpl |  Obj  Depth IntInf | Incumbent    BestBd   Gap | It/Node Time\n",
      "\n",
      "     0     0     cutoff    0         2.00000    2.00000  0.00%     -    0s\n",
      "\n",
      "Explored 1 nodes (2 simplex iterations) in 0.04 seconds (0.00 work units)\n",
      "Thread count was 8 (of 8 available processors)\n",
      "\n",
      "Solution count 1: 2 \n",
      "\n",
      "Optimal solution found (tolerance 1.00e-04)\n",
      "Best objective 2.000000000000e+00, best bound 2.000000000000e+00, gap 0.0000%\n",
      "Discarded solution information\n",
      "Gurobi Optimizer version 11.0.0 build v11.0.0rc2 (win64 - Windows 11+.0 (22631.2))\n",
      "\n",
      "CPU model: Intel(R) Core(TM) i5-1035G1 CPU @ 1.00GHz, instruction set [SSE2|AVX|AVX2|AVX512]\n",
      "Thread count: 4 physical cores, 8 logical processors, using up to 8 threads\n",
      "\n",
      "Optimize a model with 5 rows, 7 columns and 12 nonzeros\n",
      "Model fingerprint: 0xd70aa483\n",
      "Model has 2 quadratic constraints\n",
      "Coefficient statistics:\n",
      "  Matrix range     [1e+00, 1e+00]\n",
      "  QMatrix range    [1e+00, 1e+00]\n",
      "  QLMatrix range   [1e+00, 1e+00]\n",
      "  Objective range  [1e+00, 1e+00]\n",
      "  Bounds range     [1e+00, 1e+02]\n",
      "  RHS range        [1e-01, 1e+00]\n",
      "Presolve removed 3 rows and 0 columns\n",
      "\n",
      "Continuous model is non-convex -- solving as a MIP\n",
      "\n",
      "Presolve removed 3 rows and 0 columns\n",
      "Presolve time: 0.00s\n",
      "Presolved: 16 rows, 10 columns, 35 nonzeros\n",
      "Presolved model has 3 bilinear constraint(s)\n",
      "Variable types: 10 continuous, 0 integer (0 binary)\n",
      "Found heuristic solution: objective 100.0000000\n",
      "\n",
      "Explored 0 nodes (0 simplex iterations) in 0.04 seconds (0.00 work units)\n",
      "Thread count was 8 (of 8 available processors)\n",
      "\n",
      "Solution count 1: 100 \n",
      "\n",
      "Optimal solution found (tolerance 1.00e-04)\n",
      "Best objective 1.000000000000e+02, best bound 1.000000000000e+02, gap 0.0000%\n",
      "k_tx in (2.0, 100.0\n"
     ]
    },
    {
     "data": {
      "text/plain": [
       "(2.0, 100.0)"
      ]
     },
     "execution_count": 71,
     "metadata": {},
     "output_type": "execute_result"
    }
   ],
   "source": [
    "lb, ub = gene_expression_NLP(params=[\"v\", \"v\", \"v\", 1], N=2, intervals=intervals_true, frechet_bounds=False)\n",
    "lb, ub"
   ]
  },
  {
   "cell_type": "code",
   "execution_count": 69,
   "metadata": {},
   "outputs": [
    {
     "name": "stdout",
     "output_type": "stream",
     "text": [
      "\n",
      "k_on in (0.0, None) , status: optimal , infeasible_or_unbounded\n",
      "\n",
      "k_off in (0.0, None) , status: optimal , infeasible_or_unbounded\n",
      "\n",
      "k_tx in (2.0, None) , status: optimal , infeasible_or_unbounded\n",
      "\n",
      "k_deg = 1\n"
     ]
    }
   ],
   "source": [
    "solutions = gene_expression_LP_optim(params=[\"v\", \"v\", \"v\", 1], N=16, intervals=intervals_true, frechet_bounds=True)"
   ]
  }
 ],
 "metadata": {
  "kernelspec": {
   "display_name": "PoP_venv",
   "language": "python",
   "name": "python3"
  },
  "language_info": {
   "codemirror_mode": {
    "name": "ipython",
    "version": 3
   },
   "file_extension": ".py",
   "mimetype": "text/x-python",
   "name": "python",
   "nbconvert_exporter": "python",
   "pygments_lexer": "ipython3",
   "version": "3.10.11"
  },
  "orig_nbformat": 4
 },
 "nbformat": 4,
 "nbformat_minor": 2
}
