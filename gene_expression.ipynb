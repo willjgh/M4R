{
 "cells": [
  {
   "cell_type": "code",
   "execution_count": 1,
   "metadata": {},
   "outputs": [],
   "source": [
    "import math, random\n",
    "import matplotlib.pyplot as plt\n",
    "import matplotlib.colors as mcolors\n",
    "import numpy as np\n",
    "import cvxpy as cv"
   ]
  },
  {
   "cell_type": "markdown",
   "metadata": {},
   "source": [
    "# Gene Expression model\n",
    "\n",
    "A gene can either be on or off, in the on state a molecule M can be created, M degrades regardless of the gene state:\n",
    "\n",
    "$ G_{off} \\underset{k_{off}}{\\stackrel{k_{on}}{\\rightleftharpoons}} G_{on} $\n",
    "\n",
    "$ G_{on} \\stackrel{k_{tx}}\\longrightarrow G_{on} + M $\n",
    "\n",
    "$ M \\stackrel{k_{deg}}\\longrightarrow \\varnothing $\n",
    "\n",
    "However, in practice we can only observe the state/number of molecules M, not the state of gene expression:\n",
    "\n",
    "We observe the marginal $\\bar{p}(m)$ and not $p(m,0)$ or $p(m,1)$\n",
    "\n",
    "State space:\n",
    "\n",
    "$ (m,g) \\in \\mathbb{N} \\times \\{0,1\\} $ where g = 0 corresponds to $ G_{off} $ and g = 1 to $ G_{on} $"
   ]
  },
  {
   "cell_type": "markdown",
   "metadata": {},
   "source": [
    "# Simulation\n",
    "\n",
    "First we need to simulate paths of the model, so long term averages to approximate the stationary distribution can be found\n",
    "\n",
    "Use Gillespie to simulate exponential holding times, and transition probabilities given reaction rates:"
   ]
  },
  {
   "cell_type": "code",
   "execution_count": 2,
   "metadata": {},
   "outputs": [],
   "source": [
    "def sample_path_gene(initial_state, params, tmax, plot=False):\n",
    "    \"\"\"\n",
    "    Simulate a sample path of gene expression\n",
    "    start at initial state, run until time tmax, rates in params\n",
    "    return visited states and jump times\n",
    "    \"\"\"\n",
    "\n",
    "    # initialise time and state (also store jump times)\n",
    "    t = 0\n",
    "    path = [(initial_state[0],initial_state[1])]\n",
    "    jump_times = [0]\n",
    "    k_on, k_off, k_tx, k_deg = params[0], params[1], params[2], params[3]\n",
    "\n",
    "    # simulate until stopping time\n",
    "    while t < tmax:\n",
    "        # simulate holding time of current state (m,g)\n",
    "        m, g = path[-1][0], path[-1][1]\n",
    "\n",
    "        # define rates\n",
    "        # q(x,x+(0,1)): gene turns on if off\n",
    "        q_on = (1 - g) * k_on\n",
    "        # q(x,x+(0,-1)): gene turns off if on\n",
    "        q_off = g * k_off\n",
    "        # q(x,x+(1,0)): transscription if gene on\n",
    "        q_tx = g * k_tx\n",
    "        # q(x,x+(-1,0)): degradation if  there are molecules\n",
    "        q_deg = m * k_deg\n",
    "        # -q(x,x): holding rate = sum q(x,y) over y\n",
    "        q_hold = q_on + q_off + q_tx + q_deg\n",
    "\n",
    "        # exponential holding time of state\n",
    "        t_hold = -math.log(random.random()) / q_hold\n",
    "        t += t_hold\n",
    "        jump_times.append(t)\n",
    "\n",
    "        # jump probability\n",
    "        # P(x -> y) = q_xy / q_hold\n",
    "        outcome = [1,2,3,4]\n",
    "        prob = [q_on / q_hold, q_off / q_hold, q_tx / q_hold, q_deg / q_hold]\n",
    "        jump = np.random.choice(outcome,p=prob)\n",
    "        # jump to new state\n",
    "        if jump == 1:\n",
    "            path.append((m,g + 1))\n",
    "        elif jump == 2:\n",
    "            path.append((m,g - 1))\n",
    "        elif jump == 3:\n",
    "            path.append((m + 1,g))\n",
    "        elif jump == 4:\n",
    "            path.append((m - 1,g))\n",
    "\n",
    "    if plot:\n",
    "        # separate paths\n",
    "        m_path = [state[0] for state in path]\n",
    "        g_path = [state[1] for state in path]\n",
    "        plt.scatter(jump_times, m_path, c=g_path, ec='k')\n",
    "\n",
    "        # defined colour plotting\n",
    "        #cmap, norm = mcolors.from_levels_and_colors([0, 1, 2], ['orange','blue'])\n",
    "        #plt.scatter(jump_times, m_list, c=g_list, cmap=cmap, norm=norm)\n",
    "\n",
    "    return path, jump_times"
   ]
  },
  {
   "cell_type": "markdown",
   "metadata": {},
   "source": [
    "Short example path to check:\n",
    "- yellow <=> gene on\n",
    "- purple <=> gene off\n",
    "- only increases m when gene on, constant decrease regardless of gene"
   ]
  },
  {
   "cell_type": "code",
   "execution_count": 3,
   "metadata": {},
   "outputs": [
    {
     "data": {
      "image/png": "[encoded data removed]",
      "text/plain": [
       "<Figure size 432x288 with 1 Axes>"
      ]
     },
     "metadata": {
      "needs_background": "light"
     },
     "output_type": "display_data"
    }
   ],
   "source": [
    "path, jump = sample_path_gene([0,0],[1,1,1,1],10,plot=True)"
   ]
  },
  {
   "cell_type": "markdown",
   "metadata": {},
   "source": [
    "# Bootstrapping\n",
    "\n",
    "Method:\n",
    "- simulate path up to time t (sufficiently large for stationarity behaviour)\n",
    "- record final state (a sample from the stationary distribution)\n",
    "- repeat for n samples\n",
    "\n",
    "bootstrapping:\n",
    "- sample with replacement to obtain N bootstrap samples from the n values\n",
    "- calculate the proportion of states x for each sample (estimate of p(x))\n",
    "- find Confidence Intervals for each estimate\n"
   ]
  },
  {
   "cell_type": "markdown",
   "metadata": {},
   "source": [
    "We first consider CIs for all states (m,g)"
   ]
  },
  {
   "cell_type": "code",
   "execution_count": 4,
   "metadata": {},
   "outputs": [],
   "source": [
    "def bootstrap(x_list, initial_state, params, tmax, n, N, plot=False, printing=False):\n",
    "    \"\"\"\n",
    "    x_list: states to calculate probabilities for\n",
    "    initial state\n",
    "    parameters\n",
    "    tmax: time of path before sample\n",
    "    n = number of simulated samples\n",
    "    N = number of bootstrap samples\n",
    "    \"\"\"\n",
    "\n",
    "    # simulate n samples\n",
    "    states = []\n",
    "    for i in range(n):\n",
    "        path, jumps = sample_path_gene(initial_state, params, tmax, plot=plot)\n",
    "        states.append(path[-2]) # last state before tmax\n",
    "    plt.show()\n",
    "\n",
    "    # simulate N bootstrap samples: estimates p(x) for each, and for each x\n",
    "    estimates = [[] for x in x_list]\n",
    "    for i in range(N):\n",
    "        sample = random.choices(states,k = n)\n",
    "        for i, x in enumerate(x_list):\n",
    "            estimates[i].append(sample.count(x) / n)\n",
    "\n",
    "    # create confidence intervals (95%) via 2.5%, 97.5% quantiles for each x\n",
    "    intervals = [np.quantile(est,[0.025,0.975]) for est in estimates]\n",
    "    \n",
    "    # plot histograms and CI\n",
    "    for i, x in enumerate(x_list):\n",
    "        if printing:\n",
    "            print(f\"95% CI for p({x}) is: ({intervals[i][0]}, {intervals[i][1]})\")\n",
    "        if plot:\n",
    "            plt.hist(estimates[i])\n",
    "            plt.title(f\"Hist of p({x})\")\n",
    "            plt.axvline(intervals[i][0], color=\"red\")\n",
    "            plt.axvline(intervals[i][1], color=\"red\")\n",
    "            plt.show()\n",
    "\n",
    "    # return CIs\n",
    "    return estimates, intervals"
   ]
  },
  {
   "cell_type": "code",
   "execution_count": 5,
   "metadata": {},
   "outputs": [
    {
     "data": {
      "image/png": "[encoded data removed]",
      "text/plain": [
       "<Figure size 432x288 with 1 Axes>"
      ]
     },
     "metadata": {
      "needs_background": "light"
     },
     "output_type": "display_data"
    },
    {
     "name": "stdout",
     "output_type": "stream",
     "text": [
      "95% CI for p((0, 0)) is: (0.332, 0.393)\n"
     ]
    },
    {
     "data": {
      "image/png": "[encoded data removed]",
      "text/plain": [
       "<Figure size 432x288 with 1 Axes>"
      ]
     },
     "metadata": {
      "needs_background": "light"
     },
     "output_type": "display_data"
    },
    {
     "name": "stdout",
     "output_type": "stream",
     "text": [
      "95% CI for p((0, 1)) is: (0.245, 0.3)\n"
     ]
    },
    {
     "data": {
      "image/png": "[encoded data removed]",
      "text/plain": [
       "<Figure size 432x288 with 1 Axes>"
      ]
     },
     "metadata": {
      "needs_background": "light"
     },
     "output_type": "display_data"
    },
    {
     "name": "stdout",
     "output_type": "stream",
     "text": [
      "95% CI for p((1, 0)) is: (0.079, 0.115)\n"
     ]
    },
    {
     "data": {
      "image/png": "[encoded data removed]",
      "text/plain": [
       "<Figure size 432x288 with 1 Axes>"
      ]
     },
     "metadata": {
      "needs_background": "light"
     },
     "output_type": "display_data"
    },
    {
     "name": "stdout",
     "output_type": "stream",
     "text": [
      "95% CI for p((1, 1)) is: (0.136, 0.182)\n"
     ]
    },
    {
     "data": {
      "image/png": "[encoded data removed]",
      "text/plain": [
       "<Figure size 432x288 with 1 Axes>"
      ]
     },
     "metadata": {
      "needs_background": "light"
     },
     "output_type": "display_data"
    }
   ],
   "source": [
    "estimates, intervals = bootstrap([(0,0),(0,1),(1,0),(1,1)],[0,0],[1,1,1,1],100,1000,1000,plot=True,printing=True)"
   ]
  },
  {
   "cell_type": "markdown",
   "metadata": {},
   "source": [
    "# Marginal\n",
    "\n",
    "Now consider forming confidence intervals for the marginal stationary distribution of the chain, when no information on g is available.\n",
    "\n",
    "Marginal: $ \\bar{p}(m) = p(m,0) + p(m,1) $\n",
    "\n",
    "#### Method 1:\n",
    "- find CI's of individual states\n",
    "- add pairs together to bound marginals\n",
    "\n",
    "#### Method 2:\n",
    "- perform simuation as before, but compute estimates and CI's only over m values\n",
    "- directly gives CI on marginal"
   ]
  },
  {
   "cell_type": "code",
   "execution_count": 6,
   "metadata": {},
   "outputs": [],
   "source": [
    "def bootstrap_marginal(m_list, initial_state, params, tmax, n, N, plot=False, printing=False):\n",
    "    \"\"\"\n",
    "    m_list: marginal states of m to calculate probabilities for\n",
    "    initial state\n",
    "    parameters\n",
    "    tmax: time of path before sample\n",
    "    n = number of simulated samples\n",
    "    N = number of bootstrap samples\n",
    "    \"\"\"\n",
    "\n",
    "    # simulate n samples: (m,g)\n",
    "    states = []\n",
    "    for i in range(n):\n",
    "        path, jumps = sample_path_gene(initial_state, params, tmax, plot=plot)\n",
    "        states.append(path[-2]) # last state before tmax\n",
    "    plt.show()\n",
    "\n",
    "    # simulate N bootstrap samples: estimates p(m) for each, and for each m\n",
    "    estimates = [[] for x in m_list]\n",
    "    for i in range(N):\n",
    "        # sample with replacement from (m,g) samples\n",
    "        sample = random.choices(states,k = n)\n",
    "        # take just marginal m information\n",
    "        m_sample = [state[0] for state in sample]\n",
    "        # estimate p(m) from marginal info\n",
    "        for i, x in enumerate(m_list):\n",
    "            estimates[i].append(m_sample.count(x) / n)\n",
    "\n",
    "    # create confidence intervals (95%) via 2.5%, 97.5% quantiles for each x\n",
    "    intervals = [np.quantile(est,[0.025,0.975]) for est in estimates]\n",
    "    \n",
    "    # plot histograms and CI\n",
    "    for i, x in enumerate(m_list):\n",
    "        if printing:\n",
    "            print(f\"95% CI for p({x}) is: ({intervals[i][0]}, {intervals[i][1]})\")\n",
    "        if plot:\n",
    "            plt.hist(estimates[i])\n",
    "            plt.title(f\"Hist of p({x})\")\n",
    "            plt.axvline(intervals[i][0], color=\"red\")\n",
    "            plt.axvline(intervals[i][1], color=\"red\")\n",
    "            plt.show()\n",
    "\n",
    "    # return CIs\n",
    "    return estimates, intervals"
   ]
  },
  {
   "cell_type": "code",
   "execution_count": 7,
   "metadata": {},
   "outputs": [
    {
     "data": {
      "image/png": "[encoded data removed]",
      "text/plain": [
       "<Figure size 432x288 with 1 Axes>"
      ]
     },
     "metadata": {
      "needs_background": "light"
     },
     "output_type": "display_data"
    },
    {
     "name": "stdout",
     "output_type": "stream",
     "text": [
      "95% CI for p(0) is: (0.623, 0.68)\n"
     ]
    },
    {
     "data": {
      "image/png": "[encoded data removed]",
      "text/plain": [
       "<Figure size 432x288 with 1 Axes>"
      ]
     },
     "metadata": {
      "needs_background": "light"
     },
     "output_type": "display_data"
    },
    {
     "name": "stdout",
     "output_type": "stream",
     "text": [
      "95% CI for p(1) is: (0.23197500000000001, 0.287025)\n"
     ]
    },
    {
     "data": {
      "image/png": "[encoded data removed]",
      "text/plain": [
       "<Figure size 432x288 with 1 Axes>"
      ]
     },
     "metadata": {
      "needs_background": "light"
     },
     "output_type": "display_data"
    }
   ],
   "source": [
    "estimates_marginal, intervals_marginal = bootstrap_marginal([0,1],[0,0],[1,1,1,1],100,1000,1000,plot=True,printing=True)"
   ]
  },
  {
   "cell_type": "markdown",
   "metadata": {},
   "source": [
    "Compare to sum of individual CI's:\n",
    "\n",
    "#### But\n",
    "\n",
    "Problems with summing CIs, so just directly find marginal"
   ]
  },
  {
   "cell_type": "code",
   "execution_count": 8,
   "metadata": {},
   "outputs": [
    {
     "name": "stdout",
     "output_type": "stream",
     "text": [
      "Direct p(0) CI: [0.623 0.68 ]\n",
      "Sum p(0) CI: [0.577,0.6930000000000001]\n",
      "Direct p(1) CI: [0.231975 0.287025]\n",
      "Sum p(1) CI: [0.21500000000000002,0.297]\n"
     ]
    }
   ],
   "source": [
    "print(f\"Direct p(0) CI: {intervals_marginal[0]}\")\n",
    "# p(0) = p(0,0) + p(0,1)\n",
    "print(f\"Sum p(0) CI: [{intervals[0][0] + intervals[1][0]},{intervals[0][1] + intervals[1][1]}]\")\n",
    "\n",
    "print(f\"Direct p(1) CI: {intervals_marginal[1]}\")\n",
    "# p(1) = p(1,0) + p(1,1)\n",
    "print(f\"Sum p(1) CI: [{intervals[2][0] + intervals[3][0]},{intervals[2][1] + intervals[3][1]}]\")"
   ]
  },
  {
   "cell_type": "markdown",
   "metadata": {},
   "source": [
    "# Linear Program\n",
    "\n",
    "Using bootstrap confidence intervals as bounds on the stationary distribution form LPs to bound parameters\n",
    "\n",
    "### Step 1: All states\n",
    "- initially find bounds for each state (m,g), use all information to solve LP"
   ]
  },
  {
   "cell_type": "code",
   "execution_count": 9,
   "metadata": {},
   "outputs": [
    {
     "name": "stdout",
     "output_type": "stream",
     "text": [
      "95% CI for p((0, 0)) is: (0.406, 0.464)\n",
      "95% CI for p((0, 1)) is: (0.323, 0.383)\n",
      "95% CI for p((1, 0)) is: (0.063, 0.095)\n",
      "95% CI for p((1, 1)) is: (0.081, 0.119)\n",
      "95% CI for p((2, 0)) is: (0.004, 0.016)\n",
      "95% CI for p((2, 1)) is: (0.013, 0.030024999999999975)\n",
      "95% CI for p((3, 0)) is: (0.0, 0.003)\n",
      "95% CI for p((3, 1)) is: (0.0, 0.007)\n",
      "95% CI for p((4, 0)) is: (0.0, 0.0)\n",
      "95% CI for p((4, 1)) is: (0.0, 0.003)\n",
      "95% CI for p((5, 0)) is: (0.0, 0.0)\n",
      "95% CI for p((5, 1)) is: (0.0, 0.0)\n",
      "95% CI for p((6, 0)) is: (0.0, 0.0)\n",
      "95% CI for p((6, 1)) is: (0.0, 0.0)\n"
     ]
    }
   ],
   "source": [
    "states = [(0,0),(0,1),(1,0),(1,1),(2,0),(2,1),(3,0),(3,1),(4,0),(4,1),(5,0),(5,1),(6,0),(6,1)]\n",
    "estimates_test, intervals_test = bootstrap(states,[0,0],[1,1,0.5,1],100,1000,1000,plot=False,printing=True)"
   ]
  },
  {
   "cell_type": "code",
   "execution_count": 10,
   "metadata": {},
   "outputs": [
    {
     "name": "stdout",
     "output_type": "stream",
     "text": [
      "optimal\n",
      "\n",
      "The upper bound is 0.5913312693585061\n",
      "k_tx: [0.59133127]\n",
      "optimal\n",
      "\n",
      "The lower bound is 0.37597911225387765\n",
      "k_tx: [0.37597911]\n"
     ]
    }
   ],
   "source": [
    "# number of equations used (rows of Q)\n",
    "N = 3\n",
    "\n",
    "# create Qr matrices:\n",
    "# create N + 2 x N + 2 square and drop last 2 rows, as have 2 upper diagonals\n",
    "Q_on = (np.diag([-1 if not x % 2 else 0 for x in range(0,N+2)],0) +\n",
    "        np.diag([1 if not x % 2 else 0 for x in range(0,N+1)],-1))[:-2, :]\n",
    "Q_off = (np.diag([-1 if x % 2 else 0 for x in range(0,N+2)],0) +\n",
    "         np.diag([1 if not x % 2 else 0 for x in range(0,N+1)],1))[:-2, :]\n",
    "Q_tx = (np.diag([-1 if x % 2 else 0 for x in range(0,N+2)],0) +\n",
    "        np.diag([1 if x % 2 else 0 for x in range(0,N)],-2))[:-2, :]\n",
    "Q_deg = (np.diag([-1 if x > 1 else 0 for x in range(0,N+2)],0) +\n",
    "         np.diag([1 for x in range(0,N)],2))[:-2, :]\n",
    "\n",
    "# bounds from CI\n",
    "pl = [intr[0] for intr in intervals_test]\n",
    "pu = [intr[1] for intr in intervals_test]\n",
    "\n",
    "# define bounds\n",
    "pl = np.array(pl)[:N + 2]\n",
    "pu = np.array(pu)[:N + 2]\n",
    "\n",
    "# NOTE: truncate to N + 2, as 2 rows above diag, so Nth equation has N + 2 p's\n",
    "\n",
    "# Construct the problem.\n",
    "#k_on = cv.Variable(1)\n",
    "k_on = 1\n",
    "#k_off = cv.Variable(1)\n",
    "k_off = 1\n",
    "k_tx = cv.Variable(1)\n",
    "#k_tx = 0.5\n",
    "#k_deg = cv.Variable(1)\n",
    "k_deg = 1\n",
    "z_on = cv.Variable(N + 2)\n",
    "z_off = cv.Variable(N + 2)\n",
    "z_tx = cv.Variable(N + 2)\n",
    "z_deg = cv.Variable(N + 2)\n",
    "objective_max = cv.Maximize(k_tx)\n",
    "objective_min = cv.Minimize(k_tx)\n",
    "constraints = [Q_on @ z_on + Q_off @ z_off + Q_tx @ z_tx + Q_deg @ z_deg == 0,\n",
    "               k_on >= 0, k_off >= 0, k_tx >= 0, k_deg >= 0,\n",
    "               k_on * pl <= z_on, z_on <= k_on * pu,\n",
    "               k_off * pl <= z_off, z_off <= k_off * pu,\n",
    "               k_tx * pl <= z_tx, z_tx <= k_tx * pu,\n",
    "               k_deg * pl <= z_deg, z_deg <= k_deg * pu,\n",
    "               ]\n",
    "prob_max = cv.Problem(objective_max, constraints)\n",
    "prob_min = cv.Problem(objective_min, constraints)   \n",
    "\n",
    "# Print result.\n",
    "result_max = prob_max.solve()\n",
    "print(prob_max.status)\n",
    "print(\"\\nThe upper bound is\", prob_max.value)\n",
    "print(f\"k_tx: {k_tx.value}\")\n",
    "result_min = prob_min.solve()\n",
    "print(prob_min.status)\n",
    "print(\"\\nThe lower bound is\", prob_min.value)\n",
    "print(f\"k_tx: {k_tx.value}\")"
   ]
  },
  {
   "cell_type": "markdown",
   "metadata": {},
   "source": [
    "Results:\n",
    "\n",
    "Using k_tx = 0.5, all others fixed to 1\n",
    "\n",
    "- Using N equations uses N + 2 p's, so after N = 3 bounds happen to be infeasible e.g. 5th p bounds may be wrong\n",
    "- However, good bounds on k_tx = 0.5 after only a few equations:\n",
    "\n",
    "N = 1: no bounds (no k_tx in first equations) \\\n",
    "N = 2: [0.44, 0.53] \\\n",
    "N = 3: [0.44, 0.51]\n"
   ]
  },
  {
   "cell_type": "markdown",
   "metadata": {},
   "source": [
    "### Step2: Marginal states\n",
    "\n",
    "- use only bounds on states of m: $ \\bar{p}(m) = p(m,0) + p(m,1) $"
   ]
  },
  {
   "cell_type": "code",
   "execution_count": 11,
   "metadata": {},
   "outputs": [],
   "source": [
    "\n",
    "def gene_expression_LP(params, N, bounds, printing=False):\n",
    "\t# N = number of equations used (rows of Q)\n",
    "\t# NOTE: restrict to even atm (as p's enter as pairs)\n",
    "\n",
    "\t# number of marginals used\n",
    "\tM = int(N/2 + 1)\n",
    "\n",
    "\t# create Qr matrices:\n",
    "\t# create N + 2 x N + 2 square and drop last 2 rows, as have 2 upper diagonals\n",
    "\tQ_on = (np.diag([-1 if not x % 2 else 0 for x in range(0,N+2)],0) +\n",
    "\t\t\tnp.diag([1 if not x % 2 else 0 for x in range(0,N+1)],-1))[:-2, :]\n",
    "\tQ_off = (np.diag([-1 if x % 2 else 0 for x in range(0,N+2)],0) +\n",
    "\t\t\tnp.diag([1 if not x % 2 else 0 for x in range(0,N+1)],1))[:-2, :]\n",
    "\tQ_tx = (np.diag([-1 if x % 2 else 0 for x in range(0,N+2)],0) +\n",
    "\t\t\tnp.diag([1 if x % 2 else 0 for x in range(0,N)],-2))[:-2, :]\n",
    "\tQ_deg = (np.diag([-1 if x > 1 else 0 for x in range(0,N+2)],0) +\n",
    "\t\t\tnp.diag([1 for x in range(0,N)],2))[:-2, :]\n",
    "\n",
    "\t# bounds from CI, on marginal\n",
    "\tpl = [intr[0] for intr in bounds]\n",
    "\tpu = [intr[1] for intr in bounds]\n",
    "\n",
    "\t# define bounds\n",
    "\tpl = np.array(pl)[:M]\n",
    "\tpu = np.array(pu)[:M]\n",
    "\n",
    "\t# NOTE: need different cutoff: n p's <=> n/2 marginals\n",
    "\n",
    "\t# marginal = A @ p\n",
    "\tA = np.repeat(np.eye(M, dtype=int), repeats=2, axis=1)\n",
    "\n",
    "\t# Construct the problem.\n",
    "\n",
    "\t# Variables\n",
    "\tk1, k2, k3, k4 = params[0], params[1], params[2], params[3]\n",
    "\tif k1 == \"v\":\n",
    "\t\tk_on = cv.Variable(1)\n",
    "\telse:\n",
    "\t\tk_on = k1\n",
    "\tif k2 == \"v\":\n",
    "\t\tk_off = cv.Variable(1)\n",
    "\telse:\n",
    "\t\tk_off = k2\n",
    "\tif k3 == \"v\":\n",
    "\t\tk_tx = cv.Variable(1)\n",
    "\telse:\n",
    "\t\tk_tx = k3\n",
    "\tif k4 == \"v\":\n",
    "\t\tk_deg = cv.Variable(1)\n",
    "\telse:\n",
    "\t\tk_deg = k4\n",
    "\tz_on = cv.Variable(N + 2)\n",
    "\tz_off = cv.Variable(N + 2)\n",
    "\tz_tx = cv.Variable(N + 2)\n",
    "\tz_deg = cv.Variable(N + 2)\n",
    "\n",
    "\t# Objective\n",
    "\tvar = \"k_tx\"\n",
    "\tobjective_max = cv.Maximize(k_tx)\n",
    "\tobjective_min = cv.Minimize(k_tx)\n",
    "\n",
    "\t# Constraints: Qp = 0, kr > 0, marginal bounds, joint prob in [0,1]\n",
    "\tconstraints = [Q_on @ z_on + Q_off @ z_off + Q_tx @ z_tx + Q_deg @ z_deg == 0,\n",
    "\t\t\tz_on <= k_on, z_off <= k_off, z_tx <= k_tx, z_deg <= k_deg,\n",
    "\t\t\t#z_on >= 0.001 * k_on, z_off >= 0.001 * k_off, z_tx >= 0.001 * k_tx, z_deg >= 0.001 * k_deg,\n",
    "\t\t\tz_on >= 0, z_off >= 0, z_tx >= 0, z_deg >= 0,\n",
    "\t\t\tk_on >= 0, k_off >= 0, k_tx >= 0, k_deg >= 0,\n",
    "\t\t\tk_on * pl <= A @ z_on, A @ z_on <= k_on * pu,\n",
    "\t\t\tk_off * pl <= A @ z_off, A @ z_off <= k_off * pu,\n",
    "\t\t\tk_tx * pl <= A @ z_tx, A @ z_tx <= k_tx * pu,\n",
    "\t\t\tk_deg * pl <= A @ z_deg, A @ z_deg <= k_deg * pu,\n",
    "\t\t\t]\n",
    "\n",
    "\t# define\n",
    "\tprob_max = cv.Problem(objective_max, constraints)\n",
    "\tprob_min = cv.Problem(objective_min, constraints)   \n",
    "\n",
    "\t# Print results\n",
    "\tresult_max = prob_max.solve()\n",
    "\tif printing:\n",
    "\t\tprint(f\"Upper bound status: {prob_max.status}\")\n",
    "\t\tprint(f\"\\nUpper bound on {var}: {prob_max.value}\")\n",
    "\t\tprint(f\"\\nz_on: {z_on.value}\")\n",
    "\t\tprint(f\"z_off: {z_off.value}\")\n",
    "\t\tprint(f\"z_tx: {z_tx.value}\")\n",
    "\t\tprint(f\"z_deg: {z_deg.value}\")\n",
    "\n",
    "\tresult_min = prob_min.solve()\n",
    "\tif printing:\n",
    "\t\tprint(f\"\\nLower bound status: {prob_min.status}\")\n",
    "\t\tprint(f\"\\nLower bound on {var}: {prob_min.value}\")\n",
    "\t\tprint(f\"\\nz_on: {z_on.value}\")\n",
    "\t\tprint(f\"z_off: {z_off.value}\")\n",
    "\t\tprint(f\"z_tx: {z_tx.value}\")\n",
    "\t\tprint(f\"z_deg: {z_deg.value}\")\n",
    "\n",
    "\treturn prob_max.value, prob_min.value"
   ]
  },
  {
   "cell_type": "code",
   "execution_count": 12,
   "metadata": {},
   "outputs": [
    {
     "name": "stdout",
     "output_type": "stream",
     "text": [
      "95% CI for p(0) is: (0.6585, 0.699)\n",
      "95% CI for p(1) is: (0.2445, 0.284)\n",
      "95% CI for p(2) is: (0.036, 0.0545)\n",
      "95% CI for p(3) is: (0.0064875, 0.0155)\n",
      "95% CI for p(4) is: (0.0, 0.0035)\n",
      "95% CI for p(5) is: (0.0, 0.0)\n",
      "95% CI for p(6) is: (0.0, 0.0)\n",
      "95% CI for p(7) is: (0.0, 0.0)\n",
      "95% CI for p(8) is: (0.0, 0.0)\n",
      "95% CI for p(9) is: (0.0, 0.0)\n"
     ]
    }
   ],
   "source": [
    "# attempt different parameters\n",
    "states = [x for x in range(10)]\n",
    "estimates_marginal, intervals_marginal = bootstrap_marginal(states,[0,0],[0.8,0.2,0.5,1],100,2000,2000,plot=False,printing=True)"
   ]
  },
  {
   "cell_type": "code",
   "execution_count": 13,
   "metadata": {},
   "outputs": [
    {
     "name": "stdout",
     "output_type": "stream",
     "text": [
      "Upper bound status: unbounded\n",
      "\n",
      "Upper bound on k_tx: inf\n",
      "\n",
      "z_on: None\n",
      "z_off: None\n",
      "z_tx: None\n",
      "z_deg: None\n",
      "\n",
      "Lower bound status: optimal\n",
      "\n",
      "Lower bound on k_tx: 0.3497854076868829\n",
      "\n",
      "z_on: [0.32874121 0.23177744 0.08053386 0.13454594 0.01278793 0.02258041\n",
      " 0.00324437 0.00538625 0.0008683  0.0008683 ]\n",
      "z_off: [0.35647732 0.24558015 0.08470191 0.14688498 0.01367796 0.0252489\n",
      " 0.00362943 0.00629654 0.00093771 0.00093771]\n",
      "z_tx: [-8.92165394e-12  2.44500000e-01  4.49178190e-02  4.53487327e-02\n",
      "  4.55805762e-03  1.07284268e-02  1.47126672e-03  2.34090715e-03\n",
      "  3.71263862e-04  3.71263862e-04]\n",
      "z_deg: [0.3391417  0.3391417  0.08316106 0.16133894 0.01680994 0.02853879\n",
      " 0.00434898 0.00637945 0.00129681 0.0010441 ]\n"
     ]
    },
    {
     "data": {
      "text/plain": [
       "(inf, 0.3497854076868829)"
      ]
     },
     "execution_count": 13,
     "metadata": {},
     "output_type": "execute_result"
    }
   ],
   "source": [
    "gene_expression_LP([\"v\",\"v\",\"v\",1],8,intervals_marginal,printing=True)"
   ]
  },
  {
   "cell_type": "markdown",
   "metadata": {},
   "source": [
    "# Results\n",
    "\n",
    "The joint probabilities (multipied be rates to get z's) only occur as sums of pairs, so had problem of taking negative values, seen by negative z's. So, enforce bounds of [0,1] on p's => bounds of [0, kr] on z's (as well as all rates kr > 0)\n",
    "\n",
    "- These constraints allow a lower bound to be found, possibly converging to true value? (or true range of possible values given data)\n",
    "\n",
    "However, a non-zero lower bound on p's/z's is needed for an upper bound on the LP:\n",
    "- using e.g. 0.01 as a bound on p is enough, but reducing in magnitude increaes upper bound, and not rigorous (may not always be true)"
   ]
  },
  {
   "cell_type": "markdown",
   "metadata": {},
   "source": [
    "# Test solution lower bound\n",
    "- simulate many marginal bounds e.g. 10+\n",
    "- solve LP using increasing numbers of equations/bounds\n",
    "- test if lower bound of solution converges to true value of parameter (or true range given input bounds)"
   ]
  },
  {
   "cell_type": "code",
   "execution_count": 63,
   "metadata": {},
   "outputs": [
    {
     "name": "stdout",
     "output_type": "stream",
     "text": [
      "95% CI for p(0) is: (0.7793, 0.7907)\n",
      "95% CI for p(1) is: (0.1752, 0.1858)\n",
      "95% CI for p(2) is: (0.0286, 0.03345)\n",
      "95% CI for p(3) is: (0.00245, 0.004)\n",
      "95% CI for p(4) is: (0.0001, 0.00055)\n",
      "95% CI for p(5) is: (0.0, 0.00015)\n",
      "95% CI for p(6) is: (0.0, 0.0)\n",
      "95% CI for p(7) is: (0.0, 0.0)\n",
      "95% CI for p(8) is: (0.0, 0.0)\n",
      "95% CI for p(9) is: (0.0, 0.0)\n",
      "95% CI for p(10) is: (0.0, 0.0)\n",
      "95% CI for p(11) is: (0.0, 0.0)\n"
     ]
    }
   ],
   "source": [
    "# simulate marginal bounds\n",
    "states = [x for x in range(12)]\n",
    "estimates_test, intervals_test = bootstrap_marginal(states,[0,0],[1,1,0.5,1],1000,20000,20000,plot=False,printing=True)"
   ]
  },
  {
   "cell_type": "code",
   "execution_count": 76,
   "metadata": {},
   "outputs": [
    {
     "data": {
      "text/plain": [
       "[<matplotlib.lines.Line2D at 0x17f3baad0c0>]"
      ]
     },
     "execution_count": 76,
     "metadata": {},
     "output_type": "execute_result"
    },
    {
     "data": {
      "image/png": "[encoded data removed]",
      "text/plain": [
       "<Figure size 432x288 with 1 Axes>"
      ]
     },
     "metadata": {
      "needs_background": "light"
     },
     "output_type": "display_data"
    }
   ],
   "source": [
    "# increase number of equations/marginals used\n",
    "equations_used = []\n",
    "solution_lower = []\n",
    "for N in range(2,24,2):\n",
    "    # solve LP\n",
    "    upper_bound, lower_bound = gene_expression_LP([\"v\",\"v\",\"v\",1],N,intervals_test)\n",
    "    equations_used.append(N)\n",
    "    solution_lower.append(lower_bound)\n",
    "plt.ticklabel_format(useOffset=False)\n",
    "plt.plot(equations_used,solution_lower)"
   ]
  },
  {
   "cell_type": "markdown",
   "metadata": {},
   "source": [
    "Lower bound on k_tx doesn't seem to improve as more equations added"
   ]
  },
  {
   "cell_type": "markdown",
   "metadata": {},
   "source": [
    "# Additional Constraints\n",
    "\n",
    "Bounding joint probabilities by [0,1] allowed a lower bound on the LP, but a non-zero lower bound on p is needed for an upper bound on the LP. Using e.g. 0.01 is just an approximation, and may not be true.\n",
    "\n",
    "### Frechet bounds:\n",
    "\n",
    "max{0, P(X) + P(Y) - 1} < P(X n Y) < min{P(X), P(Y)}\n",
    "\n",
    "Applying to marginals of M and G, where P(G = 1) = k_on / k_on + k_off, can bound joint probabilities:"
   ]
  },
  {
   "cell_type": "code",
   "execution_count": 15,
   "metadata": {},
   "outputs": [
    {
     "name": "stdout",
     "output_type": "stream",
     "text": [
      "z1 lb: \n",
      " [-0.278205  0.321795 -0.634225 -0.034225 -0.7744   -0.1744   -0.799\n",
      " -0.199    -0.8      -0.2     ]\n",
      "\n",
      "z2 lb: \n",
      " [-0.71082  -0.11082  -0.796825 -0.196825 -0.8146   -0.2146   -0.808\n",
      " -0.208    -0.8      -0.2     ]\n",
      "\n",
      "z1 + z2 lb: \n",
      " [-0.134     0.466    -0.580025  0.019975 -0.761    -0.161    -0.796\n",
      " -0.196    -0.8      -0.2     ]\n"
     ]
    }
   ],
   "source": [
    "# simulate marginal bounds\n",
    "estimates_test, intervals_test = bootstrap_marginal([x for x in range(5)],[0,0],[0.8,0.2,0.5,1],100,1000,1000,plot=False,printing=False)\n",
    "# form bound vectors (on marginal)\n",
    "pl = np.array([intr[0] for intr in intervals_test])\n",
    "pu = np.array([intr[1] for intr in intervals_test])\n",
    "# form doubled bound vectors\n",
    "pdl = np.repeat(pl,2)\n",
    "pdu = np.repeat(pu,2)\n",
    "# form bounds on joint probs\n",
    "k1 = 0.8\n",
    "k2 = 0.2\n",
    "kv = [k2 if x % 2 else k1 for x in range(10)]\n",
    "z1_lb = k1 * pdl + k2 * pdl - k2 * pdu - kv\n",
    "z2_lb = k1 * pdl + k2 * pdl - k1 * pdu - kv\n",
    "print(f\"z1 lb: \\n {z1_lb}\")\n",
    "print(f\"\\nz2 lb: \\n {z2_lb}\")\n",
    "zsum_lb = (k1 + k2) * pdl - kv\n",
    "print(f\"\\nz1 + z2 lb: \\n {zsum_lb}\")"
   ]
  },
  {
   "cell_type": "markdown",
   "metadata": {},
   "source": [
    "See above that only a few of the lower bounds on z1 and z2 are non-negative, can cover this by still using [0,kr] bounds, but means that only a few variables will now have tighter bounds\n",
    "\n",
    "Can also bound the sum of z1 and z2 terms"
   ]
  },
  {
   "cell_type": "code",
   "execution_count": 17,
   "metadata": {},
   "outputs": [],
   "source": [
    "def gene_expression_LP_2(params, N, bounds, printing=False):\n",
    "\t# N = number of equations used (rows of Q)\n",
    "\t# NOTE: restrict to even atm (as p's enter as pairs)\n",
    "\n",
    "\t# number of marginals used\n",
    "\tM = int(N/2 + 1)\n",
    "\n",
    "\t# create Qr matrices:\n",
    "\t# create N + 2 x N + 2 square and drop last 2 rows, as have 2 upper diagonals\n",
    "\tQ_on = (np.diag([-1 if not x % 2 else 0 for x in range(0,N+2)],0) +\n",
    "\t\t\tnp.diag([1 if not x % 2 else 0 for x in range(0,N+1)],-1))[:-2, :]\n",
    "\tQ_off = (np.diag([-1 if x % 2 else 0 for x in range(0,N+2)],0) +\n",
    "\t\t\tnp.diag([1 if not x % 2 else 0 for x in range(0,N+1)],1))[:-2, :]\n",
    "\tQ_tx = (np.diag([-1 if x % 2 else 0 for x in range(0,N+2)],0) +\n",
    "\t\t\tnp.diag([1 if x % 2 else 0 for x in range(0,N)],-2))[:-2, :]\n",
    "\tQ_deg = (np.diag([-1 if x > 1 else 0 for x in range(0,N+2)],0) +\n",
    "\t\t\tnp.diag([1 for x in range(0,N)],2))[:-2, :]\n",
    "\n",
    "\t# bounds from CI, on marginal\n",
    "\tpl = [intr[0] for intr in bounds]\n",
    "\tpu = [intr[1] for intr in bounds]\n",
    "\n",
    "\t# define bounds\n",
    "\tpl = np.array(pl)[:M]\n",
    "\tpu = np.array(pu)[:M]\n",
    "\n",
    "\t# form doubled bounds\n",
    "\tpdl = np.repeat(pl,2)\n",
    "\tpdu = np.repeat(pu,2)\n",
    "\n",
    "\t# NOTE: need different cutoff: n p's <=> n/2 marginals\n",
    "\n",
    "\t# marginal = A @ p\n",
    "\tA = np.repeat(np.eye(M, dtype=int), repeats=2, axis=1)\n",
    "\n",
    "\t# Construct the problem.\n",
    "\n",
    "\t# Variables\n",
    "\tk1, k2, k3, k4 = params[0], params[1], params[2], params[3]\n",
    "\tif k1 == \"v\":\n",
    "\t\tk_on = cv.Variable(1)\n",
    "\telse:\n",
    "\t\tk_on = k1\n",
    "\tif k2 == \"v\":\n",
    "\t\tk_off = cv.Variable(1)\n",
    "\telse:\n",
    "\t\tk_off = k2\n",
    "\tif k3 == \"v\":\n",
    "\t\tk_tx = cv.Variable(1)\n",
    "\telse:\n",
    "\t\tk_tx = k3\n",
    "\tif k4 == \"v\":\n",
    "\t\tk_deg = cv.Variable(1)\n",
    "\telse:\n",
    "\t\tk_deg = k4\n",
    "\tz_on = cv.Variable(N + 2)\n",
    "\tz_off = cv.Variable(N + 2)\n",
    "\tz_tx = cv.Variable(N + 2)\n",
    "\tz_deg = cv.Variable(N + 2)\n",
    "\n",
    "\t# form bounds\n",
    "\tkv = np.array([k_off if x % 2 else k_on for x in range(N + 2)])\n",
    "\tz1_lb = k_on * pdl + k_off * pdl - k_off * pdu - kv\n",
    "\tz2_lb = k_on * pdl + k_off * pdl - k_on * pdu - kv\n",
    "\tzsum_lb = (k1 + k2) * pdl - kv\n",
    "\n",
    "\tprint(z1_lb)\n",
    "\tprint(z2_lb)\n",
    "\tprint(zsum_lb)\n",
    "\n",
    "\t# Objective\n",
    "\tvar = \"k_tx\"\n",
    "\tobjective_max = cv.Maximize(k_tx)\n",
    "\tobjective_min = cv.Minimize(k_tx)\n",
    "\n",
    "\t# Constraints\n",
    "\tconstraints = [Q_on @ z_on + Q_off @ z_off + Q_tx @ z_tx + Q_deg @ z_deg == 0,\n",
    "\t\t\tz_on <= k_on * pdu, z_off <= k_off * pdu, z_tx <= k_tx * pdu, z_deg <= k_deg * pdu,\n",
    "\t\t\tz_on >= z1_lb, z_off >= z2_lb, z_on + z_off >= zsum_lb,\n",
    "\t\t\tz_on >= 0, z_off >= 0, z_tx >= 0, z_deg >= 0,\n",
    "\t\t\tk_on >= 0, k_off >= 0, k_tx >= 0, k_deg >= 0,\n",
    "\t\t\tk_on * pl <= A @ z_on, A @ z_on <= k_on * pu,\n",
    "\t\t\tk_off * pl <= A @ z_off, A @ z_off <= k_off * pu,\n",
    "\t\t\tk_tx * pl <= A @ z_tx, A @ z_tx <= k_tx * pu,\n",
    "\t\t\tk_deg * pl <= A @ z_deg, A @ z_deg <= k_deg * pu,\n",
    "\t\t\t]\n",
    "\n",
    "\t# define\n",
    "\tprob_max = cv.Problem(objective_max, constraints)\n",
    "\tprob_min = cv.Problem(objective_min, constraints)   \n",
    "\n",
    "\t# Print results\n",
    "\tresult_max = prob_max.solve()\n",
    "\tif printing:\n",
    "\t\tprint(f\"Upper bound status: {prob_max.status}\")\n",
    "\t\tprint(f\"\\nUpper bound on {var}: {prob_max.value}\")\n",
    "\t\tprint(f\"\\nz_on: {z_on.value}\")\n",
    "\t\tprint(f\"z_off: {z_off.value}\")\n",
    "\t\tprint(f\"z_tx: {z_tx.value}\")\n",
    "\t\tprint(f\"z_deg: {z_deg.value}\")\n",
    "\n",
    "\tresult_min = prob_min.solve()\n",
    "\tif printing:\n",
    "\t\tprint(f\"\\nLower bound status: {prob_min.status}\")\n",
    "\t\tprint(f\"\\nLower bound on {var}: {prob_min.value}\")\n",
    "\t\tprint(f\"\\nz_on: {z_on.value}\")\n",
    "\t\tprint(f\"z_off: {z_off.value}\")\n",
    "\t\tprint(f\"z_tx: {z_tx.value}\")\n",
    "\t\tprint(f\"z_deg: {z_deg.value}\")\n",
    "\n",
    "\treturn prob_max.value, prob_min.value"
   ]
  },
  {
   "cell_type": "code",
   "execution_count": 20,
   "metadata": {},
   "outputs": [
    {
     "name": "stdout",
     "output_type": "stream",
     "text": [
      "95% CI for p(0) is: (0.653, 0.7120249999999999)\n",
      "95% CI for p(1) is: (0.224, 0.277)\n",
      "95% CI for p(2) is: (0.043, 0.073)\n",
      "95% CI for p(3) is: (0.002, 0.012)\n",
      "95% CI for p(4) is: (0.0, 0.003)\n",
      "95% CI for p(5) is: (0.0, 0.0)\n",
      "95% CI for p(6) is: (0.0, 0.0)\n",
      "95% CI for p(7) is: (0.0, 0.0)\n",
      "95% CI for p(8) is: (0.0, 0.0)\n",
      "95% CI for p(9) is: (0.0, 0.0)\n"
     ]
    }
   ],
   "source": [
    "# simulate marginal bounds\n",
    "states = [x for x in range(10)]\n",
    "estimates_test, intervals_test = bootstrap_marginal(states,[0,0],[0.8,0.2,0.5,1],100,1000,1000,plot=False,printing=True)"
   ]
  },
  {
   "cell_type": "code",
   "execution_count": 24,
   "metadata": {},
   "outputs": [
    {
     "name": "stdout",
     "output_type": "stream",
     "text": [
      "[-0.289405  0.310595 -0.6314   -0.0314   -0.7716   -0.1716   -0.8004\n",
      " -0.2004   -0.8006   -0.2006  ]\n",
      "[-0.71662 -0.11662 -0.7976  -0.1976  -0.8154  -0.2154  -0.8076  -0.2076\n",
      " -0.8024  -0.2024 ]\n",
      "[-0.147  0.453 -0.576  0.024 -0.757 -0.157 -0.798 -0.198 -0.8   -0.2  ]\n",
      "Upper bound status: unbounded\n",
      "\n",
      "Upper bound on k_tx: inf\n",
      "\n",
      "z_on: None\n",
      "z_off: None\n",
      "z_tx: None\n",
      "z_deg: None\n",
      "\n",
      "Lower bound status: optimal\n",
      "\n",
      "Lower bound on k_tx: 0.3145956953733184\n",
      "\n",
      "z_on: [0.09950392 0.43912922 0.01975682 0.17116407 0.00407916 0.03656514\n",
      " 0.00078135 0.00386809 0.00072388 0.00062004]\n",
      "z_off: [0.05551269 0.07940922 0.01633044 0.03304399 0.00325464 0.00895308\n",
      " 0.00054519 0.00120928 0.00018215 0.00015565]\n",
      "z_tx: [-5.72359013e-13  2.24000000e-01  2.69133362e-02  5.26343214e-02\n",
      "  1.06459676e-02  7.87932410e-03  9.37219864e-04  2.00576955e-03\n",
      "  3.14595695e-04  3.14595695e-04]\n",
      "z_deg: [0.34126072 0.34126072 0.02009471 0.20390529 0.00680753 0.04582679\n",
      " 0.00193361 0.00594571 0.00150568 0.00050009]\n"
     ]
    },
    {
     "data": {
      "text/plain": [
       "(inf, 0.3145956953733184)"
      ]
     },
     "execution_count": 24,
     "metadata": {},
     "output_type": "execute_result"
    }
   ],
   "source": [
    "gene_expression_LP_2([0.8,0.2,\"v\",1],8,intervals_test,printing=True)"
   ]
  },
  {
   "cell_type": "markdown",
   "metadata": {},
   "source": [
    "# Assuming k1 (k_on) and k2 (k_off) known, to get (linear) bounds on all z's:"
   ]
  },
  {
   "cell_type": "code",
   "execution_count": 25,
   "metadata": {},
   "outputs": [
    {
     "name": "stdout",
     "output_type": "stream",
     "text": [
      "z1 lb: \n",
      "[-0.2982    0.3018   -0.6262   -0.0262   -0.769825 -0.169825 -0.7986\n",
      " -0.1986   -0.801    -0.201   ]\n",
      "z2 lb: \n",
      "[-0.7188   -0.1188   -0.7978   -0.1978   -0.814225 -0.214225 -0.8094\n",
      " -0.2094   -0.804    -0.204   ]\n",
      "z3 lb: \n",
      "[-0.186375    0.188625   -0.391375   -0.016375   -0.48114062 -0.10614063\n",
      " -0.499125   -0.124125   -0.500625   -0.125625  ]\n",
      "z4 lb: \n",
      "[-0.37275     0.37725    -0.78275    -0.03275    -0.96228125 -0.21228125\n",
      " -0.99825    -0.24825    -1.00125    -0.25125   ]\n",
      "zsum lb: \n",
      "[-0.158     0.442    -0.569     0.031    -0.755025 -0.155025 -0.795\n",
      " -0.195    -0.8      -0.2     ]\n"
     ]
    }
   ],
   "source": [
    "# simulate marginal bounds\n",
    "estimates_test, intervals_test = bootstrap_marginal([x for x in range(5)],[0,0],[0.8,0.2,0.5,1],100,1000,1000,plot=False,printing=False)\n",
    "# form bound vectors (on marginal)\n",
    "pl = np.array([intr[0] for intr in intervals_test])\n",
    "pu = np.array([intr[1] for intr in intervals_test])\n",
    "# form doubled bounds\n",
    "pdl = np.repeat(pl,2)\n",
    "pdu = np.repeat(pu,2)\n",
    "# form bounds on joint probs\n",
    "k1 = 0.8\n",
    "k2 = 0.2\n",
    "k3 = 0.5\n",
    "k4 = 1\n",
    "kv = [k2 if x % 2 else k1 for x in range(10)]\n",
    "z1_lb = k1 * pdl + k2 * pdl - k2 * pdu - kv\n",
    "z2_lb = k1 * pdl + k2 * pdl - k1 * pdu - kv\n",
    "z3_lb = (k1 * pdl + k2 * pdl - k2 * pdu - kv) * k3/k1\n",
    "z4_lb = (k1 * pdl + k2 * pdl - k2 * pdu - kv) * k4/k1\n",
    "zsum_lb = (k1 + k2) * pdl - kv\n",
    "print(f\"z1 lb: \\n{z1_lb}\")\n",
    "print(f\"z2 lb: \\n{z2_lb}\")\n",
    "print(f\"z3 lb: \\n{z3_lb}\")\n",
    "print(f\"z4 lb: \\n{z4_lb}\")\n",
    "print(f\"zsum lb: \\n{zsum_lb}\")"
   ]
  },
  {
   "cell_type": "code",
   "execution_count": 33,
   "metadata": {},
   "outputs": [],
   "source": [
    "def gene_expression_LP_3(params, N, bounds, printing=False):\n",
    "\t# N = number of equations used (rows of Q)\n",
    "\t# NOTE: restrict to even atm (as p's enter as pairs)\n",
    "\n",
    "\t# number of marginals used\n",
    "\tM = int(N/2 + 1)\n",
    "\n",
    "\t# create Qr matrices:\n",
    "\t# create N + 2 x N + 2 square and drop last 2 rows, as have 2 upper diagonals\n",
    "\tQ_on = (np.diag([-1 if not x % 2 else 0 for x in range(0,N+2)],0) +\n",
    "\t\t\tnp.diag([1 if not x % 2 else 0 for x in range(0,N+1)],-1))[:-2, :]\n",
    "\tQ_off = (np.diag([-1 if x % 2 else 0 for x in range(0,N+2)],0) +\n",
    "\t\t\tnp.diag([1 if not x % 2 else 0 for x in range(0,N+1)],1))[:-2, :]\n",
    "\tQ_tx = (np.diag([-1 if x % 2 else 0 for x in range(0,N+2)],0) +\n",
    "\t\t\tnp.diag([1 if x % 2 else 0 for x in range(0,N)],-2))[:-2, :]\n",
    "\tQ_deg = (np.diag([-1 if x > 1 else 0 for x in range(0,N+2)],0) +\n",
    "\t\t\tnp.diag([1 for x in range(0,N)],2))[:-2, :]\n",
    "\n",
    "\t# bounds from CI, on marginal\n",
    "\tpl = [intr[0] for intr in bounds]\n",
    "\tpu = [intr[1] for intr in bounds]\n",
    "\n",
    "\t# define bounds\n",
    "\tpl = np.array(pl)[:M]\n",
    "\tpu = np.array(pu)[:M]\n",
    "\n",
    "\t# form doubled bounds\n",
    "\tpdl = np.repeat(pl,2)\n",
    "\tpdu = np.repeat(pu,2)\n",
    "\n",
    "\t# NOTE: need different cutoff: n p's <=> n/2 marginals\n",
    "\n",
    "\t# marginal = A @ p\n",
    "\tA = np.repeat(np.eye(M, dtype=int), repeats=2, axis=1)\n",
    "\n",
    "\t# Construct the problem.\n",
    "\n",
    "\t# Variables\n",
    "\tk1, k2, k3, k4 = params[0], params[1], params[2], params[3]\n",
    "\tif k1 == \"v\":\n",
    "\t\tk_on = cv.Variable(1)\n",
    "\telse:\n",
    "\t\tk_on = k1\n",
    "\tif k2 == \"v\":\n",
    "\t\tk_off = cv.Variable(1)\n",
    "\telse:\n",
    "\t\tk_off = k2\n",
    "\tif k3 == \"v\":\n",
    "\t\tk_tx = cv.Variable(1)\n",
    "\telse:\n",
    "\t\tk_tx = k3\n",
    "\tif k4 == \"v\":\n",
    "\t\tk_deg = cv.Variable(1)\n",
    "\telse:\n",
    "\t\tk_deg = k4\n",
    "\tz_on = cv.Variable(N + 2)\n",
    "\tz_off = cv.Variable(N + 2)\n",
    "\tz_tx = cv.Variable(N + 2)\n",
    "\tz_deg = cv.Variable(N + 2)\n",
    "\n",
    "\t# form bounds\n",
    "\tkv = np.array([k_off if x % 2 else k_on for x in range(N + 2)])\n",
    "\tz1_lb = k_on * pdl + k_off * pdl - k_off * pdu - kv\n",
    "\tz2_lb = k_on * pdl + k_off * pdl - k_on * pdu - kv\n",
    "\tz3_lb = (k_on * pdl + k_off * pdl - k_off * pdu - kv) * k_tx/k_on\n",
    "\tz4_lb = (k_on * pdl + k_off * pdl - k_off * pdu - kv) * k_deg/k_on\n",
    "\t#zsum_lb = (k1 + k2) * pdl - kv\n",
    "\t\n",
    "\n",
    "\tif printing:\n",
    "\t\tprint(z1_lb)\n",
    "\t\tprint(z2_lb)\n",
    "\t\tprint(z3_lb)\n",
    "\t\tprint(z4_lb)\n",
    "\t\tprint(zsum_lb)\n",
    "\n",
    "\t# Objective\n",
    "\tvar = \"k_tx\"\n",
    "\tobjective_max = cv.Maximize(k_tx)\n",
    "\tobjective_min = cv.Minimize(k_tx)\n",
    "\n",
    "\t# Constraints\n",
    "\tconstraints = [Q_on @ z_on + Q_off @ z_off + Q_tx @ z_tx + Q_deg @ z_deg == 0,\n",
    "\t\t\tz_on <= k_on * pdu, z_off <= k_off * pdu, z_tx <= k_tx * pdu, z_deg <= k_deg * pdu,\n",
    "\t\t\tz_on >= z1_lb, z_off >= z2_lb, z_tx >= z3_lb, z_deg >= z4_lb, #z_on + z_off >= zsum_lb,\n",
    "\t\t\tz_on >= 0, z_off >= 0, z_tx >= 0, z_deg >= 0,\n",
    "\t\t\tk_on >= 0, k_off >= 0, k_tx >= 0, k_deg >= 0,\n",
    "\t\t\tk_on * pl <= A @ z_on, A @ z_on <= k_on * pu,\n",
    "\t\t\tk_off * pl <= A @ z_off, A @ z_off <= k_off * pu,\n",
    "\t\t\tk_tx * pl <= A @ z_tx, A @ z_tx <= k_tx * pu,\n",
    "\t\t\tk_deg * pl <= A @ z_deg, A @ z_deg <= k_deg * pu,\n",
    "\t\t\t]\n",
    "\n",
    "\t# define\n",
    "\tprob_max = cv.Problem(objective_max, constraints)\n",
    "\tprob_min = cv.Problem(objective_min, constraints)   \n",
    "\n",
    "\t# Print results\n",
    "\tresult_max = prob_max.solve()\n",
    "\tif printing:\n",
    "\t\tprint(f\"Upper bound status: {prob_max.status}\")\n",
    "\t\tprint(f\"\\nUpper bound on {var}: {prob_max.value}\")\n",
    "\t\tprint(f\"\\nz_on: {z_on.value}\")\n",
    "\t\tprint(f\"z_off: {z_off.value}\")\n",
    "\t\tprint(f\"z_tx: {z_tx.value}\")\n",
    "\t\tprint(f\"z_deg: {z_deg.value}\")\n",
    "\n",
    "\tresult_min = prob_min.solve()\n",
    "\tif printing:\n",
    "\t\tprint(f\"\\nLower bound status: {prob_min.status}\")\n",
    "\t\tprint(f\"\\nLower bound on {var}: {prob_min.value}\")\n",
    "\t\tprint(f\"\\nz_on: {z_on.value}\")\n",
    "\t\tprint(f\"z_off: {z_off.value}\")\n",
    "\t\tprint(f\"z_tx: {z_tx.value}\")\n",
    "\t\tprint(f\"z_deg: {z_deg.value}\")\n",
    "\n",
    "\treturn prob_max.value, prob_min.value"
   ]
  },
  {
   "cell_type": "code",
   "execution_count": 34,
   "metadata": {},
   "outputs": [
    {
     "name": "stdout",
     "output_type": "stream",
     "text": [
      "95% CI for p(0) is: (0.653, 0.711)\n",
      "95% CI for p(1) is: (0.224, 0.278)\n",
      "95% CI for p(2) is: (0.042, 0.071)\n",
      "95% CI for p(3) is: (0.003, 0.014)\n",
      "95% CI for p(4) is: (0.0, 0.0030249999999999774)\n",
      "95% CI for p(5) is: (0.0, 0.0)\n",
      "95% CI for p(6) is: (0.0, 0.0)\n",
      "95% CI for p(7) is: (0.0, 0.0)\n",
      "95% CI for p(8) is: (0.0, 0.0)\n",
      "95% CI for p(9) is: (0.0, 0.0)\n"
     ]
    }
   ],
   "source": [
    "# simulate marginal bounds\n",
    "states = [x for x in range(10)]\n",
    "estimates_test, intervals_test = bootstrap_marginal(states,[0,0],[0.8,0.2,0.5,1],100,1000,1000,plot=False,printing=True)"
   ]
  },
  {
   "cell_type": "code",
   "execution_count": 35,
   "metadata": {},
   "outputs": [
    {
     "name": "stdout",
     "output_type": "stream",
     "text": [
      "[-0.2892    0.3108   -0.6316   -0.0316   -0.7722   -0.1722   -0.7998\n",
      " -0.1998   -0.800605 -0.200605 -0.8      -0.2     ]\n",
      "[-0.7158  -0.1158  -0.7984  -0.1984  -0.8148  -0.2148  -0.8082  -0.2082\n",
      " -0.80242 -0.20242 -0.8     -0.2    ]\n",
      "[-0.2892    0.3108   -0.6316   -0.0316   -0.7722   -0.1722   -0.7998\n",
      " -0.1998   -0.800605 -0.200605 -0.8      -0.2     ] @ Promote(var6502, (12,)) / Promote(0.8, (12,))\n",
      "[-0.3615      0.3885     -0.7895     -0.0395     -0.96525    -0.21525\n",
      " -0.99975    -0.24975    -1.00075625 -0.25075625 -1.         -0.25      ]\n",
      "[-0.158     0.442    -0.569     0.031    -0.755025 -0.155025 -0.795\n",
      " -0.195    -0.8      -0.2     ]\n",
      "Upper bound status: optimal\n",
      "\n",
      "Upper bound on k_tx: 0.715572715573285\n",
      "\n",
      "z_on: [ 1.05502636e-01  4.33929053e-01  1.54002683e-02  1.77680036e-01\n",
      "  3.84524108e-03  3.70092767e-02  6.32776284e-04  5.20086849e-03\n",
      "  9.46734546e-05  9.86138899e-04  1.32096622e-16 -1.34044054e-14]\n",
      "z_off: [ 5.71921229e-02  7.86120114e-02  1.42003734e-02  3.59888301e-02\n",
      "  3.20008245e-03  8.82549886e-03  5.62862092e-04  1.66667014e-03\n",
      "  1.02526830e-04  3.82584062e-04  1.32096622e-16 -1.34044054e-14]\n",
      "z_tx: [ 2.11404426e-01  2.78000000e-01  1.27184324e-01  5.14650608e-02\n",
      "  3.12947716e-02  8.47214346e-03  4.82832307e-03  1.70989926e-03\n",
      "  1.12613992e-03  1.29473088e-14  3.90408920e-15 -7.23768297e-15]\n",
      "z_deg: [ 1.76536952e-01  5.00993583e-01  2.68906241e-02  2.51109376e-01\n",
      "  6.30206224e-03  4.51629986e-02  1.32180446e-03  7.15033900e-03\n",
      "  2.87910607e-04  1.42198865e-03 -4.21313189e-14  5.40449573e-14]\n",
      "\n",
      "Lower bound status: optimal\n",
      "\n",
      "Lower bound on k_tx: 0.31504922644096256\n",
      "\n",
      "z_on: [ 1.00273279e-01  4.40559863e-01  1.90198995e-02  1.75180730e-01\n",
      "  4.12459295e-03  3.74398678e-02  7.26769637e-04  5.25029486e-03\n",
      "  1.10371880e-04  1.01148144e-03 -1.09054328e-14 -1.87679127e-14]\n",
      "z_off: [ 5.49446736e-02  8.08118957e-02  1.63067637e-02  3.34389269e-02\n",
      "  3.69720694e-03  8.00948073e-03  5.88784274e-04  1.61051811e-03\n",
      "  1.00066526e-04  3.84091605e-04 -1.09054328e-14 -1.87679127e-14]\n",
      "z_tx: [-1.32768102e-13  2.24000000e-01  2.85540919e-02  5.05757643e-02\n",
      "  1.03406036e-02  7.74970780e-03  1.73370618e-03  1.43126869e-03\n",
      "  5.04701062e-04  4.04688552e-15  2.75463804e-14 -3.26533254e-14]\n",
      "z_deg: [ 1.76393946e-01  5.01781989e-01  1.94613834e-02  2.04538617e-01\n",
      "  5.04235597e-03  4.55334083e-02  1.15746820e-03  6.59223960e-03\n",
      "  2.73719725e-04  1.15754897e-03 -1.22078041e-13  1.45923687e-13]\n"
     ]
    },
    {
     "data": {
      "text/plain": [
       "(0.715572715573285, 0.31504922644096256)"
      ]
     },
     "execution_count": 35,
     "metadata": {},
     "output_type": "execute_result"
    }
   ],
   "source": [
    "gene_expression_LP_3([0.8,0.2,\"v\",1],10,intervals_test,printing=True)"
   ]
  },
  {
   "cell_type": "markdown",
   "metadata": {},
   "source": [
    "# Results\n",
    "\n",
    "The frechet bounds require p(x) + p(g) >= 1 to be active i.e. give a non-zero lower bound on p(x,g). For this reason gnerally need one of k1 / k1 + k2 and k2 / k1 + k2 to be large (k1, k2 very different) and x to be a state with a large p(x). Even with this, usually only get one positive lower bound for the joint probabilities.\n",
    "\n",
    "These are enough to give upper and lower bounds on k_tx BUT, only when all other variables are specified (currently need k1 and k2 to be specified for linearity of constraints)"
   ]
  },
  {
   "cell_type": "markdown",
   "metadata": {},
   "source": [
    "# Width\n",
    "\n",
    "Using parameters that give positive bounds (and so upper and lower solution bounds) investigate how the width of solution bounds varies with sample size (and bootstrap size)"
   ]
  },
  {
   "cell_type": "code",
   "execution_count": 42,
   "metadata": {},
   "outputs": [
    {
     "name": "stdout",
     "output_type": "stream",
     "text": [
      "(0.23121387283085282,1.251263206247995)\n",
      "(0.32197439807071004,0.7346525270026223)\n",
      "(0.3630271902209296,0.7557971194343183)\n",
      "(0.34834633158741984,0.6461988304168378)\n",
      "(0.38625204582628897,0.695472251178416)\n"
     ]
    },
    {
     "data": {
      "text/plain": [
       "[<matplotlib.lines.Line2D at 0x2b6deca6b90>]"
      ]
     },
     "execution_count": 42,
     "metadata": {},
     "output_type": "execute_result"
    },
    {
     "data": {
      "image/png": "[encoded data removed]",
      "text/plain": [
       "<Figure size 432x288 with 1 Axes>"
      ]
     },
     "metadata": {
      "needs_background": "light"
     },
     "output_type": "display_data"
    }
   ],
   "source": [
    "width = []\n",
    "lbs = []\n",
    "ubs = []\n",
    "for N in [100,1000,2000,5000,10000]:\n",
    "    states = [x for x in range(10)]\n",
    "    estimates_test, intervals_test = bootstrap_marginal(states,[0,0],[0.8,0.2,0.5,1],100,N,N,plot=False,printing=False)\n",
    "    ub, lb = gene_expression_LP_3([0.8,0.2,\"v\",1],10,intervals_test,printing=False)\n",
    "    ubs.append(ub)\n",
    "    lbs.append(lb)\n",
    "    print(f\"({lb},{ub})\")\n",
    "    width.append(ub - lb)\n",
    "plt.plot(width)    "
   ]
  },
  {
   "cell_type": "code",
   "execution_count": 49,
   "metadata": {},
   "outputs": [
    {
     "data": {
      "text/plain": [
       "<matplotlib.lines.Line2D at 0x2b6e0d88520>"
      ]
     },
     "execution_count": 49,
     "metadata": {},
     "output_type": "execute_result"
    },
    {
     "data": {
      "image/png": "[encoded data removed]",
      "text/plain": [
       "<Figure size 432x288 with 1 Axes>"
      ]
     },
     "metadata": {
      "needs_background": "light"
     },
     "output_type": "display_data"
    }
   ],
   "source": [
    "fig, ax = plt.subplots()\n",
    "ax.plot(lbs)\n",
    "ax.plot(ubs)\n",
    "ax.fill_between([x for x in range(5)],lbs, ubs)\n",
    "ax.axhline(0.5, color=\"red\")"
   ]
  },
  {
   "cell_type": "markdown",
   "metadata": {},
   "source": [
    "See that width does indeed decrease as the sample size increases: the outer approximation of the parameter becomes closer to the true value (as possible range given by data becomes smaller)"
   ]
  },
  {
   "cell_type": "markdown",
   "metadata": {},
   "source": [
    "# Parameter Influence:\n",
    "\n",
    "With the frechet bounds, and even [0,1] bounds, the ratio of k1 to k2 i.e. how \"birth-death like\" the process is, affects the quality of the bounds (bounds on solution in [0,1] case) (bounds on p's / z's in frechet case, and so also on solution). When k1 ~ k2 the frechet bounds do not give non-zero lower bounds, and so like [0,1] bounds give no upper bound on the solution, and poor lower bounds. When k1 >> k2, some (usually only 1) frechet lower bounds are non-zero and so give good solution bounds."
   ]
  },
  {
   "cell_type": "markdown",
   "metadata": {},
   "source": [
    "Plot the solution width/bounds for different k1,k2 values"
   ]
  },
  {
   "cell_type": "code",
   "execution_count": 50,
   "metadata": {},
   "outputs": [
    {
     "name": "stdout",
     "output_type": "stream",
     "text": [
      "(0.024665981499291813,inf)\n",
      "(0.12773302646571594,inf)\n",
      "(0.20595533497623478,inf)\n",
      "(0.245161290312133,10.984615385223892)\n",
      "(0.24415584415209257,1.254100529101815)\n",
      "(0.29918032786738,0.8326530612255879)\n",
      "(0.31559652246604897,0.7045565744414256)\n",
      "(0.3319088319058679,0.6646734130648336)\n",
      "(0.3771680041414802,0.4957376610507218)\n"
     ]
    },
    {
     "data": {
      "text/plain": [
       "[<matplotlib.lines.Line2D at 0x2b6e0ee7a60>]"
      ]
     },
     "execution_count": 50,
     "metadata": {},
     "output_type": "execute_result"
    },
    {
     "data": {
      "image/png": "[encoded data removed]",
      "text/plain": [
       "<Figure size 432x288 with 1 Axes>"
      ]
     },
     "metadata": {
      "needs_background": "light"
     },
     "output_type": "display_data"
    }
   ],
   "source": [
    "width = []\n",
    "lbs = []\n",
    "ubs = []\n",
    "N = 1000\n",
    "for k1 in [0.1,0.5,1,1.5,2,3,4,5,10]:\n",
    "    states = [x for x in range(10)]\n",
    "    estimates_test, intervals_test = bootstrap_marginal(states,[0,0],[k1,1,0.5,1],100,N,N,plot=False,printing=False)\n",
    "    ub, lb = gene_expression_LP_3([k1,1,\"v\",1],10,intervals_test,printing=False)\n",
    "    ubs.append(ub)\n",
    "    lbs.append(lb)\n",
    "    print(f\"({lb},{ub})\")\n",
    "    width.append(ub - lb)\n",
    "plt.plot(width)    "
   ]
  },
  {
   "cell_type": "code",
   "execution_count": 71,
   "metadata": {},
   "outputs": [
    {
     "data": {
      "text/plain": [
       "<matplotlib.lines.Line2D at 0x2b6e2e184c0>"
      ]
     },
     "execution_count": 71,
     "metadata": {},
     "output_type": "execute_result"
    },
    {
     "data": {
      "image/png": "[encoded data removed]",
      "text/plain": [
       "<Figure size 432x288 with 1 Axes>"
      ]
     },
     "metadata": {
      "needs_background": "light"
     },
     "output_type": "display_data"
    }
   ],
   "source": [
    "ubs_adj = [x if x < 15 else 15 for x in ubs]\n",
    "fig, ax = plt.subplots()\n",
    "ax.plot(lbs)\n",
    "ax.plot(ubs_adj)\n",
    "ax.fill_between([x for x in range(9)],lbs, ubs_adj)\n",
    "ax.axhline(0.5, color=\"red\")"
   ]
  },
  {
   "cell_type": "code",
   "execution_count": 103,
   "metadata": {},
   "outputs": [
    {
     "name": "stdout",
     "output_type": "stream",
     "text": [
      "(0.24641460234072,1.2905827787873498)\n",
      "(0.3286713286645071,0.9446254071831008)\n",
      "(0.3649270072899038,0.8471321048554316)\n",
      "(0.3574529667135161,0.7032208589114051)\n",
      "(0.3441049961378057,0.6451510895793505)\n",
      "(0.3898437499974423,0.6307929969842875)\n",
      "(0.3183619087677741,0.5390508276849675)\n",
      "(0.39059613136644916,0.6283708251920853)\n",
      "(0.36453147876812886,0.4815997487339583)\n",
      "(0.3604826545991146,0.5761002716306527)\n",
      "(0.46829268292564896,0.495619524417855)\n",
      "(0.39484134488085615,0.4835399743743456)\n",
      "(inf,-inf)\n"
     ]
    },
    {
     "data": {
      "text/plain": [
       "[<matplotlib.lines.Line2D at 0x2b6e3b40b20>]"
      ]
     },
     "execution_count": 103,
     "metadata": {},
     "output_type": "execute_result"
    },
    {
     "data": {
      "image/png": "[encoded data removed]",
      "text/plain": [
       "<Figure size 432x288 with 1 Axes>"
      ]
     },
     "metadata": {
      "needs_background": "light"
     },
     "output_type": "display_data"
    }
   ],
   "source": [
    "width = []\n",
    "lbs = []\n",
    "ubs = []\n",
    "N = 1000\n",
    "for k1 in [x for x in range(2,15)]:\n",
    "    states = [x for x in range(10)]\n",
    "    estimates_test, intervals_test = bootstrap_marginal(states,[0,0],[k1,1,0.5,1],100,N,N,plot=False,printing=False)\n",
    "    ub, lb = gene_expression_LP_3([k1,1,\"v\",1],10,intervals_test,printing=False)\n",
    "    ubs.append(ub)\n",
    "    lbs.append(lb)\n",
    "    print(f\"({lb},{ub})\")\n",
    "    width.append(ub - lb)\n",
    "plt.plot(width)"
   ]
  },
  {
   "cell_type": "code",
   "execution_count": 105,
   "metadata": {},
   "outputs": [
    {
     "data": {
      "text/plain": [
       "<matplotlib.lines.Line2D at 0x2b6e3e05630>"
      ]
     },
     "execution_count": 105,
     "metadata": {},
     "output_type": "execute_result"
    },
    {
     "data": {
      "image/png": "[encoded data removed]",
      "text/plain": [
       "<Figure size 432x288 with 1 Axes>"
      ]
     },
     "metadata": {
      "needs_background": "light"
     },
     "output_type": "display_data"
    }
   ],
   "source": [
    "ubs_adj = [x if x < 2 else 2 for x in ubs]\n",
    "lbs_adj = [x if x > 0 else 0 for x in lbs]\n",
    "fig, ax = plt.subplots()\n",
    "ax.plot(lbs_adj)\n",
    "ax.plot(ubs_adj)\n",
    "ax.fill_between([x for x in range(13)],lbs_adj, ubs_adj)\n",
    "ax.axhline(0.5, color=\"red\")"
   ]
  }
 ],
 "metadata": {
  "kernelspec": {
   "display_name": "PoP_venv",
   "language": "python",
   "name": "python3"
  },
  "language_info": {
   "codemirror_mode": {
    "name": "ipython",
    "version": 3
   },
   "file_extension": ".py",
   "mimetype": "text/x-python",
   "name": "python",
   "nbconvert_exporter": "python",
   "pygments_lexer": "ipython3",
   "version": "3.10.11"
  },
  "orig_nbformat": 4
 },
 "nbformat": 4,
 "nbformat_minor": 2
}
